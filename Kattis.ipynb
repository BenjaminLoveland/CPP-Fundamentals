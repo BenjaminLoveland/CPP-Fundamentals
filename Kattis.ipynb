{
 "cells": [
  {
   "cell_type": "markdown",
   "metadata": {},
   "source": [
    "## Kattis (https://open.kattis.com)\n",
    "\n",
    "- throughout these notebooks, you'll find Kattis problems listed under each chapter where appropriate\n",
    "- Kattis is a free problem bank and online judge that is widely used in [International Collegiate Programming Contest (ICPC)](https://icpc.global/) around the world\n",
    "- Kattis is a great tool to learn various programming languages while solving intuitive problems and developing problem solving skills that are sought after by many potential employers\n",
    "- research (https://rambasnet.github.io/pdfs/kattis.pdf) has shown that by introducing and assigning Kattis problems motivates students to continuously use Kattis and solve more problems there by becoming an effecting problem solver -- a hallmark skill of computer scientist\n",
    "- here's a repository of some sample solutions provided in various languages with automated test cases: https://github.com/rambasnet/KattisDemos\n",
    "    - eventually (by Chapter 7), you'll be able to understand and use the all the programming concepts used in those demo solutions\n",
    "- use Kattis provided help to get your started: https://open.kattis.com/help\n",
    "- you must create a free acount here: https://open.kattis.com/login to be able to submit your solution so the Kattis can judge it with some verdict"
   ]
  },
  {
   "cell_type": "code",
   "execution_count": null,
   "metadata": {},
   "outputs": [],
   "source": []
  }
 ],
 "metadata": {
  "kernelspec": {
   "display_name": "C++17",
   "language": "C++17",
   "name": "xcpp17"
  },
  "language_info": {
   "codemirror_mode": "text/x-c++src",
   "file_extension": ".cpp",
   "mimetype": "text/x-c++src",
   "name": "c++",
   "version": "17"
  }
 },
 "nbformat": 4,
 "nbformat_minor": 4
}
