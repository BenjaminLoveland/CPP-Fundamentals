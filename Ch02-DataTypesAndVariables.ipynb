{
 "cells": [
  {
   "cell_type": "markdown",
   "metadata": {},
   "source": [
    "# 2 Data Types and Variables\n",
    "\n",
    "## Topics\n",
    "- data and values\n",
    "- C++ fundamental data types\n",
    "- digital units and number systems\n",
    "- variables and data assignment\n",
    "- more output\n",
    "- keywords and operators\n",
    "- order of operations\n",
    "- operations on numbers and characters"
   ]
  },
  {
   "cell_type": "markdown",
   "metadata": {},
   "source": [
    "## 2.1 Data and values\n",
    "- data and values are the fundamentals to any computer language and program\n",
    "- a value is one of the fundamental things -- like a letter or a number -- that a program manipulates\n",
    "- almost all computer programs use and manipulate some data values\n",
    "\n",
    "## 2.2 Data types\n",
    "- at a high level, we deal with two types of data: Numbers and Texts\n",
    "- numbers can be further divided into two types:\n",
    "    - Whole numbers: 109, -234, etc.\n",
    "    - Floating point numbers: 123.456, -0.3555, etc.\n",
    "- text is a collection of 1 or more characters (symbols, digits or alpahabets)\n",
    "    - also called string\n",
    "- programming languages need to represent and use these data correctly\n",
    "    \n",
    "## 2.3 C++ Fundamental types\n",
    "- there are many fundamental types based on the size of the data program needs to store\n",
    "    - most fundamental types are numeric types\n",
    "- see here for all the supported types: https://en.cppreference.com/w/cpp/language/types\n",
    "- the most common types we use are:\n",
    "\n",
    "| Type | Description | Storage size | Value range |\n",
    "| :--- | :--- | :--- | ---|\n",
    "| **void** | an empty set of values; no type | system dependent: 4 or 8 bytes | NA |\n",
    "|**bool** | true or false values | 1 byte or 8 bits | true or false or 1 or 0 |\n",
    "| **char** | represents one ASCII character | 1 byte or 8 bits | $-2^7$ to $2^7-1$ or -128 to 127 |\n",
    "| **unsigned char** | represents one ASCII character | 1 byte or 8 bits | 0 to $2^8-1$ or 0 to 255 |\n",
    "| **int** | +/-ve integers or whole numbers | 4 bytes | $-2^{31}$ to $2^{31}-1$ or -2,147,483,648 to 2,147,483,647|\n",
    "| **signed int** | same as int; signed (+ve and -ve) integers | 4 bytes or 32 bits | $-2^{31}$ to $2^{31}-1$ or -2,147,483,648 to 2,147,483,647|\n",
    "| **unsigned int** | unsigned (only positive) representation | 4 bytes or 32 bits | 0 to $2^{32}-1$ or 0 to 4,294,967,295 |\n",
    "| **long** | +ve and -ve big integers | 8 bytes or 64 bits| $-2^{63}$ to $2^{63}-1$ or -9,223,372,036,854,775,808 to 9,223,372,036,854,775,807|\n",
    "| **unsigned long** | positive big integers | 8 bytes or 64 bits | 0 to $2^{64}-1$ or 0 to 0 to 18,446,744,073,709,551,615 |\n",
    "| **float** | single precision floating points | 32 bits | 7 decimal digits precision |\n",
    "| **double** | double precision floating points | 64 bits |  15 decimal digits precision |\n",
    "\n",
    "- in C++, there's no fundadamental type available to work with string data\n",
    "    - must include string library; more on string later"
   ]
  },
  {
   "cell_type": "markdown",
   "metadata": {},
   "source": [
    "## 2.4 Units of digital data\n",
    "- digital computers use binary number system consisting of two digits (0 and 1)\n",
    "- every data, code is represented using binary values\n",
    "    - hence the name binary or byte code for executable programs\n",
    "    - letter A is encoded as 1000001 (7 binary digits)\n",
    "- humans use decimal number system with 10 digits (0 to 9)\n",
    "    - we have ways to represent texts using alphabets for Englisgh language e.g.\n",
    "    - letter A can be encoded with decimal value 65, if we lived in the world that only understood numbers\n",
    "    \n",
    "| Unit      | Equivalent |\n",
    "|-----------|------------|\n",
    "| 1 bit (b) | 0 or 1 |\n",
    "| 1 byte (B) | 8 bits (b) |\n",
    "| 1 kilobyte (KB)  | 1,024 B |\n",
    "| 1 megabyte (MB) | 1,024 KB |\n",
    "| 1 gigabtye (GB) | 1,024 MB |\n",
    "| 1 terabyte (TB) | 1,024 GB |\n",
    "| 1 petabyte (PB) | 1,024 TB |\n",
    "..."
   ]
  },
  {
   "cell_type": "markdown",
   "metadata": {},
   "source": [
    "## 2.5 Number systems\n",
    "- there are several number systems based on the base\n",
    "    - base is number of unique digits number system uses to represent numbers\n",
    "- binary (base 2), octal (base 8), decimal (base 10), hexadecimal (base 16), etc.\n",
    "\n",
    "### Decimal number system\n",
    "- also called Hindu-Arabic number system\n",
    "- most commonly used number system that uses base 10\n",
    "    - has 10 digits or numerals to represent numbers: 0..9\n",
    "    - e.g. 1, 79, 1024, 12345, etc.\n",
    "- numerals representing numbers have different place values depending on position:\n",
    "    - ones ($10^0$), tens($10^1$), hundreds($10^2$), thousands($10^3$), ten thousands($10^4$), etc.\n",
    "    - e.g. 543.21 = $(5x10^2)+(4x10^1)+(3x10^0)+(2x10^{-1})+(1x10^{-2})$\n",
    "    \n",
    "## 2.6 Number system conversion\n",
    "- since computers understand only binary, everything (data, code) must be converted into binary\n",
    "- all characaters (alphabets and symbols) are given decimal codes for electronic communication\n",
    "    - these codes are called ASCII (American Standard Code for Information Interchange)\n",
    "    - A -> 65; Z -> 90; a -> 97; z -> 122, * -> 42, etc.\n",
    "    - see ASCII chart: https://en.cppreference.com/w/c/language/ascii\n",
    "\n",
    "### Converting decmial to binary number\n",
    "- algorithm steps:\n",
    "    1. repeteadly divide the decimal number by base 2 until the quotient becomes 0\n",
    "        - note remember for each division\n",
    "    2. collect all the remainders\n",
    "        - the first remainder is the last (least significant) digit in binary\n",
    "    \n",
    "- example 1: convert $(10)_{10}$ to $(?)_2$\n",
    "    - step 1:\n",
    "        ```\n",
    "        10 / 2 : quotient: 5, remainder: 0\n",
    "        5 / 2  : quotient 2, remainder: 1\n",
    "        2 / 2  : quotient: 1, remainder: 0\n",
    "        1 / 2  : quotient: 0, remainder: 1 \n",
    "        ```\n",
    "    - step 2: \n",
    "         - remainders from bottom up: 1010\n",
    "    - so, $(10)_{10}$ = $(1010)_2$\n",
    "     \n",
    "- example 2: convert $(13)_{10}$ to $(?)_2$\n",
    "    - step 1:\n",
    "    ```\n",
    "        13 / 2 : quotient: 6, remainder: 1\n",
    "        6 / 2  : quotient 3, remainder: 0\n",
    "        3 / 2  : quotient: 1, remainder: 1\n",
    "        1 / 2  : quotient: 0, remainder: 1 \n",
    "    ```\n",
    "    - step 2:\n",
    "         - remainders from bottom up: 1101\n",
    "    - so, $(13)_{10}$ = $(1101)_2$\n",
    "     \n",
    "### Converting binary to decimal number\n",
    "- once the computer does the computation in binary, it needs to convert the results back to decimal number system for humans to understand\n",
    "- algorithm steps:\n",
    "    1. multiply each binary digit by it's place value in binary\n",
    "    2. sum all the products\n",
    "- example 1: convert $(1010)_2$ to $(?)_{10}$?\n",
    "    - step 1:\n",
    "        - $0x2^0 = 0$\n",
    "        - $1x2^1 = 2$\n",
    "        - $0x2^2 = 0$\n",
    "        - $1x2^3 = 8$\n",
    "    - step 2:\n",
    "        - $0 + 2 + 0 + 8 = 10$\n",
    "    - so, $(1010)_2$ = $(10)_{10}$\n",
    "    \n",
    "- example 2: convert $(1101)_2$ to $(?)_{10}$\n",
    "    - step 1:\n",
    "        - $1x2^0 = 1$\n",
    "        - $0x2^1 = 0$\n",
    "        - $1x2^2 = 4$\n",
    "        - $1x2^3 = 8$\n",
    "    - step 2:\n",
    "        - $1+0+4+8 = 13$\n",
    "    - so, $(1101)_2$ = $(13)_{10}$\n",
    "- we got the same decimal vales we started from in previous examples\n",
    "- food for thought: think how you'd go about writing a program to convert any positive decimal number into binary and vice versa!\n",
    "\n",
    "## 2.7 Variables\n",
    "- programs must load data values into memory to manipulate them\n",
    "- data may be large and used many times during the program\n",
    "    - typing the data values literally all the time is not efficient and fun\n",
    "    - most importantly error prone due to typos\n",
    "- variables are named memory location where data can be stashed for easy access and manipulation\n",
    "- one can declared and use as many variables as necessary\n",
    "- C++ is statically and strongly typed programming language\n",
    "    - variables are tied to their specific data types that must be explictly declared when declaring variables\n",
    "\n",
    "### Variable declaration\n",
    "- statements that create variables/identifiers to store some data values\n",
    "- syntax:\n",
    "```c\n",
    "type varName;\n",
    "type varNam1, varName2, ...; //declare several variables all of the same type\n",
    "```\n",
    "\n",
    "### rules for creating variables\n",
    "- variable names are case sensitive\n",
    "- must declare variables before they can be used\n",
    "- can't define variable with the same name more than once\n",
    "- can't use keywords as variable names\n",
    "- data stored must match the type of variable\n",
    "- variable names can't contain symbols (white spaces, #, &, etc.) except for (_ underscore)\n",
    "- variable names can contain digits but can't start with a digit\n",
    "- variable names can start with only alphabets (lower or upper) and _ symbol\n",
    "\n",
    "### best practices\n",
    "- use descriptive and meaningful but concise name\n",
    "    - one should know quickly what data you're storing\n",
    "- use lowercase; camelCase or ( _ underscore ) to combine multiple words\n",
    "\n",
    "### Keywords\n",
    "- keywords are reserved names and words that have specific purpose in C++\n",
    "    - they can only be used what they're intended for\n",
    "- e.g., char, int, unsigned, signed, float, double, bool, if, for, while, return, struct, class, operator, try, etc.\n",
    "- all the keywords are listed here: https://en.cppreference.com/w/cpp/keyword"
   ]
  },
  {
   "cell_type": "code",
   "execution_count": 1,
   "metadata": {},
   "outputs": [],
   "source": [
    "// examples of variable declaration\n",
    "bool done;\n",
    "char middleInitial;\n",
    "char middleinitial;\n",
    "int temperature;\n",
    "unsigned int age;\n",
    "long richest_persons_networth;\n",
    "float interestRate;\n",
    "float length;\n",
    "float width;\n",
    "double space_shuttle_velocity;"
   ]
  },
  {
   "cell_type": "markdown",
   "metadata": {},
   "source": [
    "## 2.8 Assignment\n",
    "- once variables are declared, data can be stored using assignment operator ( = )\n",
    "- **assignment statements** have the following syntax\n",
    "```cpp\n",
    "varName = value;\n",
    "```"
   ]
  },
  {
   "cell_type": "code",
   "execution_count": 3,
   "metadata": {},
   "outputs": [
    {
     "data": {
      "text/plain": [
       "950.12346"
      ]
     },
     "execution_count": 3,
     "metadata": {},
     "output_type": "execute_result"
    }
   ],
   "source": [
    "// assignment examples\n",
    "done = false;\n",
    "middleInitial = 'J'; // character is represent using single quote\n",
    "middleinitial = 'Q';\n",
    "temperature = 73;\n",
    "age = 45;\n",
    "richest_persons_networth = 120000000000; // 120 billion\n",
    "interestRate = 4.5;\n",
    "length = 10.5;\n",
    "width = 99.99f; // can end with f for representing floating point number\n",
    "space_shuttle_velocity = 950.1234567891234567 // 16 decimal points"
   ]
  },
  {
   "cell_type": "markdown",
   "metadata": {},
   "source": [
    "## 2.9 Standard output\n",
    "- common way to display results is by printing them to common output (monitor)\n",
    "    - also called console\n",
    "- we've printed hello world in Chapter 1\n",
    "- similarly, we can print literal values or data stored in variables\n",
    "- use **cout** statement defined in iostream library\n",
    "- output statement syntax:\n",
    "```cpp\n",
    "cout << varName1 << varName2 << \"literal values\";\n",
    "```\n",
    "- << is called stream insertion operator that inserts values to output stream\n",
    "- multiple values are separated by << operator"
   ]
  },
  {
   "cell_type": "code",
   "execution_count": 4,
   "metadata": {},
   "outputs": [
    {
     "name": "stdout",
     "output_type": "stream",
     "text": [
      "Hello World!\n",
      "1002.5 3.99Asome textcontinue printing stuff in next line...?\n"
     ]
    }
   ],
   "source": [
    "// examples of cout statements\n",
    "#include <iostream>\n",
    "\n",
    "using namespace std; //std namespace defines cout, endl, etc.\n",
    "\n",
    "cout << \"Hello World!\" << endl;\n",
    "cout << 100 << 2.5f << ' ' << 3.99 << 'A' << \"some text\";\n",
    "cout << \"continue printing stuff in next line...?\" << endl;"
   ]
  },
  {
   "cell_type": "code",
   "execution_count": 10,
   "metadata": {},
   "outputs": [
    {
     "name": "stdout",
     "output_type": "stream",
     "text": [
      "printing variables: \n",
      "MI1 = J and MI2 = Q\n",
      "temperature: 73 age: 45 richest person's worth: 120000000000\n",
      "interest rate: 4.5\n",
      " length: 10.5width = 99.99\n",
      " space_shuttle_velocity: 950.123\n"
     ]
    }
   ],
   "source": [
    "// outputting variables\n",
    "cout << \"printing variables: \" << endl;\n",
    "cout << \"MI1 = \" << middleInitial << \" and MI2 = \" << middleinitial << endl;\n",
    "// cout can continue in multilines\n",
    "cout << \"temperature: \" << temperature << \" age: \" << age << \n",
    "    \" richest person's worth: \" << \n",
    "    richest_persons_networth << endl;\n",
    "cout << \"interest rate: \" << interestRate << endl;\n",
    "cout << \" length: \" << length << \"width = \" << width << endl;\n",
    "cout << \" space_shuttle_velocity: \" << 950.1234567891234567 << endl;"
   ]
  },
  {
   "cell_type": "code",
   "execution_count": null,
   "metadata": {},
   "outputs": [],
   "source": []
  }
 ],
 "metadata": {
  "kernelspec": {
   "display_name": "C++14",
   "language": "C++14",
   "name": "xcpp14"
  },
  "language_info": {
   "codemirror_mode": "text/x-c++src",
   "file_extension": ".cpp",
   "mimetype": "text/x-c++src",
   "name": "c++",
   "version": "14"
  }
 },
 "nbformat": 4,
 "nbformat_minor": 2
}
