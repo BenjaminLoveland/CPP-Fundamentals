{
 "cells": [
  {
   "cell_type": "markdown",
   "metadata": {},
   "source": [
    "# Header Files\n",
    "\n",
    "- header files and their purpose\n",
    "- standard library header files\n",
    "- header file content rules\n",
    "- using header files\n",
    "- implementation files"
   ]
  },
  {
   "cell_type": "markdown",
   "metadata": {},
   "source": [
    "## Headef Files and their purposes\n",
    "\n",
    "- we've used library header files such as iostream, string, etc.\n",
    "- the purpose of this chapter is to learn how to create your own header files and why\n",
    "- as program grows bigger, code need to be divided into many files\n",
    "- using function prototype (forward declaration) and defining functions after main is not scalable\n",
    "- breaking solution code into many files has many advantages:\n",
    "    - makes program easier to manage, read, update, debug\n",
    "    - makes it easier to work in a team where each member works on a separate file\n",
    "    - avoid conflicts while using version control such as git\n",
    "\n",
    "- Generally, header files allow us to put declarations in one or more files and then include them wherever we need them\n",
    "    - this can save a lot of typing in multi-file programs\n",
    "    - helps us create our own library of important functions\n",
    "    \n",
    "## Creating header files\n",
    "- header best practices:\n",
    "    - header include guards (to avoid being included multiple times in the final binary)\n",
    "    - contains struct and class definitions\n",
    "    - contains function prototypes\n",
    "    - avoid function definitions\n",
    "    - may include other header files\n",
    "    - do NOT define global variables \n",
    "    - each header file should be as independent as possible with specific purpose\n",
    "    - file has `.h` extension\n",
    "    \n",
    "## Creating implementation files\n",
    "- typically a header file are implmented in a separate corresponding .cpp file\n",
    "- functions and classes are implmented or defined in implementation files\n",
    "- implementation file are regular .cpp files that must include the header being included\n",
    "- must also include any library header files required to implment the functions\n",
    "- syntax:\n",
    "\n",
    "```cpp\n",
    "#include \"headerFileName.h\"\n",
    "```\n",
    "    \n",
    "## Using header files\n",
    "- include user-defined header files similar to library header file\n",
    "- include only the header files that\n",
    "- syntax:\n",
    "\n",
    "```cpp\n",
    "#include \"headerFileName.h\"\n",
    "```\n",
    "- use the functions and user-defined types, etc. defined in the included header file\n",
    "\n",
    "### Demos - see folder [demo_programgs/Ch14/](demo_programs/Ch14/)"
   ]
  },
  {
   "cell_type": "code",
   "execution_count": null,
   "metadata": {},
   "outputs": [],
   "source": []
  }
 ],
 "metadata": {
  "kernelspec": {
   "display_name": "C++17",
   "language": "C++17",
   "name": "xcpp17"
  },
  "language_info": {
   "codemirror_mode": "text/x-c++src",
   "file_extension": ".cpp",
   "mimetype": "text/x-c++src",
   "name": "c++",
   "version": "17"
  }
 },
 "nbformat": 4,
 "nbformat_minor": 4
}
