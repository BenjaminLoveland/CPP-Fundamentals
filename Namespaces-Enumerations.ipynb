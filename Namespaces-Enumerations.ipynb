{
 "cells": [
  {
   "cell_type": "markdown",
   "metadata": {},
   "source": [
    "# Namespaces\n",
    "- https://docs.microsoft.com/en-us/cpp/cpp/namespaces-cpp?view=msvc-160\n",
    "- a declarative region that provides a scope to the intentifiers (variables, constants, functions, etc.)\n",
    "- used to organize code into logical groups to prevent name collisions that can occur especially when your code base includes multiple libraries\n",
    "- we've used C++ builtin `std namespace` in the previous chapters, e.g.\n",
    "\n",
    "## Creating namespaces\n",
    "- C++ allows you to create your own namespaces\n",
    "- syntax:\n",
    "\n",
    "```cpp\n",
    "namespace NAME {\n",
    " // declare names\n",
    " // such as: constants, variables, functions, user-defined types, etc.   \n",
    "}\n",
    "```"
   ]
  },
  {
   "cell_type": "code",
   "execution_count": 1,
   "metadata": {},
   "outputs": [],
   "source": [
    "#include <iostream>\n",
    "#include <string>\n",
    "using namespace std;"
   ]
  },
  {
   "cell_type": "code",
   "execution_count": 2,
   "metadata": {},
   "outputs": [],
   "source": [
    "namespace MY_SPACE {\n",
    "    const float PI = 3.14156;\n",
    "    const double G = 6.67384e-11; // gravitional force in cubic meter per second squared per kilogram\n",
    "    const double c = 2.99792458e8; // speed of light in vacuum in meter per second\n",
    "    string first_name = \"Jake\";\n",
    "    string last_name = \"Smith\";\n",
    "}"
   ]
  },
  {
   "cell_type": "markdown",
   "metadata": {},
   "source": [
    "## Accessing names from namespaces\n",
    "- three different ways:\n",
    "    1. use the fully qualified name with `::` namespace resolution operator\n",
    "        - `namespace_name::identifier_name`\n",
    "    2. use a `using` declaration to bring each identifier into current scope\n",
    "    3. use a `using` directive to bring everything in the namespace into current scope\n",
    "        - as we've done with `using namespace std;`"
   ]
  },
  {
   "cell_type": "code",
   "execution_count": 3,
   "metadata": {},
   "outputs": [],
   "source": [
    "// area of circle with radius of 4 unit\n",
    "float area = MY_SPACE::PI*4*4; // #1"
   ]
  },
  {
   "cell_type": "code",
   "execution_count": 4,
   "metadata": {},
   "outputs": [
    {
     "name": "stderr",
     "output_type": "stream",
     "text": [
      "\u001b[1minput_line_11:3:9: \u001b[0m\u001b[0;1;31merror: \u001b[0m\u001b[1muse of undeclared identifier 'PI'; did you mean 'MY_SPACE::PI'?\u001b[0m\n",
      "cout << PI;\n",
      "\u001b[0;1;32m        ^~\n",
      "\u001b[0m\u001b[0;32m        MY_SPACE::PI\n",
      "\u001b[0m\u001b[1minput_line_9:2:17: \u001b[0m\u001b[0;1;30mnote: \u001b[0m'MY_SPACE::PI' declared here\u001b[0m\n",
      "    const float PI = 3.14156;\n",
      "\u001b[0;1;32m                ^\n",
      "\u001b[0m"
     ]
    },
    {
     "ename": "Interpreter Error",
     "evalue": "",
     "output_type": "error",
     "traceback": [
      "Interpreter Error: "
     ]
    }
   ],
   "source": [
    "// can't use PI itself because it's not defined in the global scope\n",
    "cout << PI;"
   ]
  },
  {
   "cell_type": "code",
   "execution_count": 5,
   "metadata": {},
   "outputs": [],
   "source": [
    "// may give error on jupyter notebook!\n",
    "MY_SPACE::first_name = \"Johhny\";"
   ]
  },
  {
   "cell_type": "code",
   "execution_count": 6,
   "metadata": {},
   "outputs": [],
   "source": [
    "// let's try different way!\n",
    "using MY_SPACE::first_name;"
   ]
  },
  {
   "cell_type": "code",
   "execution_count": 7,
   "metadata": {},
   "outputs": [],
   "source": [
    "first_name = \"Johnny\";"
   ]
  },
  {
   "cell_type": "code",
   "execution_count": 8,
   "metadata": {},
   "outputs": [],
   "source": [
    "//2. use a using declaration to bring each identifier into current scope\n",
    "using MY_SPACE::c;"
   ]
  },
  {
   "cell_type": "code",
   "execution_count": 9,
   "metadata": {},
   "outputs": [],
   "source": [
    "long dist = 100000;"
   ]
  },
  {
   "cell_type": "code",
   "execution_count": 10,
   "metadata": {},
   "outputs": [],
   "source": [
    "double time_taken = dist/c; // time to travel 1000000 meters by light in vacuum"
   ]
  },
  {
   "cell_type": "code",
   "execution_count": 11,
   "metadata": {},
   "outputs": [
    {
     "name": "stdout",
     "output_type": "stream",
     "text": [
      "Light takes 0.000333564 seconds to travel 100000 meters."
     ]
    }
   ],
   "source": [
    "cout << \"Light takes \" << time_taken << \" seconds to travel \" << dist << \" meters.\";"
   ]
  },
  {
   "cell_type": "code",
   "execution_count": 12,
   "metadata": {},
   "outputs": [],
   "source": [
    "// 3. use a using directive to bring everything in the namespace into current scope\n",
    "using namespace MY_SPACE;"
   ]
  },
  {
   "cell_type": "code",
   "execution_count": 13,
   "metadata": {},
   "outputs": [
    {
     "name": "stdout",
     "output_type": "stream",
     "text": [
      "3.14156 2.99792e+08 Johnny\n"
     ]
    }
   ],
   "source": [
    "cout << PI << \" \" << c << \" \" << first_name << endl;"
   ]
  },
  {
   "cell_type": "markdown",
   "metadata": {},
   "source": [
    "# Enumerations\n",
    "- https://docs.microsoft.com/en-us/cpp/cpp/enumerations-cpp?view=msvc-160\n",
    "- an enumeration is a user-defined type\n",
    "- consists of a set of named integral constants that are known as enumerators\n",
    "\n",
    "## Defining enumeration types\n",
    "\n",
    "- syntax to declare enumeration type:\n",
    "\n",
    "```cpp\n",
    "enum TypeName {name1, name2, name3, ...};\n",
    "```\n",
    "- each name in an enum type is assigned an integral value that corresponds to its place in the order of the values listed\n",
    "- by default, the first value is assigned $0$, the next one is $1$, and so on.\n",
    "- however, you can explictly set the value of an enumerator"
   ]
  },
  {
   "cell_type": "code",
   "execution_count": 3,
   "metadata": {},
   "outputs": [],
   "source": [
    "enum Suit {Diamonds, Hearts, Clubs, Spades};\n",
    "enum COLOR {RED, BLUE, GREEN, YELLOW, PURPLE};"
   ]
  },
  {
   "cell_type": "code",
   "execution_count": 4,
   "metadata": {},
   "outputs": [],
   "source": [
    "enum SUIT {Diamonds=10, Hearts=20, Clubs=30, Spades=40};"
   ]
  },
  {
   "cell_type": "markdown",
   "metadata": {},
   "source": [
    "## Using enumeration types\n",
    "- declare variables of enum types\n",
    "- values of enum types must of one of the names in enumerations\n",
    "    - similar to selecting one of the values from drop-down list on an online form"
   ]
  },
  {
   "cell_type": "code",
   "execution_count": 5,
   "metadata": {},
   "outputs": [],
   "source": [
    "// since enumeration names are same in Suit and SUIT enum types,\n",
    "// you must use namespace qualifier to avoid ambiguity\n",
    "Suit myCard = Suit::Clubs;"
   ]
  },
  {
   "cell_type": "code",
   "execution_count": 6,
   "metadata": {},
   "outputs": [],
   "source": [
    "SUIT best_suite = SUIT::Spades;"
   ]
  },
  {
   "cell_type": "code",
   "execution_count": 7,
   "metadata": {},
   "outputs": [],
   "source": [
    "COLOR my_favColor = RED;"
   ]
  },
  {
   "cell_type": "code",
   "execution_count": 8,
   "metadata": {},
   "outputs": [
    {
     "name": "stderr",
     "output_type": "stream",
     "text": [
      "\u001b[1minput_line_15:3:7: \u001b[0m\u001b[0;1;31merror: \u001b[0m\u001b[1mcannot initialize a variable of type 'COLOR' with an rvalue of type 'int'\u001b[0m\n",
      "COLOR some_color = 0;\n",
      "\u001b[0;1;32m      ^            ~\n",
      "\u001b[0m"
     ]
    },
    {
     "ename": "Interpreter Error",
     "evalue": "",
     "output_type": "error",
     "traceback": [
      "Interpreter Error: "
     ]
    }
   ],
   "source": [
    "// try assigning integer value\n",
    "COLOR some_color = 0;"
   ]
  },
  {
   "cell_type": "code",
   "execution_count": 9,
   "metadata": {},
   "outputs": [],
   "source": [
    "// must explictly cast type to a valid enumeration value\n",
    "COLOR a_colr = (COLOR)1;"
   ]
  },
  {
   "cell_type": "code",
   "execution_count": 10,
   "metadata": {},
   "outputs": [
    {
     "name": "stdout",
     "output_type": "stream",
     "text": [
      "1"
     ]
    }
   ],
   "source": [
    "cout << a_colr;"
   ]
  },
  {
   "cell_type": "code",
   "execution_count": 11,
   "metadata": {},
   "outputs": [
    {
     "name": "stdout",
     "output_type": "stream",
     "text": [
      "2"
     ]
    }
   ],
   "source": [
    "cout << myCard;"
   ]
  },
  {
   "cell_type": "code",
   "execution_count": 12,
   "metadata": {},
   "outputs": [
    {
     "name": "stdout",
     "output_type": "stream",
     "text": [
      "40"
     ]
    }
   ],
   "source": [
    "cout << best_suite;"
   ]
  },
  {
   "cell_type": "code",
   "execution_count": 13,
   "metadata": {},
   "outputs": [
    {
     "name": "stdout",
     "output_type": "stream",
     "text": [
      "0"
     ]
    }
   ],
   "source": [
    "cout << my_favColor;"
   ]
  },
  {
   "cell_type": "code",
   "execution_count": 16,
   "metadata": {},
   "outputs": [
    {
     "name": "stdout",
     "output_type": "stream",
     "text": [
      "nice color!\n"
     ]
    }
   ],
   "source": [
    "// switch and enum work together very well as both need integral type\n",
    "switch(my_favColor) {\n",
    "    case RED:\n",
    "        cout << \"nice color!\" << endl;\n",
    "        break;\n",
    "    default:\n",
    "        cout << \"okay color :)\" << endl;\n",
    "}"
   ]
  },
  {
   "cell_type": "markdown",
   "metadata": {},
   "source": [
    "# Applications and Exercises\n",
    "- namespaces and enumeration types are cruical in large-scale software development using C++\n",
    "- use these concepts as much as possible to learn and be familiar with them"
   ]
  },
  {
   "cell_type": "code",
   "execution_count": null,
   "metadata": {},
   "outputs": [],
   "source": []
  }
 ],
 "metadata": {
  "kernelspec": {
   "display_name": "C++14",
   "language": "C++14",
   "name": "xcpp14"
  },
  "language_info": {
   "codemirror_mode": "text/x-c++src",
   "file_extension": ".cpp",
   "mimetype": "text/x-c++src",
   "name": "c++",
   "version": "14"
  }
 },
 "nbformat": 4,
 "nbformat_minor": 4
}
