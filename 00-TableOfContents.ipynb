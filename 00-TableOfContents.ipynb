{
 "cells": [
  {
   "cell_type": "markdown",
   "metadata": {},
   "source": [
    "# C++ Fundamentals\n",
    "- partially based on [http://www.greenteapress.com/thinkcpp/thinkCScpp.pdf](http://www.greenteapress.com/thinkcpp/thinkCScpp.pdf)\n",
    "\n",
    "## Contents\n",
    "1. [**Introduction**](./Introduction.ipynb)\n",
    "2. [**Data, Variables and Operations**](./DataVariablesAndOperations.ipynb)\n",
    "3. [**Standard Input and Output**](./StdInputOutput.ipynb)\n",
    "4. [**Libraries and Functions**](./LibraryAndFunction.ipynb)\n",
    "5. [**User Defined Functions and Testing**](./UserDefinedFunctionsTesting.ipynb)\n",
    "6. [**Conditionals**](./Conditionals.ipynb)\n",
    "7. [**Loops**](./Loops.ipynb)\n",
    "8. [**Pointers**](./Pointers.ipynb)\n",
    "9. [**Namespaces and Enumerations**](./Namespaces-Enumerations.ipynb)\n",
    "10. [**Strings**](./Strings.ipynb)\n",
    "11. [**Arrays**](./Arrays.ipynb)\n",
    "12. [**Vectors**](./Vectors.ipynb)\n",
    "13. [**File Input and Output**](./FileIO.ipynb)\n",
    "14. [**Structures**](./Structures.ipynb)\n",
    "15. [**Header Files**](./HeaderFiles.ipynb)\n",
    "16. [**Maps**](./Maps.ipynb)\n",
    "\n",
    "## Miscellaneous\n",
    "1. [**Dev Environment & Setup**](./DevEnvironmentSetup.ipynb)\n",
    "2. [**Jupyter Notebook & Setup**](./JupyterNotebookSetup.ipynb)\n",
    "3. [**Kattis Online Judge & Problem Bank**](./Kattis.ipynb)"
   ]
  },
  {
   "cell_type": "code",
   "execution_count": null,
   "metadata": {},
   "outputs": [],
   "source": []
  }
 ],
 "metadata": {
  "kernelspec": {
   "display_name": "C++17",
   "language": "C++17",
   "name": "xcpp17"
  },
  "language_info": {
   "codemirror_mode": "text/x-c++src",
   "file_extension": ".cpp",
   "mimetype": "text/x-c++src",
   "name": "c++",
   "version": "17"
  }
 },
 "nbformat": 4,
 "nbformat_minor": 2
}
