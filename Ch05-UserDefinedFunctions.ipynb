{
 "cells": [
  {
   "cell_type": "markdown",
   "metadata": {},
   "source": [
    "# 5 User Defined Functions\n",
    "\n",
    "## Topics\n",
    "- adding new functions\n",
    "- using functions\n",
    "- function types\n",
    "- ways to pass data to functions\n",
    "- automatically testing functions"
   ]
  },
  {
   "cell_type": "markdown",
   "metadata": {},
   "source": [
    "## 5.1 Adding new functions\n",
    "- we've used a several functions provided in various standard libraries\n",
    "- **main( )** is a function that is required for any C++ program\n",
    "    - indicates where the execution of the program begins\n",
    "- one can add as many functions as required in the program\n",
    "- function is a block of code that execute as a group\n",
    "- the ultimate goal of the function is to break the problem into smaller sub-problems\n",
    "    - each sub-problem then can be solved using a function\n",
    "    - makes it easier to design a solution and solve big problem\n",
    "    - makes the solution modular\n",
    "    - helps in reuse of the code\n",
    "    - makes the solution concise\n",
    "    - helps test and update a part of program without affecting the rest\n",
    "    - makes it easier to work in a team where each member can focus on a function\n",
    "- if you have many tasks in algoritm steps, function can be used to solve a particular task/step\n",
    "- using function is a two-step process\n",
    "    1. define a function\n",
    "    2. call or use the function\n",
    "- syntax to define a function:\n",
    "```cpp\n",
    "type NAME ( ) {\n",
    "   // body \n",
    "}\n",
    "```\n",
    "- new function name conventions:\n",
    "    - can't name it main()\n",
    "    - can't reuse identifiers or keywords\n",
    "    - same as variable naming conventions!\n",
    "- syntax to call a function:\n",
    "```cpp\n",
    "NAME();\n",
    "```\n",
    "- typically functions are defined outside **main( )** and called inside **main( )**\n",
    "- however, one function can call another function\n",
    "- the function that calls another function is called **caller**\n",
    "- the function being called is called **callee**"
   ]
  },
  {
   "cell_type": "code",
   "execution_count": 1,
   "metadata": {},
   "outputs": [],
   "source": [
    "#include <iostream>\n",
    "using namespace std;"
   ]
  },
  {
   "cell_type": "code",
   "execution_count": 2,
   "metadata": {},
   "outputs": [],
   "source": [
    "//1. define a function that prints Hello World!\n",
    "void sayHello() {\n",
    "    cout << \"Hello World!\" << endl;\n",
    "}"
   ]
  },
  {
   "cell_type": "code",
   "execution_count": 3,
   "metadata": {},
   "outputs": [
    {
     "name": "stdout",
     "output_type": "stream",
     "text": [
      "Hello World!\n"
     ]
    }
   ],
   "source": [
    "// 2. call sayHello\n",
    "sayHello();"
   ]
  },
  {
   "cell_type": "code",
   "execution_count": 4,
   "metadata": {},
   "outputs": [],
   "source": [
    "// define a function that prints Hello World! three times\n",
    "// caller function\n",
    "void sayHelloThrice() {\n",
    "    // caller calls other functions\n",
    "    sayHello(); // callee\n",
    "    sayHello(); // callee\n",
    "    cout << \"Hello World!\" << endl;\n",
    "}"
   ]
  },
  {
   "cell_type": "code",
   "execution_count": 5,
   "metadata": {},
   "outputs": [
    {
     "name": "stdout",
     "output_type": "stream",
     "text": [
      "Hello World!\n",
      "Hello World!\n",
      "Hello World!\n"
     ]
    }
   ],
   "source": [
    "// call sayHelloThrice\n",
    "sayHelloThrice();"
   ]
  },
  {
   "cell_type": "markdown",
   "metadata": {},
   "source": [
    "## 5.2 Parameters and arguments\n",
    "- we've used some built-in functions that take arguments\n",
    "    - float(val), int(val), char(val), setw(arg), etc.\n",
    "- parameter is way to send/pass data to function so the function can do its job\n",
    "    - placeholders for data to be copied into\n",
    "    - also called **formal parameters**\n",
    "- in algebra we may define equations as:\n",
    "```\n",
    "y = f(x) = x^2 + x + 2\n",
    "find y if x = 1: f(1) = 1^2 + 1 + 2 = 4\n",
    "find y if x = -10: f(-10) = (-10)^2 + (-10) + 2 = 92\n",
    "```\n",
    "- programming functions burrow the notion of algebraic functions\n",
    "- parameters help us define generic functions that computes answer based on the given data value\n",
    "- the data/value that is passed into the parameter is called argument\n",
    "- x is parameter and 1 and -10 are arguments\n",
    "- functions with parameters are more useful because they can work on varities of different values\n",
    "- syntax to define function with parameters:\n",
    "```cpp\n",
    "type NAME(type PARAMETER1, type PARAMETER2, ...) {\n",
    "    // body\n",
    "}\n",
    "```\n",
    "- parameters are variables (have types and names)\n",
    "    - eventually will have values of same type when the function is called\n",
    "- syntax to call function with parameters:\n",
    "```cpp\n",
    "NAME(argument1, argument2, ...);\n",
    "```\n",
    "- function must be called passing the same number of arguments as the no. of parameters\n",
    "- types of arguments and parameters must match correspondingly left to right\n",
    "- arguments can be literal values or variables\n",
    "- by default values of arguments are copied to corresponding parameters\n",
    "    - value/argument1 copied to PARAMETER1\n",
    "    - value/argument2 copied to PARAMETER2, etc.\n",
    "- arguments passed to functions are also called **actual parameters**\n",
    "    - represent the actual data that are acutally passed"
   ]
  },
  {
   "cell_type": "code",
   "execution_count": 6,
   "metadata": {},
   "outputs": [],
   "source": [
    "// define a function that greets a person by their name\n",
    "#include <string>\n",
    "\n",
    "// name is the only parameter of type string\n",
    "void greeting(string name) {\n",
    "    cout << \"Hello there, \" << name << endl;\n",
    "}"
   ]
  },
  {
   "cell_type": "code",
   "execution_count": 7,
   "metadata": {},
   "outputs": [
    {
     "name": "stderr",
     "output_type": "stream",
     "text": [
      "\u001b[1minput_line_16:3:1: \u001b[0m\u001b[0;1;31merror: \u001b[0m\u001b[1mno matching function for call to 'greeting'\u001b[0m\n",
      "greeting();\n",
      "\u001b[0;1;32m^~~~~~~~\n",
      "\u001b[0m\u001b[1minput_line_15:2:6: \u001b[0m\u001b[0;1;30mnote: \u001b[0mcandidate function not viable: requires single argument 'name', but no arguments were provided\u001b[0m\n",
      "void greeting(string name) {\n",
      "\u001b[0;1;32m     ^\n",
      "\u001b[0m"
     ]
    },
    {
     "ename": "Interpreter Error",
     "evalue": "",
     "output_type": "error",
     "traceback": [
      "Interpreter Error: "
     ]
    }
   ],
   "source": [
    "// wrong way... calling greeting without argument will generate error!\n",
    "greeting();"
   ]
  },
  {
   "cell_type": "code",
   "execution_count": 8,
   "metadata": {},
   "outputs": [
    {
     "name": "stdout",
     "output_type": "stream",
     "text": [
      "Hello there, John\n"
     ]
    }
   ],
   "source": [
    "// right way: calling greeting with one string argument\n",
    "greeting(\"John\"); // passing literal value"
   ]
  },
  {
   "cell_type": "code",
   "execution_count": 9,
   "metadata": {},
   "outputs": [
    {
     "name": "stderr",
     "output_type": "stream",
     "text": [
      "\u001b[1minput_line_18:3:1: \u001b[0m\u001b[0;1;31merror: \u001b[0m\u001b[1mno matching function for call to 'greeting'\u001b[0m\n",
      "greeting(123);\n",
      "\u001b[0;1;32m^~~~~~~~\n",
      "\u001b[0m\u001b[1minput_line_15:2:6: \u001b[0m\u001b[0;1;30mnote: \u001b[0mcandidate function not viable: no known conversion from 'int' to 'std::__1::string' (aka 'basic_string<char,\n",
      "      char_traits<char>, allocator<char> >') for 1st argument\u001b[0m\n",
      "void greeting(string name) {\n",
      "\u001b[0;1;32m     ^\n",
      "\u001b[0m"
     ]
    },
    {
     "ename": "Interpreter Error",
     "evalue": "",
     "output_type": "error",
     "traceback": [
      "Interpreter Error: "
     ]
    }
   ],
   "source": [
    "// wrong way to call greeting passing wrong type of argument\n",
    "greeting(123);"
   ]
  },
  {
   "cell_type": "code",
   "execution_count": 10,
   "metadata": {},
   "outputs": [],
   "source": [
    "// calling greeting with passing the data in variable\n",
    "// name of the argument has nothing to do with name of the parameter\n",
    "// only the type needs to match!\n",
    "string somename;"
   ]
  },
  {
   "cell_type": "code",
   "execution_count": 11,
   "metadata": {},
   "outputs": [
    {
     "name": "stdout",
     "output_type": "stream",
     "text": [
      "Hello there, Jake\n"
     ]
    }
   ],
   "source": [
    "somename = \"Jake\";\n",
    "greeting(somename); // access the value of somename and pass/copy to greeting"
   ]
  },
  {
   "cell_type": "code",
   "execution_count": 12,
   "metadata": {},
   "outputs": [],
   "source": [
    "// define a function that takes two numbers and prints the sum as result\n",
    "void sum(int num1, int num2) {\n",
    "    long total = num1 + num2;\n",
    "    cout << num1 << \" + \" << num2 << \" = \"  << total << endl; \n",
    "}"
   ]
  },
  {
   "cell_type": "code",
   "execution_count": 13,
   "metadata": {},
   "outputs": [
    {
     "name": "stdout",
     "output_type": "stream",
     "text": [
      "10 + 20 = 30\n"
     ]
    }
   ],
   "source": [
    "// call sum passing to int values\n",
    "sum(10, 20);"
   ]
  },
  {
   "cell_type": "markdown",
   "metadata": {},
   "source": [
    "## 5.3 Types of functions\n",
    "- functions can be roughly divided into two types:\n",
    "    1. void functions or fruitless functions\n",
    "        - functions that do not return any value\n",
    "        - all the functions defined previously in this notebook are void functions\n",
    "        - NOTE: printing result/value is NOT the same as returning value\n",
    "    2. type functions or fruitful functions\n",
    "        - functions that return some value\n",
    "- syntax of fruitful functions\n",
    "\n",
    "```cpp\n",
    "type NAME(type PARAMETER1, ...) {\n",
    "    // body\n",
    "    return someValue;\n",
    "}\n",
    "```\n",
    "\n",
    "- type of the return value must match the type of the function NAME\n",
    "- fruitful parameterized functions are the most useful functions\n",
    "    - can use the returned value however you want!\n",
    "    - can automatically test the results from the functions\n",
    "    - most library functions are fruitful and parameterized"
   ]
  },
  {
   "cell_type": "code",
   "execution_count": 14,
   "metadata": {},
   "outputs": [],
   "source": [
    "// define a function that takes two numbers and returns the sum\n",
    "long find_sum(int num1, int num2) {\n",
    "    long total = num1 + num2;\n",
    "    return total;\n",
    "}"
   ]
  },
  {
   "cell_type": "code",
   "execution_count": 15,
   "metadata": {},
   "outputs": [
    {
     "data": {
      "text/plain": [
       "20"
      ]
     },
     "execution_count": 15,
     "metadata": {},
     "output_type": "execute_result"
    }
   ],
   "source": [
    "// call function with values\n",
    "find_sum(12, 8);\n",
    "// where is the returned value or result?"
   ]
  },
  {
   "cell_type": "code",
   "execution_count": 16,
   "metadata": {},
   "outputs": [
    {
     "name": "stdout",
     "output_type": "stream",
     "text": [
      "20\n"
     ]
    }
   ],
   "source": [
    "// you must find a way to use the returned value\n",
    "// print the returned value from find_sum function\n",
    "cout << find_sum(12, 8) << endl;"
   ]
  },
  {
   "cell_type": "code",
   "execution_count": 17,
   "metadata": {},
   "outputs": [],
   "source": [
    "// assign the returned value from find_sum(...) to a variable\n",
    "long ans = find_sum(99, 1);"
   ]
  },
  {
   "cell_type": "code",
   "execution_count": 18,
   "metadata": {},
   "outputs": [
    {
     "data": {
      "text/plain": [
       "100"
      ]
     },
     "execution_count": 18,
     "metadata": {},
     "output_type": "execute_result"
    }
   ],
   "source": [
    "// let's see the value of ans\n",
    "ans"
   ]
  },
  {
   "cell_type": "markdown",
   "metadata": {},
   "source": [
    "## 5.4 Passing data/value or reference\n",
    "- C++ provides two ways to pass data to functions\n",
    "    1. pass by value\n",
    "    2. pass by reference\n",
    "    \n",
    " ### pass by value\n",
    " - data of argument is copied into parameter\n",
    " - default way the data is passed as we've seen above\n",
    " - easier to understand; no side effect\n",
    " - slower to copy large amount of data\n",
    " - since the data is copied, anything done to the data via parameter doesn't affect the actual argument\n",
    "     - if formal parameter is modified, actual parameter or argument is not modified!"
   ]
  },
  {
   "cell_type": "code",
   "execution_count": 19,
   "metadata": {},
   "outputs": [],
   "source": [
    "// function to demonstrate pass by value\n",
    "// num1 and num2 are also called formal parameters\n",
    "long anothersum(int num1, int num2) {\n",
    "  num1 += 10; // we don't do this, but only to demonstrate pass by value\n",
    "  num2 += 20;\n",
    "  long total = num1 + num2;\n",
    "  return total;\n",
    "}"
   ]
  },
  {
   "cell_type": "code",
   "execution_count": 20,
   "metadata": {},
   "outputs": [],
   "source": [
    "// declare 2 variables to store integers\n",
    "int n1, n2;\n",
    "long ans;"
   ]
  },
  {
   "cell_type": "code",
   "execution_count": 26,
   "metadata": {},
   "outputs": [
    {
     "name": "stdout",
     "output_type": "stream",
     "text": [
      "20 + 30 = 80\n"
     ]
    },
    {
     "data": {
      "text/plain": [
       "@0x107073ec0"
      ]
     },
     "execution_count": 26,
     "metadata": {},
     "output_type": "execute_result"
    }
   ],
   "source": [
    "n1 = 20;\n",
    "n2 = 30;\n",
    "// n1 and n2 are actual parameters or arguments\n",
    "ans = anothersum(n1, n2);\n",
    "cout << n1 << \" + \" << n2 << \" = \" << ans << endl;\n",
    "// gives wrong answer becuase anothersum is not correctly implemented\n",
    "// at least values of n1 and n2 are remain intact!"
   ]
  },
  {
   "cell_type": "markdown",
   "metadata": {},
   "source": [
    "### visualize pass by value in [pythontutor.com](http://pythontutor.com/cpp.html#code=//%20pass%20by%20value%20demo%0A%23include%20%3Ciostream%3E%0Ausing%20namespace%20std%3B%0A%0Along%20sum%28int%20num1,%20int%20num2%29%20%7B%0A%20%20num1%20%2B%3D%2010%3B%0A%20%20num2%20%2B%3D%2020%3B%0A%20%20long%20total%20%3D%20num1%20%2B%20num2%3B%0A%20%20return%20total%3B%0A%7D%0A%0Aint%20main%28%29%20%7B%0A%20%20int%20n1,%20n2%3B%0A%20%20n1%20%3D%2020%3B%0A%20%20n2%20%3D%2030%3B%0A%20%20cout%20%3C%3C%20n1%20%3C%3C%20%22%20%2B%20%22%20%3C%3C%20n2%20%3C%3C%20%22%20%3D%20%22%20%3C%3C%20sum%28n1,%20n2%29%20%3C%3C%20endl%3B%0A%20%20//%20n1%20and%20n2%20still%20have%20same%20original%20values%0A%20%20return%200%3B%0A%7D&curInstr=0&mode=display&origin=opt-frontend.js&py=cpp&rawInputLstJSON=%5B%5D)\n",
    "\n",
    "### pass by reference\n",
    "- copying data is expensive/slow operation\n",
    "    - avoid copying with **pass by reference** technique\n",
    "- if the parameter has **&** symbol in-between the type and name\n",
    "- syntax for pass by reference\n",
    "\n",
    "```cpp\n",
    "type NAME(type & PARAMETER1, type & PARAMETER2,...) {\n",
    "    // body\n",
    "}\n",
    "```\n",
    "\n",
    "- data is not copied but the refernce is passed to function\n",
    "    - actual and formal parameter reference the same memory location\n",
    "- if the formal parameter is modified, argument or actual parameter is also modified!\n",
    "- efficient, but may have unintended side effect\n",
    "- another way to retrieve data from function!"
   ]
  },
  {
   "cell_type": "code",
   "execution_count": 22,
   "metadata": {},
   "outputs": [],
   "source": [
    "// function to demonstrate pass by reference\n",
    "// num1 and num2 are also called formal parameters that are passed by reference\n",
    "long yet_another_sum(int & num1, int & num2) {\n",
    "  num1 += 10; // for whatever reason we modify formal parameters\n",
    "  num2 += 20; // only to demonstrate pass by reference\n",
    "  long total = num1 + num2;\n",
    "  return total;\n",
    "}"
   ]
  },
  {
   "cell_type": "code",
   "execution_count": 27,
   "metadata": {},
   "outputs": [
    {
     "name": "stdout",
     "output_type": "stream",
     "text": [
      "30 + 50 = 80\n"
     ]
    },
    {
     "data": {
      "text/plain": [
       "@0x107073ec0"
      ]
     },
     "execution_count": 27,
     "metadata": {},
     "output_type": "execute_result"
    }
   ],
   "source": [
    "// n1 and n2 are already declared as integers above\n",
    "n1 = 20;\n",
    "n2 = 30;\n",
    "// n1 and n2 are actual parameters or arguments\n",
    "ans = yet_another_sum(n1, n2);\n",
    "cout << n1 << \" + \" << n2 << \" = \" << ans << endl;\n",
    "// gives right answer n1 and n2 values are modified"
   ]
  },
  {
   "cell_type": "code",
   "execution_count": 30,
   "metadata": {},
   "outputs": [],
   "source": [
    "// extracting value from a function with passed by reference technique\n",
    "// num1 is passed by value num2 and sum are passed by reference\n",
    "void computeSum(int num1, int& num2, long &sum) {\n",
    "    sum = num1 + num2; // sum is modified\n",
    "    // notice void function, no return value!\n",
    "}"
   ]
  },
  {
   "cell_type": "code",
   "execution_count": 32,
   "metadata": {},
   "outputs": [
    {
     "name": "stdout",
     "output_type": "stream",
     "text": [
      "100 + 300 = 400\n"
     ]
    },
    {
     "data": {
      "text/plain": [
       "@0x107073ec0"
      ]
     },
     "execution_count": 32,
     "metadata": {},
     "output_type": "execute_result"
    }
   ],
   "source": [
    "n1 = 100;\n",
    "n2 = 300;\n",
    "ans = 0; // initilize ans to 0; just in case!\n",
    "// n1, n2, and ans are actual parameters or arguments\n",
    "computeSum(n1, n2, ans);\n",
    "cout << n1 << \" + \" << n2 << \" = \" << ans << endl;"
   ]
  },
  {
   "cell_type": "markdown",
   "metadata": {},
   "source": [
    "### visualize pass by reference in [pythontutor.com](http://pythontutor.com/cpp.html#code=//%20pass%20by%20value%20demo%0A%23include%20%3Ciostream%3E%0Ausing%20namespace%20std%3B%0A%0A//%20extracting%20value%20from%20a%20function%20with%20passed%20by%20reference%20technique%0A//%20num1%20is%20passed%20by%20value%20num%202%20and%20sum%20are%20passed%20by%20reference%0Avoid%20computeSum%28int%20num1,%20int%26%20num2,%20long%20%26sum%29%20%7B%0A%20%20%20%20sum%20%3D%20num1%20%2B%20num2%3B%20//%20sum%20is%20modified%0A%20%20%20%20//%20notice%20void%20function,%20no%20return%20value!%0A%7D%0A%0Aint%20main%28%29%20%7B%0A%20%20int%20n1,%20n2%3B%0A%20%20n1%20%3D%2020%3B%0A%20%20n2%20%3D%2030%3B%0A%20%20long%20ans%20%3D%200%3B%0A%20%20computeSum%28n1,%20n2,%20ans%29%3B%0A%20%20cout%20%3C%3C%20n1%20%3C%3C%20%22%20%2B%20%22%20%3C%3C%20n2%20%3C%3C%20%22%20%3D%20%22%20%3C%3C%20ans%20%3C%3C%20endl%3B%0A%20%20return%200%3B%0A%7D&curInstr=0&mode=display&origin=opt-frontend.js&py=cpp&rawInputLstJSON=%5B%5D)"
   ]
  },
  {
   "cell_type": "markdown",
   "metadata": {},
   "source": [
    "## 5.5 Function prototype\n",
    "- we know functions must be defined before they're called\n",
    "- function signature or prototype is used to tell the compiler that the actual function will be defined later\n",
    "- helps us write the main function towards the top of the source file\n",
    "- define the actual functions after main without having to worry about the order of definitions\n",
    "- syntax of function prototype\n",
    "```cpp\n",
    "type NAME(type, type, ...);\n",
    "```\n",
    "- only the function type, name and parameter types matter\n",
    "- can provide prameter names but are meaningless\n",
    "- NOTE: function prototype demostration doesn't work in Jupyter\n",
    "- see [demo_programs/Ch05/func_prototype.cpp](demo_programs/Ch05/prototype_demo.cpp)"
   ]
  },
  {
   "cell_type": "markdown",
   "metadata": {},
   "source": [
    "## 5.6 Debugging and Unittesting with assert( )\n",
    "- if a problem is broken into sub-problems, it can be easily debugged\n",
    "- functions can be used to solve sub-problems that can be designed and tested independently\n",
    "- testing code at the functional level is called unittesting\n",
    "- we'll learn the basics of unittesting by automatically testing functions\n",
    "- $3^{rd}$ party frameworks such as googletest is used for comprehensive unittesting\n",
    "- we use **assert()** macro function provided in **&lt;cassert&gt;** library\n",
    "- syntax to use assert\n",
    "```cpp\n",
    "assert(condition);\n",
    "```\n",
    "- condition expression is created comparing two data values using **==** operator\n",
    "    - more on comparison operator in conditionals chapter\n",
    "- if condition evaluates to true (two values are indeed equal); assertion passes\n",
    "    - otherwise, assertion fails and the program halts immidiately\n",
    "- more on assert: https://en.cppreference.com/w/cpp/error/assert\n",
    "- **NOTE: assert( ) doesn't work in Jupyter notebook**; see the following demo programs"
   ]
  },
  {
   "cell_type": "markdown",
   "metadata": {},
   "source": [
    "### debugging demo\n",
    "- debugging with assert function [demo_programs/Ch05/assertdebug.cpp](demo_programs/Ch05/assertdebug.cpp) or at [repl.it](https://repl.it/@rambasnet/CS1-assertdebug)\n",
    "\n",
    "### unittesting demos\n",
    "- using this concept, we can automatically test if the returned results from functions are correct or not\n",
    "- see unittesting function with assert here [demo_programs/Ch05/unittesting.cpp](demo_programs/Ch05/unittesting.cpp) or at [repl.it](https://repl.it/@rambasnet/CS1-unittesting)\n",
    "\n",
    "- see improved version 2.0 unittesting example [demo_programs/Ch05/unittesting_v2.cpp](demo_programs/Ch05/unittesting_v2.cpp)"
   ]
  },
  {
   "cell_type": "markdown",
   "metadata": {},
   "source": [
    "## 5.7 Exercises\n",
    "1. Kattis hello problem\n",
    "    - must solve the hello problem: https://open.kattis.com/problems/hello using a function and a test case.\n",
    "    - a sample solution can be found here [demo_programs/Ch05/helloworld.cpp]\n",
    "    \n",
    "2. Write a C++ program including algorithm steps that calculates area and perimeter of a circle.\n",
    "    - must write functions to compute area and perimeter and automatically test each function with atleast 3 test cases\n",
    "    \n",
    "3. Write a C++ program including algorithm steps that calculates Body Mass Index (BMI) of a person.\n",
    "    - must use as many functions as possible\n",
    "    - write at least 3 test cases for each function\n",
    "    - more info on BMI - https://www.nhlbi.nih.gov/health/educational/lose_wt/BMI/bmicalc.htm\n",
    "    - Formula [here]( https://www.cdc.gov/healthyweight/assessing/bmi/childrens_bmi/childrens_bmi_formula.html#:~:text=The%20formula%20for%20BMI%20is,to%20convert%20this%20to%20meters.&text=When%20using%20English%20measurements%2C%20pounds%20should%20be%20divided%20by%20inches%20squared).\n",
    "    - a sample solution is provided at [demo_programs/Ch05/BMI_v2.cpp](demo_programs/Ch05/BMI_v2.cpp)\n",
    "\n",
    "4. Write a C++ program including algorithm steps that calculates area and perimeter of a triangle given three sides.\n",
    "    - must write and use separate functions to calculate area and perimeter\n",
    "    - write at least 3 test cases for each function\n",
    "    - Hint: use Heron's formula to find area with three sides.\n",
    "    \n",
    "5. Write a C++ program that converts hours into seconds.\n",
    "    - must write and use function(s) to computer answer(s)\n",
    "    - must write at least 3 test cases for each function\n",
    "    - e.g. given 2 hours, program should print 7200 as answer.\n",
    "    \n",
    "5. Write a C++ program that converts seconds into hours, minutes and seconds.\n",
    "    - must define and use function(s)\n",
    "    - write at least 3 test cases for each function\n",
    "    - sample input: 3600 sample output: 1 hour, 0 minute and 0 second\n",
    "    - sample input: 3661 sample output: 1 hour, 1 minute and 1 second\n",
    "    - Hint: use series of division and module operations"
   ]
  },
  {
   "cell_type": "code",
   "execution_count": null,
   "metadata": {},
   "outputs": [],
   "source": []
  }
 ],
 "metadata": {
  "kernelspec": {
   "display_name": "C++17",
   "language": "C++17",
   "name": "xcpp17"
  },
  "language_info": {
   "codemirror_mode": "text/x-c++src",
   "file_extension": ".cpp",
   "mimetype": "text/x-c++src",
   "name": "c++",
   "version": "17"
  }
 },
 "nbformat": 4,
 "nbformat_minor": 2
}
