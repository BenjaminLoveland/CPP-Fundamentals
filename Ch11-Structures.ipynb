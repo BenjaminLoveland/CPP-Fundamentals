{
 "cells": [
  {
   "cell_type": "markdown",
   "metadata": {},
   "source": [
    "# 11 Structures\n",
    "\n",
    "## Topics\n",
    "- compound and heterogeneous types\n",
    "- structrues and records types\n",
    "- examples of structures and objects\n",
    "- aggregate operations on objects\n",
    "- passing structure to and and returing from functions\n",
    "- array of structures\n",
    "- structures in another structures"
   ]
  },
  {
   "cell_type": "markdown",
   "metadata": {},
   "source": [
    "## 11.1 Compound and Heterogeneous types\n",
    "- most of the data types we've worked with represent a single value\n",
    "    - an interger, floating-point value, char, etc.\n",
    "- we've also worked with array of similar values such as string, array of integers or array of strings\n",
    "- array and string can be considered as compound types but all elements are **homogeneous (same) type**\n",
    "- C++ possibly can't provide all the types of data that programs need to efficiently represent and handle\n",
    "- e.g. Complex numbers, Points in coordinates, all kinds of records (student records, police records, etc.)\n",
    "- a large number of these types are compound types - mixture of **heteregenous (mixed) types**\n",
    "    - e.g. student records may have integer for ID, string for names and addresses, float for GPA and grades, etc.\n",
    "- the following figure shows some sample student records that a program may have to represent\n",
    "<img src=\"resources/records.png\" width=\"50%\">\n",
    "- two records displayed in the figure have the same heteregeneous structure\n",
    "    - we can represent these records and store them in memory using array of structure\n",
    "- via **struct** and **class** constructs, C++ allows us to create any type of heteregeneous data records that we want to represent\n",
    "- we do not include any library to use **struct** and **class** keywords\n",
    "- **class** is a big topic that typically is covered in more details in **CS2** or in courses like *Object Oriented Programming*\n",
    "   \n",
    "## 11.2 Structures\n",
    "- structrues are user-defined, compound and typically heterogenous types\n",
    "- the following figure demonstrates student record represented using strcuture\n",
    "<img src=\"resources/record.png\" width=\"25%\">\n",
    "- allows us to organize different types of data under one compound type\n",
    "- each type of data is represented by its own name and is called a member of the structure\n",
    "- makes it easier to manipulate and move the data record around using a single object or variable\n",
    "- using structures is a two-step process\n",
    "    - 1. define the new structure type\n",
    "    - 2. declare objects using the new structrue type\n",
    "- keyword **struct** short for structure is used to define structure type   \n",
    "- syntax to define structure:\n",
    "```cpp\n",
    "struct structureName {\n",
    "    type1 memberName1;\n",
    "    type2 memberName2;\n",
    "    type3 memberName3;\n",
    "    type4 memberName4;\n",
    "    //...\n",
    "};\n",
    "```\n",
    "- notice semi-colon (;) after closing curley brace\n",
    "- we don't initialize members; they are merely the blueprint (template) not actual variables just yet!\n",
    "\n",
    "- syntax to declare objects of struct type\n",
    "```cpp\n",
    "structureName objectName;\n",
    "```\n",
    "- exactly like declaring simple variables\n",
    "- the 2nd step actually allocates all the memory required to store one record for some instance objectName\n",
    "- the process of creating objects from struct type is called **instantiation**\n",
    "\n",
    "- syntax to access members\n",
    "```cpp\n",
    "objectName.memberName\n",
    "```\n",
    "- each member is used like a single variable; only difference is the way they're accessed\n",
    "- member can be accessed only by it's instance (object) name\n",
    "- compound variables that could have more than 1 value are typically called **objects**\n"
   ]
  },
  {
   "cell_type": "markdown",
   "metadata": {},
   "source": [
    "## 11.3 Point structure definition\n",
    "- a point in Cartesian coordinate (2-d geometry) is two numbers called coordinates\n",
    "- there may be a large number of points on the plain, but each point is treated collectective as a single object\n",
    "- e.g.(0, 0) indicates the origin, and $(x, y)$ indicates the point $x$ units from $x$-axis and $y$ units from the $y$-axis\n",
    "<img src=\"resources/Cartesian-coordinates.png\" width=\"25%\">\n",
    "- how can we represent 2-d points in C++?\n",
    "    - use structure!"
   ]
  },
  {
   "cell_type": "code",
   "execution_count": 1,
   "metadata": {},
   "outputs": [],
   "source": [
    "#include <iostream>\n",
    "#include <string>\n",
    "#include <cmath>\n",
    "\n",
    "using namespace std;"
   ]
  },
  {
   "cell_type": "code",
   "execution_count": 2,
   "metadata": {},
   "outputs": [],
   "source": [
    "// define a point structure\n",
    "struct Point {\n",
    "    // can be declared as int x, y;\n",
    "    int x; // member 1\n",
    "    int y; // member 2\n",
    "    // any other member?\n",
    "    // parenthesis are common on all points and used only for representation\n",
    "    // we don't need members for parenthesis\n",
    "};\n",
    "// do not initialize members as the memory is not allocated just yet!"
   ]
  },
  {
   "cell_type": "markdown",
   "metadata": {},
   "source": [
    "## 11.4 Point objects\n",
    "- recall Point structure is just the definition and doesn't actually store data\n",
    "- need to declare Point objects to actaully store the data values (coordinates)\n",
    "- we can also declare pointers to struct types\n",
    "- syntax to declare struct objects and pointers is similar to declaring variables\n",
    "    - afterall, struct is a user-defined type\n",
    "    \n",
    "```cpp\n",
    "structName objectName;\n",
    "```\n",
    "- objects created are automatic or stored in stack memory segment"
   ]
  },
  {
   "cell_type": "code",
   "execution_count": 3,
   "metadata": {},
   "outputs": [],
   "source": [
    "// declare/instantiate some point objects\n",
    "Point pt1, pt2;"
   ]
  },
  {
   "cell_type": "code",
   "execution_count": 4,
   "metadata": {},
   "outputs": [],
   "source": [
    "// declare and initialize point objects\n",
    "// using uniform initialization\n",
    "// members are initialized in the order they're defined\n",
    "Point origin = {0, 0};"
   ]
  },
  {
   "cell_type": "code",
   "execution_count": 5,
   "metadata": {},
   "outputs": [],
   "source": [
    "// explictly casting two values as Point type\n",
    "pt1 = Point({2, 3}); "
   ]
  },
  {
   "cell_type": "code",
   "execution_count": 6,
   "metadata": {},
   "outputs": [],
   "source": [
    "// implict coersion of two values as a Point type\n",
    "pt2 = {3, 0};"
   ]
  },
  {
   "cell_type": "code",
   "execution_count": 7,
   "metadata": {},
   "outputs": [],
   "source": [
    "// declared a pointer to Point type and initialize with nullptr\n",
    "Point * pt_ptr = nullptr;"
   ]
  },
  {
   "cell_type": "code",
   "execution_count": 8,
   "metadata": {},
   "outputs": [],
   "source": [
    "// assign value/address to pt_ptr\n",
    "// recall pointers store memory addressess only!\n",
    "pt_ptr = &pt1;"
   ]
  },
  {
   "cell_type": "code",
   "execution_count": 9,
   "metadata": {},
   "outputs": [
    {
     "name": "stdout",
     "output_type": "stream",
     "text": [
      "0x107f392d0 == 0x107f392d0\n"
     ]
    }
   ],
   "source": [
    "// two addresses must be equal!\n",
    "cout << pt_ptr << \" == \" << &pt1 << endl;"
   ]
  },
  {
   "cell_type": "markdown",
   "metadata": {},
   "source": [
    "### Dynamic objects\n",
    "- memory needed for any struct objects can be allocated in heap memory segment\n",
    "- the syntax to allocate dynamic objects is same as declaring dynamic variable covered in **Pointers** chapter\n",
    "```cpp\n",
    "structName * ptrName = new structName();\n",
    "```"
   ]
  },
  {
   "cell_type": "code",
   "execution_count": 11,
   "metadata": {},
   "outputs": [],
   "source": [
    "// instantiate a pointer object\n",
    "Point * pt_ptr1 = new Point;"
   ]
  },
  {
   "cell_type": "code",
   "execution_count": 12,
   "metadata": {},
   "outputs": [],
   "source": [
    "// instantiate and initialize a pointer object\n",
    "Point * pt_ptr2 = new Point({100, -200});"
   ]
  },
  {
   "cell_type": "markdown",
   "metadata": {},
   "source": [
    "## 11.5 Point members\n",
    "- each member of Point objects can be accessed using **.** (period or dot) - member access operator\n",
    "- syntax:\n",
    "```cpp\n",
    "object.member;\n",
    "ptrObject->member;\n",
    "```\n",
    "- members are same as variables we can store and access data\n",
    "- if a pointer object is used, -> (arrow/pointer) operator is used to access member"
   ]
  },
  {
   "cell_type": "code",
   "execution_count": 13,
   "metadata": {},
   "outputs": [
    {
     "name": "stdout",
     "output_type": "stream",
     "text": [
      "origin = (0,0)\n"
     ]
    }
   ],
   "source": [
    "// access members using . (member access) operator\n",
    "cout << \"origin = (\" << origin.x << \",\" << origin.y << \")\" << endl;"
   ]
  },
  {
   "cell_type": "code",
   "execution_count": 14,
   "metadata": {},
   "outputs": [],
   "source": [
    "// assgin values to pt1 and pt2;\n",
    "pt1.x = -3;\n",
    "pt1.y = 1;"
   ]
  },
  {
   "cell_type": "code",
   "execution_count": 15,
   "metadata": {},
   "outputs": [],
   "source": [
    "// find the distance between pt1 and pt2\n",
    "float dist;"
   ]
  },
  {
   "cell_type": "code",
   "execution_count": 16,
   "metadata": {},
   "outputs": [
    {
     "data": {
      "text/plain": [
       "6.08276f"
      ]
     },
     "execution_count": 16,
     "metadata": {},
     "output_type": "execute_result"
    }
   ],
   "source": [
    "dist = sqrt(pow(pt1.x-pt2.x, 2) + pow(pt1.y-pt2.y, 2))"
   ]
  },
  {
   "cell_type": "code",
   "execution_count": 17,
   "metadata": {},
   "outputs": [
    {
     "name": "stdout",
     "output_type": "stream",
     "text": [
      "distance = 6.08276\n"
     ]
    }
   ],
   "source": [
    "cout << \"distance = \" << dist << endl;"
   ]
  },
  {
   "cell_type": "code",
   "execution_count": 18,
   "metadata": {},
   "outputs": [],
   "source": [
    "// accessing members using pointer variables\n",
    "pt_ptr1->x = -3;\n",
    "pt_ptr1->y = 1;"
   ]
  },
  {
   "cell_type": "code",
   "execution_count": 19,
   "metadata": {},
   "outputs": [
    {
     "data": {
      "text/plain": [
       "6.08276f"
      ]
     },
     "execution_count": 19,
     "metadata": {},
     "output_type": "execute_result"
    }
   ],
   "source": [
    "// we get the same result as above\n",
    "dist = sqrt(pow(pt_ptr1->x-pt2.x, 2) + pow(pt_ptr1->y-pt2.y, 2))"
   ]
  },
  {
   "cell_type": "markdown",
   "metadata": {},
   "source": [
    "### visualize struct and objects in [pythontutor.com](http://pythontutor.com/cpp.html#code=//%20struct%20demo%0A%23include%20%3Ciostream%3E%0Ausing%20namespace%20std%3B%0A%0Astruct%20Point%20%7B%0A%20%20%20%20int%20x%3B%20//%20member%201%0A%20%20%20%20int%20y%3B%20//%20member%202%0A%7D%3B%0A%0Aint%20main%28%29%20%7B%0A%20%20//%20auto%20objects%0A%20%20Point%20pt1%3B%0A%20%20Point%20pt2%20%3D%20%7B3,%204%7D%3B%0A%20%20pt1.x%20%3D%205%3B%0A%20%20pt1.y%20%3D%2010%3B%0A%20%20//%20dynamic%20object%0A%20%20Point%20*%20pt3%20%3D%20new%20Point%28%29%3B%0A%20%20pt3-%3Ex%20%3D%2010%3B%0A%20%20pt3-%3Ey%20%3D%2020%3B%0A%20%20return%200%3B%0A%7D&curInstr=0&mode=display&origin=opt-frontend.js&py=cpp&rawInputLstJSON=%5B%5D)"
   ]
  },
  {
   "cell_type": "markdown",
   "metadata": {},
   "source": [
    "## 11.6 Template structures\n",
    "- notice that Point class defined above uses **int** as type for $x$ and $y$ coordinates\n",
    "- what if we had a coordinate system that used floating point values\n",
    "    - we'd have to define another struct to represent Point using floating point values\n",
    "- similar to template function, we can use **template type** in struct definition\n",
    "    - acts as a placeholder for type that will be passed when the objects are intantiated\n",
    "- templated struct helps create one generic struct definition that meets all type requirments for its members\n",
    "- syntax to define template struct type:\n",
    "```cpp\n",
    "template<class T1, class T2, ...>\n",
    "struct structName {\n",
    "    T1 member1;\n",
    "    T2 member2;\n",
    "    type member3;\n",
    "    // more templated type or actual type members\n",
    "};\n",
    "```\n",
    "- notice the syntax is same as the function template syntax\n",
    "- template&lt;...&gt; construct let's you use 1 or more template type separated by comma\n",
    "\n",
    "- syntax to instantiate objects of template struct types\n",
    "```cpp\n",
    "structName<actualType1, actualType2, ...> objectName;\n",
    "```\n",
    "- actualType1 replaces T1, acttualType2 replaces T2, and so on..."
   ]
  },
  {
   "cell_type": "markdown",
   "metadata": {},
   "source": [
    "### templated rectangle type\n",
    "- sides of rectangle may be of various types such as integer, or float or double, etc.\n",
    "- we define templated rectangle type to account for those types"
   ]
  },
  {
   "cell_type": "code",
   "execution_count": 12,
   "metadata": {},
   "outputs": [],
   "source": [
    "// assuming both length and width of any rectangle will have the same type T\n",
    "template<class T>\n",
    "struct Rectangle {\n",
    "    T length, width;\n",
    "    // could use an array of T type\n",
    "    // T sides[2]; \n",
    "    // length and width are better names than array\n",
    "};"
   ]
  },
  {
   "cell_type": "code",
   "execution_count": 13,
   "metadata": {},
   "outputs": [],
   "source": [
    "// instantiate some objects of Rectangle types\n",
    "Rectangle<int> r1;\n",
    "Rectangle<float> r2;"
   ]
  },
  {
   "cell_type": "code",
   "execution_count": 14,
   "metadata": {},
   "outputs": [],
   "source": [
    "// instantiate and initialize rectangle objects\n",
    "Rectangle<int> r3 = {10, 5}; "
   ]
  },
  {
   "cell_type": "code",
   "execution_count": 15,
   "metadata": {},
   "outputs": [],
   "source": [
    "Rectangle<float> r4 = {8.5f, 5.5f};"
   ]
  },
  {
   "cell_type": "code",
   "execution_count": 16,
   "metadata": {},
   "outputs": [],
   "source": [
    "Rectangle<double> r5 = {100.999, 55.898};"
   ]
  },
  {
   "cell_type": "markdown",
   "metadata": {},
   "source": [
    "## 11.6 Aggregate operations on struct objects\n",
    "- for any type one has to wonder what operators work out of the box\n",
    "    - e.g. for string, we could use +, =, comparison operators (>, ==, etc.)\n",
    "- no aggregate operations such as input and output are allowed on struct objects as a whole\n",
    "    - e.g. can't read into (cin) or print (cout) objects\n",
    "    - it may not make sense to compare two objects (compare based on what members?)\n",
    "- for most operations (except for assignmet), objects must be accessed one member at a time!\n",
    "    - Note, there are ways to explictly overload aggregate operations by writing extra code\n",
    "    - that is usually covered in CS2 or *Object Oriented Programming* courses"
   ]
  },
  {
   "cell_type": "code",
   "execution_count": 10,
   "metadata": {},
   "outputs": [
    {
     "name": "stderr",
     "output_type": "stream",
     "text": [
      "\u001b[1minput_line_21:3:6: \u001b[0m\u001b[0;1;31merror: \u001b[0m\u001b[1minvalid operands to binary expression ('std::__1::ostream' (aka 'basic_ostream<char>') and 'Point')\u001b[0m\n",
      "cout << pt1;\n",
      "\u001b[0;1;32m~~~~ ^  ~~~\n",
      "\u001b[0m\u001b[1m/Users/rbasnet/anaconda3/envs/cpp/include/c++/v1/ostream:219:20: \u001b[0m\u001b[0;1;30mnote: \u001b[0mcandidate function not viable: no known conversion from 'Point' to 'const void *' for 1st argument; take the address of\n",
      "      the argument with &\u001b[0m\n",
      "    basic_ostream& operator<<(const void* __p);\n",
      "\u001b[0;1;32m                   ^\n",
      "\u001b[0m\u001b[1m/Users/rbasnet/anaconda3/envs/cpp/include/c++/v1/type_traits:4034:3: \u001b[0m\u001b[0;1;30mnote: \u001b[0mcandidate function not viable: no known conversion from 'std::__1::ostream' (aka 'basic_ostream<char>') to 'std::byte'\n",
      "      for 1st argument\u001b[0m\n",
      "  operator<< (byte  __lhs, _Integer __shift) noexcept\n",
      "\u001b[0;1;32m  ^\n",
      "\u001b[0m\u001b[1m/Users/rbasnet/anaconda3/envs/cpp/include/c++/v1/ostream:195:20: \u001b[0m\u001b[0;1;30mnote: \u001b[0mcandidate function not viable: no known conversion from 'Point' to 'std::__1::basic_ostream<char>\n",
      "      &(*)(std::__1::basic_ostream<char> &)' for 1st argument\u001b[0m\n",
      "    basic_ostream& operator<<(basic_ostream& (*__pf)(basic_ostream&))\n",
      "\u001b[0;1;32m                   ^\n",
      "\u001b[0m\u001b[1m/Users/rbasnet/anaconda3/envs/cpp/include/c++/v1/ostream:199:20: \u001b[0m\u001b[0;1;30mnote: \u001b[0mcandidate function not viable: no known conversion from 'Point' to 'basic_ios<std::__1::basic_ostream<char,\n",
      "      std::__1::char_traits<char> >::char_type, std::__1::basic_ostream<char, std::__1::char_traits<char>\n",
      "      >::traits_type> &(*)(basic_ios<std::__1::basic_ostream<char, std::__1::char_traits<char> >::char_type,\n",
      "      std::__1::basic_ostream<char, std::__1::char_traits<char> >::traits_type> &)' (aka 'basic_ios<char,\n",
      "      std::__1::char_traits<char> > &(*)(basic_ios<char, std::__1::char_traits<char> > &)') for 1st argument\u001b[0m\n",
      "    basic_ostream& operator<<(basic_ios<char_type, traits_type>&\n",
      "\u001b[0;1;32m                   ^\n",
      "\u001b[0m\u001b[1m/Users/rbasnet/anaconda3/envs/cpp/include/c++/v1/ostream:204:20: \u001b[0m\u001b[0;1;30mnote: \u001b[0mcandidate function not viable: no known conversion from 'Point' to 'std::__1::ios_base &(*)(std::__1::ios_base &)' for\n",
      "      1st argument\u001b[0m\n",
      "    basic_ostream& operator<<(ios_base& (*__pf)(ios_base&))\n",
      "\u001b[0;1;32m                   ^\n",
      "\u001b[0m\u001b[1m/Users/rbasnet/anaconda3/envs/cpp/include/c++/v1/ostream:207:20: \u001b[0m\u001b[0;1;30mnote: \u001b[0mcandidate function not viable: no known conversion from 'Point' to 'bool' for 1st argument\u001b[0m\n",
      "    basic_ostream& operator<<(bool __n);\n",
      "\u001b[0;1;32m                   ^\n",
      "\u001b[0m\u001b[1m/Users/rbasnet/anaconda3/envs/cpp/include/c++/v1/ostream:208:20: \u001b[0m\u001b[0;1;30mnote: \u001b[0mcandidate function not viable: no known conversion from 'Point' to 'short' for 1st argument\u001b[0m\n",
      "    basic_ostream& operator<<(short __n);\n",
      "\u001b[0;1;32m                   ^\n",
      "\u001b[0m\u001b[1m/Users/rbasnet/anaconda3/envs/cpp/include/c++/v1/ostream:209:20: \u001b[0m\u001b[0;1;30mnote: \u001b[0mcandidate function not viable: no known conversion from 'Point' to 'unsigned short' for 1st argument\u001b[0m\n",
      "    basic_ostream& operator<<(unsigned short __n);\n",
      "\u001b[0;1;32m                   ^\n",
      "\u001b[0m\u001b[1m/Users/rbasnet/anaconda3/envs/cpp/include/c++/v1/ostream:210:20: \u001b[0m\u001b[0;1;30mnote: \u001b[0mcandidate function not viable: no known conversion from 'Point' to 'int' for 1st argument\u001b[0m\n",
      "    basic_ostream& operator<<(int __n);\n",
      "\u001b[0;1;32m                   ^\n",
      "\u001b[0m\u001b[1m/Users/rbasnet/anaconda3/envs/cpp/include/c++/v1/ostream:211:20: \u001b[0m\u001b[0;1;30mnote: \u001b[0mcandidate function not viable: no known conversion from 'Point' to 'unsigned int' for 1st argument\u001b[0m\n",
      "    basic_ostream& operator<<(unsigned int __n);\n",
      "\u001b[0;1;32m                   ^\n",
      "\u001b[0m\u001b[1m/Users/rbasnet/anaconda3/envs/cpp/include/c++/v1/ostream:212:20: \u001b[0m\u001b[0;1;30mnote: \u001b[0mcandidate function not viable: no known conversion from 'Point' to 'long' for 1st argument\u001b[0m\n",
      "    basic_ostream& operator<<(long __n);\n",
      "\u001b[0;1;32m                   ^\n",
      "\u001b[0m\u001b[1m/Users/rbasnet/anaconda3/envs/cpp/include/c++/v1/ostream:213:20: \u001b[0m\u001b[0;1;30mnote: \u001b[0mcandidate function not viable: no known conversion from 'Point' to 'unsigned long' for 1st argument\u001b[0m\n",
      "    basic_ostream& operator<<(unsigned long __n);\n",
      "\u001b[0;1;32m                   ^\n",
      "\u001b[0m\u001b[1m/Users/rbasnet/anaconda3/envs/cpp/include/c++/v1/ostream:214:20: \u001b[0m\u001b[0;1;30mnote: \u001b[0mcandidate function not viable: no known conversion from 'Point' to 'long long' for 1st argument\u001b[0m\n",
      "    basic_ostream& operator<<(long long __n);\n",
      "\u001b[0;1;32m                   ^\n",
      "\u001b[0m\u001b[1m/Users/rbasnet/anaconda3/envs/cpp/include/c++/v1/ostream:215:20: \u001b[0m\u001b[0;1;30mnote: \u001b[0mcandidate function not viable: no known conversion from 'Point' to 'unsigned long long' for 1st argument\u001b[0m\n",
      "    basic_ostream& operator<<(unsigned long long __n);\n",
      "\u001b[0;1;32m                   ^\n",
      "\u001b[0m\u001b[1m/Users/rbasnet/anaconda3/envs/cpp/include/c++/v1/ostream:216:20: \u001b[0m\u001b[0;1;30mnote: \u001b[0mcandidate function not viable: no known conversion from 'Point' to 'float' for 1st argument\u001b[0m\n",
      "    basic_ostream& operator<<(float __f);\n",
      "\u001b[0;1;32m                   ^\n",
      "\u001b[0m\u001b[1m/Users/rbasnet/anaconda3/envs/cpp/include/c++/v1/ostream:217:20: \u001b[0m\u001b[0;1;30mnote: \u001b[0mcandidate function not viable: no known conversion from 'Point' to 'double' for 1st argument\u001b[0m\n",
      "    basic_ostream& operator<<(double __f);\n",
      "\u001b[0;1;32m                   ^\n",
      "\u001b[0m\u001b[1m/Users/rbasnet/anaconda3/envs/cpp/include/c++/v1/ostream:218:20: \u001b[0m\u001b[0;1;30mnote: \u001b[0mcandidate function not viable: no known conversion from 'Point' to 'long double' for 1st argument\u001b[0m\n",
      "    basic_ostream& operator<<(long double __f);\n",
      "\u001b[0;1;32m                   ^\n",
      "\u001b[0m\u001b[1m/Users/rbasnet/anaconda3/envs/cpp/include/c++/v1/ostream:220:20: \u001b[0m\u001b[0;1;30mnote: \u001b[0mcandidate function not viable: no known conversion from 'Point' to 'basic_streambuf<std::__1::basic_ostream<char,\n",
      "      std::__1::char_traits<char> >::char_type, std::__1::basic_ostream<char, std::__1::char_traits<char>\n",
      "      >::traits_type> *' (aka 'basic_streambuf<char, std::__1::char_traits<char> > *') for 1st argument\u001b[0m\n",
      "    basic_ostream& operator<<(basic_streambuf<char_type, traits_type>* __sb);\n",
      "\u001b[0;1;32m                   ^\n",
      "\u001b[0m\u001b[1m/Users/rbasnet/anaconda3/envs/cpp/include/c++/v1/ostream:223:20: \u001b[0m\u001b[0;1;30mnote: \u001b[0mcandidate function not viable: no known conversion from 'Point' to 'std::nullptr_t' (aka 'nullptr_t') for 1st argument\u001b[0m\n",
      "    basic_ostream& operator<<(nullptr_t)\n",
      "\u001b[0;1;32m                   ^\n",
      "\u001b[0m\u001b[1m/Users/rbasnet/anaconda3/envs/cpp/include/c++/v1/ostream:760:1: \u001b[0m\u001b[0;1;30mnote: \u001b[0mcandidate function not viable: no known conversion from 'Point' to 'char' for 2nd argument\u001b[0m\n",
      "operator<<(basic_ostream<_CharT, _Traits>& __os, char __cn)\n",
      "\u001b[0;1;32m^\n",
      "\u001b[0m\u001b[1m/Users/rbasnet/anaconda3/envs/cpp/include/c++/v1/ostream:793:1: \u001b[0m\u001b[0;1;30mnote: \u001b[0mcandidate function not viable: no known conversion from 'Point' to 'char' for 2nd argument\u001b[0m\n",
      "operator<<(basic_ostream<char, _Traits>& __os, char __c)\n",
      "\u001b[0;1;32m^\n",
      "\u001b[0m\u001b[1m/Users/rbasnet/anaconda3/envs/cpp/include/c++/v1/ostream:800:1: \u001b[0m\u001b[0;1;30mnote: \u001b[0mcandidate function not viable: no known conversion from 'Point' to 'signed char' for 2nd argument\u001b[0m\n",
      "operator<<(basic_ostream<char, _Traits>& __os, signed char __c)\n",
      "\u001b[0;1;32m^\n",
      "\u001b[0m\u001b[1m/Users/rbasnet/anaconda3/envs/cpp/include/c++/v1/ostream:807:1: \u001b[0m\u001b[0;1;30mnote: \u001b[0mcandidate function not viable: no known conversion from 'Point' to 'unsigned char' for 2nd argument\u001b[0m\n",
      "operator<<(basic_ostream<char, _Traits>& __os, unsigned char __c)\n",
      "\u001b[0;1;32m^\n",
      "\u001b[0m\u001b[1m/Users/rbasnet/anaconda3/envs/cpp/include/c++/v1/ostream:821:1: \u001b[0m\u001b[0;1;30mnote: \u001b[0mcandidate function not viable: no known conversion from 'Point' to 'const char *' for 2nd argument\u001b[0m\n",
      "operator<<(basic_ostream<_CharT, _Traits>& __os, const char* __strn)\n",
      "\u001b[0;1;32m^\n",
      "\u001b[0m\u001b[1m/Users/rbasnet/anaconda3/envs/cpp/include/c++/v1/ostream:867:1: \u001b[0m\u001b[0;1;30mnote: \u001b[0mcandidate function not viable: no known conversion from 'Point' to 'const char *' for 2nd argument\u001b[0m\n",
      "operator<<(basic_ostream<char, _Traits>& __os, const char* __str)\n",
      "\u001b[0;1;32m^\n",
      "\u001b[0m\u001b[1m/Users/rbasnet/anaconda3/envs/cpp/include/c++/v1/ostream:874:1: \u001b[0m\u001b[0;1;30mnote: \u001b[0mcandidate function not viable: no known conversion from 'Point' to 'const signed char *' for 2nd argument\u001b[0m\n"
     ]
    },
    {
     "name": "stderr",
     "output_type": "stream",
     "text": [
      "operator<<(basic_ostream<char, _Traits>& __os, const signed char* __str)\n",
      "\u001b[0;1;32m^\n",
      "\u001b[0m\u001b[1m/Users/rbasnet/anaconda3/envs/cpp/include/c++/v1/ostream:882:1: \u001b[0m\u001b[0;1;30mnote: \u001b[0mcandidate function not viable: no known conversion from 'Point' to 'const unsigned char *' for 2nd argument\u001b[0m\n",
      "operator<<(basic_ostream<char, _Traits>& __os, const unsigned char* __str)\n",
      "\u001b[0;1;32m^\n",
      "\u001b[0m\u001b[1m/Users/rbasnet/anaconda3/envs/cpp/include/c++/v1/ostream:1066:1: \u001b[0m\u001b[0;1;30mnote: \u001b[0mcandidate function not viable: no known conversion from 'Point' to 'const std::__1::error_code' for 2nd argument\u001b[0m\n",
      "operator<<(basic_ostream<_CharT, _Traits>& __os, const error_code& __ec)\n",
      "\u001b[0;1;32m^\n",
      "\u001b[0m\u001b[1m/Users/rbasnet/anaconda3/envs/cpp/include/c++/v1/ostream:753:1: \u001b[0m\u001b[0;1;30mnote: \u001b[0mcandidate template ignored: deduced conflicting types for parameter '_CharT' ('char' vs. 'Point')\u001b[0m\n",
      "operator<<(basic_ostream<_CharT, _Traits>& __os, _CharT __c)\n",
      "\u001b[0;1;32m^\n",
      "\u001b[0m\u001b[1m/Users/rbasnet/anaconda3/envs/cpp/include/c++/v1/ostream:1057:1: \u001b[0m\u001b[0;1;30mnote: \u001b[0mcandidate template ignored: could not match 'basic_string_view<type-parameter-0-0, type-parameter-0-1>' against 'Point'\u001b[0m\n",
      "operator<<(basic_ostream<_CharT, _Traits>& __os,\n",
      "\u001b[0;1;32m^\n",
      "\u001b[0m\u001b[1m/Users/rbasnet/anaconda3/envs/cpp/include/c++/v1/ostream:1086:1: \u001b[0m\u001b[0;1;30mnote: \u001b[0mcandidate template ignored: could not match 'unique_ptr<type-parameter-0-2, type-parameter-0-3>' against 'Point'\u001b[0m\n",
      "operator<<(basic_ostream<_CharT, _Traits>& __os, unique_ptr<_Yp, _Dp> const& __p)\n",
      "\u001b[0;1;32m^\n",
      "\u001b[0m\u001b[1m/Users/rbasnet/anaconda3/envs/cpp/include/c++/v1/iomanip:477:5: \u001b[0m\u001b[0;1;30mnote: \u001b[0mcandidate template ignored: could not match '__iom_t10<type-parameter-0-0>' against 'Point'\u001b[0m\n",
      "    operator<<(basic_ostream<_Cp, _Traits>& __os, const __iom_t10<_Cp>& __x);\n",
      "\u001b[0;1;32m    ^\n",
      "\u001b[0m\u001b[1m/Users/rbasnet/anaconda3/envs/cpp/include/c++/v1/iomanip:572:33: \u001b[0m\u001b[0;1;30mnote: \u001b[0mcandidate template ignored: could not match '__quoted_output_proxy<type-parameter-0-0, type-parameter-0-2,\n",
      "      type-parameter-0-1>' against 'Point'\u001b[0m\n",
      "basic_ostream<_CharT, _Traits>& operator<<(\n",
      "\u001b[0;1;32m                                ^\n",
      "\u001b[0m\u001b[1m/Users/rbasnet/anaconda3/envs/cpp/include/c++/v1/iomanip:592:33: \u001b[0m\u001b[0;1;30mnote: \u001b[0mcandidate template ignored: could not match '__quoted_proxy<type-parameter-0-0, type-parameter-0-1, type-parameter-0-2>'\n",
      "      against 'Point'\u001b[0m\n",
      "basic_ostream<_CharT, _Traits>& operator<<(\n",
      "\u001b[0;1;32m                                ^\n",
      "\u001b[0m\u001b[1m/Users/rbasnet/anaconda3/envs/cpp/include/c++/v1/ostream:1039:1: \u001b[0m\u001b[0;1;30mnote: \u001b[0mcandidate template ignored: requirement '!is_lvalue_reference<basic_ostream<char> &>::value' was not satisfied [with\n",
      "      _Stream = std::__1::basic_ostream<char> &, _Tp = Point]\u001b[0m\n",
      "operator<<(_Stream&& __os, const _Tp& __x)\n",
      "\u001b[0;1;32m^\n",
      "\u001b[0m\u001b[1m/Users/rbasnet/anaconda3/envs/cpp/include/c++/v1/ostream:814:1: \u001b[0m\u001b[0;1;30mnote: \u001b[0mcandidate template ignored: could not match 'const _CharT *' against 'Point'\u001b[0m\n",
      "operator<<(basic_ostream<_CharT, _Traits>& __os, const _CharT* __str)\n",
      "\u001b[0;1;32m^\n",
      "\u001b[0m\u001b[1m/Users/rbasnet/anaconda3/envs/cpp/include/c++/v1/ostream:1093:1: \u001b[0m\u001b[0;1;30mnote: \u001b[0mcandidate template ignored: could not match 'bitset<_Size>' against 'Point'\u001b[0m\n",
      "operator<<(basic_ostream<_CharT, _Traits>& __os, const bitset<_Size>& __x)\n",
      "\u001b[0;1;32m^\n",
      "\u001b[0m\u001b[1m/Users/rbasnet/anaconda3/envs/cpp/include/c++/v1/valarray:4165:1: \u001b[0m\u001b[0;1;30mnote: \u001b[0mcandidate template ignored: substitution failure [with _Expr1 = std::__1::basic_ostream<char>, _Expr2 = Point]: no type\n",
      "      named 'value_type' in 'std::__1::basic_ostream<char>'\u001b[0m\n",
      "operator<<(const _Expr1& __x, const _Expr2& __y)\n",
      "\u001b[0;1;32m^\n",
      "\u001b[0m\u001b[1m/Users/rbasnet/anaconda3/envs/cpp/include/c++/v1/valarray:4180:1: \u001b[0m\u001b[0;1;30mnote: \u001b[0mcandidate template ignored: substitution failure [with _Expr = std::__1::basic_ostream<char>]: no type named\n",
      "      'value_type' in 'std::__1::basic_ostream<char>'\u001b[0m\n",
      "operator<<(const _Expr& __x, const typename _Expr::value_type& __y)\n",
      "\u001b[0;1;32m^\n",
      "\u001b[0m\u001b[1m/Users/rbasnet/anaconda3/envs/cpp/include/c++/v1/valarray:4196:1: \u001b[0m\u001b[0;1;30mnote: \u001b[0mcandidate template ignored: substitution failure [with _Expr = Point]: no type named 'value_type' in 'Point'\u001b[0m\n",
      "operator<<(const typename _Expr::value_type& __x, const _Expr& __y)\n",
      "\u001b[0;1;32m^\n",
      "\u001b[0m\u001b[1m/Users/rbasnet/anaconda3/envs/cpp/include/c++/v1/ostream:1049:1: \u001b[0m\u001b[0;1;30mnote: \u001b[0mcandidate template ignored: could not match 'basic_string<type-parameter-0-0, type-parameter-0-1, type-parameter-0-2>'\n",
      "      against 'Point'\u001b[0m\n",
      "operator<<(basic_ostream<_CharT, _Traits>& __os,\n",
      "\u001b[0;1;32m^\n",
      "\u001b[0m\u001b[1m/Users/rbasnet/anaconda3/envs/cpp/include/c++/v1/ostream:1074:1: \u001b[0m\u001b[0;1;30mnote: \u001b[0mcandidate template ignored: could not match 'shared_ptr<type-parameter-0-2>' against 'Point'\u001b[0m\n",
      "operator<<(basic_ostream<_CharT, _Traits>& __os, shared_ptr<_Yp> const& __p)\n",
      "\u001b[0;1;32m^\n",
      "\u001b[0m\u001b[1m/Users/rbasnet/anaconda3/envs/cpp/include/c++/v1/iomanip:362:1: \u001b[0m\u001b[0;1;30mnote: \u001b[0mcandidate template ignored: could not match '__iom_t8<type-parameter-0-2>' against 'Point'\u001b[0m\n",
      "operator<<(basic_ostream<_CharT, _Traits>& __os, const __iom_t8<_MoneyT>& __x)\n",
      "\u001b[0;1;32m^\n",
      "\u001b[0m"
     ]
    },
    {
     "ename": "Interpreter Error",
     "evalue": "",
     "output_type": "error",
     "traceback": [
      "Interpreter Error: "
     ]
    }
   ],
   "source": [
    "// try cout; can't!!\n",
    "// pt1 is an object of Point type\n",
    "cout << pt1;\n",
    "// cout may be broken if you run this! so restart the kernel if you get error"
   ]
  },
  {
   "cell_type": "code",
   "execution_count": 17,
   "metadata": {},
   "outputs": [],
   "source": [
    "// read in/store data one member at a time\n",
    "char ch;\n",
    "Point pt3;"
   ]
  },
  {
   "cell_type": "code",
   "execution_count": 18,
   "metadata": {},
   "outputs": [
    {
     "name": "stdout",
     "output_type": "stream",
     "text": [
      "Enter a point in (x, y) format: (4, 5)\n"
     ]
    },
    {
     "data": {
      "text/plain": [
       "@0x1031f7d70"
      ]
     },
     "execution_count": 18,
     "metadata": {},
     "output_type": "execute_result"
    }
   ],
   "source": [
    "cout << \"Enter a point in (x, y) format: \";\n",
    "cin >> ch >> pt3.x >> ch >> pt3.y >> ch;\n",
    "// ch is just a place variable for unnecessary character to read and ignore"
   ]
  },
  {
   "cell_type": "code",
   "execution_count": 20,
   "metadata": {},
   "outputs": [
    {
     "name": "stdout",
     "output_type": "stream",
     "text": [
      "pt3 = (4, 5)"
     ]
    }
   ],
   "source": [
    "// print the point in right format; accessing one member at a time\n",
    "cout << \"pt3 = (\" << pt3.x << \", \" << pt3.y << \")\";"
   ]
  },
  {
   "cell_type": "markdown",
   "metadata": {},
   "source": [
    "### aggregate copy (=) is allowed\n",
    "- one struct object can be copied into another out of the box\n",
    "- object is copied member by member from source to destination"
   ]
  },
  {
   "cell_type": "code",
   "execution_count": 14,
   "metadata": {},
   "outputs": [],
   "source": [
    "Point pt4 = pt3;"
   ]
  },
  {
   "cell_type": "markdown",
   "metadata": {},
   "source": [
    "## 11.5 Passing struct objects to functions\n",
    "- struct objects can be passed to functions both by value and by reference\n",
    "\n",
    "### pass by value\n",
    "- struct objects can be copied into another same type of struct objects using (=) assignment operator\n",
    "- this allows us to pass struct to functions by value (by copying the data)"
   ]
  },
  {
   "cell_type": "code",
   "execution_count": 15,
   "metadata": {},
   "outputs": [],
   "source": [
    "// passing some constant Point\n",
    "void printPoint(const Point pt) {\n",
    "    cout << \"(\" << pt.x << \", \" << pt.y << \")\";\n",
    "}"
   ]
  },
  {
   "cell_type": "code",
   "execution_count": 16,
   "metadata": {},
   "outputs": [
    {
     "name": "stdout",
     "output_type": "stream",
     "text": [
      "(9, 20)"
     ]
    }
   ],
   "source": [
    "printPoint(pt4);"
   ]
  },
  {
   "cell_type": "markdown",
   "metadata": {},
   "source": [
    "### pass by reference\n",
    "- any data type can be explictly pass by reference in C++"
   ]
  },
  {
   "cell_type": "code",
   "execution_count": 17,
   "metadata": {},
   "outputs": [],
   "source": [
    "void getPoint(Point & pt) {\n",
    "    cout << \"Enter a point in (x, y) format: \";\n",
    "    cin >> ch >> pt.x >> ch >> pt.y >> ch;\n",
    "    // Note: when using terminal, after the last character ) is read \\n is left behind\n",
    "    // getline() will fail!\n",
    "    // good idea to read \\n whitespace and ignore it!\n",
    "}"
   ]
  },
  {
   "cell_type": "code",
   "execution_count": 18,
   "metadata": {},
   "outputs": [],
   "source": [
    "Point pt5;"
   ]
  },
  {
   "cell_type": "code",
   "execution_count": 19,
   "metadata": {},
   "outputs": [
    {
     "name": "stdout",
     "output_type": "stream",
     "text": [
      "Enter a point in (x, y) format: (8, 0)\n"
     ]
    }
   ],
   "source": [
    "getPoint(pt5);"
   ]
  },
  {
   "cell_type": "code",
   "execution_count": 20,
   "metadata": {},
   "outputs": [
    {
     "name": "stdout",
     "output_type": "stream",
     "text": [
      "(8, 0)"
     ]
    }
   ],
   "source": [
    "printPoint(pt5);"
   ]
  },
  {
   "cell_type": "code",
   "execution_count": 31,
   "metadata": {},
   "outputs": [],
   "source": [
    "// function finds the distance between two points\n",
    "// sqrt( (x1-x2)^2 + (y1-y2)^2 )\n",
    "float distance(const Point & p1, const Point & p2) {\n",
    "    return sqrt(pow(p1.x-p2.x, 2) + pow(p1.y-p2.y, 2));\n",
    "}"
   ]
  },
  {
   "cell_type": "code",
   "execution_count": 32,
   "metadata": {},
   "outputs": [
    {
     "name": "stdout",
     "output_type": "stream",
     "text": [
      "distance between (9, 20) and (8, 0) = 20.025"
     ]
    }
   ],
   "source": [
    "cout << \"distance between \";\n",
    "printPoint(pt4);\n",
    "cout << \" and \";\n",
    "printPoint(pt5);\n",
    "cout << \" = \" << distance(pt4, pt5);"
   ]
  },
  {
   "cell_type": "markdown",
   "metadata": {},
   "source": [
    "## 11.6 Returning struct from functions\n",
    "- as the (=) assignment works on structs, functions can return struct types"
   ]
  },
  {
   "cell_type": "code",
   "execution_count": null,
   "metadata": {},
   "outputs": [],
   "source": [
    "// function returns Point type object\n",
    "Point getPoint() {\n",
    "    Point pt;\n",
    "    cout << \"Enter a point in (x, y) format: \";\n",
    "    cin >> ch >> pt.x >> ch >> pt.y >> ch;\n",
    "    return pt;\n",
    "}"
   ]
  },
  {
   "cell_type": "code",
   "execution_count": 22,
   "metadata": {},
   "outputs": [
    {
     "name": "stdout",
     "output_type": "stream",
     "text": [
      "Enter a point in (x, y) format: (4, 4)\n"
     ]
    }
   ],
   "source": [
    "// assign the returned object from getPoint() to pt6 object\n",
    "Point pt6 = getPoint();"
   ]
  },
  {
   "cell_type": "code",
   "execution_count": 23,
   "metadata": {},
   "outputs": [
    {
     "name": "stdout",
     "output_type": "stream",
     "text": [
      "(4, 4)"
     ]
    }
   ],
   "source": [
    "printPoint(pt6);"
   ]
  },
  {
   "cell_type": "markdown",
   "metadata": {},
   "source": [
    "## 11.7 Array of structs\n",
    "- if more than one similar records/structs need to be stored\n",
    "    - we can use array of struct type\n",
    "- let's say we need to store a bunch of points in memory\n",
    "    - array of points is a natural choice"
   ]
  },
  {
   "cell_type": "code",
   "execution_count": 24,
   "metadata": {},
   "outputs": [],
   "source": [
    "// declare and initialize array\n",
    "Point points[] = {{1, 2}, {3, 4}, {6, 7}, {-1, -1}, {0, 0}};"
   ]
  },
  {
   "cell_type": "code",
   "execution_count": 26,
   "metadata": {},
   "outputs": [],
   "source": [
    "// declare array of points\n",
    "Point points1[2];"
   ]
  },
  {
   "cell_type": "code",
   "execution_count": 27,
   "metadata": {},
   "outputs": [
    {
     "name": "stdout",
     "output_type": "stream",
     "text": [
      "(1, 2)"
     ]
    }
   ],
   "source": [
    "// accessing point element in array\n",
    "printPoint(points[0]);"
   ]
  },
  {
   "cell_type": "code",
   "execution_count": 28,
   "metadata": {},
   "outputs": [
    {
     "name": "stdout",
     "output_type": "stream",
     "text": [
      "first point's x = 1\n"
     ]
    }
   ],
   "source": [
    "// accessing point element's member in array\n",
    "cout << \"first point's x = \" << points[0].x << endl;"
   ]
  },
  {
   "cell_type": "code",
   "execution_count": 29,
   "metadata": {},
   "outputs": [
    {
     "name": "stdout",
     "output_type": "stream",
     "text": [
      "Enter a point in (x, y) format: (-3, -3)\n"
     ]
    }
   ],
   "source": [
    "// assiging values to array\n",
    "points1[0] = getPoint();"
   ]
  },
  {
   "cell_type": "code",
   "execution_count": 30,
   "metadata": {},
   "outputs": [
    {
     "name": "stdout",
     "output_type": "stream",
     "text": [
      "Enter a point in (x, y) format: (-4, -4)\n"
     ]
    }
   ],
   "source": [
    "points1[1] = getPoint();"
   ]
  },
  {
   "cell_type": "markdown",
   "metadata": {},
   "source": [
    "## 11.8 Array in struct\n",
    "- array of any type can be used as a member of a struct\n",
    "- if there are several members of same types that don't need their own names, we can use an array member\n",
    "- having each member their own identifier makes program more readable and struct intuitive to use"
   ]
  },
  {
   "cell_type": "code",
   "execution_count": null,
   "metadata": {},
   "outputs": [],
   "source": [
    "// let's define a structure to store student record\n",
    "struct Student {\n",
    "    string firstName;\n",
    "    char MI;\n",
    "    string lastName;\n",
    "    float test_scores[3]; // each test don't have a unique name\n",
    "    string pri_contact_fName;\n",
    "    char pri_contact_MI;\n",
    "    string pri_contact_lName;\n",
    "    bool semester_finished[2]; // semesters though have names Freshman Fall, etc.; we can use 1st, 2nd etc.\n",
    "};"
   ]
  },
  {
   "cell_type": "code",
   "execution_count": 4,
   "metadata": {},
   "outputs": [],
   "source": [
    "// declaration of st1\n",
    "Student st1;"
   ]
  },
  {
   "cell_type": "code",
   "execution_count": 5,
   "metadata": {},
   "outputs": [],
   "source": [
    "st1.firstName = \"John\";"
   ]
  },
  {
   "cell_type": "code",
   "execution_count": 6,
   "metadata": {},
   "outputs": [],
   "source": [
    "// accessing an array member\n",
    "// NOTE: array can be accessed one element at a time\n",
    "st1.test_scores[0] = 100;\n",
    "st1.test_scores[1] = 95;"
   ]
  },
  {
   "cell_type": "code",
   "execution_count": 7,
   "metadata": {},
   "outputs": [],
   "source": [
    "// accessing another array member\n",
    "st1.semester_finished[0] = true;\n",
    "st1.semester_finished[1] = false;"
   ]
  },
  {
   "cell_type": "code",
   "execution_count": 8,
   "metadata": {},
   "outputs": [],
   "source": [
    "// instantiate and initialize\n",
    "// Note the order of values and how each member is initialized based on its type\n",
    "Student st2 = {\"Jane\", 'A', \"Smith\", {0, 0, 0}, \"Jim\", 'J', \"Smith\", {false, false}};"
   ]
  },
  {
   "cell_type": "markdown",
   "metadata": {},
   "source": [
    "## 11.9 Struct in another struct\n",
    "- any struct type can be used as a member type in another struct\n",
    "- in Student structure above, firstName, MI and lastNames can be repeated for various names \n",
    "    - student name, primary contact, secondary contact, father's name, mother's name, etc.\n",
    "- we can convert the repeating group of members into its own struct type"
   ]
  },
  {
   "cell_type": "code",
   "execution_count": 2,
   "metadata": {},
   "outputs": [],
   "source": [
    "// most people have three names\n",
    "struct NameType {\n",
    "    string firstName;\n",
    "    char MI;\n",
    "    string lastName;\n",
    "};"
   ]
  },
  {
   "cell_type": "code",
   "execution_count": 3,
   "metadata": {},
   "outputs": [],
   "source": [
    "// let's redifine Student type with NameType\n",
    "struct StudentType {\n",
    "    NameType name;\n",
    "    float test_scores[3];\n",
    "    NameType primary_contact;\n",
    "    bool semester_finished[2];\n",
    "};\n",
    "// Notice how shorter the StudentType has become\n",
    "// We've not used created other name type, but just imagine each name is just one member!\n",
    "// makes the StudentType concise yet readable and intuitive"
   ]
  },
  {
   "cell_type": "code",
   "execution_count": 4,
   "metadata": {},
   "outputs": [],
   "source": [
    "// instantiate objects\n",
    "StudentType st3;"
   ]
  },
  {
   "cell_type": "code",
   "execution_count": 5,
   "metadata": {},
   "outputs": [],
   "source": [
    "// assign values to name member\n",
    "// \"name\" is a member of st3 object but it itself is a struct type object\n",
    "// keep drilling down until we come to the actual member name that stores the data\n",
    "st3.name.firstName = \"David\";\n",
    "st3.name.MI = 'A';\n",
    "st3.name.lastName = \"Johnson\";"
   ]
  },
  {
   "cell_type": "code",
   "execution_count": 9,
   "metadata": {},
   "outputs": [],
   "source": [
    "// shorter way to assign to a struct type object\n",
    "st3.name = {\"Dave\", 'A', \"Johnson\"};"
   ]
  },
  {
   "cell_type": "code",
   "execution_count": 6,
   "metadata": {},
   "outputs": [],
   "source": [
    "// create an array of student records\n",
    "StudentType students[2];"
   ]
  },
  {
   "cell_type": "code",
   "execution_count": 15,
   "metadata": {},
   "outputs": [],
   "source": [
    "students[0] = st3;"
   ]
  },
  {
   "cell_type": "code",
   "execution_count": 16,
   "metadata": {},
   "outputs": [],
   "source": [
    "// access member of array and member of struct\n",
    "students[0].semester_finished[0] = true;"
   ]
  },
  {
   "cell_type": "markdown",
   "metadata": {},
   "source": [
    "## 11.10 Exercises\n",
    "\n",
    "1. Write a program that computes distance between two points in Cartesian coordinates.\n",
    "    - use struct to represent Point\n",
    "    - prompt user to enter two points\n",
    "    - use as many function(s) as possible\n",
    "    - write at least 3 test cases for each computing functions\n",
    "    - program continues to run until user wants to quit\n",
    "    - most of the part is done in Jupyter Notebook demo\n",
    "    \n",
    "    \n",
    "2. Write a program to compute area and circumference of a circle using struct.\n",
    "    - use struct to represent Circle\n",
    "    - prompt user to enter radius of a circle\n",
    "    - use as many function(s) as possible\n",
    "    - write at least 3 test cases for each computing functions\n",
    "    - program continues to run until user wants to quit\n",
    "    \n",
    "\n",
    "3. Write a program to compute area and perimeter of a rectangle using struct.\n",
    "    - use struct to represent Rectangle\n",
    "    - prompt user to enter length and width of a rectangle\n",
    "    - use as many function(s) as possible\n",
    "    - write at least 3 test cases for each computing functions\n",
    "    - program continues to run until user wants to quit\n",
    "    \n",
    "    \n",
    "4. Write a program to compute area and perimeter of a triangle given 3 sides.\n",
    "    - use struct to represent Triangle\n",
    "    - prompt user to enter 3 sides of a triangle\n",
    "    - use as many function(s) as possible\n",
    "    - write at least 3 test cases for each computing functions\n",
    "    - program continues to run until user wants to quit"
   ]
  },
  {
   "cell_type": "code",
   "execution_count": 1,
   "metadata": {},
   "outputs": [],
   "source": [
    "// Sample solution for #3\n",
    "// using incremental development\n",
    "// using functions as possible to break the problem\n",
    "#include <iostream>\n",
    "#include <cmath>\n",
    "#include <string>\n",
    "#include <cassert>\n",
    "#include <sstream>\n",
    "#include <iomanip>\n",
    "\n",
    "using namespace std;"
   ]
  },
  {
   "cell_type": "code",
   "execution_count": 2,
   "metadata": {},
   "outputs": [],
   "source": [
    "// use struct to represent Triangle\n",
    "// could be a templated struct\n",
    "struct Triangle {\n",
    "    float side1, side2, side3;\n",
    "    // can be an array\n",
    "    // float sides[3];\n",
    "};"
   ]
  },
  {
   "cell_type": "code",
   "execution_count": 3,
   "metadata": {},
   "outputs": [],
   "source": [
    "// function to check if 3 sides form a triangle\n",
    "bool validTriangle(float s1, float s2, float s3) {\n",
    "    // sum of every pair must be greater than the third\n",
    "    return (s1+s2 > s3 && (s2+s3 > s1) && (s1+s3 > s2))? true: false;\n",
    "}"
   ]
  },
  {
   "cell_type": "code",
   "execution_count": 4,
   "metadata": {},
   "outputs": [],
   "source": [
    "void test_validTriangle() {\n",
    "    assert(validTriangle(2, 3, 4) == true);\n",
    "    assert(validTriangle(1, 2, 3) == false);\n",
    "    assert(validTriangle(4, 5, 10) == false);\n",
    "    cerr << \"all test cases passed for validTriangle()\\n\";\n",
    "}"
   ]
  },
  {
   "cell_type": "code",
   "execution_count": 5,
   "metadata": {},
   "outputs": [
    {
     "name": "stderr",
     "output_type": "stream",
     "text": [
      "all test cases passed for validTriangle()\n"
     ]
    }
   ],
   "source": [
    "test_validTriangle()"
   ]
  },
  {
   "cell_type": "code",
   "execution_count": 6,
   "metadata": {},
   "outputs": [],
   "source": [
    "// function prompts user to enter 3 sides of a triangle\n",
    "// creates and returns a triangle\n",
    "Triangle getTriangle() {\n",
    "    float s1, s2, s3;\n",
    "    // input validation\n",
    "    do {\n",
    "        cout << \"Enter three sides of a triangle separated by space: \";\n",
    "        cin >> s1 >> s2 >> s3;\n",
    "        // check if three sides form a triangle\n",
    "        if (!validTriangle(s1, s2, s3))\n",
    "            cout << \"3 sides do not form a traingle.\\n\"\n",
    "                << \"Sum of any 2 sides must be greater than the third!\\n\";\n",
    "        else\n",
    "            break;\n",
    "    } while(true);\n",
    "    return Triangle({s1, s2, s3});\n",
    "}"
   ]
  },
  {
   "cell_type": "code",
   "execution_count": 7,
   "metadata": {},
   "outputs": [],
   "source": [
    "// let's manually test getTriangle\n",
    "Triangle t1;"
   ]
  },
  {
   "cell_type": "code",
   "execution_count": 8,
   "metadata": {},
   "outputs": [
    {
     "name": "stdout",
     "output_type": "stream",
     "text": [
      "Enter three sides of a triangle separated by space: \n",
      "1 2 3\n",
      "3 sides do not form a traingle.\n",
      "Sum of any 2 sides must be greater than the third!\n",
      "Enter three sides of a triangle separated by space: 3 4 5\n"
     ]
    }
   ],
   "source": [
    "t1 = getTriangle();"
   ]
  },
  {
   "cell_type": "code",
   "execution_count": 11,
   "metadata": {},
   "outputs": [
    {
     "name": "stderr",
     "output_type": "stream",
     "text": [
      "\u001b[1minput_line_19:1:7: \u001b[0m\u001b[0;1;31merror: \u001b[0m\u001b[1mredefinition of 'trianglePerimeter'\u001b[0m\n",
      "float trianglePerimeter(const Triangle & t) {\n",
      "\u001b[0;1;32m      ^\n",
      "\u001b[0m\u001b[1minput_line_17:1:7: \u001b[0m\u001b[0;1;30mnote: \u001b[0mprevious definition is here\u001b[0m\n",
      "float trianglePerimeter(const Triangle & t) {\n",
      "\u001b[0;1;32m      ^\n",
      "\u001b[0m"
     ]
    },
    {
     "ename": "Interpreter Error",
     "evalue": "",
     "output_type": "error",
     "traceback": [
      "Interpreter Error: "
     ]
    }
   ],
   "source": [
    "float trianglePerimeter(const Triangle & t) {\n",
    "    return t.side1 + t.side2 + t.side3;\n",
    "}"
   ]
  },
  {
   "cell_type": "code",
   "execution_count": 12,
   "metadata": {},
   "outputs": [
    {
     "name": "stderr",
     "output_type": "stream",
     "text": [
      "\u001b[1minput_line_20:2:6: \u001b[0m\u001b[0;1;31merror: \u001b[0m\u001b[1mredefinition of 'test_trianglePerimeter'\u001b[0m\n",
      "void test_trianglePerimeter() {\n",
      "\u001b[0;1;32m     ^\n",
      "\u001b[0m\u001b[1minput_line_18:2:6: \u001b[0m\u001b[0;1;30mnote: \u001b[0mprevious definition is here\u001b[0m\n",
      "void test_trianglePerimeter() {\n",
      "\u001b[0;1;32m     ^\n",
      "\u001b[0m"
     ]
    },
    {
     "ename": "Interpreter Error",
     "evalue": "",
     "output_type": "error",
     "traceback": [
      "Interpreter Error: "
     ]
    }
   ],
   "source": [
    "// write 3 test cases for trianglePerimeter\n",
    "void test_trianglePerimeter() {\n",
    "    assert(trianglePerimeter(Triangle({2, 3, 4})) == 9);\n",
    "    assert(trianglePerimeter(Triangle({3, 4, 5})) == 12);\n",
    "    assert(trianglePerimeter(Triangle({2.5, 3.5, 4.5})) == 10.5);\n",
    "    cerr << \"all test cases passed for trianglePerimeter()\\n\";\n",
    "}"
   ]
  },
  {
   "cell_type": "code",
   "execution_count": 13,
   "metadata": {},
   "outputs": [
    {
     "name": "stderr",
     "output_type": "stream",
     "text": [
      "all test cases passed for trianglePerimeter()\n"
     ]
    }
   ],
   "source": [
    "test_trianglePerimeter();"
   ]
  },
  {
   "cell_type": "code",
   "execution_count": 14,
   "metadata": {},
   "outputs": [],
   "source": [
    "// function to compute area of a triangle\n",
    "float triangleArea(const Triangle & t) {\n",
    "    // use heron's formula: https://www.mathsisfun.com/geometry/herons-formula.html\n",
    "    float s = trianglePerimeter(t)/2;\n",
    "    return sqrt(s*(s-t.side1)*(s-t.side2)*(s-t.side3));\n",
    "}"
   ]
  },
  {
   "cell_type": "code",
   "execution_count": 15,
   "metadata": {},
   "outputs": [],
   "source": [
    "// wrapper function to test if two floating numbers are equal upto precision decimal points\n",
    "void assertAlmostEqual(float value1, float value2, int precision) {\n",
    "    ostringstream oss;\n",
    "    // create output string stream with precision for floating-point values\n",
    "    oss << fixed << setprecision(precision) << value1 << \" \" << value2;\n",
    "    // create input string stream from output string stream\n",
    "    istringstream iss(oss.str());\n",
    "    float v1, v2;\n",
    "    // extract the values as float\n",
    "    iss >> v1 >> v2;\n",
    "    assert(v1 == v2);\n",
    "}"
   ]
  },
  {
   "cell_type": "code",
   "execution_count": 16,
   "metadata": {},
   "outputs": [],
   "source": [
    "// write 3 test cases for triangleArea\n",
    "void test_triangleArea() {\n",
    "    assert(triangleArea(Triangle({3, 4, 5})) == 6.0);\n",
    "    float area = triangleArea({2, 4, 5}); // coersion of 3 values into Triangle type\n",
    "    assertAlmostEqual(area, 3.799671038392666, 4); // accuracy upto 4 decimal points\n",
    "    assertAlmostEqual(triangleArea({3, 4, 6}), 5.3326822, 4);\n",
    "    cerr << \"all test cases passed for triangleArea()\\n\";\n",
    "}"
   ]
  },
  {
   "cell_type": "code",
   "execution_count": 17,
   "metadata": {},
   "outputs": [
    {
     "name": "stderr",
     "output_type": "stream",
     "text": [
      "all test cases passed for triangleArea()\n"
     ]
    }
   ],
   "source": [
    "test_triangleArea();"
   ]
  },
  {
   "cell_type": "code",
   "execution_count": 18,
   "metadata": {},
   "outputs": [],
   "source": [
    "// function to calculate and print the result on triangle\n",
    "void printResult(const Triangle & t) {\n",
    "    cout << \"Triangle info: \\n\"\n",
    "         << \"3 sides length: \" << t.side1 << \" \" << t.side2 << \" \" << t.side3\n",
    "         << \"\\narea: \" << triangleArea(t) \n",
    "         << \"\\nperimeter: \" << trianglePerimeter(t);\n",
    "         \n",
    "}"
   ]
  },
  {
   "cell_type": "code",
   "execution_count": 19,
   "metadata": {},
   "outputs": [],
   "source": [
    "// complete program\n",
    "void program() {\n",
    "    Triangle t;\n",
    "    string cont;\n",
    "    do {\n",
    "        t = getTriangle();\n",
    "        printResult(t);\n",
    "        cout << \"\\nWant to enter another triangle? [yes|y]: \";\n",
    "        cin >> cont;\n",
    "        if (cont == \"yes\" || cont == \"y\") continue;\n",
    "        else break;\n",
    "    }while(true);\n",
    "    cout << \"Good bye...\";\n",
    "}"
   ]
  },
  {
   "cell_type": "code",
   "execution_count": 20,
   "metadata": {},
   "outputs": [
    {
     "name": "stdout",
     "output_type": "stream",
     "text": [
      "Enter three sides of a triangle separated by space: 1 2 3\n",
      "3 sides do not form a traingle.\n",
      "Sum of any 2 sides must be greater than the third!\n",
      "Enter three sides of a triangle separated by space: 4 5 6\n",
      "Triangle info: \n",
      "3 sides length: 4 5 6\n",
      "area: 9.92157\n",
      "perimeter: 15\n",
      "Want to enter another triangle? [yes|y]: yes\n",
      "Enter three sides of a triangle separated by space: 4 5 6\n",
      "Triangle info: \n",
      "3 sides length: 4 5 6\n",
      "area: 9.92157\n",
      "perimeter: 15\n",
      "Want to enter another triangle? [yes|y]: no\n",
      "Good bye..."
     ]
    }
   ],
   "source": [
    "program();"
   ]
  },
  {
   "cell_type": "markdown",
   "metadata": {},
   "source": [
    "#### see complete program solution for exercise 4 at [demo_programs/Ch11/triangle.cpp](demo_programs/Ch11/triangle.cpp)\n",
    "\n",
    "\n",
    "5. A Grade Book:\n",
    "    - Write a C++ program that let's professors keep track of students grades with the following requirements:\n",
    "    - program must use struct to keep track of students grades (at least 3 grades)\n",
    "    - program prompts user to enter students information as many as they wish\n",
    "    - program calculates avearge grade and the letter grade (A-F) based on the average grade\n",
    "    - program sorts the student records based on grade in non-increasing order (highest to lowest)\n",
    "    \n",
    "    \n",
    "6. Airline Reservation System:\n",
    "    - Write a C++ menu-driven CLI-based program that let's an airline company manage airline reservation on a single aircraft they own with the following requirements:\n",
    "    - aircraft has 10 rows with 2 seat on each row\n",
    "    - program provieds menu option to display all the avaialable seats\n",
    "    - program provides menu option to let user pick any available seat\n",
    "    - program provides menu option to creates total sales report\n",
    "    - program provides menu option to update price of any seat"
   ]
  },
  {
   "cell_type": "markdown",
   "metadata": {},
   "source": [
    "## Summary\n",
    "- this chapter covered a new concept of creating user-defined type using struct\n",
    "- saw many examples of struct types and objects instantiated with those types\n",
    "- learned that array can be a member of struct\n",
    "- learned that a larger number of records (struct type) can be stored in an array\n",
    "- learned about out-of-the-box aggregate operations on struct objects\n",
    "    - assignment (=) is the only available aggregate operation!\n",
    "- learned how to pass struct objects to functions and return from them as well\n",
    "- exercises and a sample solutions using incremental development technique"
   ]
  },
  {
   "cell_type": "code",
   "execution_count": null,
   "metadata": {},
   "outputs": [],
   "source": []
  }
 ],
 "metadata": {
  "kernelspec": {
   "display_name": "C++17",
   "language": "C++17",
   "name": "xcpp17"
  },
  "language_info": {
   "codemirror_mode": "text/x-c++src",
   "file_extension": ".cpp",
   "mimetype": "text/x-c++src",
   "name": "c++",
   "version": "17"
  }
 },
 "nbformat": 4,
 "nbformat_minor": 2
}
