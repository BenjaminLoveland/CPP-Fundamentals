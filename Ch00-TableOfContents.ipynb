{
 "cells": [
  {
   "cell_type": "markdown",
   "metadata": {},
   "source": [
    "# C++ Fundamentals\n",
    "- partially based on [http://www.greenteapress.com/thinkcpp/thinkCScpp.pdf](http://www.greenteapress.com/thinkcpp/thinkCScpp.pdf)\n",
    "\n",
    "## Contents\n",
    "1. [**Introduction**](./Ch01-Introduction.ipynb)\n",
    "2. [**Data, Variables and Operations**](./Ch02-DataVariablesAndOperations.ipynb)\n",
    "3. [**Standard Input and Output**](./Ch03-StdInputOutput.ipynb)\n",
    "4. [**Libraries and Functions**](./Ch04-LibraryAndFunction.ipynb)\n",
    "5. [**User Defined Functions**](./Ch05-UserDefinedFunctions.ipynb)\n",
    "6. [**Conditional Execution**](./Ch06-ConditionalExecution.ipynb)\n",
    "7. [**Iteration**](./Ch07-Iteration.ipynb)\n",
    "8. [**Pointers**](./Ch08-Pointers.ipynb)\n",
    "9. [**Strings**](./Ch09-Strings.ipynb)\n",
    "10. [**Arrays**](./Ch10-Arrays.ipynb)\n",
    "11. [**Structures**](./Ch11-Structures.ipynb)\n",
    "12. [**Vectors**](./Ch12-Vectors.ipynb)\n",
    "13. [**File Input and Output**](./Ch13-FileIO.ipynb)\n",
    "14. [**Maps**](./Ch14-Maps.ipynb)"
   ]
  },
  {
   "cell_type": "code",
   "execution_count": null,
   "metadata": {},
   "outputs": [],
   "source": []
  }
 ],
 "metadata": {
  "kernelspec": {
   "display_name": "C++17",
   "language": "C++17",
   "name": "xcpp17"
  },
  "language_info": {
   "codemirror_mode": "text/x-c++src",
   "file_extension": ".cpp",
   "mimetype": "text/x-c++src",
   "name": "c++",
   "version": "17"
  }
 },
 "nbformat": 4,
 "nbformat_minor": 2
}
