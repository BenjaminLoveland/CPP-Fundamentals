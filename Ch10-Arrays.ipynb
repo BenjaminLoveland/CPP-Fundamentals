{
 "cells": [
  {
   "cell_type": "markdown",
   "metadata": {},
   "source": [
    "# 10 Arrays\n",
    "\n",
    "## Topics\n",
    "- C-array introduction\n",
    "- static and dynamic arrays\n",
    "- array and pointers and similarity\n",
    "- passing arrays to functions\n",
    "- aggregate operations on arrays\n",
    "- C-string - array of characters\n",
    "- buffer overflow\n",
    "- sorting data"
   ]
  },
  {
   "cell_type": "markdown",
   "metadata": {},
   "source": [
    "## 10.1 Array\n",
    "- range of a particular type of thing\n",
    "- we've used single variable to store single data/value\n",
    "- large programs typically deal with a large number of data values that must be stored in memory\n",
    "    e.g. sorting data values.\n",
    "- not practicle to declare a large number of values to store large number of values\n",
    "- array and vectors are containers used to store a large number of similar values under one name\n",
    "- usually a large number of relevant and similar types are stored in an array or a vector\n",
    "- array is used in C and also works in C++\n",
    "- vector is a better choice that takes care of all the common operations\n",
    "    - similar to C vs C++ string\n",
    "- you many not have to use C-array in C++ to solve any problems\n",
    "    - however, understanding the C-array helps understand many C++ concepts that relies on C-array\n",
    "- there are two types of array\n",
    "    1. static array\n",
    "    2. dynamic array\n",
    "    \n",
    "## 10.2 Static array\n",
    "- the size of the array is determined during run-time and is fixed\n",
    "- syntax to declare a static array\n",
    "```cpp\n",
    "type arrayName[size];\n",
    "```\n",
    "- size tells the compiler how many of similar type of values can be stored in the arrayName\n",
    "- size must be literal or constant integer\n",
    "- the following figure depicts what happens in computer memory when an array of int is declared\n",
    "<img src=\"resources/array.png\" width=\"50%\">\n",
    "- each member of the array is called an element\n",
    "- each element has same type and name that only differs by its index\n",
    "- index also called offset starts from 0\n",
    "\n",
    "### visualize array using [pythontutor.com](http://pythontutor.com/cpp.html#code=//%20pass%20by%20value%20demo%0A%23include%20%3Ciostream%3E%0Ausing%20namespace%20std%3B%0A%0Aint%20main%28%29%20%7B%0A%20%20int%20nums%5B5%5D%3B%0A%20%20nums%5B0%5D%20%3D%2010%3B%0A%20%20nums%5B1%5D%20%3D%2020%3B%0A%20%20nums%5B2%5D%20%3D%2030%3B%0A%20%20nums%5B3%5D%20%3D%2040%3B%0A%20%20nums%5B4%5D%20%3D%2050%3B%0A%20%20nums%5B1%5D%20%3D%20nums%5B2%5D%20%2B%20nums%5B3%5D%3B%0A%20%20for%28int%20i%3D0%3B%20i%3C5%3B%20i%2B%2B%29%0A%20%20%20%20cout%20%3C%3C%20nums%5Bi%5D%20%3C%3C%20endl%3B%0A%20%20return%200%3B%0A%7D&curInstr=0&mode=display&origin=opt-frontend.js&py=cpp&rawInputLstJSON=%5B%5D)"
   ]
  },
  {
   "cell_type": "code",
   "execution_count": 2,
   "metadata": {},
   "outputs": [],
   "source": [
    "#include <iostream>\n",
    "#include <string>\n",
    "\n",
    "using namespace std;"
   ]
  },
  {
   "cell_type": "code",
   "execution_count": 1,
   "metadata": {},
   "outputs": [],
   "source": [
    "// nums array to store 5 integers\n",
    "int nums[5];"
   ]
  },
  {
   "cell_type": "markdown",
   "metadata": {},
   "source": [
    "### accessing member elements\n",
    "- members can be access and used ONLY one element per operation\n",
    "- no aggregate operation is allowed on the array variable as a whole\n",
    "    - e.g. copy one array into another; printing the whole array, etc."
   ]
  },
  {
   "cell_type": "code",
   "execution_count": 2,
   "metadata": {},
   "outputs": [],
   "source": [
    "// access and store values into each element\n",
    "nums[0] = 10;\n",
    "nums[1] = 20;\n",
    "nums[2] = 30;\n",
    "nums[3] = 40;\n",
    "nums[4] = 50;"
   ]
  },
  {
   "cell_type": "code",
   "execution_count": 6,
   "metadata": {},
   "outputs": [
    {
     "name": "stdout",
     "output_type": "stream",
     "text": [
      "10"
     ]
    }
   ],
   "source": [
    "// access some element\n",
    "cout << nums[0];"
   ]
  },
  {
   "cell_type": "code",
   "execution_count": 8,
   "metadata": {},
   "outputs": [],
   "source": [
    "// each element can be used like a single variable\n",
    "nums[1] = nums[2] + nums[3];"
   ]
  },
  {
   "cell_type": "code",
   "execution_count": 9,
   "metadata": {},
   "outputs": [
    {
     "name": "stdout",
     "output_type": "stream",
     "text": [
      "0 -> 10\n",
      "1 -> 70\n",
      "2 -> 30\n",
      "3 -> 40\n",
      "4 -> 50\n"
     ]
    }
   ],
   "source": [
    "// traverse an array\n",
    "for(int i=0; i<5; i++) {\n",
    "    cout << i << \" -> \" << nums[i] << endl;\n",
    "}"
   ]
  },
  {
   "cell_type": "code",
   "execution_count": 10,
   "metadata": {},
   "outputs": [],
   "source": [
    "// declaring and initializing an array\n",
    "// size is optional when initialized with values\n",
    "float grades[] = {90.5, 34.5, 56, 81, 99, 100, 89.9};"
   ]
  },
  {
   "cell_type": "code",
   "execution_count": null,
   "metadata": {},
   "outputs": [],
   "source": []
  },
  {
   "cell_type": "markdown",
   "metadata": {},
   "source": [
    "## 10.3 Member functions\n",
    "- C-array is so primitive that it doesn't come with any useful operations or member functions\n",
    "- implementing any array operation falls under programmer's responsibility!\n",
    "- e.g. how can you quickly tell the size or length of an array?"
   ]
  },
  {
   "cell_type": "code",
   "execution_count": 12,
   "metadata": {},
   "outputs": [],
   "source": [
    "// finding the size of the array\n",
    "size_t arr_size = sizeof(grades)/float(sizeof(float));"
   ]
  },
  {
   "cell_type": "code",
   "execution_count": 13,
   "metadata": {},
   "outputs": [
    {
     "name": "stdout",
     "output_type": "stream",
     "text": [
      "array's size or length = 7"
     ]
    }
   ],
   "source": [
    "cout << \"array's size or length = \" << arr_size;"
   ]
  },
  {
   "cell_type": "code",
   "execution_count": 14,
   "metadata": {},
   "outputs": [
    {
     "name": "stdout",
     "output_type": "stream",
     "text": [
      "last grade = 89.9\n"
     ]
    }
   ],
   "source": [
    "cout << \"last grade = \" << grades[arr_size-1] << endl;"
   ]
  },
  {
   "cell_type": "markdown",
   "metadata": {},
   "source": [
    "### array size is fixed!\n",
    "- one has to know how many data members will be stored in a given array\n",
    "- what happens when the array is full?"
   ]
  },
  {
   "cell_type": "code",
   "execution_count": 16,
   "metadata": {},
   "outputs": [
    {
     "name": "stderr",
     "output_type": "stream",
     "text": [
      "\u001b[1minput_line_23:3:1: \u001b[0m\u001b[0;1;35mwarning: \u001b[0m\u001b[1marray index 7 is past the end of the array (which contains 7 elements) [-Warray-bounds]\u001b[0m\n",
      "grades[7] = 67;\n",
      "\u001b[0;1;32m^      ~\n",
      "\u001b[0m\u001b[1minput_line_17:4:1: \u001b[0m\u001b[0;1;30mnote: \u001b[0marray 'grades' declared here\u001b[0m\n",
      "float grades[] = {90.5, 34.5, 56, 81, 99, 100, 89.9};\n",
      "\u001b[0;1;32m^\n",
      "\u001b[0m"
     ]
    }
   ],
   "source": [
    "// grades doesn't have index 7 as the size is 7\n",
    "grades[7] = 67;"
   ]
  },
  {
   "cell_type": "markdown",
   "metadata": {},
   "source": [
    "## 10.4 Array and Pointers\n",
    "- there's a lot of similarity on how array and pointers work!\n",
    "    - they can be used interchangebly as desired"
   ]
  },
  {
   "cell_type": "code",
   "execution_count": 3,
   "metadata": {},
   "outputs": [],
   "source": [
    "int ids[] = {100, 200, 300, 400};"
   ]
  },
  {
   "cell_type": "code",
   "execution_count": 4,
   "metadata": {},
   "outputs": [],
   "source": [
    "// copy the base address of array\n",
    "// which is the address of element at index 0; which is &ids[0];\n",
    "int * ptr = ids;"
   ]
  },
  {
   "cell_type": "code",
   "execution_count": 5,
   "metadata": {},
   "outputs": [
    {
     "name": "stdout",
     "output_type": "stream",
     "text": [
      "0x11027c590 equals to 0x11027c590 equals to 0x11027c590"
     ]
    }
   ],
   "source": [
    "// print all the memory addresses\n",
    "cout << ptr << \" equals to \" << &ids[0] << \" equals to \" << ids;"
   ]
  },
  {
   "cell_type": "code",
   "execution_count": 6,
   "metadata": {},
   "outputs": [
    {
     "name": "stdout",
     "output_type": "stream",
     "text": [
      "100 equals to 100 equals to 100"
     ]
    }
   ],
   "source": [
    "// print the data\n",
    "cout << *ptr << \" equals to \" << ids[0] << \" equals to \" << *ids;"
   ]
  },
  {
   "cell_type": "code",
   "execution_count": 7,
   "metadata": {},
   "outputs": [],
   "source": [
    "// using pointers to traverse array\n",
    "// point to the second element\n",
    "ptr++;"
   ]
  },
  {
   "cell_type": "code",
   "execution_count": 8,
   "metadata": {},
   "outputs": [
    {
     "name": "stdout",
     "output_type": "stream",
     "text": [
      "200\n"
     ]
    }
   ],
   "source": [
    "cout << *ptr << endl;"
   ]
  },
  {
   "cell_type": "code",
   "execution_count": 22,
   "metadata": {},
   "outputs": [
    {
     "name": "stdout",
     "output_type": "stream",
     "text": [
      "0-> 100 == 100 == 100\n",
      "1-> 200 == 200 == 200\n",
      "2-> 300 == 300 == 300\n",
      "3-> 400 == 400 == 400\n"
     ]
    }
   ],
   "source": [
    "ptr = ids; // copy the base address\n",
    "for(int i=0; i<4; i++) {\n",
    "    cout << i << \"-> \" << *(ptr+i) << \" == \" << ptr[i] << \" == \" << ids[i] << endl;\n",
    "}"
   ]
  },
  {
   "cell_type": "markdown",
   "metadata": {},
   "source": [
    "## 10.5 Dynamic array\n",
    "- allocating array in heap memory segment using new operator\n",
    "- syntax to declare dynamic array:\n",
    "```cpp\n",
    "type * arrayName = new type[size];\n",
    "```\n",
    "- unlike static array; size can be variable\n",
    "- size can be determined during run time\n",
    "- once the dynamic array is declared, using dynamic array is same as using static array\n",
    "- dynamic memory must be deallocated to prevent from memory leak\n",
    "- syntax:\n",
    "```\n",
    "delete[] arrayName;\n",
    "```\n",
    "\n",
    "### visualize dynamic array in [pythontutor.com](http://pythontutor.com/cpp.html#code=//%20pass%20by%20value%20demo%0A%23include%20%3Ciostream%3E%0Ausing%20namespace%20std%3B%0A%0Aint%20main%28%29%20%7B%0A%20%20size_t%20arr_size%20%3D%205%3B%0A%20%20int%20*%20nums%20%3D%20new%20int%5Barr_size%5D%3B%0A%20%20nums%5B0%5D%20%3D%2010%3B%0A%20%20nums%5B1%5D%20%3D%2020%3B%0A%20%20nums%5B2%5D%20%3D%2030%3B%0A%20%20nums%5B3%5D%20%3D%2040%3B%0A%20%20nums%5B4%5D%20%3D%2050%3B%0A%20%20nums%5B1%5D%20%3D%20nums%5B2%5D%20%2B%20nums%5B3%5D%3B%0A%20%20for%28int%20i%3D0%3B%20i%3C5%3B%20i%2B%2B%29%0A%20%20%20%20cout%20%3C%3C%20nums%5Bi%5D%20%3C%3C%20endl%3B%0A%20%20return%200%3B%0A%7D&curInstr=0&mode=display&origin=opt-frontend.js&py=cpp&rawInputLstJSON=%5B%5D)"
   ]
  },
  {
   "cell_type": "code",
   "execution_count": 28,
   "metadata": {},
   "outputs": [],
   "source": [
    "size_t arr_size;"
   ]
  },
  {
   "cell_type": "code",
   "execution_count": 31,
   "metadata": {},
   "outputs": [
    {
     "name": "stdout",
     "output_type": "stream",
     "text": [
      "How many integers would you like to enter? 5\n"
     ]
    }
   ],
   "source": [
    "cout << \"How many integers would you like to enter? \";\n",
    "cin >> arr_size;"
   ]
  },
  {
   "cell_type": "code",
   "execution_count": 30,
   "metadata": {},
   "outputs": [],
   "source": [
    "int * some_array = new int[arr_size];"
   ]
  },
  {
   "cell_type": "code",
   "execution_count": 32,
   "metadata": {},
   "outputs": [
    {
     "name": "stdout",
     "output_type": "stream",
     "text": [
      "10\n",
      "20\n",
      "30\n",
      "40\n",
      "50\n"
     ]
    }
   ],
   "source": [
    "// prompt user to store 5 numbers and store them into array\n",
    "for(int i=0; i<arr_size; i++) {\n",
    "    cin >> some_array[i];\n",
    "}"
   ]
  },
  {
   "cell_type": "code",
   "execution_count": 34,
   "metadata": {},
   "outputs": [
    {
     "name": "stdout",
     "output_type": "stream",
     "text": [
      "5 10 50"
     ]
    }
   ],
   "source": [
    "// output some values\n",
    "cout << arr_size << \" \" << some_array[0] << \" \" << some_array[arr_size-1];"
   ]
  },
  {
   "cell_type": "markdown",
   "metadata": {},
   "source": [
    "## 10.6 Aggregate operations on arrays\n",
    "- array doesn't allow any aggregate operations as a whole\n",
    "    - e.g. copy one array into another; printing the whole array, etc. are arregate operations\n",
    "    \n",
    "### shallow copy\n",
    "- copying one array into another by its name copies only the base address\n",
    "    - thus creating two allias pointing to the same memory location\n",
    "- if one is modified, the other is modified as well"
   ]
  },
  {
   "cell_type": "code",
   "execution_count": 39,
   "metadata": {},
   "outputs": [],
   "source": [
    "int * copy_array = new int[arr_size];"
   ]
  },
  {
   "cell_type": "code",
   "execution_count": 40,
   "metadata": {},
   "outputs": [],
   "source": [
    "// try to copy some_array into copy_array as a whole\n",
    "copy_array = some_array;\n",
    "// the concept"
   ]
  },
  {
   "cell_type": "code",
   "execution_count": 41,
   "metadata": {},
   "outputs": [
    {
     "name": "stdout",
     "output_type": "stream",
     "text": [
      "10 == 10"
     ]
    }
   ],
   "source": [
    "// let's see some values\n",
    "cout << some_array[0] << \" == \" << copy_array[0];"
   ]
  },
  {
   "cell_type": "code",
   "execution_count": 42,
   "metadata": {},
   "outputs": [],
   "source": [
    "// let's update some_array\n",
    "some_array[0] = 100;"
   ]
  },
  {
   "cell_type": "code",
   "execution_count": 43,
   "metadata": {},
   "outputs": [
    {
     "name": "stdout",
     "output_type": "stream",
     "text": [
      "100 == 100"
     ]
    }
   ],
   "source": [
    "// now, let's see the value of copy_array[0]\n",
    "cout << some_array[0] << \" == \" << copy_array[0];"
   ]
  },
  {
   "cell_type": "markdown",
   "metadata": {},
   "source": [
    "## 10.7 Passing array to function\n",
    "- arrays (both static and dynamic) can be passed to a function\n",
    "- array provides a very efficient way to pass a larger number of similar values without copying them\n",
    "    - pass-by reference is by default and the only way!\n",
    "    - array can't be pass-by value"
   ]
  },
  {
   "cell_type": "code",
   "execution_count": 35,
   "metadata": {},
   "outputs": [],
   "source": [
    "// since actual size of the array is not easy to determine,\n",
    "// size of the array is also passed as an argument\n",
    "void updateArray(int array[], int size) {\n",
    "    for(int i = 0; i<size; i++) {\n",
    "        array[i] *= 2; // simply double the value of each element\n",
    "    }\n",
    "}"
   ]
  },
  {
   "cell_type": "code",
   "execution_count": 36,
   "metadata": {},
   "outputs": [],
   "source": [
    "// print array function; notice passing pointer\n",
    "void printArray(int * array, int size) {\n",
    "    cout << \"{\";\n",
    "    for(int i=0; i<size; i++)\n",
    "        cout << array[i] << \", \";\n",
    "    cout << \"}\\n\";\n",
    "}"
   ]
  },
  {
   "cell_type": "code",
   "execution_count": 46,
   "metadata": {},
   "outputs": [
    {
     "name": "stdout",
     "output_type": "stream",
     "text": [
      "{200, 40, 60, 80, 100, }\n"
     ]
    }
   ],
   "source": [
    "printArray(some_array, arr_size);"
   ]
  },
  {
   "cell_type": "code",
   "execution_count": 44,
   "metadata": {},
   "outputs": [],
   "source": [
    "updateArray(some_array, arr_size);"
   ]
  },
  {
   "cell_type": "code",
   "execution_count": 45,
   "metadata": {},
   "outputs": [
    {
     "name": "stdout",
     "output_type": "stream",
     "text": [
      "{200, 40, 60, 80, 100, }\n"
     ]
    }
   ],
   "source": [
    "printArray(some_array, arr_size);"
   ]
  },
  {
   "cell_type": "markdown",
   "metadata": {},
   "source": [
    "## 10.8 Returning array from function\n",
    "- since assignment operator= is not allowed on array, returning an array is not possible"
   ]
  },
  {
   "cell_type": "markdown",
   "metadata": {},
   "source": [
    "## 10.9 C-string\n",
    "- C language doesn't have a type defiend to work with string like in C++\n",
    "- now that we understand pointer and C-array, let's revisit C-string\n",
    "- C-string is array of characters that ends with a NULL character '\\0'"
   ]
  },
  {
   "cell_type": "code",
   "execution_count": 47,
   "metadata": {},
   "outputs": [],
   "source": [
    "// declare and initialization is easier\n",
    "// null character is automatically added at the end!\n",
    "char name[] = \"John Smith\";"
   ]
  },
  {
   "cell_type": "code",
   "execution_count": 48,
   "metadata": {},
   "outputs": [],
   "source": [
    "// once declared; working with C-string is pain\n",
    "// work one character at a time!\n",
    "char f_name[10];"
   ]
  },
  {
   "cell_type": "code",
   "execution_count": 60,
   "metadata": {},
   "outputs": [],
   "source": [
    "f_name[0] = 'J';\n",
    "f_name[1] = 'a';\n",
    "f_name[2] = 'k';\n",
    "f_name[3] = 'e'; \n",
    "f_name[4] = '\\0';"
   ]
  },
  {
   "cell_type": "code",
   "execution_count": 57,
   "metadata": {},
   "outputs": [
    {
     "name": "stdout",
     "output_type": "stream",
     "text": [
      "Jake"
     ]
    }
   ],
   "source": [
    "// C-string must end with null-character '\\0'\n",
    "cout << f_name;"
   ]
  },
  {
   "cell_type": "markdown",
   "metadata": {},
   "source": [
    "## 10.10 Array of strings\n",
    "- one can declare array of any type (fundamental and advanced)"
   ]
  },
  {
   "cell_type": "code",
   "execution_count": 1,
   "metadata": {},
   "outputs": [],
   "source": [
    "#include <iostream>\n",
    "#include <string>\n",
    "\n",
    "using namespace std;"
   ]
  },
  {
   "cell_type": "code",
   "execution_count": 2,
   "metadata": {},
   "outputs": [],
   "source": [
    "// array of C++ string\n",
    "string names[] = {\"John\", \"Jake\", \"Dave\", \"Jenny\"};"
   ]
  },
  {
   "cell_type": "code",
   "execution_count": 3,
   "metadata": {},
   "outputs": [
    {
     "name": "stdout",
     "output_type": "stream",
     "text": [
      "John first char = J"
     ]
    }
   ],
   "source": [
    "// first element and first character of first element\n",
    "cout << names[0] << \" first char = \" << names[0][0];"
   ]
  },
  {
   "cell_type": "markdown",
   "metadata": {},
   "source": [
    "## 10.11 Array of char *\n",
    "- array of C-array\n",
    "- similar to array of C++ string conceptually; harder to work with however!\n",
    "- must use as a parameter for **main(int argc, char* argv[])**"
   ]
  },
  {
   "cell_type": "code",
   "execution_count": 4,
   "metadata": {},
   "outputs": [],
   "source": [
    "// create array of char * that stores 4 c-string\n",
    "char * stuff[4];"
   ]
  },
  {
   "cell_type": "code",
   "execution_count": 5,
   "metadata": {},
   "outputs": [],
   "source": [
    "char val1[] = \"ball\";"
   ]
  },
  {
   "cell_type": "code",
   "execution_count": 6,
   "metadata": {},
   "outputs": [
    {
     "name": "stderr",
     "output_type": "stream",
     "text": [
      "\u001b[1minput_line_13:3:15: \u001b[0m\u001b[0;1;35mwarning: \u001b[0m\u001b[1mISO C++11 does not allow conversion from string literal to 'char *' [-Wwritable-strings]\u001b[0m\n",
      "char * val3 = \"cat\";\n",
      "\u001b[0;1;32m              ^\n",
      "\u001b[0m\u001b[1minput_line_13:4:15: \u001b[0m\u001b[0;1;35mwarning: \u001b[0m\u001b[1mISO C++11 does not allow conversion from string literal to 'char *' [-Wwritable-strings]\u001b[0m\n",
      "char * val4 = \"dog\";\n",
      "\u001b[0;1;32m              ^\n",
      "\u001b[0m"
     ]
    }
   ],
   "source": [
    "char val2[] = \"test\";\n",
    "char * val3 = \"cat\";\n",
    "char * val4 = \"dog\";"
   ]
  },
  {
   "cell_type": "code",
   "execution_count": 7,
   "metadata": {},
   "outputs": [],
   "source": [
    "stuff[0] = val1;\n",
    "stuff[1] = val2;\n",
    "stuff[2] = val3;\n",
    "stuff[3] = val4;"
   ]
  },
  {
   "cell_type": "markdown",
   "metadata": {},
   "source": [
    "### passing array of char * to function"
   ]
  },
  {
   "cell_type": "code",
   "execution_count": 8,
   "metadata": {},
   "outputs": [],
   "source": [
    "// write a function similar to main\n",
    "int my_main(int argc, char* argv[]) {\n",
    "    cout << \"argc = \" << argc << endl;\n",
    "    for(int i=0; i< argc; i++) {\n",
    "        cout << argv[i] << \" \";\n",
    "        if (string(argv[i]) == \"test\")\n",
    "            cout << \" test is found in argv[]\\n\";\n",
    "    }\n",
    "    return 0;\n",
    "}"
   ]
  },
  {
   "cell_type": "code",
   "execution_count": 9,
   "metadata": {},
   "outputs": [
    {
     "name": "stdout",
     "output_type": "stream",
     "text": [
      "argc = 4\n",
      "ball test  test is found in argv[]\n",
      "cat dog "
     ]
    }
   ],
   "source": [
    "my_main(4, stuff);"
   ]
  },
  {
   "cell_type": "markdown",
   "metadata": {},
   "source": [
    "## 10.12 Buffer-overflow\n",
    "- C-string is also called buffer\n",
    "- if C-string is not used correctly, it'll lead to buffer overflow security flaw\n",
    "- if data is copied to c-string without checking the bounds, it may overflow!\n",
    "- one of the most dangerous security flaw that lets hackers completely control the vulnerable program and computer\n",
    "- going in-depth of buffer-overflow is beyond the scope of the course\n",
    "\n",
    "### demo programs for buffer-overflow \n",
    "- buffer overflow can be used to overwrite existing data or corrupt memory\n",
    "    - a simple overflow demo is found at [demo_programs/Ch10/buffer_overflow1.cpp](demo_programs/Ch10/buffer_overflow1.cpp)\n",
    "- buffer overflow can be used to change the flow of execution; read other part of memory\n",
    "    - a more intuitive demo is found here: [demo_programs/Ch10/buffer_overflow2.cpp](demo_programs/Ch10/buffer_overflow2.cpp)\n",
    "    "
   ]
  },
  {
   "cell_type": "markdown",
   "metadata": {},
   "source": [
    "## 10.13 Sorting data\n",
    "- a very important operation done to solve a large number of problems\n",
    "- all the data must be stored in memory in order to sort\n",
    "- e.g. sort student's grades, ids, names, etc.\n",
    "- there are many algorithms to sort data\n",
    "    - one of the highly studiedtopics in Algorithm class\n",
    "- you can learn and write your own algorithm to sort data\n",
    "- an easy and efficent way to sort data is using library\n",
    "- **&lt;algorithm&gt;** header library has many commonly used algorithm implemented\n",
    "    - more: https://en.cppreference.com/w/cpp/header/algorithm\n",
    "- **sort(begin, end)** function sorts the data given a sequence that has **begin( ) and end( )**\n",
    "    - by default sorts in ascending order\n",
    "    - can be used to sort in descending order"
   ]
  },
  {
   "cell_type": "code",
   "execution_count": 9,
   "metadata": {},
   "outputs": [],
   "source": [
    "// let's declared an array of float\n",
    "float stu_grades[] = {100, 99.6, 55, 100, 65, 15.5};"
   ]
  },
  {
   "cell_type": "code",
   "execution_count": 10,
   "metadata": {},
   "outputs": [],
   "source": [
    "#include <algorithm> // sort()\n",
    "#include <iterator> // begin() and end()"
   ]
  },
  {
   "cell_type": "code",
   "execution_count": 11,
   "metadata": {},
   "outputs": [],
   "source": [
    "// sort stu_grades in ascending order\n",
    "sort(begin(stu_grades), end(stu_grades));"
   ]
  },
  {
   "cell_type": "code",
   "execution_count": 12,
   "metadata": {},
   "outputs": [
    {
     "data": {
      "text/plain": [
       "{ 15.5000f, 55.0000f, 65.0000f, 99.6000f, 100.000f, 100.000f }"
      ]
     },
     "execution_count": 12,
     "metadata": {},
     "output_type": "execute_result"
    }
   ],
   "source": [
    "// now let's see the sorted values\n",
    "stu_grades"
   ]
  },
  {
   "cell_type": "code",
   "execution_count": 13,
   "metadata": {},
   "outputs": [],
   "source": [
    "// sort stu_grades in descending order\n",
    "// pass greater<type> function template that is used to compare the data\n",
    "// with greater value towards the beginning\n",
    "sort(begin(stu_grades), end(stu_grades), greater<float>());"
   ]
  },
  {
   "cell_type": "code",
   "execution_count": 29,
   "metadata": {},
   "outputs": [
    {
     "data": {
      "text/plain": [
       "{ 100.000f, 100.000f, 99.6000f, 65.0000f, 55.0000f, 15.5000f }"
      ]
     },
     "execution_count": 29,
     "metadata": {},
     "output_type": "execute_result"
    }
   ],
   "source": [
    "stu_grades"
   ]
  },
  {
   "cell_type": "code",
   "execution_count": 22,
   "metadata": {},
   "outputs": [],
   "source": [
    "// sort array of strings\n",
    "string words[] = {\"zebra\", \"yoyo\", \"x-ray\", \"ball\", \"apple\"};"
   ]
  },
  {
   "cell_type": "code",
   "execution_count": 24,
   "metadata": {},
   "outputs": [],
   "source": [
    "// sort in ascending order\n",
    "sort(begin(words), end(words));"
   ]
  },
  {
   "cell_type": "code",
   "execution_count": 25,
   "metadata": {},
   "outputs": [
    {
     "data": {
      "text/plain": [
       "{ \"apple\", \"ball\", \"x-ray\", \"yoyo\", \"zebra\" }"
      ]
     },
     "execution_count": 25,
     "metadata": {},
     "output_type": "execute_result"
    }
   ],
   "source": [
    "words"
   ]
  },
  {
   "cell_type": "markdown",
   "metadata": {},
   "source": [
    "## 10.14 Bubble sort\n",
    "- bubble sort repeatedly compares and swaps two adjacent elements if they're not in order\n",
    "- see animation here: https://en.wikipedia.org/wiki/Bubble_sort\n",
    "- step through the algorithm here: https://opendsa-server.cs.vt.edu/ODSA/Books/CS3/html/BubbleSort.html#id1\n",
    "- one of the worst performing algorithms; but used to demonstrate a quick and easy way to write your own sort algorithm for a small number of elements\n",
    "    - because of its poor performance, bubble sort should not be used in real-world applications\n",
    "    "
   ]
  },
  {
   "cell_type": "code",
   "execution_count": 1,
   "metadata": {},
   "outputs": [],
   "source": [
    "#include <iostream>\n",
    "\n",
    "using namespace std;"
   ]
  },
  {
   "cell_type": "code",
   "execution_count": 2,
   "metadata": {},
   "outputs": [],
   "source": [
    "template<class T>\n",
    "void printArray(T * arr, int size) {\n",
    "    cout << \"{\";\n",
    "    for(int i=0; i<size; i++)\n",
    "        cout << arr[i] << \", \";\n",
    "    cout << \"}\\n\";\n",
    "}"
   ]
  },
  {
   "cell_type": "code",
   "execution_count": 3,
   "metadata": {},
   "outputs": [],
   "source": [
    "template<class T>\n",
    "void bubbleSort(T * array, int size) {\n",
    "    bool swapped;\n",
    "    for(int pass=0; pass<size; pass++) {\n",
    "        swapped = false;\n",
    "        // let's print array before every pass\n",
    "        // TODO: comment out the the following debugging info...\n",
    "        //cout << \"pass # \" << pass << \": \";\n",
    "        //printArray<float>(array, size);\n",
    "        for(int i=0; i<size-1-pass; i++) {\n",
    "            // sort in ascending order; check out of order?\n",
    "            if (array[i] > array[i+1]) {\n",
    "                swap(array[i], array[i+1]);\n",
    "                swapped = true;\n",
    "            }\n",
    "        }\n",
    "        // check if the elements are sorted; i.e. not single pair was swapped\n",
    "        // let's print array after each pass\n",
    "        //printArray<float>(array, size);\n",
    "        if (!swapped)\n",
    "            break;\n",
    "    }\n",
    "}"
   ]
  },
  {
   "cell_type": "code",
   "execution_count": 4,
   "metadata": {},
   "outputs": [],
   "source": [
    "int numbers[] = {100, 99, 55, 100, 65, 15};"
   ]
  },
  {
   "cell_type": "code",
   "execution_count": 6,
   "metadata": {},
   "outputs": [],
   "source": [
    "bubbleSort<int>(numbers, 6);"
   ]
  },
  {
   "cell_type": "code",
   "execution_count": 7,
   "metadata": {},
   "outputs": [
    {
     "data": {
      "text/plain": [
       "{ 15, 55, 65, 99, 100, 100 }"
      ]
     },
     "execution_count": 7,
     "metadata": {},
     "output_type": "execute_result"
    }
   ],
   "source": [
    "numbers"
   ]
  },
  {
   "cell_type": "code",
   "execution_count": null,
   "metadata": {},
   "outputs": [],
   "source": []
  },
  {
   "cell_type": "markdown",
   "metadata": {},
   "source": [
    "## 10.15 Exercises\n",
    "1. Write a function that takes an array and finds and returns the max value in the array.\n",
    "    - write at least 3 automated test cases\n"
   ]
  },
  {
   "cell_type": "code",
   "execution_count": 15,
   "metadata": {},
   "outputs": [],
   "source": [
    "#include <cassert>"
   ]
  },
  {
   "cell_type": "code",
   "execution_count": 14,
   "metadata": {},
   "outputs": [],
   "source": [
    "template<class T>\n",
    "T max(T * array, int size) {\n",
    "    assert(size >= 1); // make sure array is not empty!\n",
    "    T curr_max = array[0];\n",
    "    for(int i=1; i<size; i++) {\n",
    "        // if the value at i is larger than curr_max; update it with the new max\n",
    "        if (curr_max < array[i])\n",
    "            curr_max = array[i];\n",
    "    }\n",
    "    return curr_max;\n",
    "}"
   ]
  },
  {
   "cell_type": "code",
   "execution_count": 20,
   "metadata": {},
   "outputs": [],
   "source": [
    "void test_max() {\n",
    "    assert(max({1, 2, 3} == 3));\n",
    "    assert(max({10, -5, -30} == 10));\n",
    "    assert(max({-10, -5, -30, 0, -100} == 0));\n",
    "    cerr << \"all test cases passed for max()\\n\";\n",
    "}"
   ]
  },
  {
   "cell_type": "code",
   "execution_count": 21,
   "metadata": {},
   "outputs": [
    {
     "name": "stderr",
     "output_type": "stream",
     "text": [
      "all test cases passed for max()\n"
     ]
    }
   ],
   "source": [
    "test_max();"
   ]
  },
  {
   "cell_type": "markdown",
   "metadata": {},
   "source": [
    "2. Write a function that takes an array and finds and returns the min value in the array.\n",
    "    - write at least 3 automated test cases\n",
    "    \n",
    "    \n",
    "3. Write a complete C++ program that computes some statistical values on given number of numbers\n",
    "    - prompt user to enter a bunch of numbers\n",
    "    - find and display the max and min values\n",
    "    - find and display the average or mean\n",
    "    - find and print the range (max - min) in the array\n",
    "    - find and display the mode or modal (the number with largest frequency)\n",
    "    - program continues to run until the user wants to quit\n",
    "    \n",
    "    \n",
    "4. Write a search function that checks if a given value is found in an array.\n",
    "    - write 3 automated test cases"
   ]
  },
  {
   "cell_type": "markdown",
   "metadata": {},
   "source": [
    "## 10.16 Kattis problems\n",
    "- a large number of difficult problems require to store data in 1 or 2-d arrays and manipulate the data\n",
    "- solve the following Kattis problems writing at least 3 automated test cases for each function used as part of the solution\n",
    "\n",
    "\n",
    "1. Falling Apart - https://open.kattis.com/problems/fallingapart\n",
    "\n",
    "\n",
    "2. Statistics - https://open.kattis.com/problems/statistics\n",
    "\n",
    "\n",
    "3. Line Them Up - https://open.kattis.com/problems/lineup"
   ]
  },
  {
   "cell_type": "markdown",
   "metadata": {},
   "source": [
    "## 10.17 Summary\n",
    "- learned about array and types of arrays\n",
    "- passing array to functions\n",
    "- similarity between array and pointers in terms of using memory addressses\n",
    "- methods or member functions or lack there of\n",
    "- array of C++ strings and C-string\n",
    "- went over a quick intro to buffer overflow security vulnerability\n",
    "- sorting using &lt;algorithm&gt; and writing our own bubble sort"
   ]
  },
  {
   "cell_type": "code",
   "execution_count": null,
   "metadata": {},
   "outputs": [],
   "source": []
  }
 ],
 "metadata": {
  "kernelspec": {
   "display_name": "C++17",
   "language": "C++17",
   "name": "xcpp17"
  },
  "language_info": {
   "codemirror_mode": "text/x-c++src",
   "file_extension": ".cpp",
   "mimetype": "text/x-c++src",
   "name": "c++",
   "version": "17"
  }
 },
 "nbformat": 4,
 "nbformat_minor": 2
}
