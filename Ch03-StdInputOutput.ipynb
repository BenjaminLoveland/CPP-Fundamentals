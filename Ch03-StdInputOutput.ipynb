{
 "cells": [
  {
   "cell_type": "markdown",
   "metadata": {},
   "source": [
    "# Standard Input and Output\n",
    "\n",
    "## Topics\n",
    "- common way to input and output\n",
    "- printing variables and values onto monitor or console\n",
    "- reading data from keyboard\n",
    "- composing programs"
   ]
  },
  {
   "cell_type": "markdown",
   "metadata": {},
   "source": [
    "## Input and output (IO)\n",
    "- IO operations are fundamental to computer programs\n",
    "- C++ IO occurs in streams (sequence of bytes)\n",
    "- programs must be able to read data from varieties of input devices (input operation)\n",
    "    - streams of bytes flow from keyboard, disk drive, network connection, etc. to main memory, RAM (Random Access Memory)\n",
    "- programs must be able to write data to varieties of output devices (output operation)\n",
    "    - stream of bytes flow from RAM to monitor, disk drive, network connection, etc.\n",
    "- this chapter covers standard input and output\n",
    "- reading from and writing to disk drive or files is covered in File IO chapter"
   ]
  },
  {
   "cell_type": "markdown",
   "metadata": {},
   "source": [
    "## Standard output stream\n",
    "\n",
    "- a prgram may need to display data or results of computation to users\n",
    "- a common way to display results is by printing them to common output (monitor)\n",
    "    - also called console\n",
    "- we've printed hello world string to console in Chapter 1\n",
    "- similarly, we can print literal values or data stored in variables\n",
    "- use **cout** statement defined in **&lt;iostream&gt;** library and **std** namespace\n",
    "- output statement syntax\n",
    "\n",
    "    ```cpp\n",
    "    cout << varName1 << varName2 << \"literal values\";\n",
    "    ```\n",
    "    \n",
    "- **<<** called **stream insertion operator** inserts values to output stream\n",
    "- multiple values are separated by << operator\n",
    "- **endl** operator ends line adding a new line **\\\\n** character"
   ]
  },
  {
   "cell_type": "code",
   "execution_count": 1,
   "metadata": {},
   "outputs": [],
   "source": [
    "// include required library\n",
    "#include <iostream> // cout\n",
    "\n",
    "// use required namespace\n",
    "using namespace std; //std namespace defines cout, endl, etc."
   ]
  },
  {
   "cell_type": "code",
   "execution_count": 3,
   "metadata": {},
   "outputs": [
    {
     "name": "stdout",
     "output_type": "stream",
     "text": [
      "Hello World!\n",
      "1002.5 3.99Asome text as stringcontinue printing stuff in next line...?\n"
     ]
    }
   ],
   "source": [
    "cout << \"Hello World!\" << endl;\n",
    "cout << 100 << 2.5f << ' ' << 3.99 << 'A' << \"some text as string\";\n",
    "cout << \"continue printing stuff in next line...?\" << endl;"
   ]
  },
  {
   "cell_type": "code",
   "execution_count": 4,
   "metadata": {},
   "outputs": [],
   "source": [
    "// declaring and printing variables\n",
    "#include <string>\n",
    "\n",
    "string name = \"John Doe\";\n",
    "char MI = 'A';\n",
    "int age = 25;"
   ]
  },
  {
   "cell_type": "code",
   "execution_count": 5,
   "metadata": {},
   "outputs": [
    {
     "name": "stdout",
     "output_type": "stream",
     "text": [
      "name = John Doe\n",
      "MI = A and age = 25\n"
     ]
    }
   ],
   "source": [
    "// outputting variables\n",
    "cout << \"name = \" << name << endl;\n",
    "cout << \"MI = \" << MI << \" and age = \" << age << endl;"
   ]
  },
  {
   "cell_type": "code",
   "execution_count": 6,
   "metadata": {},
   "outputs": [],
   "source": [
    "bool done = false;\n",
    "float temperature = 73;\n",
    "float richest_persons_networth = 120000000000; // 120 billion\n",
    "float interestRate = 4.5;\n",
    "float length = 10.5;\n",
    "float width = 99.99f; // can end with f for representing floating point number\n",
    "double space_shuttle_velocity = 950.1234567891234567 // 16 decimal points"
   ]
  },
  {
   "cell_type": "code",
   "execution_count": 7,
   "metadata": {},
   "outputs": [
    {
     "name": "stdout",
     "output_type": "stream",
     "text": [
      "temperature: 73 age: 25 richest person's worth: 1.2e+11\n",
      "interest rate: 4.5\n",
      "length: 10.5 and width = 99.99\n",
      "space_shuttle_velocity: 950.123\n"
     ]
    }
   ],
   "source": [
    "// cout can continue in multilines\n",
    "cout << \"temperature: \" << temperature << \" age: \" << age \n",
    "    << \" richest person's worth: \"\n",
    "    << richest_persons_networth << endl;\n",
    "cout << \"interest rate: \" << interestRate << endl;\n",
    "cout << \"length: \" << length << \" and width = \" << width << endl;\n",
    "cout << \"space_shuttle_velocity: \" << 950.1234567891234567 << endl;"
   ]
  },
  {
   "cell_type": "code",
   "execution_count": 8,
   "metadata": {},
   "outputs": [
    {
     "name": "stdout",
     "output_type": "stream",
     "text": [
      "Hello there, John Doe!\n"
     ]
    }
   ],
   "source": [
    "// outputting string variables\n",
    "cout << \"Hello there, \" << name << '!' << endl;"
   ]
  },
  {
   "cell_type": "code",
   "execution_count": 9,
   "metadata": {},
   "outputs": [],
   "source": [
    "// more string variables\n",
    "string address1 = \"1100 North Ave\";\n",
    "string state_code = \"CO\";\n",
    "string country = \"USA\";"
   ]
  },
  {
   "cell_type": "code",
   "execution_count": 10,
   "metadata": {},
   "outputs": [
    {
     "name": "stdout",
     "output_type": "stream",
     "text": [
      "CMU's address:\n",
      "1100 North Ave\n",
      "Grand Junction, CO 81501\n",
      "USA\n"
     ]
    }
   ],
   "source": [
    "cout << \"CMU's address:\\n\"\n",
    "     << address1 << endl\n",
    "     << \"Grand Junction, \" << state_code << ' ' << 81501 << endl\n",
    "     << country << endl;"
   ]
  },
  {
   "cell_type": "markdown",
   "metadata": {},
   "source": [
    "### Escape sequences\n",
    "- some letters or sequence of letters have special meaning to C++\n",
    "- pair of single quote is used to represent a character type\n",
    "- pair of double quotes is used to represent a string type\n",
    "- how can we store single or double quotes as part of data?\n",
    "    - e.g., we need to print: **\"Oh no!\", Alice exclaimed, \"Bob's bike is broken!\"**\n",
    "    - use backslash \\\\ (escape characer) to escape the special meaning\n",
    "- characters represented using escape character are called escape sequences\n",
    "    - \\\\n - new line\n",
    "    - \\\\\\\\ - back slash\n",
    "    - \\\\t - tab\n",
    "    - \\\\r - carriage return\n",
    "    - \\\\' - single quote\n",
    "    - \\\\\" - double quote"
   ]
  },
  {
   "cell_type": "code",
   "execution_count": 11,
   "metadata": {},
   "outputs": [
    {
     "name": "stdout",
     "output_type": "stream",
     "text": [
      "What's up\n",
      " Shaq\tO'Neal?"
     ]
    }
   ],
   "source": [
    "cout << \"What's up\\n Shaq\\tO'Neal?\";"
   ]
  },
  {
   "cell_type": "code",
   "execution_count": 12,
   "metadata": {},
   "outputs": [],
   "source": [
    "char quote = '\\'';"
   ]
  },
  {
   "cell_type": "code",
   "execution_count": 13,
   "metadata": {},
   "outputs": [
    {
     "data": {
      "text/plain": [
       "'''"
      ]
     },
     "execution_count": 13,
     "metadata": {},
     "output_type": "execute_result"
    }
   ],
   "source": [
    "quote"
   ]
  },
  {
   "cell_type": "code",
   "execution_count": 14,
   "metadata": {},
   "outputs": [
    {
     "name": "stdout",
     "output_type": "stream",
     "text": [
      "\"Oh no!\", Alice exclaimed, \"Bob's bike is broken!\""
     ]
    }
   ],
   "source": [
    "cout << \"\\\"Oh no!\\\", Alice exclaimed, \\\"Bob's bike is broken!\\\"\";"
   ]
  },
  {
   "cell_type": "code",
   "execution_count": 2,
   "metadata": {},
   "outputs": [
    {
     "name": "stdout",
     "output_type": "stream",
     "text": [
      "how many back slashes will be printed? \\\\"
     ]
    }
   ],
   "source": [
    "cout << \"how many back slashes will be printed? \\\\\\\\\";"
   ]
  },
  {
   "cell_type": "markdown",
   "metadata": {},
   "source": [
    "## Standard input stream\n",
    "- often, data must be read from standard input stream or keyboard\n",
    "    - e.g. most interactive programs\n",
    "- must include **&lt;iostream&gt;** library for standard input\n",
    "- must use **std** namespace\n",
    "- use **cin >>** statement\n",
    "- syntax:\n",
    "\n",
    "    ```cpp\n",
    "    cin >> var1 >> var2 >> ...;\n",
    "    ```\n",
    "    \n",
    "- **>>** - is called stream extraction operator \n",
    "    - extracts data/value from input stream\n",
    "- must always use variables of appropriate types\n",
    "- while scanning input stream, **>>** ignores leading whitespaces and stops at a trailing whitespace\n",
    "- let's say we have a stream of data separated by a whitespace: 10 11 15.5 A\n",
    "    - we can parse and extract as following\n",
    "    ```cpp\n",
    "    cin >> num1 >> num2 >> num3 >> alpha;\n",
    "    ```\n",
    "    - given num1 and num2 are int, num3 is float or double and alpha is char\n",
    "    \n",
    "### inputting numerical data\n",
    "- must store the extracted input data into appropriate numerical variables\n",
    "- **\\>> int variables** : extracts whole numbers from input stream; stops at anything else\n",
    "- **\\>> float or double variables** : extracts numbers including decimal points; stops at anything else"
   ]
  },
  {
   "cell_type": "code",
   "execution_count": 17,
   "metadata": {},
   "outputs": [],
   "source": [
    "// include required libraries\n",
    "#include <iostream> //cin, cout\n",
    "\n",
    "using namespace std;"
   ]
  },
  {
   "cell_type": "code",
   "execution_count": 15,
   "metadata": {},
   "outputs": [
    {
     "name": "stdout",
     "output_type": "stream",
     "text": [
      "enter a whole number: 10\n",
      "You entered: 10\n"
     ]
    }
   ],
   "source": [
    "int num1;\n",
    "// prompt user to enter a whole number\n",
    "cout << \"enter a whole number: \";\n",
    "cin >> num1;\n",
    "cout << \"You entered: \" << num1 << endl;"
   ]
  },
  {
   "cell_type": "code",
   "execution_count": 10,
   "metadata": {},
   "outputs": [
    {
     "name": "stdout",
     "output_type": "stream",
     "text": [
      "enter two whole numbers separated by space: 10 20\n",
      "10+20=30\n"
     ]
    }
   ],
   "source": [
    "// can extract multiple integers\n",
    "int num2;\n",
    "cout << \"enter two whole numbers separated by space: \";\n",
    "cin >> num1 >> num2;\n",
    "cout << num1 << '+' << num2 << '=' << num1+num2 << endl;"
   ]
  },
  {
   "cell_type": "code",
   "execution_count": 11,
   "metadata": {},
   "outputs": [
    {
     "name": "stdout",
     "output_type": "stream",
     "text": [
      "enter a whole number and a floating point number separated by space: 5 9.9\n",
      "5 + 9.9 = 14.9\n"
     ]
    }
   ],
   "source": [
    "// extracting int and float\n",
    "float num3;\n",
    "cout << \"enter a whole number and a floating point number separated by space: \";\n",
    "cin >> num1 >> num3;\n",
    "cout << num1 << \" + \" << num3 << \" = \" << num1+num3 << endl;"
   ]
  },
  {
   "cell_type": "code",
   "execution_count": 12,
   "metadata": {},
   "outputs": [],
   "source": [
    "// let's enter 10 11 15.5 A and store them into corresponding variables\n",
    "int n1, n2;\n",
    "float n3;\n",
    "char alpha;"
   ]
  },
  {
   "cell_type": "code",
   "execution_count": 13,
   "metadata": {},
   "outputs": [
    {
     "name": "stdout",
     "output_type": "stream",
     "text": [
      "10 11 15.5 A\n"
     ]
    }
   ],
   "source": [
    "// let's not prompt; but simply enter 10 11 15.5 A\n",
    "cin >> n1 >> n2 >> n3 >> alpha;"
   ]
  },
  {
   "cell_type": "code",
   "execution_count": 14,
   "metadata": {},
   "outputs": [
    {
     "name": "stdout",
     "output_type": "stream",
     "text": [
      "10 11 15.5 A"
     ]
    }
   ],
   "source": [
    "// let's echo the entered values\n",
    "cout << n1 << \" \" << n2 << \" \" << n3 << \" \" << alpha;"
   ]
  },
  {
   "cell_type": "markdown",
   "metadata": {},
   "source": [
    "### input failure\n",
    "- if input data and variable type mismatched, **cin** will enter into a fail state\n",
    "    - won't be able to extract data anymore\n",
    "- Note: Jupyter notebook may crash or simply not work as expected when input fails"
   ]
  },
  {
   "cell_type": "code",
   "execution_count": 15,
   "metadata": {},
   "outputs": [],
   "source": [
    "// variable to store whole number\n",
    "int number;"
   ]
  },
  {
   "cell_type": "code",
   "execution_count": 16,
   "metadata": {},
   "outputs": [
    {
     "name": "stdout",
     "output_type": "stream",
     "text": [
      "Enter a number: adf\n",
      "You entered 0"
     ]
    },
    {
     "data": {
      "text/plain": [
       "@0x107733ec0"
      ]
     },
     "execution_count": 16,
     "metadata": {},
     "output_type": "execute_result"
    }
   ],
   "source": [
    "cout << \"Enter a number: \";\n",
    "cin >> number;\n",
    "cout << \"You entered \" << number;\n",
    "// try entering whole number; whole number and characters, characters and number, etc."
   ]
  },
  {
   "cell_type": "markdown",
   "metadata": {},
   "source": [
    "### inputting string data\n",
    "- two ways depending on the string data type\n",
    "- string without whitespace or single word can be extracted using **\\>>** stream extraction operator\n",
    "- string with whitespace must be extracted using **getline** function\n",
    "- syntax:\n",
    "\n",
    "    ```cpp\n",
    "    getline(cin, strVar);\n",
    "    ```\n",
    "    \n",
    "- getline reads the entire line including whitespaces and the **newline** at the end\n",
    "    - newline is extracted from the stream and discarded"
   ]
  },
  {
   "cell_type": "code",
   "execution_count": 17,
   "metadata": {},
   "outputs": [],
   "source": [
    "string player_name;"
   ]
  },
  {
   "cell_type": "code",
   "execution_count": 18,
   "metadata": {},
   "outputs": [
    {
     "name": "stdout",
     "output_type": "stream",
     "text": [
      "Enter your first name: \n",
      "John Smith\n",
      "Hello there, John\n"
     ]
    },
    {
     "data": {
      "text/plain": [
       "@0x107733ec0"
      ]
     },
     "execution_count": 18,
     "metadata": {},
     "output_type": "execute_result"
    }
   ],
   "source": [
    "cout << \"Enter your first name: \";\n",
    "cin >> player_name;\n",
    "cout << \"Hello there, \" << player_name << endl;\n",
    "// run it wih just firstname and then with fullname; notice the value of player_name"
   ]
  },
  {
   "cell_type": "code",
   "execution_count": 19,
   "metadata": {},
   "outputs": [
    {
     "name": "stdout",
     "output_type": "stream",
     "text": [
      "Enter your full name: John Smith\n",
      "Hello there, John Smith\n"
     ]
    }
   ],
   "source": [
    "// string with spaces\n",
    "cout << \"Enter your full name: \";\n",
    "getline(cin, player_name);\n",
    "cout << \"Hello there, \" << player_name << endl;"
   ]
  },
  {
   "cell_type": "markdown",
   "metadata": {},
   "source": [
    "### Note\n",
    "- getline( ) reads and discards newline character (**\\\\n**)\n",
    "- \\>\\> stops before the trailing newline character leaving it in the input stream\n",
    "- must explictly read and discard newline character if getline is used subsequently\n",
    "- use **ws** whitespace manipulator\n",
    "    - ws operator extracts as many whitespace characters as possible from the current position in the input stream\n",
    "    - extraction stops as soon as a non-whitespace character is found\n",
    "    - e.g. cin >> number >> ws;\n",
    "    - reads and discards whitespace(s) including \\\\n after number value in input stream\n",
    "    \n",
    "### demo program\n",
    "- program that demonstrates the above caveat is found here [demo_programs/Ch03/stdio/main.cpp](demo_programs/Ch03/stdio/main.cpp)"
   ]
  },
  {
   "cell_type": "markdown",
   "metadata": {},
   "source": [
    "## Composition\n",
    "- similar to composing an essay or music\n",
    "    - start with basic elements and combine them to build something more bigger and meaningful work\n",
    "- we use the same basic principle of **composition** in coding\n",
    "    - take small building blocks\n",
    "        - variables, values, expressions(operators), statements (input, output), etc.\n",
    "    - compose something meaningful or solve a problem\n",
    "    \n",
    "### example 1: find area and perimeter of a rectangle\n",
    "- algorithm steps:\n",
    "    1. get values for length and width of a rectangle\n",
    "    2. calculate area and perimeter using the following equations\n",
    "        - area = length x width\n",
    "        - perimeter = 2 x (length + width)\n",
    "    3. display the results"
   ]
  },
  {
   "cell_type": "code",
   "execution_count": 2,
   "metadata": {},
   "outputs": [],
   "source": [
    "// ex.1 program\n",
    "// variables to store length and width\n",
    "float rect_length, rect_width;"
   ]
  },
  {
   "cell_type": "code",
   "execution_count": 3,
   "metadata": {},
   "outputs": [],
   "source": [
    "// 1 get values; \n",
    "// a. can be hardcoded literal values\n",
    "rect_length = 10.5; //hardcoded\n",
    "rect_width = 5.5;"
   ]
  },
  {
   "cell_type": "code",
   "execution_count": 6,
   "metadata": {},
   "outputs": [
    {
     "name": "stdout",
     "output_type": "stream",
     "text": [
      "Enter length and width of a rectangle separated by space: 11.2 6.6\n"
     ]
    }
   ],
   "source": [
    "// b. or can be read from keyboard\n",
    "cout << \"Enter length and width of a rectangle separated by space: \";\n",
    "cin >> rect_length >> rect_width;"
   ]
  },
  {
   "cell_type": "code",
   "execution_count": 7,
   "metadata": {},
   "outputs": [
    {
     "name": "stdout",
     "output_type": "stream",
     "text": [
      "Rectangle's length = 11.2 and width = 6.6"
     ]
    }
   ],
   "source": [
    "cout << \"Rectangle's length = \" << rect_length << \" and width = \" << rect_width;"
   ]
  },
  {
   "cell_type": "code",
   "execution_count": 8,
   "metadata": {},
   "outputs": [
    {
     "name": "stdout",
     "output_type": "stream",
     "text": [
      "area of the rectangle: 73.92\n",
      "perimeter of the rectangle: 35.6\n"
     ]
    }
   ],
   "source": [
    "// 2 and 3: calculate and display the area and perimeter\n",
    "cout << \"area of the rectangle: \" << rect_length * rect_width << endl;\n",
    "cout << \"perimeter of the rectangle: \" << 2*(rect_length+rect_width) << endl;"
   ]
  },
  {
   "cell_type": "markdown",
   "metadata": {},
   "source": [
    "### demo programs\n",
    "- see the complete program here [demo_programs/Ch03/rectangle/main.cpp](demo_programs/Ch03/rectangle/main.cpp)"
   ]
  },
  {
   "cell_type": "markdown",
   "metadata": {},
   "source": [
    "### example 2: convert decimal to binary\n",
    "- let's convert $(13)_{10}$ to binary $(?)_2$?\n",
    "    - from manual calculation in Chapter 02, we know: $(13)_{10}$ -> $(1101)_2$\n",
    "- let's use algorithm defined in Chapter 02:\n",
    "    1. repeteadly divide the decimal number by base 2 until the quotient becomes 0\n",
    "    2. collect the remainders in reverse order\n",
    "        - the first remainder is the last (least significant) digit in binary\n",
    "- let's try to convert the above algorithm into C++ code"
   ]
  },
  {
   "cell_type": "code",
   "execution_count": 1,
   "metadata": {},
   "outputs": [],
   "source": [
    "#include <iostream> // cin, cout\n",
    "#include <string> // string, to_string\n",
    "\n",
    "using namespace std; // std::cin, std::cout, std::endl, etc."
   ]
  },
  {
   "cell_type": "code",
   "execution_count": 2,
   "metadata": {},
   "outputs": [],
   "source": [
    "// decimal to binary conversion requires to calculate both quotient and remainder\n",
    "const int divisor = 2; // divisor is contant name whose value can't be changed once initialized with\n",
    "int dividend;\n",
    "int quotient, remain;\n",
    "string answer; // collect remainders by prepending as a string"
   ]
  },
  {
   "cell_type": "code",
   "execution_count": 3,
   "metadata": {},
   "outputs": [],
   "source": [
    "answer = \"\";\n",
    "quotient = 13; //start with the decimal 13"
   ]
  },
  {
   "cell_type": "code",
   "execution_count": 4,
   "metadata": {},
   "outputs": [
    {
     "name": "stdout",
     "output_type": "stream",
     "text": [
      "13/2 => quotient: 6 remainder: 1\n"
     ]
    },
    {
     "data": {
      "text/plain": [
       "\"1\""
      ]
     },
     "execution_count": 4,
     "metadata": {},
     "output_type": "execute_result"
    }
   ],
   "source": [
    "// divide quotient\n",
    "dividend = quotient;\n",
    "remain = dividend%divisor;\n",
    "quotient = dividend/divisor;\n",
    "// print intermediate results; help us see and plan further computation\n",
    "cout << dividend << '/' << divisor << \" => quotient: \" << quotient << \" remainder: \" << remain << endl;\n",
    "answer = to_string(remain) + answer; // prepend remainder to answer\n",
    "// is quotient 0?"
   ]
  },
  {
   "cell_type": "code",
   "execution_count": 5,
   "metadata": {},
   "outputs": [
    {
     "name": "stdout",
     "output_type": "stream",
     "text": [
      "6/2 => quotient: 3 remainder: 0\n"
     ]
    },
    {
     "data": {
      "text/plain": [
       "\"01\""
      ]
     },
     "execution_count": 5,
     "metadata": {},
     "output_type": "execute_result"
    }
   ],
   "source": [
    "// further divide quotient\n",
    "dividend = quotient;\n",
    "remain = dividend%divisor;\n",
    "quotient = dividend/divisor;\n",
    "// print intermediate results; help us see and plan further computation\n",
    "cout << dividend << '/' << divisor << \" => quotient: \" << quotient << \" remainder: \" << remain << endl;\n",
    "answer = to_string(remain) + answer; // prepend remainder to answer\n",
    "// is quotient 0?"
   ]
  },
  {
   "cell_type": "code",
   "execution_count": 6,
   "metadata": {},
   "outputs": [
    {
     "name": "stdout",
     "output_type": "stream",
     "text": [
      "3/2 => quotient: 1 remainder: 1\n"
     ]
    },
    {
     "data": {
      "text/plain": [
       "\"101\""
      ]
     },
     "execution_count": 6,
     "metadata": {},
     "output_type": "execute_result"
    }
   ],
   "source": [
    "// further divide quotient\n",
    "dividend = quotient;\n",
    "remain = dividend%divisor;\n",
    "quotient = dividend/divisor;\n",
    "// print intermediate results; help us see and plan further computation\n",
    "cout << dividend << '/' << divisor << \" => quotient: \" << quotient << \" remainder: \" << remain << endl;\n",
    "answer = to_string(remain) + answer; // prepend remainder to answer\n",
    "// is quotient 0?"
   ]
  },
  {
   "cell_type": "code",
   "execution_count": 7,
   "metadata": {},
   "outputs": [
    {
     "name": "stdout",
     "output_type": "stream",
     "text": [
      "1/2 => quotient: 0 remainder: 1\n"
     ]
    },
    {
     "data": {
      "text/plain": [
       "\"1101\""
      ]
     },
     "execution_count": 7,
     "metadata": {},
     "output_type": "execute_result"
    }
   ],
   "source": [
    "// further divide quotient\n",
    "dividend = quotient;\n",
    "remain = dividend%divisor;\n",
    "quotient = dividend/divisor;\n",
    "// print intermediate results; help us see and plan further computation\n",
    "cout << dividend << '/' << divisor << \" => quotient: \" << quotient << \" remainder: \" << remain << endl;\n",
    "answer = to_string(remain) + answer; // prepend remainder to answer\n",
    "// is quotient 0?"
   ]
  },
  {
   "cell_type": "code",
   "execution_count": 9,
   "metadata": {},
   "outputs": [
    {
     "name": "stdout",
     "output_type": "stream",
     "text": [
      "13  decimal = 1101 binary \n"
     ]
    }
   ],
   "source": [
    "// no more division; display the answer\n",
    "cout << \"13  decimal = \" << answer << \" binary \" << endl;"
   ]
  },
  {
   "cell_type": "markdown",
   "metadata": {},
   "source": [
    "### A complete C++ program to convert decimal 13 to binary\n",
    "\n",
    "- see [demo_programs/Ch03/decToBin/main.cpp](demo_programs/Ch03/decToBin/main.cpp)\n",
    "\n",
    "### A generic C++ program to convert any decimal to binary\n",
    "\n",
    "- basic building blocks covered so far is able to find the solution in Jupyter notebook\n",
    "    - however, we've not learned enough to write a complete program that is intuitive and complete yet!\n",
    "- we'll revisit this problem as we learn more concepts, such as conditional statements and loops"
   ]
  },
  {
   "cell_type": "markdown",
   "metadata": {},
   "source": [
    "## Exercises\n",
    "1. Write a C++ program including algorithm steps that calculates area and perimeter of a circle.\n",
    "2. Write a C++ program including algorithm steps that calculates Body Mass Index (BMI) of a person.\n",
    "    - More information on BMI - https://www.nhlbi.nih.gov/health/educational/lose_wt/BMI/bmicalc.htm\n",
    "    - Formula [here]( https://www.cdc.gov/healthyweight/assessing/bmi/childrens_bmi/childrens_bmi_formula.html#:~:text=The%20formula%20for%20BMI%20is,to%20convert%20this%20to%20meters.&text=When%20using%20English%20measurements%2C%20pounds%20should%20be%20divided%20by%20inches%20squared).\n",
    "    - a sample solution is provided here [exercises/Ch03/BMI/BMI.cpp](exercises/Ch03/BMI/BMI.cpp)\n",
    "3. Write a C++ program including algorithm steps that calculates area and perimeter of a triangle given three sides.\n",
    "    - Hint: use Heron's formula to find area with three sides.\n",
    "4. Write a C++ program that converts hours into seconds.\n",
    "    - e.g. given 2 hours, program should print 7200 as answer.\n",
    "5. Write a C++ program that converts seconds into hours, minutes and seconds.\n",
    "    - e.g. given 3600 seconds, program should print 1 hour, 0 minute and 0 second.\n",
    "    - e.g. given 3661 seconds, program should print 1 hour, 1 minute and 1 second.\n",
    "    - Hint: use series of division and module operators\n",
    "6. Convert your full name into binary code using Jupyter Notebook.\n",
    "    \n",
    "## Kattis Problems     \n",
    " \n",
    "1. Solving for Carrots - https://open.kattis.com/problems/carrots\n",
    "    - a simple standard input/output problem; just print the second number in first line\n",
    "    - Hint: simply print P\n",
    "    - see sample solution in [demo_programs/Ch03/carrots](demo_programs/Ch03/carrots) folder\n",
    "    \n",
    "    \n",
    "2. R2 - https://open.kattis.com/problems/r2\n",
    "    - Hint: simply output 2*S-R1\n",
    "    \n",
    "    \n",
    "3. Spavanac - https://open.kattis.com/problems/spavanac\n",
    "    - Hint: convert min+hour to minute; subtract 45 and convert the result back to hour minute and print it"
   ]
  },
  {
   "cell_type": "markdown",
   "metadata": {},
   "source": [
    "## Testing Kattis provided samples\n",
    "- one way to check for the sample input and output is manually typing the input and comparing the results\n",
    "    - input can be long and output can be tedious to compare\n",
    "    - Kattis expects output to be 100% accuracte to the space\n",
    "\n",
    "### recommended way to automate the process to solve Kattis problems\n",
    "- download the samples provided in a compressed .zip file\n",
    "- unzip the file; it'll create a folder with the same name as the problem name or zip file name\n",
    "- create .cpp solution file inside the same folder where the sample files are\n",
    "- then follow these steps:\n",
    "- open a terminal on Mac/Linux/WSL\n",
    "- change working directory to a problem folder, e.g. carrots\n",
    "\n",
    "    ```bash\n",
    "    cd <to carrots folder>\n",
    "    pwd\n",
    "    ```\n",
    "    \n",
    "- directly compile using g++ or create and use a Makefile\n",
    "\n",
    "    ```bash\n",
    "    g++ -std=c++17 cold.cpp\n",
    "    ```\n",
    "\n",
    "- run kattis provided sample test cases e.g. if 1.in and 1.ans are sample test files\n",
    "- read the sample 1.in and feed it to ./a.out program and feed the answer to diff to compare against 1.ans\n",
    "\n",
    "    ```bash\n",
    "    cat 1.in | ./a.out | diff - 1.ans\n",
    "    cat 2.in | ./a.out | diff - 2.ans\n",
    "    ```\n",
    "\n",
    "- once your program provides correct result as shown in the corresponding output, upload your .cpp solution file to the Kattis to test against all the hidden test samples"
   ]
  },
  {
   "cell_type": "markdown",
   "metadata": {},
   "source": [
    "## Summary\n",
    "- this chapter covered reading data from common input stream (standard input)\n",
    "- this chapter covered writing data to common output stream (standard output)\n",
    "- covered escape character, sequences and their usage\n",
    "- we also learned about composing more meaningful programs with two examples\n",
    "- exercises and problems with sample solutions"
   ]
  },
  {
   "cell_type": "code",
   "execution_count": null,
   "metadata": {},
   "outputs": [],
   "source": []
  }
 ],
 "metadata": {
  "kernelspec": {
   "display_name": "C++17",
   "language": "C++17",
   "name": "xcpp17"
  },
  "language_info": {
   "codemirror_mode": "text/x-c++src",
   "file_extension": ".cpp",
   "mimetype": "text/x-c++src",
   "name": "c++",
   "version": "-std=c++17"
  }
 },
 "nbformat": 4,
 "nbformat_minor": 2
}
