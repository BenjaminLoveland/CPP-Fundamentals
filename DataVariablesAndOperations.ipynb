{
 "cells": [
  {
   "cell_type": "markdown",
   "metadata": {},
   "source": [
    "# Data, Variables and Operations\n",
    "\n",
    "## Topics\n",
    "- data and values\n",
    "- C++ fundamental data types\n",
    "- digital units and number systems\n",
    "- variables and data assignment\n",
    "- keywords and operators\n",
    "- order of operations\n",
    "- operators for numbers and strings\n",
    "- constants\n",
    "- type casting"
   ]
  },
  {
   "cell_type": "markdown",
   "metadata": {},
   "source": [
    "## Data and values\n",
    "- data and values are the fundamentals to any computer language and program\n",
    "- a value is one of the fundamental things -- like a letter or a number -- that a program manipulates\n",
    "- almost all computer programs use and manipulate some data values\n",
    "\n",
    "## Literal values and representations\n",
    "- at a high level, we deal with two types of data values: Numbers and Texts\n",
    "- numbers can be further divided into two types:\n",
    "    - Whole number literal values: 109, -234, etc.\n",
    "    - Floating point literal values: 123.456, -0.3555, etc.\n",
    "- text is a collection of 1 or more characters (symbols, digits or alpahabets)\n",
    "    - single character is represent using single quote ( ' )\n",
    "        - char literal values: 'A', 'a', '%', '1', etc.\n",
    "    - 2 or more characters are called string\n",
    "        - represented using double quotes ( \" )\n",
    "        - string literal values: \"CO\", \"John Doe\", \"1100\", etc.\n",
    "    \n",
    "- programming languages need to represent and use these data correctly\n",
    "    \n",
    "## C++ fundamental types\n",
    "- there are many fundamental types based on the size of the data program needs to store\n",
    "    - most fundamental types are numeric types\n",
    "- see here for all the supported types: https://en.cppreference.com/w/cpp/language/types\n",
    "- the most common types we use are:\n",
    "\n",
    "| Type | Description | Storage size | Value range |\n",
    "| :--- | :--- | :--- | ---|\n",
    "| **void** | an empty set of values; no type | system dependent: 4 or 8 bytes | NA |\n",
    "|**bool** | true or false values | 1 byte or 8 bits | true or false or 1 or 0 |\n",
    "| **char** | represents one ASCII character; inside single quote | 1 byte or 8 bits | $-2^7$ to $2^7-1$ or -128 to 127 |\n",
    "| **unsigned char** | represents one ASCII character inside a single quote | 1 byte or 8 bits | 0 to $2^8-1$ or 0 to 255 |\n",
    "| **int** | +/-ve integers or whole numbers | 4 bytes | $-2^{31}$ to $2^{31}-1$ or -2,147,483,648 to 2,147,483,647|\n",
    "| **signed int** | same as int; signed (+ve and -ve) integers | 4 bytes or 32 bits | $-2^{31}$ to $2^{31}-1$ or -2,147,483,648 to 2,147,483,647|\n",
    "| **unsigned int** | unsigned (only positive) representation | 4 bytes or 32 bits | 0 to $2^{32}-1$ or 0 to 4,294,967,295 |\n",
    "| **long** | +ve and -ve big integers | 8 bytes or 64 bits| $-2^{63}$ to $2^{63}-1$ or -9,223,372,036,854,775,808 to 9,223,372,036,854,775,807|\n",
    "| **unsigned long** | positive big integers | 8 bytes or 64 bits | 0 to $2^{64}-1$ or 0 to 0 to 18,446,744,073,709,551,615 |\n",
    "| **float** | single precision floating points | 32 bits | 7 decimal digits precision |\n",
    "| **double** | double precision floating points | 64 bits |  15 decimal digits precision |\n",
    "\n",
    "- in C++, there's no fundadamental type available to work with string data\n",
    "- two common ways to deal with string data:\n",
    "    - use C-string or array of characters\n",
    "    - use basic_string defined in **&lt;string&gt;** library\n",
    "        - more on basic_string: https://en.cppreference.com/w/cpp/string/basic_string\n",
    "        - must include `<string>` library and **std** namespace\n",
    "- we'll dive into string more in depth in **string chapter**\n",
    "   \n",
    "### sizeof operator\n",
    "- one may want to know the size of memory allocated for the fundamental types\n",
    "    - some of these types are system dependent (e.g., long is 32 bit in x86 and 64 bit in x64)\n",
    "- **sizeof(type)** operator gives size of fundamental types in bytes\n",
    "- let's check the size of some fundamental types on my 64-bit MacBook Pro laptop"
   ]
  },
  {
   "cell_type": "code",
   "execution_count": 1,
   "metadata": {},
   "outputs": [
    {
     "data": {
      "text/plain": [
       "1"
      ]
     },
     "execution_count": 1,
     "metadata": {},
     "output_type": "execute_result"
    }
   ],
   "source": [
    "sizeof(bool)"
   ]
  },
  {
   "cell_type": "code",
   "execution_count": 2,
   "metadata": {},
   "outputs": [
    {
     "data": {
      "text/plain": [
       "1"
      ]
     },
     "execution_count": 2,
     "metadata": {},
     "output_type": "execute_result"
    }
   ],
   "source": [
    "sizeof(char)"
   ]
  },
  {
   "cell_type": "code",
   "execution_count": 3,
   "metadata": {},
   "outputs": [
    {
     "data": {
      "text/plain": [
       "4"
      ]
     },
     "execution_count": 3,
     "metadata": {},
     "output_type": "execute_result"
    }
   ],
   "source": [
    "sizeof(int)"
   ]
  },
  {
   "cell_type": "code",
   "execution_count": 4,
   "metadata": {},
   "outputs": [
    {
     "data": {
      "text/plain": [
       "8"
      ]
     },
     "execution_count": 4,
     "metadata": {},
     "output_type": "execute_result"
    }
   ],
   "source": [
    "sizeof(long)"
   ]
  },
  {
   "cell_type": "code",
   "execution_count": 5,
   "metadata": {},
   "outputs": [
    {
     "data": {
      "text/plain": [
       "4"
      ]
     },
     "execution_count": 5,
     "metadata": {},
     "output_type": "execute_result"
    }
   ],
   "source": [
    "sizeof(float)"
   ]
  },
  {
   "cell_type": "code",
   "execution_count": 6,
   "metadata": {},
   "outputs": [
    {
     "data": {
      "text/plain": [
       "8"
      ]
     },
     "execution_count": 6,
     "metadata": {},
     "output_type": "execute_result"
    }
   ],
   "source": [
    "sizeof(double)"
   ]
  },
  {
   "cell_type": "markdown",
   "metadata": {},
   "source": [
    "## Units of digital data\n",
    "- digital computers use binary number system consisting of two digits (0 and 1)\n",
    "- every data and code is represented using binary values\n",
    "    - hence the name binary or byte code for executable programs\n",
    "    - letter A is encoded as 1000001 (7 binary digits)\n",
    "- humans use decimal number system with 10 digits (0 to 9)\n",
    "    - we have ways to represent texts using alphabets for English language e.g.: Hello Bond 707!\n",
    "    - texts must be encoded into numbers, if we lived in the world that only understood numbers\n",
    "- the following table shows the various units of digital data\n",
    "| Unit      | Equivalent |\n",
    "|-----------|------------|\n",
    "| 1 bit (b) | 0 or 1 |\n",
    "| 1 byte (B) | 8 bits (b) |\n",
    "| 1 kilobyte (KB)  | 1,024 B |\n",
    "| 1 megabyte (MB) | 1,024 KB |\n",
    "| 1 gigabtye (GB) | 1,024 MB |\n",
    "| 1 terabyte (TB) | 1,024 GB |\n",
    "| 1 petabyte (PB) | 1,024 TB |\n",
    "| ... | ... |"
   ]
  },
  {
   "cell_type": "markdown",
   "metadata": {},
   "source": [
    "## Number systems\n",
    "- there are several number systems based on the base digits\n",
    "    - base is number of unique digits number system uses to represent numbers\n",
    "- binary (base 2), octal (base 8), decimal (base 10), hexadecimal (base 16), etc.\n",
    "\n",
    "### Decimal number system\n",
    "- also called Hindu-Arabic number system\n",
    "- most commonly used number system that uses base 10\n",
    "    - has 10 digits or numerals to represent numbers: 0..9\n",
    "    - e.g., 1, 79, 1024, 12345, etc.\n",
    "- numerals representing numbers have different place values depending on position:\n",
    "    - ones ($10^0$), tens($10^1$), hundreds($10^2$), thousands($10^3$), ten thousands($10^4$), etc.\n",
    "    - e.g., 543.21 = $(5\\times10^2)+(4\\times10^1)+(3\\times10^0)+(2\\times10^{-1})+(1\\times10^{-2})$\n",
    "    \n",
    "## Number system conversion\n",
    "- since computers understand only binary, everything (data, code) must be converted into binary\n",
    "- all characaters (alphabets and symbols) are given decimal codes for electronic communication\n",
    "    - these codes are called ASCII (American Standard Code for Information Interchange)\n",
    "    - A -> 65; Z -> 90; a -> 97; z -> 122, * -> 42, etc.\n",
    "    - see ASCII chart: https://en.cppreference.com/w/c/language/ascii\n",
    "\n",
    "### Converting decmial to binary number\n",
    "\n",
    "- algorithm steps:\n",
    "    1. repeteadly divide the decimal number by base $2$ until the quotient becomes $0$\n",
    "        - note remainder for each division\n",
    "    2. collect all the remainders in reverse order\n",
    "        - the first remainder is the last (least significant) digit in binary\n",
    "    \n",
    "- example 1: what is decimal $(10)_{10}$ in binary $(?)_2$ ?\n",
    "    - step 1:\n",
    "    \n",
    "        $\\frac{10}{2}$ = quotient: $5$, remainder: $0$ <br /><br />\n",
    "        $\\frac{5}{2}$  = quotient: $2$, remainder: $1$ <br /><br />\n",
    "        $\\frac{2}{2}$  = quotient: $1$, remainder: $0$ <br /><br />\n",
    "        $\\frac{1}{2}$  = quotient: $0$, remainder: $1$ <br /><br />\n",
    "     \n",
    "    - step 2: \n",
    "         - collect remainders from bottom up: $1010$\n",
    "    - so, $(10)_{10}$ = $(1010)_2$\n",
    "     \n",
    "     \n",
    "- example 2: what is decimal $(13)_{10}$ in $(?)_2$ ?\n",
    "    - step 1:\n",
    "    \n",
    "        $\\frac{13}{2}$ = quotient: $6$, remainder: $1$ <br /><br />\n",
    "        $\\frac{6}{2}$  = quotient $3$, remainder: $0$ <br /><br />\n",
    "        $\\frac{3}{2}$  = quotient: $1$, remainder: $1$ <br /><br />\n",
    "        $\\frac{1}{2}$  = quotient: $0$, remainder: $1$ <br /><br />\n",
    "        \n",
    "    - step 2:\n",
    "         - collect remainders from bottom up: $1101$\n",
    "    - so, $(13)_{10}$ = $(1101)_2$\n",
    "     \n",
    "### Converting binary to decimal number\n",
    "- once the computer does the computation in binary, it needs to convert the results back to decimal number system for humans to understand\n",
    "- algorithm steps:\n",
    "    1. multiply each binary digit by its place value in binary\n",
    "    2. sum all the products\n",
    "\n",
    "- example 1: what is binary $(1010)_2$ in decimal $(?)_{10}?$\n",
    "    - step 1:\n",
    "    \n",
    "        - $0\\times2^0 = 0$\n",
    "        - $1\\times2^1 = 2$\n",
    "        - $0\\times2^2 = 0$\n",
    "        - $1\\times2^3 = 8$\n",
    "    - step 2:\n",
    "        - $0 + 2 + 0 + 8 = 10$\n",
    "    - so, $(1010)_2$ = $(10)_{10}$\n",
    "    \n",
    "    \n",
    "- example 2: what is binary $(1101)_2$ in decimal $(?)_{10}?$\n",
    "    - step 1:\n",
    "    \n",
    "        - $1\\times2^0 = 1$\n",
    "        - $0\\times2^1 = 0$\n",
    "        - $1\\times2^2 = 4$\n",
    "        - $1\\times2^3 = 8$\n",
    "\n",
    "    - step 2:\n",
    "        - $1+0+4+8 = 13$\n",
    "    - so, $(1101)_2$ = $(13)_{10}$\n",
    "- we got the same decimal vales we started from in previous examples\n",
    "- food for thought: think how you'd go about writing a program to convert any positive decimal number into binary and vice versa!"
   ]
  },
  {
   "cell_type": "markdown",
   "metadata": {},
   "source": [
    "## Negative (signed) integers - Two's complement\n",
    "- most common method of storing negative numbers on computers is a mathematical operation called Two's complement\n",
    "- Two's complement of an N-bit number is defined as its complement with respect to $2^N$\n",
    "    - the sum of a number and its two's complement is $2^N$\n",
    "- e.g.: for the 3-bit binary number $010_2$, the two's complement is $110_2$\n",
    "    - because $010_2 + 110_2 = 1000_2 = 2^3_{10}$\n",
    "- Two's complement of N-bit number can be found by flipping each bit and adding one to it\n",
    "- e.g. find two's complement of $010$\n",
    "    - Algorithm steps:\n",
    "        1. flipped each bit; $0$ is flipped to $1$ and $1$ is flipped to $0$\n",
    "\n",
    "        $010 \\rightarrow  101$\n",
    "\n",
    "        2. add 1 to the flipped binary \n",
    "\n",
    "        ```bash\n",
    "            101\n",
    "             +1\n",
    "           -----\n",
    "            110\n",
    "        ```\n",
    "\n",
    "### Example: What is -3 decimal in 8-bit binary representation?\n",
    "\n",
    "1. convert $3_10$ in 8-bit binary\n",
    "\n",
    "    $ 3_{10} \\rightarrow 00000011_{2}$ <br>\n",
    "    \n",
    "2. find Two's complement of 8-bit binary\n",
    "    \n",
    "    $00000011_{2} \\rightarrow 11111100_{2} + 1 = 11111101_{2}$\n",
    "\n",
    "3. Sanity check:\n",
    "    $00000011_{2} + 11111101_{2} = 100000000_{2} = 2^8_{10}$\n",
    "\n",
    "- So, $-3_{10} = 11111101_{2}$ in 8-bit representation"
   ]
  },
  {
   "cell_type": "markdown",
   "metadata": {},
   "source": [
    "## Exercise\n",
    "1. Convert decimal integer 7 into binary with 16 bits."
   ]
  },
  {
   "cell_type": "markdown",
   "metadata": {},
   "source": [
    "2. Convert -7 decimal integer into binary with 16 bits."
   ]
  },
  {
   "cell_type": "markdown",
   "metadata": {},
   "source": [
    "## Variables\n",
    "- programs must load data values into memory to manipulate them\n",
    "- data may be large and used many times during the program\n",
    "    - typing the data values literally all the time is not efficient and fun\n",
    "    - most importantly error prone due to typos\n",
    "    - you may not even know that values may be if they're read from standard input, files, etc.\n",
    "- variables are named memory location where data can be stashed for easy access and manipulation\n",
    "- one can declared and use as many variables as necessary\n",
    "- C++ is statically and strongly typed programming language\n",
    "    - variables are tied to their specific data types that must be explictly declared when declaring variables\n",
    "\n",
    "### Variable declaration\n",
    "- statements that create variables/identifiers to store some data values\n",
    "- as the name says, value of variables can vary/change over time\n",
    "- syntax:\n",
    "```c\n",
    "type varName;\n",
    "type varNam1, varName2, ...; //declare several variables all of the same type\n",
    "```\n",
    "\n",
    "![](resources/VariablesAndMemory.png)\n",
    "\n",
    "### Rules for creating variables\n",
    "- variable names are case sensitive\n",
    "- must declare variables before they can be used\n",
    "- can't define variable with the same name more than once\n",
    "- can't use keywords as variable names\n",
    "- data stored must match the type of variable\n",
    "- variable names can't contain symbols (white spaces, #, &, etc.) except for _ and \\$ (underscore and dollar)\n",
    "- variable names can contain digits but can't start with a digit\n",
    "- variable names can start with only alphabets (lower or upper) and _ symbol\n",
    "\n",
    "### Best practices\n",
    "- use descriptive and meaningful but concise name\n",
    "    - one should know quickly what data you're storing\n",
    "- use lowercase; camelCase or ( _ underscore ) to combine multiple words\n",
    "\n",
    "### C++ keywords\n",
    "- keywords are reserved names and words that have specific purpose in C++\n",
    "    - they can only be used what they're intended for\n",
    "- e.g., char, int, unsigned, signed, float, double, bool, if, for, while, return, struct, class, operator, try, etc.\n",
    "- all C++ keywords are listed here: https://en.cppreference.com/w/cpp/keyword"
   ]
  },
  {
   "cell_type": "code",
   "execution_count": 7,
   "metadata": {},
   "outputs": [],
   "source": [
    "// examples of variable declaration\n",
    "bool done;\n",
    "char middleInitial;\n",
    "char middleinitial; // hard to read all lowercase name\n",
    "int temperature;\n",
    "unsigned int age;\n",
    "long richest_persons_networth;\n",
    "float interestRate;\n",
    "float length;\n",
    "float width;\n",
    "double space_shuttle_velocity;"
   ]
  },
  {
   "cell_type": "code",
   "execution_count": 8,
   "metadata": {},
   "outputs": [],
   "source": [
    "// TODO:\n",
    "// Declare 10 variables of atleast 5 different types"
   ]
  },
  {
   "cell_type": "markdown",
   "metadata": {},
   "source": [
    "### String variables\n",
    "- declare variables that store string data\n",
    "    - 1 or more string of characters\n",
    "- an easy way to use string is by using C++ advanced type defined in `<string>` header file\n",
    "- must include `<string>` header file or library to use string type\n",
    "- must also use **std** namespace\n",
    "- strings are represented using a pair of double quotes (\"string\")\n",
    "- more on string type is covered in **Strings** chapter\n",
    "- the following are some examples of string variables"
   ]
  },
  {
   "cell_type": "code",
   "execution_count": 9,
   "metadata": {},
   "outputs": [],
   "source": [
    "// string variables\n",
    "#include <string>\n",
    "\n",
    "using namespace std;\n",
    "\n",
    "string fullName;\n",
    "string firstName;\n",
    "string address1;\n",
    "string country;\n",
    "string state_name;\n",
    "std::string state_code; // :: name resolution operator"
   ]
  },
  {
   "cell_type": "code",
   "execution_count": 10,
   "metadata": {},
   "outputs": [],
   "source": [
    "// TODO:\n",
    "// Declare 5 string variables"
   ]
  },
  {
   "cell_type": "markdown",
   "metadata": {},
   "source": [
    "## Assignment operator ( = )\n",
    "\n",
    "- once variables are declared, data can be stored using assignment operator, $ = $\n",
    "- **assignment statements** have the following syntax:\n",
    "\n",
    "```cpp\n",
    "varName = value;\n",
    "```\n",
    "- since C++ is a strongly typed language, the type of value must match the type of variable\n",
    "    - strongly typed languages enforces type safety and matching during the compile time"
   ]
  },
  {
   "cell_type": "code",
   "execution_count": 11,
   "metadata": {},
   "outputs": [
    {
     "data": {
      "text/plain": [
       "950.123"
      ]
     },
     "execution_count": 11,
     "metadata": {},
     "output_type": "execute_result"
    }
   ],
   "source": [
    "// assignment examples\n",
    "done = false;\n",
    "middleInitial = 'J'; // character is represent using single quote\n",
    "middleinitial = 'Q';\n",
    "temperature = 73;\n",
    "age = 45;\n",
    "richest_persons_networth = 120000000000; // 120 billion\n",
    "interestRate = 4.5;\n",
    "length = 10.5;\n",
    "width = 99.99f; // number can end with f to represent as float\n",
    "space_shuttle_velocity = 950.1234567891234567; // 16 decimal points"
   ]
  },
  {
   "cell_type": "code",
   "execution_count": 12,
   "metadata": {},
   "outputs": [],
   "source": [
    "// string assignment examples\n",
    "fullName = \"John Doe\";\n",
    "firstName = \"John\";\n",
    "address1 = \"1100 North Avenue\"; // number as string\n",
    "country = \"USA\";\n",
    "state_name = \"Colorado\";\n",
    "state_code = \"CO\";"
   ]
  },
  {
   "cell_type": "code",
   "execution_count": 13,
   "metadata": {},
   "outputs": [],
   "source": [
    "// TODO: assign different values to variables defined above"
   ]
  },
  {
   "cell_type": "markdown",
   "metadata": {},
   "source": [
    "### Variable declartion and initialization\n",
    "- variables can be declared with initial value at the time of construction\n",
    "- if you know what value a variable should start with; this saves you typing\n",
    "- often times its the best practice to initialize variable with default value\n",
    "- several ways to initialize variables: https://en.cppreference.com/w/cpp/language/initialization\n",
    "- two common ways:\n",
    "    1. Copy initialization (using = operator)\n",
    "    2. Value initialization (using { } curley braces)\n",
    "        - also called uniform initialization\n",
    "        - useful in initializing advanced types such as arrays, objects, etc."
   ]
  },
  {
   "cell_type": "code",
   "execution_count": 14,
   "metadata": {},
   "outputs": [],
   "source": [
    "// Copy initialization\n",
    "float price = 2.99f;\n",
    "char MI = 'B'; //middle initial\n",
    "string school_name = \"Grand Junction High\";"
   ]
  },
  {
   "cell_type": "code",
   "execution_count": 15,
   "metadata": {},
   "outputs": [],
   "source": [
    "// Value/uniform initialization\n",
    "char some_letter{'U'};\n",
    "int some_length{100};\n",
    "float some_float{200.99};\n",
    "string some_string = {\"Hello World!\"}; // can also combine the two!"
   ]
  },
  {
   "cell_type": "markdown",
   "metadata": {},
   "source": [
    "### Variable's value can be changed\n",
    "- variable's value can vary through out the program\n",
    "    - hence the name variable\n",
    "- however, type of the value must be same as the type of the variable declared\n",
    "- C++ is a strongly and statically typed programming language!"
   ]
  },
  {
   "cell_type": "code",
   "execution_count": 16,
   "metadata": {},
   "outputs": [],
   "source": [
    "price = 3.99;\n",
    "price = 1.99;\n",
    "MI = 'Q';\n",
    "school_name = \"Fruita Monument High\";\n",
    "some_string = \"Goodbye, World!\";"
   ]
  },
  {
   "cell_type": "code",
   "execution_count": 17,
   "metadata": {},
   "outputs": [
    {
     "name": "stderr",
     "output_type": "stream",
     "text": [
      "\u001b[1minput_line_34:2:10: \u001b[0m\u001b[0;1;31merror: \u001b[0m\u001b[1massigning to 'float' from incompatible type 'const char [5]'\u001b[0m\n",
      " price = \"4.99\";\n",
      "\u001b[0;1;32m         ^~~~~~\n",
      "\u001b[0m"
     ]
    },
    {
     "ename": "Interpreter Error",
     "evalue": "",
     "output_type": "error",
     "traceback": [
      "Interpreter Error: "
     ]
    }
   ],
   "source": [
    "price = \"4.99\"; // is this valid?"
   ]
  },
  {
   "cell_type": "markdown",
   "metadata": {},
   "source": [
    "### auto type\n",
    "- if variable is declared and initialized in one statement, you can use **auto** keyword to let compiler determine type of variable based on the value it's initialized with"
   ]
  },
  {
   "cell_type": "code",
   "execution_count": 18,
   "metadata": {},
   "outputs": [],
   "source": [
    "auto var1 = 10; // integer\n",
    "auto var2 = 19.99f; // float\n",
    "auto var3 = 99.245; // double\n",
    "auto var4 = '@'; // char"
   ]
  },
  {
   "cell_type": "code",
   "execution_count": 19,
   "metadata": {},
   "outputs": [],
   "source": [
    "// char * (pointer) type and not string type\n",
    "auto full_name = \"John Doe\";"
   ]
  },
  {
   "cell_type": "code",
   "execution_count": 20,
   "metadata": {},
   "outputs": [],
   "source": [
    "// can automatically declare string type\n",
    "#include <string>\n",
    "using namespace std;\n",
    "\n",
    "auto full_name1 = string(\"Jake Smith\"); // string type!"
   ]
  },
  {
   "cell_type": "code",
   "execution_count": 21,
   "metadata": {},
   "outputs": [],
   "source": [
    "// use typeid function to find the name of the types\n",
    "// typeid is defined in typeinfo library\n",
    "#include <typeinfo>"
   ]
  },
  {
   "cell_type": "code",
   "execution_count": 22,
   "metadata": {},
   "outputs": [
    {
     "data": {
      "text/plain": [
       "\"NSt3__112basic_stringIcNS_11char_traitsIcEENS_9allocatorIcEEEE\""
      ]
     },
     "execution_count": 22,
     "metadata": {},
     "output_type": "execute_result"
    }
   ],
   "source": [
    "typeid(full_name1).name()"
   ]
  },
  {
   "cell_type": "code",
   "execution_count": 23,
   "metadata": {},
   "outputs": [
    {
     "data": {
      "text/plain": [
       "\"i\""
      ]
     },
     "execution_count": 23,
     "metadata": {},
     "output_type": "execute_result"
    }
   ],
   "source": [
    "// should print \"i\" -> short for integer\n",
    "// Note: may also print invalid memory address in Jupyter notebook!\n",
    "typeid(var1).name()"
   ]
  },
  {
   "cell_type": "markdown",
   "metadata": {},
   "source": [
    "### Visualize variables and memory with [pythontutor.com](http://pythontutor.com/cpp.html#code=%23include%20%3Cstring%3E%0Ausing%20namespace%20std%3B%0A%0Aconst%20double%20PI%20%3D%203.141592653589793238%3B%0A%0Aint%20main%28%29%20%7B%0A%20%20char%20MI%3B%0A%20%20int%20temperature%3B%0A%20%20float%20width%3B%0A%20%20double%20space_shuttle_velocity%3B%0A%20%20string%20fullName%3B%0A%20%20MI%20%3D%20'A'%3B%0A%20%20temperature%20%3D%20-10%3B%0A%20%20float%20length%20%3D%2015.5%3B%0A%20%20double%20distance%7B199.999%7D%3B%0A%20%20space_shuttle_velocity%20%3D%209.9%3B%0A%20%20MI%20%3D%20'Z'%3B%0A%20%20length%20%3D%2099.99f%3B%0A%20%20return%200%3B%0A%7D&curInstr=0&mode=display&origin=opt-frontend.js&py=cpp&rawInputLstJSON=%5B%5D)"
   ]
  },
  {
   "cell_type": "markdown",
   "metadata": {},
   "source": [
    "## Operators\n",
    "- special symbols used to represent simple computations\n",
    "    - like addition, multiplication, modulo, etc.\n",
    "- C++ has operators for numbers, characters, and strings\n",
    "- operators and precedence rule: https://en.cppreference.com/w/cpp/language/operator_precedence\n",
    "- arithmetic operators: https://en.cppreference.com/w/cpp/language/operator_arithmetic\n",
    "\n",
    "### Unary operators\n",
    "- takes one operand\n",
    "- operands are values that operators work on\n",
    "- there are two unary operators for numeric operands\n",
    "\n",
    "| Operator | Symbol | Syntax | Operation |\n",
    "|--- | --- | --- | --- |\n",
    "| positive | + | +100 | positive 100 (default) |\n",
    "| negative | - | -23.45 | negative 23.45 |\n",
    "\n",
    "\n",
    "### Binary operators\n",
    "- binary operators take two operands (left operator right)\n",
    "- the following table shows the binary operators for numeric operands\n",
    "\n",
    "| Operator | Symbol | Name | Syntax | Operation |\n",
    "|--- | --- | --- | --- | --|\n",
    "| add | + | plus |x + y | add the value of y with the value of x\n",
    "| subtract | - | hyphen | x - y | subtract y from x |\n",
    "| multiply | \\* | asterick | x \\* y | product of x and y |\n",
    "| divide | / | slash | x / y | divide x by y (int division if x and y are both ints) |\n",
    "| modulo | % | percent | x % y | remainder when x is divided by y |\n",
    "\n",
    "### Adding numbers\n",
    "- `+` symbol is used to add literal values or variables"
   ]
  },
  {
   "cell_type": "code",
   "execution_count": 24,
   "metadata": {},
   "outputs": [
    {
     "data": {
      "text/plain": [
       "0"
      ]
     },
     "execution_count": 24,
     "metadata": {},
     "output_type": "execute_result"
    }
   ],
   "source": [
    "// adding literal integer values\n",
    "+1 + (-1)"
   ]
  },
  {
   "cell_type": "code",
   "execution_count": 25,
   "metadata": {},
   "outputs": [
    {
     "data": {
      "text/plain": [
       "100"
      ]
     },
     "execution_count": 25,
     "metadata": {},
     "output_type": "execute_result"
    }
   ],
   "source": [
    "// adding literal floating points\n",
    "99.9 + 0.1"
   ]
  },
  {
   "cell_type": "code",
   "execution_count": 26,
   "metadata": {},
   "outputs": [],
   "source": [
    "// adding int variables\n",
    "int num1, num2, sum;"
   ]
  },
  {
   "cell_type": "code",
   "execution_count": 27,
   "metadata": {},
   "outputs": [],
   "source": [
    "num1 = 10;\n",
    "num2 = 5;\n",
    "sum = num1 + num2;"
   ]
  },
  {
   "cell_type": "code",
   "execution_count": 28,
   "metadata": {},
   "outputs": [
    {
     "data": {
      "text/plain": [
       "15"
      ]
     },
     "execution_count": 28,
     "metadata": {},
     "output_type": "execute_result"
    }
   ],
   "source": [
    "// let's see the value of sum\n",
    "sum"
   ]
  },
  {
   "cell_type": "code",
   "execution_count": 29,
   "metadata": {},
   "outputs": [],
   "source": [
    "// adding float variables\n",
    "float n1 = 3.5;\n",
    "float n2 = 2.5;\n",
    "float total = n1+n2;"
   ]
  },
  {
   "cell_type": "code",
   "execution_count": 30,
   "metadata": {},
   "outputs": [
    {
     "data": {
      "text/plain": [
       "6f"
      ]
     },
     "execution_count": 30,
     "metadata": {},
     "output_type": "execute_result"
    }
   ],
   "source": [
    "// see total values\n",
    "total"
   ]
  },
  {
   "cell_type": "markdown",
   "metadata": {},
   "source": [
    "### Subtracting numbers\n",
    "- `-` symbol is used to subtract literal numbers or variables"
   ]
  },
  {
   "cell_type": "code",
   "execution_count": 31,
   "metadata": {},
   "outputs": [
    {
     "data": {
      "text/plain": [
       "9"
      ]
     },
     "execution_count": 31,
     "metadata": {},
     "output_type": "execute_result"
    }
   ],
   "source": [
    "// subtracting literal integers\n",
    "10-1"
   ]
  },
  {
   "cell_type": "code",
   "execution_count": 32,
   "metadata": {},
   "outputs": [
    {
     "data": {
      "text/plain": [
       "89"
      ]
     },
     "execution_count": 32,
     "metadata": {},
     "output_type": "execute_result"
    }
   ],
   "source": [
    "// subtracting literal floating points\n",
    "99.99 - 10.99"
   ]
  },
  {
   "cell_type": "code",
   "execution_count": 33,
   "metadata": {},
   "outputs": [
    {
     "data": {
      "text/plain": [
       "5"
      ]
     },
     "execution_count": 33,
     "metadata": {},
     "output_type": "execute_result"
    }
   ],
   "source": [
    "// subtracting variables\n",
    "num1-num2"
   ]
  },
  {
   "cell_type": "markdown",
   "metadata": {},
   "source": [
    "### Multiplying numbers\n",
    "- `*` asterick symbol is used to multipy literal numbers and variables"
   ]
  },
  {
   "cell_type": "code",
   "execution_count": 34,
   "metadata": {},
   "outputs": [
    {
     "data": {
      "text/plain": [
       "6"
      ]
     },
     "execution_count": 34,
     "metadata": {},
     "output_type": "execute_result"
    }
   ],
   "source": [
    "// multiplying literal integers\n",
    "2*3"
   ]
  },
  {
   "cell_type": "code",
   "execution_count": 35,
   "metadata": {},
   "outputs": [
    {
     "data": {
      "text/plain": [
       "5"
      ]
     },
     "execution_count": 35,
     "metadata": {},
     "output_type": "execute_result"
    }
   ],
   "source": [
    "// multiplying literatl floats\n",
    "2.5 * 2.0"
   ]
  },
  {
   "cell_type": "code",
   "execution_count": 36,
   "metadata": {},
   "outputs": [
    {
     "data": {
      "text/plain": [
       "8.75f"
      ]
     },
     "execution_count": 36,
     "metadata": {},
     "output_type": "execute_result"
    }
   ],
   "source": [
    "// multiplying numeric variables\n",
    "n1*n2"
   ]
  },
  {
   "cell_type": "markdown",
   "metadata": {},
   "source": [
    "### Dividing numbers\n",
    "- `/` symbol is used to divide literal numbers and variables"
   ]
  },
  {
   "cell_type": "code",
   "execution_count": 37,
   "metadata": {},
   "outputs": [
    {
     "data": {
      "text/plain": [
       "5"
      ]
     },
     "execution_count": 37,
     "metadata": {},
     "output_type": "execute_result"
    }
   ],
   "source": [
    "// dividing literal integers\n",
    "10/2"
   ]
  },
  {
   "cell_type": "code",
   "execution_count": 38,
   "metadata": {},
   "outputs": [
    {
     "data": {
      "text/plain": [
       "4"
      ]
     },
     "execution_count": 38,
     "metadata": {},
     "output_type": "execute_result"
    }
   ],
   "source": [
    "9/2 // integer division; remainder is discarded"
   ]
  },
  {
   "cell_type": "code",
   "execution_count": 39,
   "metadata": {},
   "outputs": [
    {
     "data": {
      "text/plain": [
       "4.5"
      ]
     },
     "execution_count": 39,
     "metadata": {},
     "output_type": "execute_result"
    }
   ],
   "source": [
    "// dividing literal floats\n",
    "// if one of the operands is floating point number, C++ performs float division\n",
    "9.0/2"
   ]
  },
  {
   "cell_type": "code",
   "execution_count": 40,
   "metadata": {},
   "outputs": [
    {
     "data": {
      "text/plain": [
       "1.4f"
      ]
     },
     "execution_count": 40,
     "metadata": {},
     "output_type": "execute_result"
    }
   ],
   "source": [
    "// dividing numeric variables\n",
    "n1/n2"
   ]
  },
  {
   "cell_type": "markdown",
   "metadata": {},
   "source": [
    "### Capturing remainder from a division\n",
    "- use modulo or remainder ( **%** ) operator to find the remainder of literal values or variables\n",
    "- only works on positive integers"
   ]
  },
  {
   "cell_type": "code",
   "execution_count": 41,
   "metadata": {},
   "outputs": [
    {
     "data": {
      "text/plain": [
       "1"
      ]
     },
     "execution_count": 41,
     "metadata": {},
     "output_type": "execute_result"
    }
   ],
   "source": [
    "// modulo or remainder operator\n",
    "5%2 // testing for odd number"
   ]
  },
  {
   "cell_type": "code",
   "execution_count": 42,
   "metadata": {},
   "outputs": [
    {
     "data": {
      "text/plain": [
       "0"
      ]
     },
     "execution_count": 42,
     "metadata": {},
     "output_type": "execute_result"
    }
   ],
   "source": [
    "4%2 // testing for even number"
   ]
  },
  {
   "cell_type": "code",
   "execution_count": 43,
   "metadata": {},
   "outputs": [
    {
     "data": {
      "text/plain": [
       "10"
      ]
     },
     "execution_count": 43,
     "metadata": {},
     "output_type": "execute_result"
    }
   ],
   "source": [
    "// can't divide 10 by 11\n",
    "10%11"
   ]
  },
  {
   "cell_type": "code",
   "execution_count": 44,
   "metadata": {},
   "outputs": [],
   "source": [
    "// expressions with variables and literals\n",
    "// declare some variables\n",
    "int hour, minute;"
   ]
  },
  {
   "cell_type": "code",
   "execution_count": 45,
   "metadata": {},
   "outputs": [],
   "source": [
    "// assign some values\n",
    "hour = 11;\n",
    "minute = 59;"
   ]
  },
  {
   "cell_type": "code",
   "execution_count": 46,
   "metadata": {},
   "outputs": [
    {
     "data": {
      "text/plain": [
       "719"
      ]
     },
     "execution_count": 46,
     "metadata": {},
     "output_type": "execute_result"
    }
   ],
   "source": [
    "// Number of minutes since midnight\n",
    "hour * 60 + minute"
   ]
  },
  {
   "cell_type": "code",
   "execution_count": 47,
   "metadata": {},
   "outputs": [
    {
     "data": {
      "text/plain": [
       "0"
      ]
     },
     "execution_count": 47,
     "metadata": {},
     "output_type": "execute_result"
    }
   ],
   "source": [
    "// Fraction of the hour that has passed\n",
    "minute/60"
   ]
  },
  {
   "cell_type": "markdown",
   "metadata": {},
   "source": [
    "### Exercise\n",
    "- How many hours and minutes are in 121 minutes?"
   ]
  },
  {
   "cell_type": "markdown",
   "metadata": {},
   "source": [
    "### Bitwise operators\n",
    "- https://www.learncpp.com/cpp-tutorial/38-bitwise-operators/\n",
    "- bitwise operators work on binary numbers (bits)\n",
    "    - integers are implicitly converted into binary and then bitwise operations are applied\n",
    "- bitwise operations are used in lower-level programming such as device drivers, low-level graphics, communications protocol packet assembly, encoding and decoding data, encryption technologies, etc.\n",
    "- a lot of integer arithmetic computations can be carried our much more efficiently using bitwise operations\n",
    "\n",
    "| Operator | Symbol | Symbol Name | Syntax |\tOperation |\n",
    "|------| ------ | ---- | ---- | --- |\n",
    "|bitwise left shift\t| << |\tleft angular bracket | x << y\t| all bits in x shifted left y bits; multiplication by $2^y$\n",
    "|bitwise right shift |\t>> | right angular bracket |x >> y\t| all bits in x shifted right y bits; division by $2^y$\n",
    "bitwise NOT\t| ~\t| tilde | ~x\t| all bits in x flipped\n",
    "|bitwise AND |\t& |\tampersand | x & y |\teach bit in x AND each bit in y\n",
    "|bitwise OR\t| \\| |\tpipe | x \\| y\t| each bit in x OR each bit in y\n",
    "bitwise XOR | ^ |\tcaret | x ^ y |\teach bit in x XOR each bit in y"
   ]
  },
  {
   "cell_type": "markdown",
   "metadata": {},
   "source": [
    "### Table for bitwise operations\n",
    "\n",
    "#### & - bitwise AND\n",
    "| x | y | x & y |\n",
    "|:---:|:---:|:---:|\n",
    "| 1 | 1 | 1 | 1 |\n",
    "| 1 | 0 | 0 | 0 |\n",
    "| 0 | 1 | 0 | 0 |\n",
    "| 0 | 0 | 0 | 0 |\n",
    "\n",
    "#### | - bitwise OR\n",
    "| x | y | x \\| y |\n",
    "|:---:|:---:|:---:|\n",
    "| 1 | 1 | 1 |\n",
    "| 1 | 0 | 1 |\n",
    "| 0 | 1 | 1 |\n",
    "| 0 | 0 | 0 |\n",
    "\n",
    "#### ~ - bitwise NOT\n",
    "| x | ~x |\n",
    "|:---:|:---:|\n",
    "| 1 | 0 |\n",
    "| 0 | 1 |\n",
    "\n",
    "#### ^ - bitwise XOR\n",
    "| x | y | x ^ y |\n",
    "|:---:|:---:|:---:|\n",
    "| 1 | 1 | 0 |\n",
    "| 1 | 0 | 1 |\n",
    "| 0 | 1 | 1 |\n",
    "| 0 | 0 | 0 |\n",
    "\n",
    "#### bitwise left shift examples"
   ]
  },
  {
   "cell_type": "code",
   "execution_count": 1,
   "metadata": {},
   "outputs": [
    {
     "data": {
      "text/plain": [
       "16"
      ]
     },
     "execution_count": 1,
     "metadata": {},
     "output_type": "execute_result"
    }
   ],
   "source": [
    "// convert 1 decimal to binary and shift left by 4 bits\n",
    "1 << 4 // same as 1*2*2*2*2; result is in decimal"
   ]
  },
  {
   "cell_type": "markdown",
   "metadata": {},
   "source": [
    "#### Explanation\n",
    "- Note: in the given example, binary uses 32-bit to represent decmial\n",
    "\n",
    "- $1_{10} = 00000000000000000000000000000001_2$\n",
    "- $1 << 4$ = $000000000000000000000000000010000 = 2^4 = 16_{10}$"
   ]
  },
  {
   "cell_type": "code",
   "execution_count": 1,
   "metadata": {},
   "outputs": [
    {
     "data": {
      "text/plain": [
       "48"
      ]
     },
     "execution_count": 1,
     "metadata": {},
     "output_type": "execute_result"
    }
   ],
   "source": [
    "3 << 4 // same as 3*2*2*2*2 or 3*2^4"
   ]
  },
  {
   "cell_type": "markdown",
   "metadata": {},
   "source": [
    "#### Explanation\n",
    "\n",
    "- $3_{10} = 00000000000000000000000000000011_2$\n",
    "- $3 << 4 = 00000000000000000000000000110000_2 = 2^5+2^4 = 32+16 = 48_{10}$\n",
    "\n",
    "#### Bitwise right shit examples"
   ]
  },
  {
   "cell_type": "code",
   "execution_count": 50,
   "metadata": {},
   "outputs": [
    {
     "data": {
      "text/plain": [
       "1"
      ]
     },
     "execution_count": 50,
     "metadata": {},
     "output_type": "execute_result"
    }
   ],
   "source": [
    "1024 >> 10 // same as 1024/2/2/2/2/2/2/2/2/2/2"
   ]
  },
  {
   "cell_type": "markdown",
   "metadata": {},
   "source": [
    "#### Explanation\n",
    "\n",
    "- $1024_{10} = 00000000000000000000010000000000_2$\n",
    "- $1024 >> 10 = 00000000000000000000000000000001 = 2^0 = 1_{10}$\n",
    "\n",
    "#### Bitwise NOT examples"
   ]
  },
  {
   "cell_type": "code",
   "execution_count": 52,
   "metadata": {},
   "outputs": [
    {
     "data": {
      "text/plain": [
       "-1"
      ]
     },
     "execution_count": 52,
     "metadata": {},
     "output_type": "execute_result"
    }
   ],
   "source": [
    "~0 // result shown is in decimal!"
   ]
  },
  {
   "cell_type": "code",
   "execution_count": 51,
   "metadata": {},
   "outputs": [
    {
     "data": {
      "text/plain": [
       "-2"
      ]
     },
     "execution_count": 51,
     "metadata": {},
     "output_type": "execute_result"
    }
   ],
   "source": [
    "~1 // Note: 1 in binary using 32-bit width (31 0s and 1) 00000....1\n",
    "// result shown is in decimal"
   ]
  },
  {
   "cell_type": "markdown",
   "metadata": {},
   "source": [
    "#### Explanation\n",
    "\n",
    "- $0_{10} = 00000000000000000000000000000000_2$\n",
    "- $1_{10} = 00000000000000000000000000000001_2$\n",
    "- $-1_{10} = 11111111111111111111111111111111_2$\n",
    "- $2_{10} = 00000000000000000000000000000010_2$\n",
    "- $-2_{10} = 11111111111111111111111111111110_2$\n",
    "- Note: -ve numbers are stored in Two's complement\n",
    "    - 2's complement is calculated by flipping each bit and adding 1 to the binary of positive integer"
   ]
  },
  {
   "cell_type": "markdown",
   "metadata": {},
   "source": [
    "#### Bitwise AND examples"
   ]
  },
  {
   "cell_type": "code",
   "execution_count": 53,
   "metadata": {},
   "outputs": [
    {
     "data": {
      "text/plain": [
       "1"
      ]
     },
     "execution_count": 53,
     "metadata": {},
     "output_type": "execute_result"
    }
   ],
   "source": [
    "1 & 1"
   ]
  },
  {
   "cell_type": "code",
   "execution_count": 54,
   "metadata": {},
   "outputs": [
    {
     "data": {
      "text/plain": [
       "0"
      ]
     },
     "execution_count": 54,
     "metadata": {},
     "output_type": "execute_result"
    }
   ],
   "source": [
    "1 & 0"
   ]
  },
  {
   "cell_type": "code",
   "execution_count": 55,
   "metadata": {},
   "outputs": [
    {
     "data": {
      "text/plain": [
       "0"
      ]
     },
     "execution_count": 55,
     "metadata": {},
     "output_type": "execute_result"
    }
   ],
   "source": [
    "0 & 1"
   ]
  },
  {
   "cell_type": "code",
   "execution_count": 56,
   "metadata": {},
   "outputs": [
    {
     "data": {
      "text/plain": [
       "0"
      ]
     },
     "execution_count": 56,
     "metadata": {},
     "output_type": "execute_result"
    }
   ],
   "source": [
    "0 & 0"
   ]
  },
  {
   "cell_type": "markdown",
   "metadata": {},
   "source": [
    "#### Bitwise OR examples"
   ]
  },
  {
   "cell_type": "code",
   "execution_count": 57,
   "metadata": {},
   "outputs": [
    {
     "data": {
      "text/plain": [
       "1"
      ]
     },
     "execution_count": 57,
     "metadata": {},
     "output_type": "execute_result"
    }
   ],
   "source": [
    "1 | 1"
   ]
  },
  {
   "cell_type": "code",
   "execution_count": 58,
   "metadata": {},
   "outputs": [
    {
     "data": {
      "text/plain": [
       "1"
      ]
     },
     "execution_count": 58,
     "metadata": {},
     "output_type": "execute_result"
    }
   ],
   "source": [
    "1 | 0"
   ]
  },
  {
   "cell_type": "code",
   "execution_count": 59,
   "metadata": {},
   "outputs": [
    {
     "data": {
      "text/plain": [
       "1"
      ]
     },
     "execution_count": 59,
     "metadata": {},
     "output_type": "execute_result"
    }
   ],
   "source": [
    "0 | 1"
   ]
  },
  {
   "cell_type": "code",
   "execution_count": 60,
   "metadata": {},
   "outputs": [
    {
     "data": {
      "text/plain": [
       "0"
      ]
     },
     "execution_count": 60,
     "metadata": {},
     "output_type": "execute_result"
    }
   ],
   "source": [
    "0 | 0"
   ]
  },
  {
   "cell_type": "markdown",
   "metadata": {},
   "source": [
    "#### Bitwise XOR examples"
   ]
  },
  {
   "cell_type": "code",
   "execution_count": 61,
   "metadata": {},
   "outputs": [
    {
     "data": {
      "text/plain": [
       "0"
      ]
     },
     "execution_count": 61,
     "metadata": {},
     "output_type": "execute_result"
    }
   ],
   "source": [
    "1 ^ 1"
   ]
  },
  {
   "cell_type": "code",
   "execution_count": 62,
   "metadata": {},
   "outputs": [
    {
     "data": {
      "text/plain": [
       "1"
      ]
     },
     "execution_count": 62,
     "metadata": {},
     "output_type": "execute_result"
    }
   ],
   "source": [
    "1 ^ 0"
   ]
  },
  {
   "cell_type": "code",
   "execution_count": 63,
   "metadata": {},
   "outputs": [
    {
     "data": {
      "text/plain": [
       "1"
      ]
     },
     "execution_count": 63,
     "metadata": {},
     "output_type": "execute_result"
    }
   ],
   "source": [
    "0 ^ 1"
   ]
  },
  {
   "cell_type": "code",
   "execution_count": 64,
   "metadata": {},
   "outputs": [
    {
     "data": {
      "text/plain": [
       "0"
      ]
     },
     "execution_count": 64,
     "metadata": {},
     "output_type": "execute_result"
    }
   ],
   "source": [
    "0 ^ 0"
   ]
  },
  {
   "cell_type": "markdown",
   "metadata": {},
   "source": [
    "## Order of operations\n",
    "- expressions may have more than one operators\n",
    "- the order of evaluation depends on the rules of precedence\n",
    "\n",
    "### PEMDAS\n",
    "- acronym for order of operations from highest to lowest\n",
    "    1. **P** : Parenthesis\n",
    "    - **E** : Exponentiation\n",
    "    - **M** : Multiplication\n",
    "    - **D** : Division\n",
    "    - **A** : Addition\n",
    "    - **S** : Subtraction\n",
    "- when in doubt, use parenthesis!"
   ]
  },
  {
   "cell_type": "code",
   "execution_count": 18,
   "metadata": {},
   "outputs": [
    {
     "data": {
      "text/plain": [
       "6"
      ]
     },
     "execution_count": 18,
     "metadata": {},
     "output_type": "execute_result"
    }
   ],
   "source": [
    "// computation is similar to what we know from Elementary Math\n",
    "2+3*4/2-2"
   ]
  },
  {
   "cell_type": "code",
   "execution_count": 2,
   "metadata": {},
   "outputs": [
    {
     "data": {
      "text/plain": [
       "6"
      ]
     },
     "execution_count": 2,
     "metadata": {},
     "output_type": "execute_result"
    }
   ],
   "source": [
    "// same as\n",
    "(2+((3*4)/2))-2"
   ]
  },
  {
   "cell_type": "code",
   "execution_count": 29,
   "metadata": {},
   "outputs": [
    {
     "data": {
      "text/plain": [
       "20"
      ]
     },
     "execution_count": 29,
     "metadata": {},
     "output_type": "execute_result"
    }
   ],
   "source": [
    "(2+3)*4/(2-1) // Note: must use * to multiply after ( )"
   ]
  },
  {
   "cell_type": "code",
   "execution_count": 3,
   "metadata": {},
   "outputs": [
    {
     "name": "stderr",
     "output_type": "stream",
     "text": [
      "\u001b[1minput_line_13:2:7: \u001b[0m\u001b[0;1;31merror: \u001b[0m\u001b[1mexpected ';' after expression\u001b[0m\n",
      " (2+3)4/(2-1)\n",
      "\u001b[0;1;32m      ^\n",
      "\u001b[0m\u001b[0;32m      ;\n",
      "\u001b[0m"
     ]
    },
    {
     "ename": "Interpreter Error",
     "evalue": "",
     "output_type": "error",
     "traceback": [
      "Interpreter Error: "
     ]
    }
   ],
   "source": [
    "(2+3)4/(2-1) // error"
   ]
  },
  {
   "cell_type": "markdown",
   "metadata": {},
   "source": [
    "## Operators for characters\n",
    "- mathematical operators also work on characters\n",
    "- characters' ASCII values are used in computations\n",
    "- C++, when safe, converts from one type to another; called type **coercion**\n",
    "    - characters are converted into their corresponding integer ASCII values\n",
    "    - **coercion** is safe when data is not lost, e.g. converting int to float"
   ]
  },
  {
   "cell_type": "code",
   "execution_count": 30,
   "metadata": {},
   "outputs": [
    {
     "data": {
      "text/plain": [
       "98"
      ]
     },
     "execution_count": 30,
     "metadata": {},
     "output_type": "execute_result"
    }
   ],
   "source": [
    "'a'+1 // a -> 97"
   ]
  },
  {
   "cell_type": "code",
   "execution_count": 31,
   "metadata": {},
   "outputs": [
    {
     "data": {
      "text/plain": [
       "64"
      ]
     },
     "execution_count": 31,
     "metadata": {},
     "output_type": "execute_result"
    }
   ],
   "source": [
    "'A'-1 // A -> 65"
   ]
  },
  {
   "cell_type": "code",
   "execution_count": 24,
   "metadata": {},
   "outputs": [
    {
     "data": {
      "text/plain": [
       "650"
      ]
     },
     "execution_count": 24,
     "metadata": {},
     "output_type": "execute_result"
    }
   ],
   "source": [
    "'A'*10"
   ]
  },
  {
   "cell_type": "code",
   "execution_count": 33,
   "metadata": {},
   "outputs": [
    {
     "data": {
      "text/plain": [
       "6"
      ]
     },
     "execution_count": 33,
     "metadata": {},
     "output_type": "execute_result"
    }
   ],
   "source": [
    "'A'/10"
   ]
  },
  {
   "cell_type": "code",
   "execution_count": 34,
   "metadata": {},
   "outputs": [
    {
     "data": {
      "text/plain": [
       "130"
      ]
     },
     "execution_count": 34,
     "metadata": {},
     "output_type": "execute_result"
    }
   ],
   "source": [
    "'A'+'A'"
   ]
  },
  {
   "cell_type": "markdown",
   "metadata": {},
   "source": [
    "## Operators for strings\n",
    "- certain operators are defined or overloaded for string types\n",
    "    - more on user defined advanced types and operator overloading later\n",
    "- **+** : concatenates or joins two strings giving a new longer string"
   ]
  },
  {
   "cell_type": "code",
   "execution_count": 36,
   "metadata": {},
   "outputs": [],
   "source": [
    "// variables can be declared and intitialized at the same time\n",
    "#include <iostream>\n",
    "#include <string>\n",
    "using namespace std;\n",
    "\n",
    "string fName = \"John\";\n",
    "string lName = \"Smith\";\n",
    "string space = \" \";\n",
    "string fullName = fName + space + lName;"
   ]
  },
  {
   "cell_type": "code",
   "execution_count": 38,
   "metadata": {},
   "outputs": [
    {
     "data": {
      "text/plain": [
       "\"John Smith\""
      ]
     },
     "execution_count": 38,
     "metadata": {},
     "output_type": "execute_result"
    }
   ],
   "source": [
    "fullName"
   ]
  },
  {
   "cell_type": "markdown",
   "metadata": {},
   "source": [
    "## Constants\n",
    "- constants are named values that remain unchanged through out the program\n",
    "- useful for declaring values that are fixed\n",
    "    - e.g. value of $\\pi$, earth's gravity, unit conversions, etc.\n",
    "- two ways to define constants in C++\n",
    "    1. use **const** keyword infront of an identifier\n",
    "        - syntax:\n",
    "        ```cpp\n",
    "        const type identifier = value;\n",
    "        ```\n",
    "    2. use **#define** preprocessor directive\n",
    "        - syntax:\n",
    "        ```cpp\n",
    "        #define identifier value\n",
    "        ```\n",
    "        - after an identifier has been defined with a value, preprocessor replaces each occurances of PI with value"
   ]
  },
  {
   "cell_type": "code",
   "execution_count": 40,
   "metadata": {},
   "outputs": [],
   "source": [
    "const double pi = 22/7.0; // evaluate 22/7.0 and use it as the const value for pi\n",
    "const float earth_gravity = 9.8; // m/s^2 unit"
   ]
  },
  {
   "cell_type": "code",
   "execution_count": 41,
   "metadata": {},
   "outputs": [
    {
     "data": {
      "text/plain": [
       "3.1428571"
      ]
     },
     "execution_count": 41,
     "metadata": {},
     "output_type": "execute_result"
    }
   ],
   "source": [
    "// let's see the value of constant pi\n",
    "pi"
   ]
  },
  {
   "cell_type": "code",
   "execution_count": 42,
   "metadata": {},
   "outputs": [
    {
     "name": "stderr",
     "output_type": "stream",
     "text": [
      "\u001b[1minput_line_83:3:4: \u001b[0m\u001b[0;1;31merror: \u001b[0m\u001b[1mcannot assign to variable 'pi' with const-qualified type 'const double'\u001b[0m\n",
      "pi = 3.141592653589793238;\n",
      "\u001b[0;1;32m~~ ^\n",
      "\u001b[0m\u001b[1minput_line_80:2:15: \u001b[0m\u001b[0;1;30mnote: \u001b[0mvariable 'pi' declared const here\u001b[0m\n",
      " const double pi = 22/7.0; // evaluate 22/7.0 and use it as the const value for pi\n",
      "\u001b[0;1;32m ~~~~~~~~~~~~~^~~~~~~~~~~\n",
      "\u001b[0m"
     ]
    },
    {
     "ename": "Interpreter Error",
     "evalue": "",
     "output_type": "error",
     "traceback": [
      "Interpreter Error: "
     ]
    }
   ],
   "source": [
    "// try to assign different value to the constant pi\n",
    "pi = 3.141592653589793238;"
   ]
  },
  {
   "cell_type": "code",
   "execution_count": 43,
   "metadata": {},
   "outputs": [],
   "source": [
    "// let's use constants\n",
    "double radius = 10.5;\n",
    "double area_of_circle = pi*radius*radius;"
   ]
  },
  {
   "cell_type": "code",
   "execution_count": 44,
   "metadata": {},
   "outputs": [
    {
     "data": {
      "text/plain": [
       "346.50000"
      ]
     },
     "execution_count": 44,
     "metadata": {},
     "output_type": "execute_result"
    }
   ],
   "source": [
    "// value of area of circle\n",
    "area_of_circle"
   ]
  },
  {
   "cell_type": "code",
   "execution_count": 45,
   "metadata": {},
   "outputs": [],
   "source": [
    "// preprocessor directive to declare named constant\n",
    "#define PI 3.141592653589793238"
   ]
  },
  {
   "cell_type": "code",
   "execution_count": 46,
   "metadata": {},
   "outputs": [
    {
     "data": {
      "text/plain": [
       "346.36059"
      ]
     },
     "execution_count": 46,
     "metadata": {},
     "output_type": "execute_result"
    }
   ],
   "source": [
    "PI*radius*radius"
   ]
  },
  {
   "cell_type": "markdown",
   "metadata": {},
   "source": [
    "### floating point operation accuracy\n",
    "- floating point calculations may not be always $100\\%$ accurate\n",
    "- you have to choose the accuracy upto certain decimal points to accept the results as correct\n",
    "- [google area of circle](https://www.google.com/search?q=area+of+a+circle&oq=area+of+a+ci&aqs=chrome.0.0l2j69i57j0l5.1840j0j7&sourceid=chrome&ie=UTF-8)\n",
    "    - use same radius $10.5$ and compare the results provided above"
   ]
  },
  {
   "cell_type": "markdown",
   "metadata": {},
   "source": [
    "## Type casting\n",
    "- data values need to be converted from one type to another to get correct results\n",
    "- explictly converting one type into another is called **type casting**\n",
    "- implict conversion is called **coercion**\n",
    "- not all values can be converted from one type to another!\n",
    "\n",
    "### Converting numeric values to string type\n",
    "- use `to_string(value)` function to convert `value` to `string`\n",
    "- must include `<string>` header and **std** namespace"
   ]
  },
  {
   "cell_type": "code",
   "execution_count": 6,
   "metadata": {},
   "outputs": [],
   "source": [
    "#include <string>\n",
    "using namespace std;\n",
    "\n",
    "string str_val = to_string(99); // 99 is casted \"99\" and the value is assigned to str_val"
   ]
  },
  {
   "cell_type": "code",
   "execution_count": 2,
   "metadata": {},
   "outputs": [
    {
     "data": {
      "text/plain": [
       "\"99\""
      ]
     },
     "execution_count": 2,
     "metadata": {},
     "output_type": "execute_result"
    }
   ],
   "source": [
    "str_val"
   ]
  },
  {
   "cell_type": "code",
   "execution_count": 3,
   "metadata": {},
   "outputs": [],
   "source": [
    "// typeinfo library can be used to know the name of data types\n",
    "#include <typeinfo>"
   ]
  },
  {
   "cell_type": "code",
   "execution_count": 5,
   "metadata": {},
   "outputs": [
    {
     "data": {
      "text/plain": [
       "\"NSt3__112basic_stringIcNS_11char_traitsIcEENS_9allocatorIcEEEE\""
      ]
     },
     "execution_count": 5,
     "metadata": {},
     "output_type": "execute_result"
    }
   ],
   "source": [
    "// typeid operator is defined in typeinfo library\n",
    "typeid(str_val).name()"
   ]
  },
  {
   "cell_type": "code",
   "execution_count": 7,
   "metadata": {},
   "outputs": [],
   "source": [
    "int whole_num = 1234;\n",
    "string str_val1 = to_string(whole_num);"
   ]
  },
  {
   "cell_type": "code",
   "execution_count": 8,
   "metadata": {},
   "outputs": [
    {
     "data": {
      "text/plain": [
       "\"1234\""
      ]
     },
     "execution_count": 8,
     "metadata": {},
     "output_type": "execute_result"
    }
   ],
   "source": [
    "str_val1"
   ]
  },
  {
   "cell_type": "code",
   "execution_count": 7,
   "metadata": {},
   "outputs": [],
   "source": [
    "float float_num = 129.99f;\n",
    "string str_num1 = to_string(float_num);"
   ]
  },
  {
   "cell_type": "code",
   "execution_count": 8,
   "metadata": {},
   "outputs": [
    {
     "data": {
      "text/plain": [
       "\"129.990005\""
      ]
     },
     "execution_count": 8,
     "metadata": {},
     "output_type": "execute_result"
    }
   ],
   "source": [
    "str_num1"
   ]
  },
  {
   "cell_type": "code",
   "execution_count": 12,
   "metadata": {},
   "outputs": [],
   "source": [
    "string str_val2 = to_string('A'); // uses ASCII value"
   ]
  },
  {
   "cell_type": "code",
   "execution_count": 13,
   "metadata": {},
   "outputs": [
    {
     "data": {
      "text/plain": [
       "\"65\""
      ]
     },
     "execution_count": 13,
     "metadata": {},
     "output_type": "execute_result"
    }
   ],
   "source": [
    "str_val2"
   ]
  },
  {
   "cell_type": "markdown",
   "metadata": {},
   "source": [
    "### Converting string values to numeric types\n",
    "- certain values can be converted into numeric types such as int, float, double, etc.\n",
    "- `<cstdlib>` provides some functions for us to convert c-string to numeric data\n",
    "- more on `<cstdlib>`: http://www.cplusplus.com/reference/cstdlib\n",
    "- `atoi(\"value\")` converts string `value` to integer\n",
    "    - converts all leading consecutive digits as integer\n",
    "- `atof(\"value\")` converts string `value` to double\n",
    "- must include `<cstdlib>` library to use its functions\n",
    "    - converts all leading consecutive digits and period as floating point number"
   ]
  },
  {
   "cell_type": "code",
   "execution_count": 28,
   "metadata": {},
   "outputs": [],
   "source": [
    "#include <cstdlib> //atoi and atof"
   ]
  },
  {
   "cell_type": "code",
   "execution_count": 22,
   "metadata": {},
   "outputs": [
    {
     "data": {
      "text/plain": [
       "120"
      ]
     },
     "execution_count": 22,
     "metadata": {},
     "output_type": "execute_result"
    }
   ],
   "source": [
    "// converting string to integers\n",
    "atoi(\"120\")"
   ]
  },
  {
   "cell_type": "code",
   "execution_count": 23,
   "metadata": {},
   "outputs": [
    {
     "data": {
      "text/plain": [
       "43543"
      ]
     },
     "execution_count": 23,
     "metadata": {},
     "output_type": "execute_result"
    }
   ],
   "source": [
    "atoi(\"43543 alphabets\")"
   ]
  },
  {
   "cell_type": "code",
   "execution_count": 1,
   "metadata": {},
   "outputs": [
    {
     "data": {
      "text/plain": [
       "0"
      ]
     },
     "execution_count": 1,
     "metadata": {},
     "output_type": "execute_result"
    }
   ],
   "source": [
    "atoi(\"text 123\")"
   ]
  },
  {
   "cell_type": "code",
   "execution_count": 24,
   "metadata": {},
   "outputs": [
    {
     "data": {
      "text/plain": [
       "23.550000"
      ]
     },
     "execution_count": 24,
     "metadata": {},
     "output_type": "execute_result"
    }
   ],
   "source": [
    "atof(\"23.55\")"
   ]
  },
  {
   "cell_type": "code",
   "execution_count": 25,
   "metadata": {},
   "outputs": [
    {
     "data": {
      "text/plain": [
       "132.68000"
      ]
     },
     "execution_count": 25,
     "metadata": {},
     "output_type": "execute_result"
    }
   ],
   "source": [
    "atof(\"132.68 text\")"
   ]
  },
  {
   "cell_type": "code",
   "execution_count": 27,
   "metadata": {},
   "outputs": [
    {
     "data": {
      "text/plain": [
       "0.0000000"
      ]
     },
     "execution_count": 27,
     "metadata": {},
     "output_type": "execute_result"
    }
   ],
   "source": [
    "atof(\"text 4546.454\")"
   ]
  },
  {
   "cell_type": "markdown",
   "metadata": {},
   "source": [
    "### Converting C++ strings into numeric types\n",
    "\n",
    "- http://www.cplusplus.com/reference/string/\n",
    "\n",
    "- **&lt;string&gt;** library provides many functions to convert std::string into numeric types\n",
    "- **stoi( )** - converts std:string type to integer\n",
    "- **stof( )** - converts std::string type to float\n",
    "- **stol( )** - converts std::string type to long int\n",
    "- **stoul( )** - converts std::string to unsigned long integer"
   ]
  },
  {
   "cell_type": "code",
   "execution_count": 1,
   "metadata": {},
   "outputs": [],
   "source": [
    "#include <string>\n",
    "using namespace std;"
   ]
  },
  {
   "cell_type": "code",
   "execution_count": 2,
   "metadata": {},
   "outputs": [],
   "source": [
    "string int_num = \"99\";\n",
    "string float_num = \"100.99\";"
   ]
  },
  {
   "cell_type": "code",
   "execution_count": 3,
   "metadata": {},
   "outputs": [],
   "source": [
    "// typecast string int and string float to corresponding numeric types\n",
    "// do + operation on numeric types\n",
    "float result = stoi(int_num)+stof(float_num);"
   ]
  },
  {
   "cell_type": "code",
   "execution_count": 4,
   "metadata": {},
   "outputs": [
    {
     "data": {
      "text/plain": [
       "199.99f"
      ]
     },
     "execution_count": 4,
     "metadata": {},
     "output_type": "execute_result"
    }
   ],
   "source": [
    "result"
   ]
  },
  {
   "cell_type": "markdown",
   "metadata": {},
   "source": [
    "### Type casting among numeric types\n",
    "- at times, you may need to convert integers to floating points and vice versa\n",
    "- use **int(value)** to convert float to int\n",
    "- use **float(value)** to convert int or double to float\n",
    "- use **double(value)** to convert int or float to double\n",
    "- don't need to include any library to use these built-in functions"
   ]
  },
  {
   "cell_type": "code",
   "execution_count": 2,
   "metadata": {},
   "outputs": [
    {
     "data": {
      "text/plain": [
       "10"
      ]
     },
     "execution_count": 2,
     "metadata": {},
     "output_type": "execute_result"
    }
   ],
   "source": [
    "int(10.99) // convert double to int; discard decimal points or round down"
   ]
  },
  {
   "cell_type": "code",
   "execution_count": 6,
   "metadata": {},
   "outputs": [
    {
     "data": {
      "text/plain": [
       "345"
      ]
     },
     "execution_count": 6,
     "metadata": {},
     "output_type": "execute_result"
    }
   ],
   "source": [
    "int(345.567f) // discard decimal points or round down"
   ]
  },
  {
   "cell_type": "code",
   "execution_count": 3,
   "metadata": {},
   "outputs": [
    {
     "data": {
      "text/plain": [
       "19.0000f"
      ]
     },
     "execution_count": 3,
     "metadata": {},
     "output_type": "execute_result"
    }
   ],
   "source": [
    "float(19)"
   ]
  },
  {
   "cell_type": "code",
   "execution_count": 7,
   "metadata": {},
   "outputs": [
    {
     "data": {
      "text/plain": [
       "3.3299999"
      ]
     },
     "execution_count": 7,
     "metadata": {},
     "output_type": "execute_result"
    }
   ],
   "source": [
    "double(3.33f) // convert float to double"
   ]
  },
  {
   "cell_type": "code",
   "execution_count": 5,
   "metadata": {},
   "outputs": [
    {
     "data": {
      "text/plain": [
       "3.0000000"
      ]
     },
     "execution_count": 5,
     "metadata": {},
     "output_type": "execute_result"
    }
   ],
   "source": [
    "double(3)"
   ]
  },
  {
   "cell_type": "markdown",
   "metadata": {},
   "source": [
    "### Type casting between char and int\n",
    "- use **char(intValue)** to convert to char\n",
    "- use **int(charValue)** to conver to int"
   ]
  },
  {
   "cell_type": "code",
   "execution_count": 8,
   "metadata": {},
   "outputs": [
    {
     "data": {
      "text/plain": [
       "'A'"
      ]
     },
     "execution_count": 8,
     "metadata": {},
     "output_type": "execute_result"
    }
   ],
   "source": [
    "char(65) // ASCII code to char"
   ]
  },
  {
   "cell_type": "code",
   "execution_count": 9,
   "metadata": {},
   "outputs": [
    {
     "data": {
      "text/plain": [
       "65"
      ]
     },
     "execution_count": 9,
     "metadata": {},
     "output_type": "execute_result"
    }
   ],
   "source": [
    "int('A') // char to ASCII code"
   ]
  },
  {
   "cell_type": "markdown",
   "metadata": {},
   "source": [
    "## Labs\n",
    "\n",
    "1. Variables Lab \n",
    "    - write a C++ program that produces the following output on console\n",
    "    - use the partial solution provided in [labs/variables/main.cpp](labs/variables/main.cpp)\n",
    "    - observe and note how the special symbols such as single quote, double quotes and black slashes\n",
    "    - run the program as it is using the provided make file in the stdio folder\n",
    "    - complete the rest of the ASCII Art by fixing all the FIXMEs\n",
    "    - write #FIXED next to each FIXME\n",
    "    \n",
    "    ```\n",
    "        |\\_/|       *******************************     (\\_/)\n",
    "       / @ @ \\      *      ASCII Art              *    (='.'=)\n",
    "      ( > 0 < )     *      Author: <Your Name>    *  ( \" )_( \" )\n",
    "        >>x<<       *      CS Foundation Course   *\n",
    "        / O \\       *******************************\n",
    "   ```"
   ]
  },
  {
   "cell_type": "markdown",
   "metadata": {},
   "source": [
    "## Exercises\n",
    "1. Declare some variables required to store information about a student at a university for an a banner system. Assign some values to those variables.\n",
    "    - see sample answer here [exercises/variables/exercise1](exercises/variables/exercise1)"
   ]
  },
  {
   "cell_type": "markdown",
   "metadata": {},
   "source": [
    "2. Declare some variables required to store information about an employee at a university. Assign some values to those variables."
   ]
  },
  {
   "cell_type": "markdown",
   "metadata": {},
   "source": [
    "3. Declare some variables required to store information about a mechandise in a store for inventory management system. Assign some values to those variables."
   ]
  },
  {
   "cell_type": "markdown",
   "metadata": {},
   "source": [
    "4. Declare some variables required to store infomration about a rectangular shape. Calculate area and perimeter of a rectangle. Assign some values to those variables."
   ]
  },
  {
   "cell_type": "markdown",
   "metadata": {},
   "source": [
    "5. Declare variables required to store information about a circle to calculate its area and perimeter. Assign some values to those variables. Calculate area and perimeter."
   ]
  },
  {
   "cell_type": "markdown",
   "metadata": {},
   "source": [
    "6. Declare some variables required to store information about a hotel room for booking management system."
   ]
  },
  {
   "cell_type": "markdown",
   "metadata": {},
   "source": [
    "7. Declare some variables required to store length of sides of a triangle. Calculate area using Herons' formula.\n",
    "    - Search for Heron's formula, if you're not sure what it is."
   ]
  },
  {
   "cell_type": "markdown",
   "metadata": {},
   "source": [
    "8. Using pencil and paper or Jupyter Notebook, write your full name in binary. \n",
    " - e.g., Ram Basnet in Binary is: \n",
    " - 01010010 01100001 01101101 00100000 01000010 01100001 01110011 01101110 01100101 01110100 "
   ]
  },
  {
   "cell_type": "markdown",
   "metadata": {},
   "source": [
    "## Summary\n",
    "- this notebook discussed data and C++ fundamental data types\n",
    "- variables are named memory location that store data values\n",
    "- C++ variables are static and strongly typed\n",
    "- looked into C++ operators for various data types\n",
    "- learned about order of operations, PEMDAS\n",
    "- learned that constants are used to store values that should not be changed in program\n",
    "- exercises and sample solutions"
   ]
  },
  {
   "cell_type": "code",
   "execution_count": null,
   "metadata": {},
   "outputs": [],
   "source": []
  }
 ],
 "metadata": {
  "kernelspec": {
   "display_name": "C++17",
   "language": "C++17",
   "name": "xcpp17"
  },
  "language_info": {
   "codemirror_mode": "text/x-c++src",
   "file_extension": ".cpp",
   "mimetype": "text/x-c++src",
   "name": "c++",
   "version": "17"
  }
 },
 "nbformat": 4,
 "nbformat_minor": 2
}
