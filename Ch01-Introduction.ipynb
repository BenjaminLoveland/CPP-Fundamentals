{
 "cells": [
  {
   "cell_type": "markdown",
   "metadata": {},
   "source": [
    "# 1 Introduction\n",
    "\n",
    "## Topics\n",
    "- computer science fundamentals\n",
    "- problems, algorithms and programs\n",
    "- programming languages\n",
    "- C++ language\n",
    "- the first program and its anatomy\n",
    "- errors and debugging"
   ]
  },
  {
   "cell_type": "markdown",
   "metadata": {},
   "source": [
    "# 1.1 Computer science (CS) fundamentals\n",
    "- the core is a disciplined ability to be logical and creative in a pragmatic way to solve problems in varieties of disciplines\n",
    "- newer discipline that burrows from Mathematics, Engineering, and Natural Science\n",
    "- like mathematicians computer scientist use formal languages to denote ideas (esp. computation)\n",
    "- like engineers, they design things, assembling components into systems and evaluating tradeoffs among alternatives\n",
    "- like scientists, they observe the behavior of complex systems, form hypothesis, and test predictions\n",
    "\n",
    "**the single most important skill for a computer scientist is problem-solving mostly writing computer programs**\n",
    "- the goal of this course is to teach you how to think like a computer scientist\n",
    "- computer scientists primary job revolves around problems, algorithms and programs"
   ]
  },
  {
   "cell_type": "markdown",
   "metadata": {},
   "source": [
    "## 1.2 Problems, Algorithms and Programs\n",
    "\n",
    "### Problem\n",
    "- we deal with and solve a lot of problems in every walk of lives\n",
    "- problem is a question raised for inquiry that someone needs to answer or find solution to\n",
    "- computer scientists typically deal with computational problems\n",
    "- can be as simple as: \n",
    "    - what is the sum of 9 and 999?\n",
    "- or can be as complicated as:\n",
    "    - what is the shortest path from San Francisco, California to New York City, New York?\n",
    "- one must understand the problem, analyze the requirements, constrains and assumptions in order to correctly solve the problem"
   ]
  },
  {
   "cell_type": "markdown",
   "metadata": {},
   "source": [
    "### Algorithm\n",
    "- once the problem is formulated and well analyzed, computer scientists work on algorithm\n",
    "- step by step process/task to solve a given problem\n",
    "    - like a recipe for a food menu\n",
    "- typically written in human language or pseduo-code (in between)\n",
    "- e.g. problem: How can your martian friend buy grocery on earth?\n",
    "- you should be able to help solve this problem given you live on earth and shopped groceries many times\n",
    "    - in other words, you're the domain expert\n",
    "- algorithm steps:\n",
    "    1. Make a shopping list\n",
    "    - Drive to a grocery store\n",
    "    - Park your car\n",
    "    - Find items in the list\n",
    "    - Checkout\n",
    "    - Load grocery\n",
    "    - Drive home\n",
    "- there's a lot of details missing from these steps\n",
    "    - it's a good start and can be refined by drilling each step further down"
   ]
  },
  {
   "cell_type": "markdown",
   "metadata": {},
   "source": [
    "### Program\n",
    "- once the algorithm steps are finalized, programmers can convert them into computer instructions\n",
    "- sequence of instructions that specifies how to perform a computation using computers\n",
    "    - computation can be mathematical (solving system of equations), symbolic computation (searching and replacing text in a document, scientific simulations), etc.\n",
    "- the instructions (or commands or statements) look different in differnt programming languages, but the basic fundamental concepts are the same\n",
    "- some fundamental concepts that make up a computer program regardless of the language are:\n",
    "    - input, output, math, conditional execution (testing), repitition\n",
    "<img src=\"resources/BuildingBlocks.png\" width=\"50%\" />\n",
    "\n",
    "### input\n",
    "- get data from keyboard, a file, or some device\n",
    "\n",
    "### output\n",
    "- display data/answer on screen, or save it to file or to a device\n",
    "\n",
    "### math\n",
    "- basic mathematical operations such as addition, subtraction, multiplication, etc.\n",
    "\n",
    "### conditional execution (test)\n",
    "- test for certain condititions and execute appropriate sequence of statements\n",
    "\n",
    "### repitition\n",
    "- perform some action repeatedly, usually with some variation every time\n"
   ]
  },
  {
   "cell_type": "markdown",
   "metadata": {},
   "source": [
    "## 1.3 Programming languages\n",
    "- programming langugage is a formal language used to create computer program\n",
    "- there are dozen of programming languages\n",
    "\n",
    "## 1.4 Types of programming languages\n",
    "### High-level languages\n",
    "- languages that are disigned to be programmer friendly hiding all the details\n",
    "    - C++, Java, C, FORTRAN, Python, PhP, JavaScript, Rust, etc.\n",
    "- advantages: \n",
    "    - simpler; easier to learn and write\n",
    "    - shorter and easier to read\n",
    "    - programs are portable; can run in differnet machines with a few or no modifications\n",
    "- disadvantages:\n",
    "    - translation to machine code can take some time\n",
    "    - slower to run if the translation is not optimal\n",
    "\n",
    "\n",
    "### Low-level languages\n",
    "- machine language e.g., Assembly language\n",
    "- lossley-speaking, computers can only execute programs written in low-level languages\n",
    "- programs written in a high-level languages must be tranlated before they can run\n",
    "- advantage: \n",
    "    - prgrams run faster\n",
    "- disadvantage:\n",
    "    - harder to learn and program (need to know very low level details about how computers work)\n",
    "    - programs are not portable; usually need to rewrite for each kind of machine architecture\n",
    "    \n",
    "\n",
    "## Ways to translate high level programs\n",
    "- there are two ways to translate high level programs: **intrepreting** and **compiling**\n",
    "\n",
    "### intrepreting\n",
    "- an interpreter reads a high-level program and does what it says\n",
    "- it translates the program line-by-line alternately reading lines and carriying out commands\n",
    "- Python, PhP, JavaScript are intrepreted languages\n",
    "<img src=\"resources/Intrepreter.png\" width=\"50%\" />\n",
    "\n",
    "### compiling\n",
    "- a compiler reads a high-level program and translates it all at once into byte code before executing any of the commands\n",
    "- compilers check for syntax/grammers of languages\n",
    "- the byte code or binary program must be then loaded into memory to execute\n",
    "- C++, C, Rust, Java, FORTRAN are compiled programming languages\n",
    "<img src=\"resources/Compiler.png\" width=\"75%\" />\n",
    "\n",
    "## 1.5 C++ Programming language\n",
    "- C++ is one of the most popular general pupurpose programming languages - see [tiobe index](https://www.tiobe.com/tiobe-index/)\n",
    "- high level, compiled language\n",
    "- extension of C programming language\n",
    "    - same syntax; burrows all C libraries and supports class (object oriented programming, OOP)\n",
    "- you can use all the C libraries and features in C++\n",
    "- designed for system programming and embedded, resource-constrained software and large systems with performance, efficiency, and flexibility\n",
    "- see Wikipedia entry for history and other details: - https://en.wikipedia.org/wiki/C%2B%2B\n",
    "- official C++ reference site https://en.cppreference.com/w/"
   ]
  },
  {
   "cell_type": "markdown",
   "metadata": {},
   "source": [
    "## 1.6 Learning and Writing C++ Code\n",
    "- aka learning problem solving\n",
    "    - one must write code to learn and remember it well!\n",
    "- you need a text editor and a compiler\n",
    "- can download and install Integrated Development Environment (IDE)\n",
    "    - depends on the system: Windows, Linux, Mac\n",
    "    - Linux is preferred on PC; Macs are great!\n",
    "- a good IDE (subjective) helps!\n",
    "- on Macs:\n",
    "    - download and install xcode for g++ compiler\n",
    "    - download and install VS Code (https://code.visualstudio.com/) editor\n",
    "    \n",
    "- on PCs/Windows:\n",
    "    - use Linux virtual machine\n",
    "        - download and install virtual box and install a Linux (Ubuntu preferred)\n",
    "        - follow Linux installation guides\n",
    "    - enable and use (Windows Subsystem Layer) WSL on Windows 10; you'll get a Linux in Windows\n",
    "        - follow Linux installation guides\n",
    "    - last resort:\n",
    "        - download and install MingGW (GCC) compiler (http://www.mingw.org/wiki/InstallationHOWTOforMinGW)\n",
    "        - download and install VS Code editor\n",
    "        \n",
    "- on Linux:\n",
    "    - download and install g++ compiler\n",
    "    - download and install VS Code editor\n",
    "    \n",
    "- on Clouds:\n",
    "    - [https://repl.it/](https://repl.it/)\n",
    "    - [https://coliru.stacked-crooked.com/](https://coliru.stacked-crooked.com/)\n",
    "    - [http://cpp.sh](http://cpp.sh/)"
   ]
  },
  {
   "cell_type": "markdown",
   "metadata": {},
   "source": [
    "## 1.7 The first program\n",
    "- traditionally, 'hello world' is the first program one writes to learn coding\n",
    "- type the following code in hello.cpp file\n",
    "- compile and run the program"
   ]
  },
  {
   "cell_type": "code",
   "execution_count": 2,
   "metadata": {},
   "outputs": [
    {
     "name": "stderr",
     "output_type": "stream",
     "text": [
      "\u001b[1minput_line_12:1:5: \u001b[0m\u001b[0;1;31merror: \u001b[0m\u001b[1mredefinition of 'main'\u001b[0m\n",
      "int main() // main entry to the program \n",
      "\u001b[0;1;32m    ^\n",
      "\u001b[0m\u001b[1minput_line_9:1:5: \u001b[0m\u001b[0;1;30mnote: \u001b[0mprevious definition is here\u001b[0m\n",
      "int main() // main entry to the program \n",
      "\u001b[0;1;32m    ^\n",
      "\u001b[0m"
     ]
    },
    {
     "ename": "Interpreter Error",
     "evalue": "",
     "output_type": "error",
     "traceback": [
      "Interpreter Error: "
     ]
    }
   ],
   "source": [
    "/*=================================================\n",
    "  Hello World program\n",
    "  By: John Doe\n",
    "  Date: June 24, 2020\n",
    "  Copy rith\n",
    "  The program prints \"Hello World!\" on the console\n",
    "===================================================*/\n",
    "\n",
    "// include required libraries/header files\n",
    "#include <iostream>\n",
    "\n",
    "// one main() is always required in a C++ program\n",
    "int main() // main entry to the program \n",
    "{\n",
    "    // output Hello World!\n",
    "    std::cout << \"Hello World!\" << std::endl;\n",
    "    return 0;\n",
    "}"
   ]
  },
  {
   "cell_type": "markdown",
   "metadata": {},
   "source": [
    "## 1.8 Compiling and executing C++ programs\n",
    "- use VS Code or any text editor to write the program\n",
    "- use terminal to compile using g++ or any other C++ compiler\n",
    "- follow instructions provided by each system and compiler for the details\n",
    "- demonstrate VS Code, g++ on Mac and repl.it cloud IDE"
   ]
  },
  {
   "cell_type": "code",
   "execution_count": 4,
   "metadata": {},
   "outputs": [
    {
     "name": "stdout",
     "output_type": "stream",
     "text": [
      "Hello World!\n"
     ]
    }
   ],
   "source": [
    "// in Jupyter Notebook, main() is defined implicitly!\n",
    "// simply, include libraries and write code to execute\n",
    "#include <iostream>\n",
    "\n",
    "std::cout << \"Hello World!\" << std::endl;"
   ]
  },
  {
   "cell_type": "markdown",
   "metadata": {},
   "source": [
    "## 1.9 Anatomy of C++ program\n",
    "- C++ project file constitutes one or many text files (typically header and source) files\n",
    "- each C++ file contains various C++ statements, instructions and codes\n",
    "- C++ source file typically has these extensions: filenam.cpp or filename.cc\n",
    "- C++ program must have one file with a main() function\n",
    "    - int main() is the main entry of the program\n",
    "    - computer starts executing instructions top to bottom starting from main\n",
    "    \n",
    "- C++ file typically contains:\n",
    "    - **program description**\n",
    "        - brief information about the program and prorammer, copyright info\n",
    "        - these are comments meant for programmers/readers\n",
    "        \n",
    "    - **libraries**:\n",
    "        - include the librabires (header files) that are only required\n",
    "        - libraries provide built-in codes that programmers can use\n",
    "        - programmers don't have to write all the basic, details and common tasks\n",
    "            - so, they can focus on solving problems\n",
    "        - libraries are mandatory for many common tasks such as input and output\n",
    "        \n",
    "    - **comments**:\n",
    "        - comments are ingnored by compilers\n",
    "        - comments are for programmers to explain the thought process, subtle code blocks\n",
    "        - it's best practice to write adequate notes as comments, esp. when learning\n",
    "        - makes it easy to read and understand code without actually having to run and decode the code\n",
    "        - *write code for others to read*\n",
    "        - // is used for single line comment\n",
    "        - /* everything within are comments; used for multi-line comments */\n",
    "        \n",
    "    - **instruction codes**\n",
    "        - actual code to solve a problem\n",
    "        - block of codes appear within squiggly-braces { }\n",
    "        - statements end with a semi-colon\n",
    "        \n",
    "    - **white spaces**\n",
    "        - indentations, spaces and blank lines are typically ignored by the compiler unless necessary\n",
    "        - adequate white spaces are required as a best practice for readability of code"
   ]
  },
  {
   "cell_type": "markdown",
   "metadata": {},
   "source": [
    "## 1.10 Program Bugs and Debugging\n",
    "- programs often contains many types of errors called bugs\n",
    "- the process of finding and correting bugs is called debugging\n",
    "- many IDEs provide a way to step through the code and examine memory as the program executes\n",
    "- the key to find and correct bugs is testing!\n",
    "\n",
    "## 1.11 Types of errors\n",
    "- there are three major types of bugs: syntax, run-time and semantic\n",
    "\n",
    "### Compile-time errors\n",
    "- also called syntax errors or grammatical errors\n",
    "- computer languages are formal languages with strict grammer to a semicolon\n",
    "    - Natural languages (English, e.g.) are full of ambiguity, redundancy and literalness (idioms and metaphors)\n",
    "- compiler parses the C++ code; provides a list of errors if any\n",
    "- fails to compile a program to byte code if program has compiler error\n",
    "\n",
    "### Run-time errors\n",
    "- also called run-time exceptions\n",
    "- these errors appear while program is running\n",
    "- can be handled to certain extent\n",
    "\n",
    "### Semantic errors\n",
    "- also called logical errors\n",
    "    - errors in thought process, may arise due to misunderstanding of problem, solution, language quirks\n",
    "- program runs fine but gives wrong answer\n",
    "    - adding instead of multiplying to solve an equation (e.g., 2+2 is same as 2\\*2)\n",
    "- can be identified and removed by doing plenty of testing"
   ]
  },
  {
   "cell_type": "markdown",
   "metadata": {},
   "source": [
    "## 1.12 Exercises\n",
    "1. Developement Environment\n",
    "    - create your development environment\n",
    "    - download and install tools that are typically used by programmers: C++ Editor, C++ Compiler, git client, etc.\n",
    "    \n",
    "2. Hello World\n",
    "    - write a C++ program that prints \"Hello World!\" as an output to the console\n",
    "    \n",
    "3. Kattis problem\n",
    "    - create an account in Kattis: https://open.kattis.com/login\n",
    "    - login and solve the hello problem: https://open.kattis.com/problems/hello\n",
    "    \n",
    "4. Standard Output Lab\n",
    "    - write a C++ program that produces the following output on console\n",
    "    - obsever and note the special symbols such as single quote, double quotes and black slashes\n",
    "    ```\n",
    "        |\\_/|       *******************************     (\\_/)\n",
    "       / @ @ \\      *      ASCII Lab              *    (='.'=)\n",
    "      ( > 0 < )     *      By: <Your name>        *  ( \" )_( \" )\n",
    "        >>x<<       *      C++ Foundation Course  *\n",
    "        / O \\       *******************************\n",
    "   ```"
   ]
  },
  {
   "cell_type": "code",
   "execution_count": null,
   "metadata": {},
   "outputs": [],
   "source": [
    "// Partial solution to exercise 4\n",
    "/*\n",
    "    Lab 1: ASCII Art and Standard Ouput\n",
    "    By: Your name\n",
    "    Date: ...\n",
    "    \n",
    "    This program produces ASCII art on the console.\n",
    "\n",
    "    Algorithm steps: \n",
    "    1. Write a series of cout statements to print the ASCII art.\n",
    "*/\n",
    "\n",
    "#include <iostream> //library for input and output \n",
    "using namespace std; //resolve cout, cin, and endl names\n",
    "// so you don't have to write std::cout, std::endl, etc.\n",
    "\n",
    "//main entry point of the program\n",
    "int main()\n",
    "{\n",
    "   cout << \"  |\\\\_/|   *******************    (\\\\_/)\" << endl;\n",
    "   cout << \" / @ @ \\\\  *    ASCII Lab    *   (='.'=)\" << endl;\n",
    "\n",
    "   //FIXME: finish the rest of the art\n",
    "    \n",
    "   return 0; //exit program by returning 0 status to the system\n",
    "}"
   ]
  },
  {
   "cell_type": "markdown",
   "metadata": {},
   "source": [
    "5. ASCII Art\n",
    "    - google images made using ASCII arts\n",
    "    - print some ASCII arts, texts and pictures of your choice\n",
    "    - can use ASCII Art generator: http://patorjk.com/software/taag/#p=display&f=Graffiti&t=Type%20Something%20\n",
    "6. The Game of Hangman\n",
    "    - write a C++ program that prints various stages of the hangman game\n",
    "    - game description: https://en.wikipedia.org/wiki/Hangman_(game)\n",
    "    - produce the output seen in Example game section of the Wikipedia page\n",
    "    - game will not have any logic to actually play, unless you know how to implement it!"
   ]
  },
  {
   "cell_type": "markdown",
   "metadata": {},
   "source": [
    "## 1.13 Summary\n",
    "- this chapter covered:\n",
    "- the basics of Compter Science and programming\n",
    "- different types of programming languages\n",
    "- C++ basics, the first program and the basic structure of a C++ program\n",
    "    - how to print data to standard output\n",
    "- C++ editor and compiler\n",
    "- problems and sample answers"
   ]
  },
  {
   "cell_type": "code",
   "execution_count": null,
   "metadata": {},
   "outputs": [],
   "source": []
  }
 ],
 "metadata": {
  "kernelspec": {
   "display_name": "C++14",
   "language": "C++14",
   "name": "xcpp14"
  },
  "language_info": {
   "codemirror_mode": "text/x-c++src",
   "file_extension": ".cpp",
   "mimetype": "text/x-c++src",
   "name": "c++",
   "version": "14"
  }
 },
 "nbformat": 4,
 "nbformat_minor": 2
}
