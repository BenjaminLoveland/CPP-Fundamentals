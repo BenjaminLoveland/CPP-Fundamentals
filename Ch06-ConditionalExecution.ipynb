{
 "cells": [
  {
   "cell_type": "markdown",
   "metadata": {},
   "source": [
    "# 6 Conditional Execution\n",
    "\n",
    "## Topics\n",
    "- conditional executions\n",
    "- types of conditional statements\n",
    "\n",
    "\n",
    "## 6.1 Conditional execution\n",
    "- so far, our programs executed top to bottom starting from **main( )**\n",
    "    - statement by statement\n",
    "    - functions change the execution flow from call to definition\n",
    "- it's important that computer skips or executes certain block of code\n",
    "    - computer needs to decide to do that to produce useful programs\n",
    "- **conditional statements** let computer think or make decisions based on data\n",
    "    - similar to what humans do!\n",
    "    - e.g. what are the criteria/conditions that help you pick a college?\n",
    "    - pick a class? go to class each day?\n",
    "- conditional statements compare data values to create conditions\n",
    "    - the outcome of which is true or false\n",
    "\n",
    "### comparison operators\n",
    "- **comparison operators** are used to compare data values\n",
    "    - thus, creating a condition\n",
    "- comparison operators are binary operators that take two operands\n",
    "- following are comparison operators that compare left hand side value with the right hand side\n",
    "    - **==** equals to\n",
    "        - already used in assert function (math symbol: $=$)\n",
    "    - **!=** not equal to (math symbol: $\\ne$)\n",
    "    - **>** greater than\n",
    "    - **>=** greater than or equal to (math symbol: $\\ge$)\n",
    "    - **<** less than\n",
    "    - **<=** less than or equal to (math symbol: $\\le$)\n",
    "- result of comparison expression (condition) is **true** or **false** boolean value\n",
    "    - technically, it's **1** or **0**; **1** -> true or **0** -> false"
   ]
  },
  {
   "cell_type": "code",
   "execution_count": 1,
   "metadata": {},
   "outputs": [],
   "source": [
    "// for std io\n",
    "#include <iostream>\n",
    "using namespace std;"
   ]
  },
  {
   "cell_type": "code",
   "execution_count": 2,
   "metadata": {},
   "outputs": [
    {
     "data": {
      "text/plain": [
       "true"
      ]
     },
     "execution_count": 2,
     "metadata": {},
     "output_type": "execute_result"
    }
   ],
   "source": [
    "// comparison operators examples\n",
    "1 == 1"
   ]
  },
  {
   "cell_type": "code",
   "execution_count": 3,
   "metadata": {},
   "outputs": [],
   "source": [
    "int x = 10;\n",
    "int y = 20;"
   ]
  },
  {
   "cell_type": "code",
   "execution_count": 4,
   "metadata": {},
   "outputs": [
    {
     "name": "stdout",
     "output_type": "stream",
     "text": [
      "0"
     ]
    }
   ],
   "source": [
    "// is x == y?\n",
    "cout << (x == y);"
   ]
  },
  {
   "cell_type": "code",
   "execution_count": 5,
   "metadata": {},
   "outputs": [
    {
     "name": "stdout",
     "output_type": "stream",
     "text": [
      "true"
     ]
    }
   ],
   "source": [
    "// let's print true of false using io manipulator\n",
    "// is x not equal to y?\n",
    "cout << boolalpha << (x != y);"
   ]
  },
  {
   "cell_type": "code",
   "execution_count": 6,
   "metadata": {},
   "outputs": [
    {
     "name": "stdout",
     "output_type": "stream",
     "text": [
      "false"
     ]
    }
   ],
   "source": [
    "cout << (x > y);"
   ]
  },
  {
   "cell_type": "code",
   "execution_count": 7,
   "metadata": {},
   "outputs": [
    {
     "name": "stdout",
     "output_type": "stream",
     "text": [
      "true"
     ]
    }
   ],
   "source": [
    "cout << (x < y);"
   ]
  },
  {
   "cell_type": "code",
   "execution_count": 8,
   "metadata": {},
   "outputs": [
    {
     "name": "stdout",
     "output_type": "stream",
     "text": [
      "false"
     ]
    }
   ],
   "source": [
    "cout << (x >= y);"
   ]
  },
  {
   "cell_type": "code",
   "execution_count": 9,
   "metadata": {},
   "outputs": [
    {
     "name": "stdout",
     "output_type": "stream",
     "text": [
      "true"
     ]
    }
   ],
   "source": [
    "cout << (x <= y);"
   ]
  },
  {
   "cell_type": "markdown",
   "metadata": {},
   "source": [
    "## 6.2 Types of conditional statements\n",
    "- there are 3 types of conditional statements:\n",
    "    1. one-way selector\n",
    "    2. two-way selector\n",
    "    3. multi-way selector\n",
    "\n",
    "### one-way selector\n",
    "- simplest form of conditional statement\n",
    "- syntax:\n",
    "\n",
    "```cpp\n",
    "if (condition) {\n",
    "    // body of if\n",
    "    // block of code to execute\n",
    "}\n",
    "```\n",
    "- the block of code inside if statement executes iff condition evalutes to true\n",
    "    - skips the block, otherwise!\n",
    "- the following flow-chart demonstrates the flow of if statment execution\n",
    "<img src=\"resources/ifstatement.png\" width=\"35%\">"
   ]
  },
  {
   "cell_type": "code",
   "execution_count": 10,
   "metadata": {},
   "outputs": [
    {
     "name": "stdout",
     "output_type": "stream",
     "text": [
      "stuff before if\n",
      "body of if\n",
      "stuff after if\n"
     ]
    }
   ],
   "source": [
    "// examples\n",
    "cout << \"stuff before if\\n\";\n",
    "if (true) { // true is always true; same as true == true\n",
    "    cout << \"body of if\\n\";\n",
    "}\n",
    "cout << \"stuff after if\\n\";"
   ]
  },
  {
   "cell_type": "code",
   "execution_count": 11,
   "metadata": {},
   "outputs": [
    {
     "name": "stdout",
     "output_type": "stream",
     "text": [
      "stuff before if\n",
      "stuff after if\n"
     ]
    }
   ],
   "source": [
    "cout << \"stuff before if\\n\";\n",
    "if (false) { // false always evaluates to false; same as false == true\n",
    "    cout << \"body of if\\n\";\n",
    "}\n",
    "cout << \"stuff after if\\n\";"
   ]
  },
  {
   "cell_type": "code",
   "execution_count": 12,
   "metadata": {},
   "outputs": [],
   "source": [
    "// check if a given number is positive\n",
    "int num;"
   ]
  },
  {
   "cell_type": "code",
   "execution_count": 15,
   "metadata": {},
   "outputs": [
    {
     "name": "stdout",
     "output_type": "stream",
     "text": [
      "enter a whole number: 10\n",
      "10 is positive\n",
      "Good bye!"
     ]
    }
   ],
   "source": [
    "cout << \"enter a whole number: \";\n",
    "cin >> num;\n",
    "if (num > 0) {\n",
    "    cout << num << \" is positive\\n\";\n",
    "}\n",
    "cout << \"Good bye!\";"
   ]
  },
  {
   "cell_type": "markdown",
   "metadata": {},
   "source": [
    "### visualize one-way selector in [pythontutor.com](http://pythontutor.com/cpp.html#code=%23include%20%3Ciostream%3E%0Ausing%20namespace%20std%3B%0A%0Aint%20main%28%29%20%7B%0A%20%20int%20num%20%3D%20-9%3B%0A%20%20if%20%28num%20%3E%200%29%20%7B%0A%20%20%20%20cout%20%3C%3C%20num%20%3C%3C%20%22%20is%20positive%5Cn%22%3B%0A%20%20%7D%0A%20%20cout%20%3C%3C%20%22Good%20bye!%22%3B%0A%20%20return%200%3B%0A%7D&curInstr=0&mode=display&origin=opt-frontend.js&py=cpp&rawInputLstJSON=%5B%5D)\n",
    "\n",
    "### two-way selector\n",
    "- provides alternative execution\n",
    "- analgoy is a true/false type question\n",
    "    - you have to pick one or the other\n",
    "- syntax:\n",
    "```cpp\n",
    "if (condition) {\n",
    "    // body of if\n",
    "}\n",
    "else {\n",
    "    // otherwise, body of else\n",
    "}\n",
    "```\n",
    "- if the condition is true, body of if executes\n",
    "- oterwise, body of else executes\n",
    "- the following flowchart demonstrates the flow of if else statement\n",
    "<img src=\"resources/ifelsestatement.png\" width=\"50%\">"
   ]
  },
  {
   "cell_type": "code",
   "execution_count": 16,
   "metadata": {},
   "outputs": [
    {
     "name": "stdout",
     "output_type": "stream",
     "text": [
      "enter a whole number: -9\n",
      "-9 is negative\n",
      "Good bye!"
     ]
    }
   ],
   "source": [
    "// determine if the given number is positive or negative\n",
    "cout << \"enter a whole number: \";\n",
    "cin >> num;\n",
    "if (num > 0) {\n",
    "    cout << num << \" is positive\\n\";\n",
    "}\n",
    "else {\n",
    "    cout << num << \" is negative\\n\";\n",
    "}\n",
    "cout << \"Good bye!\";"
   ]
  },
  {
   "cell_type": "markdown",
   "metadata": {},
   "source": [
    "### visualize two-way selector in [pythontutor.com](http://pythontutor.com/cpp.html#code=%23include%20%3Ciostream%3E%0Ausing%20namespace%20std%3B%0A%0Aint%20main%28%29%20%7B%0A%20%20int%20num1%20%3D%20100%3B%0A%20%20int%20num2%20%3D%20200%3B%0A%20%20if%20%28num1%20%3E%3D%20num2%29%0A%20%20%20%20cout%20%3C%3C%20num1%20%3C%3C%20%22%20is%20greater%20than%20or%20equal%20to%20%22%20%3C%3C%20num2%20%3C%3C%20endl%3B%0A%20%20else%0A%20%20%20%20cout%20%3C%3C%20num2%20%3C%3C%20%22%20is%20greater%20than%20%22%20%3C%3C%20num1%20%3C%3C%20endl%3B%0A%20%20%20%20%0A%20%20cout%20%3C%3C%20%22Good%20Bye!%22%3B%0A%20%20return%200%3B%0A%7D&curInstr=0&mode=display&origin=opt-frontend.js&py=cpp&rawInputLstJSON=%5B%5D)\n",
    "\n",
    "### multi-way selector\n",
    "- sometimes one may have to pick one outcome from several options\n",
    "    - analagy is multiple-choice question with only one answer!\n",
    "- we can achieve this by chaining a series of **if**s and **else**s\n",
    "- also called chained conditionals\n",
    "- syntax:\n",
    "```cpp\n",
    "if (condition) {\n",
    "    // first if block\n",
    "}\n",
    "else if(condition) {\n",
    "    // 2nd if block\n",
    "}\n",
    "else if(condition) {\n",
    "    // 3rd if block\n",
    "}\n",
    "...\n",
    "else {\n",
    "    // alternative\n",
    "}\n",
    "```\n",
    "- check condition starting from the first if\n",
    "- if the condtion is true execute the corresponding if block\n",
    "    - skip the rest of the chained conditions if any\n",
    "- otherwise check next condition...\n",
    "- execute else alternative if not a single condition is evaluated true\n",
    "- the following flowchart depicts the chained conditional execution\n",
    "<img src=\"resources/multi-wayselector.png\" width=\"35%\">\n",
    "\n",
    "### NOTE:\n",
    "- since the condition is checked from top to bottom, the order of checking condition matters in some problems!"
   ]
  },
  {
   "cell_type": "code",
   "execution_count": 18,
   "metadata": {},
   "outputs": [
    {
     "name": "stdout",
     "output_type": "stream",
     "text": [
      "enter a whole number: 0\n",
      "the entered number is 0\n",
      "Good bye!"
     ]
    }
   ],
   "source": [
    "// determine if a given number is 0, positive, or negative\n",
    "cout << \"enter a whole number: \";\n",
    "cin >> num;\n",
    "if (num > 0)\n",
    "    // if a block has only one statment; {} can be ignored!\n",
    "    cout << num << \" is positive\\n\";\n",
    "else if (num < 0)\n",
    "    cout << num << \" is negative\\n\";\n",
    "else\n",
    "    cout << \"the entered number is 0\\n\";\n",
    "\n",
    "cout << \"Good bye!\";"
   ]
  },
  {
   "cell_type": "markdown",
   "metadata": {},
   "source": [
    "### program that determines letter grade (A-F) given numeric grade (0-100)\n",
    "- write a program that converts grade into letter grade\n",
    "- letter grade criteria:\n",
    "```\n",
    ">= 90 ->'A'; >= 80 -> 'B'; >= 70 -> 'C'; >= 60 'D' < 60 -> 'F'\n",
    "```"
   ]
  },
  {
   "cell_type": "code",
   "execution_count": 21,
   "metadata": {},
   "outputs": [],
   "source": [
    "// variable to store the value of cash in one's pocket\n",
    "float grade;"
   ]
  },
  {
   "cell_type": "code",
   "execution_count": null,
   "metadata": {},
   "outputs": [],
   "source": [
    "// Implementation I\n",
    "// does this solution give correct answer?\n",
    "// order of checking condition may matter!!\n",
    "cout << \"Enter a grade: \";\n",
    "cin >> grade;\n",
    "if (grade < 60) {\n",
    "    cout << grade << \"is an F!\\n\";\n",
    "}\n",
    "else if(grade >= 60) {\n",
    "    cout << grade << \" is a D.\\n\";\n",
    "}\n",
    "else if(grade >= 70) {\n",
    "    cout << grade << \"is a C.\\n\";\n",
    "}\n",
    "else if (grade >= 80) {\n",
    "    cout << grade << \" is a B.\\n\";\n",
    "}\n",
    "else if (grade >= 90) {\n",
    "    cout << grade << \" is an A!\\n\";\n",
    "}\n",
    "cout << \"Good bye!\";"
   ]
  },
  {
   "cell_type": "code",
   "execution_count": 23,
   "metadata": {},
   "outputs": [
    {
     "name": "stdout",
     "output_type": "stream",
     "text": [
      "Enter a grade: 45\n",
      "45 is an F. :((\n",
      "Sorry, that's a fail. Work really really hard to pass!!\n",
      "Good bye!\n"
     ]
    }
   ],
   "source": [
    "// Implementation II\n",
    "// how about this solution; does this give correct answer?\n",
    "cout << \"Enter a grade: \";\n",
    "cin >> grade;\n",
    "if (grade >= 90) {\n",
    "    cout << grade << \" is an A! :))\\n\";\n",
    "    cout << \"Awesome job!\\n\";\n",
    "}\n",
    "else if(grade >= 80) {\n",
    "    cout << grade << \" is a B. :)\\n\";\n",
    "    cout << \"Great job! So close to acing... keep working!\\n\";\n",
    "}\n",
    "else if(grade >= 70) {\n",
    "    cout << grade << \" is a C. :|\\n\";\n",
    "    cout << \"Good job! work harder to get a B or an A\\n\";\n",
    "}\n",
    "else if(grade >= 60) {\n",
    "    cout << grade << \" is a D. :(\\n\";\n",
    "    cout << \"Sorry, D isn't good enought to move on to CS2\\n. Work very hard!!\";\n",
    "}\n",
    "else {\n",
    "    cout << grade << \" is an F. :((\\n\";\n",
    "    cout << \"Sorry, that's a fail. Work really really hard to pass!!\\n\";\n",
    "}\n",
    "cout << \"Good bye!\\n\";"
   ]
  },
  {
   "cell_type": "markdown",
   "metadata": {},
   "source": [
    "### visualize multi-way selector in [pythontutor.com](http://pythontutor.com/cpp.html#code=//%20program%20to%20determine%20day%20of%20the%20week%20given%20number%0A//%201-7%20%28sunday%20to%20saturday%29%0A%23include%20%3Ciostream%3E%0Ausing%20namespace%20std%3B%0A%0Aint%20main%28%29%20%7B%0A%20%20int%20day%20%3D%200%3B%0A%20%20if%20%28day%20%3D%3D%201%29%0A%20%20%20%20cout%20%3C%3C%20day%20%3C%3C%20%22%20is%20Sunday%5Cn%22%3B%0A%20%20else%20if%20%28day%20%3D%3D%202%29%0A%20%20%20%20cout%20%3C%3C%20day%20%3C%3C%20%22%20is%20Monday%5Cn%22%3B%0A%20%20else%20if%20%28day%20%3D%3D%203%29%0A%20%20%20%20cout%20%3C%3C%20day%20%3C%3C%20%22%20is%20Tuesday%5Cn%22%3B%0A%20%20else%20if%20%28day%20%3D%3D%204%29%0A%20%20%20%20cout%20%3C%3C%20day%20%3C%3C%20%22%20is%20Wednesday%5Cn%22%3B%0A%20%20else%20if%20%28day%20%3D%3D%205%29%0A%20%20%20%20cout%20%3C%3C%20day%20%3C%3C%20%22%20is%20Thursday%5Cn%22%3B%0A%20%20else%20if%20%28day%20%3D%3D%206%29%0A%20%20%20%20cout%20%3C%3C%20day%20%3C%3C%20%22%20is%20Friday%5Cn%22%3B%0A%20%20else%20if%20%28day%20%3D%3D%207%29%0A%20%20%20%20cout%20%3C%3C%20day%20%3C%3C%20%22%20is%20Saturday%5Cn%22%3B%0A%20%20else%0A%20%20%20%20cout%20%3C%3C%20day%20%3C%3C%20%22%20is%20not%20a%20valid%20day!%22%3B%0A%20%20%20%20%0A%20%20cout%20%3C%3C%20%22Good%20bye...%5Cn%22%3B%0A%20%20return%200%3B%0A%7D&curInstr=0&mode=display&origin=opt-frontend.js&py=cpp&rawInputLstJSON=%5B%5D)"
   ]
  },
  {
   "cell_type": "markdown",
   "metadata": {},
   "source": [
    "## 6.3 Nested conditionals\n",
    "- one or more type of conditional statements can be nested inside conditional statements\n",
    "- syntax:\n",
    "\n",
    "```cpp\n",
    "if (condition) {\n",
    "    // do something\n",
    "    if (condition) {\n",
    "        // do something..\n",
    "    }\n",
    "    \n",
    "    if (condition) {\n",
    "        // do something\n",
    "    }\n",
    "    else {\n",
    "        // do something else\n",
    "    }\n",
    "    \n",
    "}\n",
    "else {\n",
    "    // do something else...\n",
    "    if (condition) {\n",
    "        // do something\n",
    "    }\n",
    "}\n",
    "```"
   ]
  },
  {
   "cell_type": "code",
   "execution_count": 28,
   "metadata": {},
   "outputs": [
    {
     "name": "stdout",
     "output_type": "stream",
     "text": [
      "enter a whole number: -99\n",
      "-99 is negative and odd\n",
      "Good bye!"
     ]
    }
   ],
   "source": [
    "// a program that determines if a given number is 0, even or odd and positive or negative\n",
    "// the order of condition doesn't matter in this example\n",
    "cout << \"enter a whole number: \";\n",
    "cin >> num;\n",
    "if (num > 0) {\n",
    "    cout << num << \" is positive \";\n",
    "    // check if the number is even or odd\n",
    "    if (num %2 == 0)\n",
    "        cout << \"and even\\n\";\n",
    "    else\n",
    "        cout << \"and odd\\n\";\n",
    "}\n",
    "else if (num < 0) {\n",
    "    cout << num << \" is negative \";\n",
    "    // check if the number is even or odd\n",
    "    if (num %2 == 0)\n",
    "        cout << \"and even\\n\";\n",
    "    else\n",
    "        cout << \"and odd\\n\";\n",
    "}\n",
    "else\n",
    "    cout << \"the entered number is 0\\n\";\n",
    "\n",
    "cout << \"Good bye!\";"
   ]
  },
  {
   "cell_type": "markdown",
   "metadata": {},
   "source": [
    "### visualize nested conditional execution in [pythontutor.com](http://pythontutor.com/cpp.html#code=//%20program%20to%20determine%20day%20of%20the%20week%20given%20number%0A//%201-7%20%28sunday%20to%20saturday%29%0A%23include%20%3Ciostream%3E%0Ausing%20namespace%20std%3B%0A%0Aint%20main%28%29%20%7B%0A%20%20int%20num%20%3D%20-99%3B%0A%20%20if%20%28num%20%3E%200%29%20%7B%0A%20%20%20%20cout%20%3C%3C%20num%20%3C%3C%20%22%20is%20positive%20%22%3B%0A%20%20%20%20//%20check%20if%20the%20number%20is%20even%20or%20odd%0A%20%20%20%20if%20%28num%20%252%20%3D%3D%200%29%0A%20%20%20%20%20%20%20%20cout%20%3C%3C%20%22and%20even%5Cn%22%3B%0A%20%20%20%20else%0A%20%20%20%20%20%20%20%20cout%20%3C%3C%20%22and%20odd%5Cn%22%3B%0A%20%20%7D%0A%20%20else%20if%20%28num%20%3C%200%29%20%7B%0A%20%20%20%20%20%20cout%20%3C%3C%20num%20%3C%3C%20%22%20is%20negative%20%22%3B%0A%20%20%20%20%20%20//%20check%20if%20the%20number%20is%20even%20or%20odd%0A%20%20%20%20%20%20if%20%28num%20%252%20%3D%3D%200%29%0A%20%20%20%20%20%20%20%20%20%20cout%20%3C%3C%20%22and%20even%5Cn%22%3B%0A%20%20%20%20%20%20else%0A%20%20%20%20%20%20%20%20%20%20cout%20%3C%3C%20%22and%20odd%5Cn%22%3B%0A%20%20%7D%0A%20%20else%0A%20%20%20%20%20%20cout%20%3C%3C%20%22the%20entered%20number%20is%200%5Cn%22%3B%0A%20%20%20%20%0A%20%20%20%20cout%20%3C%3C%20%22Good%20bye!%22%3B%0A%20%20return%200%3B%0A%7D&curInstr=0&mode=display&origin=opt-frontend.js&py=cpp&rawInputLstJSON=%5B%5D)"
   ]
  },
  {
   "cell_type": "markdown",
   "metadata": {},
   "source": [
    "## 6.4 Conditional ternary operator\n",
    "- C++ provies a ternary conditional operator\n",
    "- syntax:\n",
    "```cpp\n",
    "(Condition) ? Exp2 : Exp3;\n",
    "```\n",
    "- the value of (Condition) is evaluated\n",
    "- if the Condition is true, Exp2 is used as the result\n",
    "- otherwise Exp3 is uesed as the result fo the condition\n",
    "- shortcut for:\n",
    "\n",
    "```cpp\n",
    "if (Condition) {\n",
    "    var = Exp2;\n",
    "}\n",
    "else {\n",
    "    var = Exp3;\n",
    "}\n",
    "```"
   ]
  },
  {
   "cell_type": "code",
   "execution_count": 1,
   "metadata": {},
   "outputs": [],
   "source": [
    "// write a program that determines if a given number is odd or even\n",
    "#include <iostream>\n",
    "#include <string>\n",
    "using namespace std;\n",
    "\n",
    "int num;"
   ]
  },
  {
   "cell_type": "code",
   "execution_count": 3,
   "metadata": {},
   "outputs": [
    {
     "name": "stdout",
     "output_type": "stream",
     "text": [
      "Enter a whole number: -11\n",
      "-11 is odd"
     ]
    }
   ],
   "source": [
    "cout << \"Enter a whole number: \";\n",
    "cin >> num;\n",
    "cout << num << \" is \" << ((num%2 == 0) ? \"even\" : \"odd\");"
   ]
  },
  {
   "cell_type": "code",
   "execution_count": null,
   "metadata": {},
   "outputs": [],
   "source": []
  }
 ],
 "metadata": {
  "kernelspec": {
   "display_name": "C++17",
   "language": "C++17",
   "name": "xcpp17"
  },
  "language_info": {
   "codemirror_mode": "text/x-c++src",
   "file_extension": ".cpp",
   "mimetype": "text/x-c++src",
   "name": "c++",
   "version": "17"
  }
 },
 "nbformat": 4,
 "nbformat_minor": 2
}
