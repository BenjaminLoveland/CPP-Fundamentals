{
 "cells": [
  {
   "cell_type": "markdown",
   "metadata": {},
   "source": [
    "# 2 Data, Variables and Operations\n",
    "\n",
    "## Topics\n",
    "- data and values\n",
    "- C++ fundamental data types\n",
    "- digital units and number systems\n",
    "- variables and data assignment\n",
    "- keywords and operators\n",
    "- order of operations\n",
    "- operators for numbers and strings\n",
    "- constants\n",
    "- type casting"
   ]
  },
  {
   "cell_type": "markdown",
   "metadata": {},
   "source": [
    "## 2.1 Data and values\n",
    "- data and values are the fundamentals to any computer language and program\n",
    "- a value is one of the fundamental things -- like a letter or a number -- that a program manipulates\n",
    "- almost all computer programs use and manipulate some data values\n",
    "\n",
    "## 2.2 Literal values and representations\n",
    "- at a high level, we deal with two types of data values: Numbers and Texts\n",
    "- numbers can be further divided into two types:\n",
    "    - Whole number literal values: 109, -234, etc.\n",
    "    - Floating point literal values: 123.456, -0.3555, etc.\n",
    "- text is a collection of 1 or more characters (symbols, digits or alpahabets)\n",
    "    - single character is represent using single quote ( ' )\n",
    "        - char literal values: 'A', 'a', '%', '1', etc.\n",
    "    - 2 or more characters are called string\n",
    "        - represented using double quotes ( \" )\n",
    "        - string literal values: \"CO\", \"John Doe\", \"1100\", etc.\n",
    "    \n",
    "- programming languages need to represent and use these data correctly\n",
    "    \n",
    "## 2.3 C++ Fundamental types\n",
    "- there are many fundamental types based on the size of the data program needs to store\n",
    "    - most fundamental types are numeric types\n",
    "- see here for all the supported types: https://en.cppreference.com/w/cpp/language/types\n",
    "- the most common types we use are:\n",
    "\n",
    "| Type | Description | Storage size | Value range |\n",
    "| :--- | :--- | :--- | ---|\n",
    "| **void** | an empty set of values; no type | system dependent: 4 or 8 bytes | NA |\n",
    "|**bool** | true or false values | 1 byte or 8 bits | true or false or 1 or 0 |\n",
    "| **char** | represents one ASCII character; inside single quote | 1 byte or 8 bits | $-2^7$ to $2^7-1$ or -128 to 127 |\n",
    "| **unsigned char** | represents one ASCII character inside a single quote | 1 byte or 8 bits | 0 to $2^8-1$ or 0 to 255 |\n",
    "| **int** | +/-ve integers or whole numbers | 4 bytes | $-2^{31}$ to $2^{31}-1$ or -2,147,483,648 to 2,147,483,647|\n",
    "| **signed int** | same as int; signed (+ve and -ve) integers | 4 bytes or 32 bits | $-2^{31}$ to $2^{31}-1$ or -2,147,483,648 to 2,147,483,647|\n",
    "| **unsigned int** | unsigned (only positive) representation | 4 bytes or 32 bits | 0 to $2^{32}-1$ or 0 to 4,294,967,295 |\n",
    "| **long** | +ve and -ve big integers | 8 bytes or 64 bits| $-2^{63}$ to $2^{63}-1$ or -9,223,372,036,854,775,808 to 9,223,372,036,854,775,807|\n",
    "| **unsigned long** | positive big integers | 8 bytes or 64 bits | 0 to $2^{64}-1$ or 0 to 0 to 18,446,744,073,709,551,615 |\n",
    "| **float** | single precision floating points | 32 bits | 7 decimal digits precision |\n",
    "| **double** | double precision floating points | 64 bits |  15 decimal digits precision |\n",
    "\n",
    "- in C++, there's no fundadamental type available to work with string data\n",
    "- use basic_string defined in **&lt;string&gt;** library\n",
    "    - more on basic_string: https://en.cppreference.com/w/cpp/string/basic_string\n",
    "    - must include &lt;string&gt; library and **std** namespace\n",
    "    - we'll dive into string more in depth in string chapter\n",
    "    \n",
    "- **sizeof(type)** operator gives size of fundamental types in bytes"
   ]
  },
  {
   "cell_type": "code",
   "execution_count": 5,
   "metadata": {},
   "outputs": [
    {
     "data": {
      "text/plain": [
       "1"
      ]
     },
     "execution_count": 5,
     "metadata": {},
     "output_type": "execute_result"
    }
   ],
   "source": [
    "sizeof(bool)"
   ]
  },
  {
   "cell_type": "code",
   "execution_count": 15,
   "metadata": {},
   "outputs": [
    {
     "data": {
      "text/plain": [
       "1"
      ]
     },
     "execution_count": 15,
     "metadata": {},
     "output_type": "execute_result"
    }
   ],
   "source": [
    "sizeof(char)"
   ]
  },
  {
   "cell_type": "code",
   "execution_count": 2,
   "metadata": {},
   "outputs": [
    {
     "data": {
      "text/plain": [
       "4"
      ]
     },
     "execution_count": 2,
     "metadata": {},
     "output_type": "execute_result"
    }
   ],
   "source": [
    "sizeof(int)"
   ]
  },
  {
   "cell_type": "code",
   "execution_count": 17,
   "metadata": {},
   "outputs": [
    {
     "data": {
      "text/plain": [
       "8"
      ]
     },
     "execution_count": 17,
     "metadata": {},
     "output_type": "execute_result"
    }
   ],
   "source": [
    "sizeof(long)"
   ]
  },
  {
   "cell_type": "code",
   "execution_count": 18,
   "metadata": {},
   "outputs": [
    {
     "data": {
      "text/plain": [
       "4"
      ]
     },
     "execution_count": 18,
     "metadata": {},
     "output_type": "execute_result"
    }
   ],
   "source": [
    "sizeof(float)"
   ]
  },
  {
   "cell_type": "code",
   "execution_count": 19,
   "metadata": {},
   "outputs": [
    {
     "data": {
      "text/plain": [
       "8"
      ]
     },
     "execution_count": 19,
     "metadata": {},
     "output_type": "execute_result"
    }
   ],
   "source": [
    "sizeof(double)"
   ]
  },
  {
   "cell_type": "markdown",
   "metadata": {},
   "source": [
    "## 2.4 Units of digital data\n",
    "- digital computers use binary number system consisting of two digits (0 and 1)\n",
    "- every data, code is represented using binary values\n",
    "    - hence the name binary or byte code for executable programs\n",
    "    - letter A is encoded as 1000001 (7 binary digits)\n",
    "- humans use decimal number system with 10 digits (0 to 9)\n",
    "    - we have ways to represent texts using alphabets for Englisgh language e.g.\n",
    "    - letter A can be encoded with decimal value 65, if we lived in the world that only understood numbers\n",
    "    \n",
    "| Unit      | Equivalent |\n",
    "|-----------|------------|\n",
    "| 1 bit (b) | 0 or 1 |\n",
    "| 1 byte (B) | 8 bits (b) |\n",
    "| 1 kilobyte (KB)  | 1,024 B |\n",
    "| 1 megabyte (MB) | 1,024 KB |\n",
    "| 1 gigabtye (GB) | 1,024 MB |\n",
    "| 1 terabyte (TB) | 1,024 GB |\n",
    "| 1 petabyte (PB) | 1,024 TB |\n",
    "..."
   ]
  },
  {
   "cell_type": "markdown",
   "metadata": {},
   "source": [
    "## 2.5 Number systems\n",
    "- there are several number systems based on the base\n",
    "    - base is number of unique digits number system uses to represent numbers\n",
    "- binary (base 2), octal (base 8), decimal (base 10), hexadecimal (base 16), etc.\n",
    "\n",
    "### Decimal number system\n",
    "- also called Hindu-Arabic number system\n",
    "- most commonly used number system that uses base 10\n",
    "    - has 10 digits or numerals to represent numbers: 0..9\n",
    "    - e.g. 1, 79, 1024, 12345, etc.\n",
    "- numerals representing numbers have different place values depending on position:\n",
    "    - ones ($10^0$), tens($10^1$), hundreds($10^2$), thousands($10^3$), ten thousands($10^4$), etc.\n",
    "    - e.g. 543.21 = $(5x10^2)+(4x10^1)+(3x10^0)+(2x10^{-1})+(1x10^{-2})$\n",
    "    \n",
    "## 2.6 Number system conversion\n",
    "- since computers understand only binary, everything (data, code) must be converted into binary\n",
    "- all characaters (alphabets and symbols) are given decimal codes for electronic communication\n",
    "    - these codes are called ASCII (American Standard Code for Information Interchange)\n",
    "    - A -> 65; Z -> 90; a -> 97; z -> 122, * -> 42, etc.\n",
    "    - see ASCII chart: https://en.cppreference.com/w/c/language/ascii\n",
    "\n",
    "### Converting decmial to binary number\n",
    "- algorithm steps:\n",
    "    1. repeteadly divide the decimal number by base 2 until the quotient becomes 0\n",
    "        - note remainder for each division\n",
    "    2. collect all the remainders\n",
    "        - the first remainder is the last (least significant) digit in binary\n",
    "    \n",
    "- example 1: convert $(10)_{10}$ to $(?)_2$\n",
    "    - step 1:\n",
    "        ```\n",
    "        10 / 2 : quotient: 5, remainder: 0\n",
    "        5 / 2  : quotient 2, remainder: 1\n",
    "        2 / 2  : quotient: 1, remainder: 0\n",
    "        1 / 2  : quotient: 0, remainder: 1 \n",
    "        ```\n",
    "    - step 2: \n",
    "         - remainders from bottom up: 1010\n",
    "    - so, $(10)_{10}$ = $(1010)_2$\n",
    "     \n",
    "- example 2: convert $(13)_{10}$ to $(?)_2$\n",
    "    - step 1:\n",
    "    ```\n",
    "        13 / 2 : quotient: 6, remainder: 1\n",
    "        6 / 2  : quotient 3, remainder: 0\n",
    "        3 / 2  : quotient: 1, remainder: 1\n",
    "        1 / 2  : quotient: 0, remainder: 1 \n",
    "    ```\n",
    "    - step 2:\n",
    "         - remainders from bottom up: 1101\n",
    "    - so, $(13)_{10}$ = $(1101)_2$\n",
    "     \n",
    "### Converting binary to decimal number\n",
    "- once the computer does the computation in binary, it needs to convert the results back to decimal number system for humans to understand\n",
    "- algorithm steps:\n",
    "    1. multiply each binary digit by it's place value in binary\n",
    "    2. sum all the products\n",
    "- example 1: convert $(1010)_2$ to $(?)_{10}$?\n",
    "    - step 1:\n",
    "        - $0x2^0 = 0$\n",
    "        - $1x2^1 = 2$\n",
    "        - $0x2^2 = 0$\n",
    "        - $1x2^3 = 8$\n",
    "    - step 2:\n",
    "        - $0 + 2 + 0 + 8 = 10$\n",
    "    - so, $(1010)_2$ = $(10)_{10}$\n",
    "    \n",
    "- example 2: convert $(1101)_2$ to $(?)_{10}$\n",
    "    - step 1:\n",
    "        - $1x2^0 = 1$\n",
    "        - $0x2^1 = 0$\n",
    "        - $1x2^2 = 4$\n",
    "        - $1x2^3 = 8$\n",
    "    - step 2:\n",
    "        - $1+0+4+8 = 13$\n",
    "    - so, $(1101)_2$ = $(13)_{10}$\n",
    "- we got the same decimal vales we started from in previous examples\n",
    "- food for thought: think how you'd go about writing a program to convert any positive decimal number into binary and vice versa!\n",
    "\n",
    "## 2.7 Variables\n",
    "- programs must load data values into memory to manipulate them\n",
    "- data may be large and used many times during the program\n",
    "    - typing the data values literally all the time is not efficient and fun\n",
    "    - most importantly error prone due to typos\n",
    "- variables are named memory location where data can be stashed for easy access and manipulation\n",
    "- one can declared and use as many variables as necessary\n",
    "- C++ is statically and strongly typed programming language\n",
    "    - variables are tied to their specific data types that must be explictly declared when declaring variables\n",
    "\n",
    "### variable declaration\n",
    "- statements that create variables/identifiers to store some data values\n",
    "- as the name says, value of variables can vary/change over time\n",
    "- syntax:\n",
    "```c\n",
    "type varName;\n",
    "type varNam1, varName2, ...; //declare several variables all of the same type\n",
    "```\n",
    "\n",
    "### rules for creating variables\n",
    "- variable names are case sensitive\n",
    "- must declare variables before they can be used\n",
    "- can't define variable with the same name more than once\n",
    "- can't use keywords as variable names\n",
    "- data stored must match the type of variable\n",
    "- variable names can't contain symbols (white spaces, #, &, etc.) except for (_ underscore)\n",
    "- variable names can contain digits but can't start with a digit\n",
    "- variable names can start with only alphabets (lower or upper) and _ symbol\n",
    "\n",
    "### best practices\n",
    "- use descriptive and meaningful but concise name\n",
    "    - one should know quickly what data you're storing\n",
    "- use lowercase; camelCase or ( _ underscore ) to combine multiple words\n",
    "\n",
    "### keywords\n",
    "- keywords are reserved names and words that have specific purpose in C++\n",
    "    - they can only be used what they're intended for\n",
    "- e.g., char, int, unsigned, signed, float, double, bool, if, for, while, return, struct, class, operator, try, etc.\n",
    "- all the keywords are listed here: https://en.cppreference.com/w/cpp/keyword"
   ]
  },
  {
   "cell_type": "code",
   "execution_count": 1,
   "metadata": {},
   "outputs": [],
   "source": [
    "// examples of variable declaration\n",
    "bool done;\n",
    "char middleInitial;\n",
    "char middleinitial;\n",
    "int temperature;\n",
    "unsigned int age;\n",
    "long richest_persons_networth;\n",
    "float interestRate;\n",
    "float length;\n",
    "float width;\n",
    "double space_shuttle_velocity;"
   ]
  },
  {
   "cell_type": "code",
   "execution_count": 2,
   "metadata": {},
   "outputs": [],
   "source": [
    "// TODO:\n",
    "// Declare 10 variables of atleast 5 different types"
   ]
  },
  {
   "cell_type": "markdown",
   "metadata": {},
   "source": [
    "### string variables\n",
    "- declare variables that store string data\n",
    "    - 1 or more string of characters\n",
    "- in C++ string is an advanced type\n",
    "- must include &lt;string&gt; header file or library to use string type\n",
    "- must use **std** namespace\n",
    "- strings are represented using a pair of double quotes (\"string\")\n",
    "- more on string is covered in later chapter"
   ]
  },
  {
   "cell_type": "code",
   "execution_count": 3,
   "metadata": {},
   "outputs": [],
   "source": [
    "// string variables\n",
    "#include <string>\n",
    "\n",
    "using namespace std;\n",
    "\n",
    "string fullName;\n",
    "string firstName;\n",
    "string address1;\n",
    "string country;\n",
    "string state_name;\n",
    "std::string state_code; // :: name resolution operator"
   ]
  },
  {
   "cell_type": "code",
   "execution_count": 5,
   "metadata": {},
   "outputs": [],
   "source": [
    "// TODO:\n",
    "// Declare 5 string variables"
   ]
  },
  {
   "cell_type": "markdown",
   "metadata": {},
   "source": [
    "## 2.8 Assignment\n",
    "- once variables are declared, data can be stored using assignment operator ( = )\n",
    "- **assignment statements** have the following syntax\n",
    "```cpp\n",
    "varName = value;\n",
    "```"
   ]
  },
  {
   "cell_type": "code",
   "execution_count": 6,
   "metadata": {},
   "outputs": [
    {
     "data": {
      "text/plain": [
       "950.12346"
      ]
     },
     "execution_count": 6,
     "metadata": {},
     "output_type": "execute_result"
    }
   ],
   "source": [
    "// assignment examples\n",
    "done = false;\n",
    "middleInitial = 'J'; // character is represent using single quote\n",
    "middleinitial = 'Q';\n",
    "temperature = 73;\n",
    "age = 45;\n",
    "richest_persons_networth = 120000000000; // 120 billion\n",
    "interestRate = 4.5;\n",
    "length = 10.5;\n",
    "width = 99.99f; // can end with f for representing floating point number\n",
    "space_shuttle_velocity = 950.1234567891234567 // 16 decimal points"
   ]
  },
  {
   "cell_type": "code",
   "execution_count": 7,
   "metadata": {},
   "outputs": [],
   "source": [
    "// string assignment examples\n",
    "fullName = \"John Doe\";\n",
    "firstName = \"John\";\n",
    "address1 = \"1100 North Avenue\"; // number as string\n",
    "country = \"USA\";\n",
    "state_name = \"Colorado\";\n",
    "state_code = \"CO\";"
   ]
  },
  {
   "cell_type": "code",
   "execution_count": 8,
   "metadata": {},
   "outputs": [],
   "source": [
    "// TODO: assign some values to variables defined above"
   ]
  },
  {
   "cell_type": "markdown",
   "metadata": {},
   "source": [
    "### variable declartion and initialization\n",
    "- variables can be declared with initial value at the time of construction\n",
    "- if you know what value a variable should start with; this saves you typing\n",
    "- often times its the best practice to initialize variable with default value\n",
    "- several ways to initialize variables: https://en.cppreference.com/w/cpp/language/initialization\n",
    "- two common ways:\n",
    "    1. Copy initialization (using = operator)\n",
    "    2. Value initialization (using {} curley braces)\n",
    "        - also called uniform initialization\n",
    "        - useful in initializing advanced types such as arrays, objects, etc."
   ]
  },
  {
   "cell_type": "code",
   "execution_count": 9,
   "metadata": {},
   "outputs": [],
   "source": [
    "// Copy initialization\n",
    "float price = 2.99f;\n",
    "char MI = 'B'; //middle initial\n",
    "string school_name = \"Grand Junction High\";"
   ]
  },
  {
   "cell_type": "code",
   "execution_count": 10,
   "metadata": {},
   "outputs": [],
   "source": [
    "// Value/uniform initialization\n",
    "char some_letter{'U'};\n",
    "int some_length{100};\n",
    "float some_float{200.99};\n",
    "string some_string{\"Hello World!\"};"
   ]
  },
  {
   "cell_type": "markdown",
   "metadata": {},
   "source": [
    "### variables' values can be changed\n",
    "- type of the values must be same as the type of the variables\n",
    "- C++ is strongly and statically typed programming language!"
   ]
  },
  {
   "cell_type": "code",
   "execution_count": 11,
   "metadata": {},
   "outputs": [],
   "source": [
    "price = 3.99;\n",
    "price = 1.99;\n",
    "MI = 'Q';\n",
    "school_name = \"Fruita Monument High\";\n",
    "some_string = \"Goodbye, World!\";"
   ]
  },
  {
   "cell_type": "markdown",
   "metadata": {},
   "source": [
    "### Visualize variables and memory with [pythontutor.com](http://pythontutor.com/cpp.html#code=%23include%20%3Cstring%3E%0Ausing%20namespace%20std%3B%0A%0Aconst%20double%20PI%20%3D%203.141592653589793238%3B%0A%0Aint%20main%28%29%20%7B%0A%20%20char%20MI%3B%0A%20%20int%20temperature%3B%0A%20%20float%20width%3B%0A%20%20double%20space_shuttle_velocity%3B%0A%20%20string%20fullName%3B%0A%20%20MI%20%3D%20'A'%3B%0A%20%20temperature%20%3D%20-10%3B%0A%20%20float%20length%20%3D%2015.5%3B%0A%20%20double%20distance%7B199.999%7D%3B%0A%20%20space_shuttle_velocity%20%3D%209.9%3B%0A%20%20MI%20%3D%20'Z'%3B%0A%20%20length%20%3D%2099.99f%3B%0A%20%20return%200%3B%0A%7D&curInstr=0&mode=display&origin=opt-frontend.js&py=cpp&rawInputLstJSON=%5B%5D)"
   ]
  },
  {
   "cell_type": "markdown",
   "metadata": {},
   "source": [
    "## 2.9 Operators\n",
    "- special symbols used to represent simple computations\n",
    "    - like addition, multiplication, modulo, etc.\n",
    "- C++ has operators for numbers, characters, and strings\n",
    "\n",
    "### operators for numbers\n",
    "- following are the binary operators that perform basic mathematical computations\n",
    "- binary operators take two operands (left operator right)\n",
    "- operands are values that operators work on\n",
    "- **+** : addition\n",
    "- **-** : subtraction\n",
    "- **\\*** : multiplication\n",
    "- **/** : division\n",
    "- **%** : modulo or remainder\n",
    "\n",
    "### adding numbers\n",
    "- **\\+** can be used to add literal values or variables"
   ]
  },
  {
   "cell_type": "code",
   "execution_count": 1,
   "metadata": {},
   "outputs": [
    {
     "data": {
      "text/plain": [
       "2"
      ]
     },
     "execution_count": 1,
     "metadata": {},
     "output_type": "execute_result"
    }
   ],
   "source": [
    "// adding literal integer values\n",
    "1 + 1"
   ]
  },
  {
   "cell_type": "code",
   "execution_count": 2,
   "metadata": {},
   "outputs": [
    {
     "data": {
      "text/plain": [
       "100.00000"
      ]
     },
     "execution_count": 2,
     "metadata": {},
     "output_type": "execute_result"
    }
   ],
   "source": [
    "// adding literal floating points\n",
    "99.9 + 0.1"
   ]
  },
  {
   "cell_type": "code",
   "execution_count": 3,
   "metadata": {},
   "outputs": [],
   "source": [
    "// adding int variables\n",
    "int num1, num2, sum;"
   ]
  },
  {
   "cell_type": "code",
   "execution_count": 4,
   "metadata": {},
   "outputs": [],
   "source": [
    "num1 = 10;\n",
    "num2 = 5;\n",
    "sum = num1 + num2;"
   ]
  },
  {
   "cell_type": "code",
   "execution_count": 5,
   "metadata": {},
   "outputs": [
    {
     "data": {
      "text/plain": [
       "15"
      ]
     },
     "execution_count": 5,
     "metadata": {},
     "output_type": "execute_result"
    }
   ],
   "source": [
    "// let's see the value of sum\n",
    "sum"
   ]
  },
  {
   "cell_type": "code",
   "execution_count": 6,
   "metadata": {},
   "outputs": [],
   "source": [
    "// adding float variables\n",
    "float n1 = 3.5;\n",
    "float n2 = 2.5;\n",
    "float total = n1+n2;"
   ]
  },
  {
   "cell_type": "code",
   "execution_count": 7,
   "metadata": {},
   "outputs": [
    {
     "data": {
      "text/plain": [
       "6.00000f"
      ]
     },
     "execution_count": 7,
     "metadata": {},
     "output_type": "execute_result"
    }
   ],
   "source": [
    "// see total values\n",
    "total"
   ]
  },
  {
   "cell_type": "markdown",
   "metadata": {},
   "source": [
    "### subtracting numbers"
   ]
  },
  {
   "cell_type": "code",
   "execution_count": 9,
   "metadata": {},
   "outputs": [
    {
     "data": {
      "text/plain": [
       "9"
      ]
     },
     "execution_count": 9,
     "metadata": {},
     "output_type": "execute_result"
    }
   ],
   "source": [
    "// subtracting literal integers\n",
    "10-1"
   ]
  },
  {
   "cell_type": "code",
   "execution_count": 10,
   "metadata": {},
   "outputs": [
    {
     "data": {
      "text/plain": [
       "89.000000"
      ]
     },
     "execution_count": 10,
     "metadata": {},
     "output_type": "execute_result"
    }
   ],
   "source": [
    "// subtracting literal floating points\n",
    "99.99 - 10.99"
   ]
  },
  {
   "cell_type": "code",
   "execution_count": 11,
   "metadata": {},
   "outputs": [
    {
     "data": {
      "text/plain": [
       "5"
      ]
     },
     "execution_count": 11,
     "metadata": {},
     "output_type": "execute_result"
    }
   ],
   "source": [
    "// subtracting variables\n",
    "num1-num2"
   ]
  },
  {
   "cell_type": "markdown",
   "metadata": {},
   "source": [
    "### multiplying numbers"
   ]
  },
  {
   "cell_type": "code",
   "execution_count": 12,
   "metadata": {},
   "outputs": [
    {
     "data": {
      "text/plain": [
       "6"
      ]
     },
     "execution_count": 12,
     "metadata": {},
     "output_type": "execute_result"
    }
   ],
   "source": [
    "// multiplying literal integers\n",
    "2*3"
   ]
  },
  {
   "cell_type": "code",
   "execution_count": 13,
   "metadata": {},
   "outputs": [
    {
     "data": {
      "text/plain": [
       "5.0000000"
      ]
     },
     "execution_count": 13,
     "metadata": {},
     "output_type": "execute_result"
    }
   ],
   "source": [
    "// multiplying literatl floats\n",
    "2.5 * 2.0"
   ]
  },
  {
   "cell_type": "code",
   "execution_count": 14,
   "metadata": {},
   "outputs": [
    {
     "data": {
      "text/plain": [
       "8.75000f"
      ]
     },
     "execution_count": 14,
     "metadata": {},
     "output_type": "execute_result"
    }
   ],
   "source": [
    "// multiplying numeric variables\n",
    "n1*n2"
   ]
  },
  {
   "cell_type": "markdown",
   "metadata": {},
   "source": [
    "### dividing numbers"
   ]
  },
  {
   "cell_type": "code",
   "execution_count": 15,
   "metadata": {},
   "outputs": [
    {
     "data": {
      "text/plain": [
       "5"
      ]
     },
     "execution_count": 15,
     "metadata": {},
     "output_type": "execute_result"
    }
   ],
   "source": [
    "// dividing literal integers\n",
    "10/2"
   ]
  },
  {
   "cell_type": "code",
   "execution_count": 16,
   "metadata": {},
   "outputs": [
    {
     "data": {
      "text/plain": [
       "4"
      ]
     },
     "execution_count": 16,
     "metadata": {},
     "output_type": "execute_result"
    }
   ],
   "source": [
    "9/2 // integer division; remainder is discarded"
   ]
  },
  {
   "cell_type": "code",
   "execution_count": 17,
   "metadata": {},
   "outputs": [
    {
     "data": {
      "text/plain": [
       "4.5000000"
      ]
     },
     "execution_count": 17,
     "metadata": {},
     "output_type": "execute_result"
    }
   ],
   "source": [
    "// dividing literal floats\n",
    "// if one of the operands is floating point number, C++ performs float division\n",
    "9.0/2"
   ]
  },
  {
   "cell_type": "code",
   "execution_count": 18,
   "metadata": {},
   "outputs": [
    {
     "data": {
      "text/plain": [
       "1.40000f"
      ]
     },
     "execution_count": 18,
     "metadata": {},
     "output_type": "execute_result"
    }
   ],
   "source": [
    "// dividing numeric variables\n",
    "n1/n2"
   ]
  },
  {
   "cell_type": "markdown",
   "metadata": {},
   "source": [
    "### capturing remainder from a division\n",
    "- use modulo or remainder ( **%** ) operator\n",
    "- only works on integers"
   ]
  },
  {
   "cell_type": "code",
   "execution_count": 19,
   "metadata": {},
   "outputs": [
    {
     "data": {
      "text/plain": [
       "1"
      ]
     },
     "execution_count": 19,
     "metadata": {},
     "output_type": "execute_result"
    }
   ],
   "source": [
    "// modulo or remainder operator\n",
    "5%2 // testing for odd number"
   ]
  },
  {
   "cell_type": "code",
   "execution_count": 20,
   "metadata": {},
   "outputs": [
    {
     "data": {
      "text/plain": [
       "0"
      ]
     },
     "execution_count": 20,
     "metadata": {},
     "output_type": "execute_result"
    }
   ],
   "source": [
    "4%2 // testing for even number"
   ]
  },
  {
   "cell_type": "code",
   "execution_count": 21,
   "metadata": {},
   "outputs": [
    {
     "data": {
      "text/plain": [
       "10"
      ]
     },
     "execution_count": 21,
     "metadata": {},
     "output_type": "execute_result"
    }
   ],
   "source": [
    "// can't divide 10 by 11\n",
    "10%11"
   ]
  },
  {
   "cell_type": "code",
   "execution_count": 23,
   "metadata": {},
   "outputs": [],
   "source": [
    "// expressions with variables and literals\n",
    "// declare some variables\n",
    "int hour, minute;"
   ]
  },
  {
   "cell_type": "code",
   "execution_count": 24,
   "metadata": {},
   "outputs": [],
   "source": [
    "// assign some values\n",
    "hour = 11;\n",
    "minute = 59;"
   ]
  },
  {
   "cell_type": "code",
   "execution_count": 27,
   "metadata": {},
   "outputs": [
    {
     "data": {
      "text/plain": [
       "719"
      ]
     },
     "execution_count": 27,
     "metadata": {},
     "output_type": "execute_result"
    }
   ],
   "source": [
    "// Number of minutes since midnight\n",
    "hour * 60 + minute"
   ]
  },
  {
   "cell_type": "code",
   "execution_count": 28,
   "metadata": {},
   "outputs": [
    {
     "data": {
      "text/plain": [
       "0"
      ]
     },
     "execution_count": 28,
     "metadata": {},
     "output_type": "execute_result"
    }
   ],
   "source": [
    "// Fraction of the hour that has passed\n",
    "minute/60"
   ]
  },
  {
   "cell_type": "markdown",
   "metadata": {},
   "source": [
    "## 2.10 Order of operations\n",
    "- expressions may have more than one operators\n",
    "    - the order of evaluation depends on the rules of precedence\n",
    "\n",
    "### PEMDAS\n",
    "- acronym for order of operations from highest to lowest\n",
    "    1. **P** : Parenthesis\n",
    "    - **E** : Exponentiation\n",
    "    - **M** : Multiplication\n",
    "    - **D** : Division\n",
    "    - **A** : Addition\n",
    "    - **S** : Subtraction"
   ]
  },
  {
   "cell_type": "code",
   "execution_count": 18,
   "metadata": {},
   "outputs": [
    {
     "data": {
      "text/plain": [
       "6"
      ]
     },
     "execution_count": 18,
     "metadata": {},
     "output_type": "execute_result"
    }
   ],
   "source": [
    "// computation is similar to what we know from Elementary Math\n",
    "2+3*4/2-2"
   ]
  },
  {
   "cell_type": "code",
   "execution_count": 29,
   "metadata": {},
   "outputs": [
    {
     "data": {
      "text/plain": [
       "20"
      ]
     },
     "execution_count": 29,
     "metadata": {},
     "output_type": "execute_result"
    }
   ],
   "source": [
    "(2+3)*4/(2-1)"
   ]
  },
  {
   "cell_type": "markdown",
   "metadata": {},
   "source": [
    "## 2.11  Operators for characters\n",
    "- mathematical operators also work on characters\n",
    "- characters' ASCII values are used in computations\n",
    "- C++, when safe, converts from one type to another; called type **coercion**\n",
    "    - characters are converted into their corresponding integer ASCII values\n",
    "    - **coercion** is safe when data is not lost, e.g. converting int to float"
   ]
  },
  {
   "cell_type": "code",
   "execution_count": 30,
   "metadata": {},
   "outputs": [
    {
     "data": {
      "text/plain": [
       "98"
      ]
     },
     "execution_count": 30,
     "metadata": {},
     "output_type": "execute_result"
    }
   ],
   "source": [
    "'a'+1 // a -> 97"
   ]
  },
  {
   "cell_type": "code",
   "execution_count": 31,
   "metadata": {},
   "outputs": [
    {
     "data": {
      "text/plain": [
       "64"
      ]
     },
     "execution_count": 31,
     "metadata": {},
     "output_type": "execute_result"
    }
   ],
   "source": [
    "'A'-1 // A -> 65"
   ]
  },
  {
   "cell_type": "code",
   "execution_count": 24,
   "metadata": {},
   "outputs": [
    {
     "data": {
      "text/plain": [
       "650"
      ]
     },
     "execution_count": 24,
     "metadata": {},
     "output_type": "execute_result"
    }
   ],
   "source": [
    "'A'*10"
   ]
  },
  {
   "cell_type": "code",
   "execution_count": 33,
   "metadata": {},
   "outputs": [
    {
     "data": {
      "text/plain": [
       "6"
      ]
     },
     "execution_count": 33,
     "metadata": {},
     "output_type": "execute_result"
    }
   ],
   "source": [
    "'A'/10"
   ]
  },
  {
   "cell_type": "code",
   "execution_count": 34,
   "metadata": {},
   "outputs": [
    {
     "data": {
      "text/plain": [
       "130"
      ]
     },
     "execution_count": 34,
     "metadata": {},
     "output_type": "execute_result"
    }
   ],
   "source": [
    "'A'+'A'"
   ]
  },
  {
   "cell_type": "markdown",
   "metadata": {},
   "source": [
    "## 2.12 Operators for strings\n",
    "- certain operators are defined or overloaded for string types\n",
    "    - more on user defined advanced types and operator overloading later\n",
    "- **+** : concatenates or joins two strings giving a new longer string"
   ]
  },
  {
   "cell_type": "code",
   "execution_count": 36,
   "metadata": {},
   "outputs": [],
   "source": [
    "// variables can be declared and intitialized at the same time\n",
    "#include <iostream>\n",
    "#include <string>\n",
    "using namespace std;\n",
    "\n",
    "string fName = \"John\";\n",
    "string lName = \"Smith\";\n",
    "string space = \" \";\n",
    "string fullName = fName + space + lName;"
   ]
  },
  {
   "cell_type": "code",
   "execution_count": 38,
   "metadata": {},
   "outputs": [
    {
     "data": {
      "text/plain": [
       "\"John Smith\""
      ]
     },
     "execution_count": 38,
     "metadata": {},
     "output_type": "execute_result"
    }
   ],
   "source": [
    "fullName"
   ]
  },
  {
   "cell_type": "markdown",
   "metadata": {},
   "source": [
    "## 2.9 Constants\n",
    "- constants are named values that remain unchanged through out the program\n",
    "- useful for declaring values that are fixed\n",
    "    - e.g. value of $\\pi$, earth's gravity, unit conversions, etc.\n",
    "- two ways to define constants in C++\n",
    "    1. use **const** keyword infront of an identifier\n",
    "        - syntax:\n",
    "        ```cpp\n",
    "        const type identifier = value;\n",
    "        ```\n",
    "    2. use **#define** preprocessor directive\n",
    "        - syntax:\n",
    "        ```cpp\n",
    "        #define identifier value\n",
    "        ```\n",
    "        - after an identifier has been defined with a value, preprocessor replaces each occurances of PI with value"
   ]
  },
  {
   "cell_type": "code",
   "execution_count": 40,
   "metadata": {},
   "outputs": [],
   "source": [
    "const double pi = 22/7.0; // evaluate 22/7.0 and use it as the const value for pi\n",
    "const float earth_gravity = 9.8; // m/s^2 unit"
   ]
  },
  {
   "cell_type": "code",
   "execution_count": 41,
   "metadata": {},
   "outputs": [
    {
     "data": {
      "text/plain": [
       "3.1428571"
      ]
     },
     "execution_count": 41,
     "metadata": {},
     "output_type": "execute_result"
    }
   ],
   "source": [
    "// let's see the value of constant pi\n",
    "pi"
   ]
  },
  {
   "cell_type": "code",
   "execution_count": 42,
   "metadata": {},
   "outputs": [
    {
     "name": "stderr",
     "output_type": "stream",
     "text": [
      "\u001b[1minput_line_83:3:4: \u001b[0m\u001b[0;1;31merror: \u001b[0m\u001b[1mcannot assign to variable 'pi' with const-qualified type 'const double'\u001b[0m\n",
      "pi = 3.141592653589793238;\n",
      "\u001b[0;1;32m~~ ^\n",
      "\u001b[0m\u001b[1minput_line_80:2:15: \u001b[0m\u001b[0;1;30mnote: \u001b[0mvariable 'pi' declared const here\u001b[0m\n",
      " const double pi = 22/7.0; // evaluate 22/7.0 and use it as the const value for pi\n",
      "\u001b[0;1;32m ~~~~~~~~~~~~~^~~~~~~~~~~\n",
      "\u001b[0m"
     ]
    },
    {
     "ename": "Interpreter Error",
     "evalue": "",
     "output_type": "error",
     "traceback": [
      "Interpreter Error: "
     ]
    }
   ],
   "source": [
    "// try to assign different value to constant pi\n",
    "pi = 3.141592653589793238;"
   ]
  },
  {
   "cell_type": "code",
   "execution_count": 43,
   "metadata": {},
   "outputs": [],
   "source": [
    "// let's use constants\n",
    "double radius = 10.5;\n",
    "double area_of_circle = pi*radius*radius;"
   ]
  },
  {
   "cell_type": "code",
   "execution_count": 44,
   "metadata": {},
   "outputs": [
    {
     "data": {
      "text/plain": [
       "346.50000"
      ]
     },
     "execution_count": 44,
     "metadata": {},
     "output_type": "execute_result"
    }
   ],
   "source": [
    "// value of area of circle\n",
    "area_of_circle"
   ]
  },
  {
   "cell_type": "code",
   "execution_count": 45,
   "metadata": {},
   "outputs": [],
   "source": [
    "// preprocessor directive to declare named constant\n",
    "#define PI 3.141592653589793238"
   ]
  },
  {
   "cell_type": "code",
   "execution_count": 46,
   "metadata": {},
   "outputs": [
    {
     "data": {
      "text/plain": [
       "346.36059"
      ]
     },
     "execution_count": 46,
     "metadata": {},
     "output_type": "execute_result"
    }
   ],
   "source": [
    "PI*radius*radius"
   ]
  },
  {
   "cell_type": "markdown",
   "metadata": {},
   "source": [
    "### floating point operation accuracy\n",
    "- floating point calculations may not be always 100% accurate\n",
    "- you have to choose the accuracy upto certain decimal points to accept the results as correct\n",
    "- [google area of circle](https://www.google.com/search?q=area+of+a+circle&oq=area+of+a+ci&aqs=chrome.0.0l2j69i57j0l5.1840j0j7&sourceid=chrome&ie=UTF-8)\n",
    "    - use same radius 10.5 and compare the results"
   ]
  },
  {
   "cell_type": "markdown",
   "metadata": {},
   "source": [
    "## 2.10 Type casting\n",
    "- data values need to be converted from one type to another to get correct results\n",
    "- explictly converting one type into another is called **type casting**\n",
    "- implict conversion is called **coercion**\n",
    "- not all values can be converted from one type to another!\n",
    "\n",
    "### converting numeric values to string type\n",
    "- use to_string(value) to convert value to string\n",
    "- must include **&lt;string&gt;** library and **std** namespace"
   ]
  },
  {
   "cell_type": "code",
   "execution_count": 1,
   "metadata": {},
   "outputs": [],
   "source": [
    "#include <string>\n",
    "using namespace std;\n",
    "\n",
    "string str_val = to_string(99); // 99 is casted \"99\" and the value is assigned to str_val"
   ]
  },
  {
   "cell_type": "code",
   "execution_count": 2,
   "metadata": {},
   "outputs": [
    {
     "data": {
      "text/plain": [
       "\"99\""
      ]
     },
     "execution_count": 2,
     "metadata": {},
     "output_type": "execute_result"
    }
   ],
   "source": [
    "str_val"
   ]
  },
  {
   "cell_type": "code",
   "execution_count": 3,
   "metadata": {},
   "outputs": [],
   "source": [
    "// typeinfo library can be used to know the name of data types\n",
    "#include <typeinfo>"
   ]
  },
  {
   "cell_type": "code",
   "execution_count": 5,
   "metadata": {},
   "outputs": [
    {
     "data": {
      "text/plain": [
       "\"NSt3__112basic_stringIcNS_11char_traitsIcEENS_9allocatorIcEEEE\""
      ]
     },
     "execution_count": 5,
     "metadata": {},
     "output_type": "execute_result"
    }
   ],
   "source": [
    "// typeid operator is defined in typeinfo library\n",
    "typeid(str_val).name()"
   ]
  },
  {
   "cell_type": "code",
   "execution_count": 7,
   "metadata": {},
   "outputs": [],
   "source": [
    "int whole_num = 1234;\n",
    "string str_val1 = to_string(whole_num);"
   ]
  },
  {
   "cell_type": "code",
   "execution_count": 8,
   "metadata": {},
   "outputs": [
    {
     "data": {
      "text/plain": [
       "\"1234\""
      ]
     },
     "execution_count": 8,
     "metadata": {},
     "output_type": "execute_result"
    }
   ],
   "source": [
    "str_val1"
   ]
  },
  {
   "cell_type": "code",
   "execution_count": 9,
   "metadata": {},
   "outputs": [],
   "source": [
    "float float_num = 129.99;\n",
    "string str_num1 = to_string(float_num);"
   ]
  },
  {
   "cell_type": "code",
   "execution_count": 10,
   "metadata": {},
   "outputs": [
    {
     "data": {
      "text/plain": [
       "\"129.990005\""
      ]
     },
     "execution_count": 10,
     "metadata": {},
     "output_type": "execute_result"
    }
   ],
   "source": [
    "str_num1"
   ]
  },
  {
   "cell_type": "code",
   "execution_count": 12,
   "metadata": {},
   "outputs": [],
   "source": [
    "string str_val2 = to_string('A'); // uses ASCII value"
   ]
  },
  {
   "cell_type": "code",
   "execution_count": 13,
   "metadata": {},
   "outputs": [
    {
     "data": {
      "text/plain": [
       "\"65\""
      ]
     },
     "execution_count": 13,
     "metadata": {},
     "output_type": "execute_result"
    }
   ],
   "source": [
    "str_val2"
   ]
  },
  {
   "cell_type": "markdown",
   "metadata": {},
   "source": [
    "### converting string values to numeric types\n",
    "- certain values can be converted into numeric types such as int, float, double, etc.\n",
    "- **&lt;cstdlib&gt;** provides some functions for us to convert string to numeric data\n",
    "- more on **&lt;cstdlib&gt;**: http://www.cplusplus.com/reference/cstdlib\n",
    "- **atoi(\"value\")** converts string value to integer\n",
    "    - converts all leading consecutive digits as integer\n",
    "- **atof(\"value\")** converts string value to double\n",
    "- must include **&lt;cstdlib&gt;** library to use its functions\n",
    "    - - converts all leading consecutive digits and period as floating point number"
   ]
  },
  {
   "cell_type": "code",
   "execution_count": 28,
   "metadata": {},
   "outputs": [],
   "source": [
    "#include <cstdlib> //stoi and stof"
   ]
  },
  {
   "cell_type": "code",
   "execution_count": 22,
   "metadata": {},
   "outputs": [
    {
     "data": {
      "text/plain": [
       "120"
      ]
     },
     "execution_count": 22,
     "metadata": {},
     "output_type": "execute_result"
    }
   ],
   "source": [
    "// converting string to integers\n",
    "atoi(\"120\")"
   ]
  },
  {
   "cell_type": "code",
   "execution_count": 23,
   "metadata": {},
   "outputs": [
    {
     "data": {
      "text/plain": [
       "43543"
      ]
     },
     "execution_count": 23,
     "metadata": {},
     "output_type": "execute_result"
    }
   ],
   "source": [
    "atoi(\"43543 alphabets\")"
   ]
  },
  {
   "cell_type": "code",
   "execution_count": 16,
   "metadata": {},
   "outputs": [
    {
     "data": {
      "text/plain": [
       "0x7fff6778073c <invalid memory address>"
      ]
     },
     "execution_count": 16,
     "metadata": {},
     "output_type": "execute_result"
    }
   ],
   "source": [
    "atoi(\"\")"
   ]
  },
  {
   "cell_type": "code",
   "execution_count": 24,
   "metadata": {},
   "outputs": [
    {
     "data": {
      "text/plain": [
       "23.550000"
      ]
     },
     "execution_count": 24,
     "metadata": {},
     "output_type": "execute_result"
    }
   ],
   "source": [
    "atof(\"23.55\")"
   ]
  },
  {
   "cell_type": "code",
   "execution_count": 25,
   "metadata": {},
   "outputs": [
    {
     "data": {
      "text/plain": [
       "132.68000"
      ]
     },
     "execution_count": 25,
     "metadata": {},
     "output_type": "execute_result"
    }
   ],
   "source": [
    "atof(\"132.68 text\")"
   ]
  },
  {
   "cell_type": "code",
   "execution_count": 27,
   "metadata": {},
   "outputs": [
    {
     "data": {
      "text/plain": [
       "0.0000000"
      ]
     },
     "execution_count": 27,
     "metadata": {},
     "output_type": "execute_result"
    }
   ],
   "source": [
    "atof(\"text 4546.454\")"
   ]
  },
  {
   "cell_type": "markdown",
   "metadata": {},
   "source": [
    "### typcasting among numeric types\n",
    "- at times, you may need to convert integers to floating points and vice versa\n",
    "- use **int(value)** to convert float to int\n",
    "- use **float(value)** to convert int or double to float\n",
    "- use **double(value)** to convert int or float to double\n",
    "- don't need to include any library to use these built-in functions"
   ]
  },
  {
   "cell_type": "code",
   "execution_count": 2,
   "metadata": {},
   "outputs": [
    {
     "data": {
      "text/plain": [
       "10"
      ]
     },
     "execution_count": 2,
     "metadata": {},
     "output_type": "execute_result"
    }
   ],
   "source": [
    "int(10.99) // convert double to int; discard decimal points or round down"
   ]
  },
  {
   "cell_type": "code",
   "execution_count": 6,
   "metadata": {},
   "outputs": [
    {
     "data": {
      "text/plain": [
       "345"
      ]
     },
     "execution_count": 6,
     "metadata": {},
     "output_type": "execute_result"
    }
   ],
   "source": [
    "int(345.567f) // discard decimal points or round down"
   ]
  },
  {
   "cell_type": "code",
   "execution_count": 3,
   "metadata": {},
   "outputs": [
    {
     "data": {
      "text/plain": [
       "19.0000f"
      ]
     },
     "execution_count": 3,
     "metadata": {},
     "output_type": "execute_result"
    }
   ],
   "source": [
    "float(19)"
   ]
  },
  {
   "cell_type": "code",
   "execution_count": 7,
   "metadata": {},
   "outputs": [
    {
     "data": {
      "text/plain": [
       "3.3299999"
      ]
     },
     "execution_count": 7,
     "metadata": {},
     "output_type": "execute_result"
    }
   ],
   "source": [
    "double(3.33f) // convert float to double"
   ]
  },
  {
   "cell_type": "code",
   "execution_count": 5,
   "metadata": {},
   "outputs": [
    {
     "data": {
      "text/plain": [
       "3.0000000"
      ]
     },
     "execution_count": 5,
     "metadata": {},
     "output_type": "execute_result"
    }
   ],
   "source": [
    "double(3)"
   ]
  },
  {
   "cell_type": "markdown",
   "metadata": {},
   "source": [
    "### typecasting between char and int\n",
    "- use **char(intValue)** to convert to char\n",
    "- use **int(charValue)** to conver to int"
   ]
  },
  {
   "cell_type": "code",
   "execution_count": 8,
   "metadata": {},
   "outputs": [
    {
     "data": {
      "text/plain": [
       "'A'"
      ]
     },
     "execution_count": 8,
     "metadata": {},
     "output_type": "execute_result"
    }
   ],
   "source": [
    "char(65) // ASCII code to char"
   ]
  },
  {
   "cell_type": "code",
   "execution_count": 9,
   "metadata": {},
   "outputs": [
    {
     "data": {
      "text/plain": [
       "65"
      ]
     },
     "execution_count": 9,
     "metadata": {},
     "output_type": "execute_result"
    }
   ],
   "source": [
    "int('A') // char to ASCII code"
   ]
  },
  {
   "cell_type": "markdown",
   "metadata": {},
   "source": [
    "## 2.11 Exercises\n",
    "1. Declare some variables required to store information about a student at a university for an a banner system. Assign some values to those variables."
   ]
  },
  {
   "cell_type": "code",
   "execution_count": 39,
   "metadata": {},
   "outputs": [],
   "source": [
    "// solution to Exercise 1\n",
    "#include <string>\n",
    "using namespace std;\n",
    "\n",
    "long st_id; // student id\n",
    "string st_first_name; // first name\n",
    "string st_last_name;\n",
    "string st_address; // complete address\n",
    "string emg_contact_name; // emergency contact's full name\n",
    "float GPA;\n",
    "// courses enrollment info?\n",
    "\n",
    "st_id = 700123456;\n",
    "st_first_name = \"Jane\";\n",
    "st_last_name = \"Smith\";\n",
    "st_address = \"123 Awesome Street\";\n",
    "emg_contact_name = \"Joe Smith\";\n",
    "GPA = 4.0;"
   ]
  },
  {
   "cell_type": "markdown",
   "metadata": {},
   "source": [
    "2. Declare some variables required to store information about an employee at a university. Assign some values to those variables."
   ]
  },
  {
   "cell_type": "markdown",
   "metadata": {},
   "source": [
    "3. Declare some variables required to store information about a mechandise in a store for inventory management system. Assign some values to those variables."
   ]
  },
  {
   "cell_type": "markdown",
   "metadata": {},
   "source": [
    "4. Declare some variables required to store infomration about a rectangular shape. Calculate area and perimeter of a rectangle. Assign some values to those variables."
   ]
  },
  {
   "cell_type": "markdown",
   "metadata": {},
   "source": [
    "5. Declare variables required to store information about a circle to calculate its area and perimeter. Assign some values to those variables. Calculate area and perimeter."
   ]
  },
  {
   "cell_type": "markdown",
   "metadata": {},
   "source": [
    "6. Declare some variables required to store information about a hotel room for booking management system."
   ]
  },
  {
   "cell_type": "markdown",
   "metadata": {},
   "source": [
    "7. Declare some variables required to store length of sides of a triangle. Calculate area using Herons' formula.\n",
    "    - Search for Heron's formula, if you're not sure what it is."
   ]
  },
  {
   "cell_type": "markdown",
   "metadata": {},
   "source": [
    "## 2.12 Summary\n",
    "- this notebook discussed data and C++ standard data types\n",
    "- variables are named memory location that store data values\n",
    "- C++ variables are static and strongly typed\n",
    "- looked into C++ operators for various data types\n",
    "- learned about order of operations, PEMDAS\n",
    "- learned that constants are used to store values that should not be changed in program\n",
    "- exercises and sample solutions"
   ]
  },
  {
   "cell_type": "code",
   "execution_count": null,
   "metadata": {},
   "outputs": [],
   "source": []
  }
 ],
 "metadata": {
  "kernelspec": {
   "display_name": "C++14",
   "language": "C++14",
   "name": "xcpp14"
  },
  "language_info": {
   "codemirror_mode": "text/x-c++src",
   "file_extension": ".cpp",
   "mimetype": "text/x-c++src",
   "name": "c++",
   "version": "14"
  }
 },
 "nbformat": 4,
 "nbformat_minor": 2
}
