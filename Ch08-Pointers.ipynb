{
 "cells": [
  {
   "cell_type": "markdown",
   "metadata": {},
   "source": [
    "# 8 Pointers\n",
    "http://www.cplusplus.com/doc/tutorial/pointers/\n",
    "\n",
    "## Topics\n",
    "- Computer Memory (RAM)\n",
    "- Pointers - declaring and using pointers\n",
    "- Pointer arithmetics\n",
    "- Dynamic memory (Heap)\n",
    "- Function pointers"
   ]
  },
  {
   "cell_type": "markdown",
   "metadata": {},
   "source": [
    "## Headers\n",
    "- run include headers and helper function cells if Kernel crashes or is restarted\n",
    "- you do not need to include any special header to use pointers"
   ]
  },
  {
   "cell_type": "code",
   "execution_count": 5,
   "metadata": {},
   "outputs": [],
   "source": [
    "// include headers\n",
    "#include <iostream>\n",
    "#include <string>\n",
    "\n",
    "using namespace std;"
   ]
  },
  {
   "cell_type": "markdown",
   "metadata": {},
   "source": [
    "## 8.1 Computer Memory (RAM)\n",
    "- the primary memory of computer is also called RAM (Random Access Memory)\n",
    "- program must be loaded into RAM before it can be executed \n",
    "- data must be loaded into RAM before program can use it\n",
    "- literal values or variables are all store in memory\n",
    "    - literaly values do not have identifiers to be used\n",
    "- variables are programmer-controlled identifiers that maps to some memory location (address)\n",
    "    - program uses memory address\n",
    "    - programmers uses identifiers\n",
    "- the following figure depicts a simple representation of RAM\n",
    "<img src=\"resources/memory-layout.png\" width=\"50%\">"
   ]
  },
  {
   "cell_type": "markdown",
   "metadata": {},
   "source": [
    "<a id=\"pointers\"></a>"
   ]
  },
  {
   "cell_type": "markdown",
   "metadata": {},
   "source": [
    "## 8.2 Pointers\n",
    "- special variables that can store physical memory addresses of variables and identifiers\n",
    "- variables represent values and are used interchangebly\n",
    "- pointers represent memory address and and are used interchangebly\n",
    "- like any variable you must declare a pointer before you can use it\n",
    "- the following figure helps visualize pointer variable\n",
    "<img src=\"./resources/pointers-in-cpp.jpg\" />"
   ]
  },
  {
   "cell_type": "markdown",
   "metadata": {},
   "source": [
    "## 8.3 Pointer applications\n",
    "- pointers are powerful features of C/C++ programs\n",
    "- allows you to directly manipulate memory!\n",
    "- there are many applications of pointers; some basic applications are described below"
   ]
  },
  {
   "cell_type": "markdown",
   "metadata": {},
   "source": [
    "### Address-of operator - &\n",
    "- the address of a variable can be obtained by *address-of-operator (&)* infront of a variable name\n",
    "- **&** is also used in function parameters for pass-by reference"
   ]
  },
  {
   "cell_type": "code",
   "execution_count": 2,
   "metadata": {},
   "outputs": [],
   "source": [
    "int num = 100;"
   ]
  },
  {
   "cell_type": "code",
   "execution_count": 3,
   "metadata": {},
   "outputs": [
    {
     "name": "stdout",
     "output_type": "stream",
     "text": [
      "value of num = 100\n",
      "address of num = 0x113196830\n"
     ]
    }
   ],
   "source": [
    "cout << \"value of num = \" << num << endl;\n",
    "cout << \"address of num = \" << &num << endl;"
   ]
  },
  {
   "cell_type": "markdown",
   "metadata": {},
   "source": [
    "### Dereference operator - \\*\n",
    "- *** (dereference operator)** can be used to read the **value pointed to by** some memory address"
   ]
  },
  {
   "cell_type": "code",
   "execution_count": 4,
   "metadata": {},
   "outputs": [
    {
     "name": "stdout",
     "output_type": "stream",
     "text": [
      "value pointed to by &num = 100\n"
     ]
    }
   ],
   "source": [
    "cout << \"value pointed to by &num = \" << *&num << endl;"
   ]
  },
  {
   "cell_type": "markdown",
   "metadata": {},
   "source": [
    "## 8.4 Declaring pointers\n",
    "- pointers can be declared using **\\*** de-reference/pointer operator\n",
    "- syntax:\n",
    "```c++\n",
    "    type * pointerVarName;\n",
    "```\n",
    "### visualize pointers in pythontutor.com: https://goo.gl/zhCr3G"
   ]
  },
  {
   "cell_type": "code",
   "execution_count": 10,
   "metadata": {},
   "outputs": [],
   "source": [
    "// declare pointers\n",
    "int num1; // variable NOT a pointer\n",
    "int * pNum1; // declare pNum1 of type int or pointer to int\n",
    "// declare and initialize pointers\n",
    "float * fltPtr = nullptr; // initialize with nullptr (pointing to no address)\n",
    "int * somePtr = &num1; // initialize somePtr with the address of num1"
   ]
  },
  {
   "cell_type": "code",
   "execution_count": 18,
   "metadata": {
    "scrolled": true
   },
   "outputs": [
    {
     "name": "stdout",
     "output_type": "stream",
     "text": [
      "*pNum1 = 200\n",
      "pNum = 0x10e34df80\n",
      "num1 = 200\n",
      "&num1 = 0x10e34df80\n"
     ]
    }
   ],
   "source": [
    "pNum1 = &num1; // assiging value to a pointer\n",
    "*pNum1 = 200; // dereferencing pNum1; assigning value to the location pointed to by pNum1\n",
    "cout << \"*pNum1 = \" << *pNum1 << endl;\n",
    "cout << \"pNum = \" << pNum1 << endl;\n",
    "cout << \"num1 = \" << num1 << endl;\n",
    "cout << \"&num1 = \" << &num1 << endl;"
   ]
  },
  {
   "cell_type": "markdown",
   "metadata": {},
   "source": [
    "## 8.5 Pointer arithmetic\n",
    "- you can add or subtract values to or from pointers\n",
    "    - pointers will simply point to a different memory location!\n",
    "- one can move the pointer around pointing to various memory locations\n",
    "    - that can be dangerous!"
   ]
  },
  {
   "cell_type": "code",
   "execution_count": 19,
   "metadata": {},
   "outputs": [
    {
     "data": {
      "text/plain": [
       "@0x7ffee5c388d0"
      ]
     },
     "execution_count": 19,
     "metadata": {},
     "output_type": "execute_result"
    }
   ],
   "source": [
    "pNum1 += 10; // add 10 to pNum1 value (address)"
   ]
  },
  {
   "cell_type": "code",
   "execution_count": 20,
   "metadata": {},
   "outputs": [
    {
     "name": "stdout",
     "output_type": "stream",
     "text": [
      "pNum1 = 0x10e34dfa8"
     ]
    }
   ],
   "source": [
    "cout << \"pNum1 = \" << pNum1;"
   ]
  },
  {
   "cell_type": "code",
   "execution_count": 22,
   "metadata": {},
   "outputs": [
    {
     "name": "stdout",
     "output_type": "stream",
     "text": [
      "*pNum1 = 0"
     ]
    }
   ],
   "source": [
    "// now what value is pNum1 pointing to\n",
    "cout << \"*pNum1 = \" << *pNum1;"
   ]
  },
  {
   "cell_type": "code",
   "execution_count": 23,
   "metadata": {},
   "outputs": [],
   "source": [
    "// let's subtract 10\n",
    "pNum1 -= 10;"
   ]
  },
  {
   "cell_type": "code",
   "execution_count": 24,
   "metadata": {},
   "outputs": [
    {
     "name": "stdout",
     "output_type": "stream",
     "text": [
      "pNum1 = 0x10e34df80\n",
      "*pNum1 = 200"
     ]
    }
   ],
   "source": [
    "cout << \"pNum1 = \" << pNum1 << endl;\n",
    "cout << \"*pNum1 = \" << *pNum1;"
   ]
  },
  {
   "cell_type": "markdown",
   "metadata": {},
   "source": [
    "## 8.6 Invalid pointers and null pointers\n",
    "- pointers are meant to point to valid addresses, in principle\n",
    "- pointers can also point to any any address, including addresses that do not refer to any valid element\n",
    "    - e.g., uninitialized pointers and pointers to non-existent elements of an array\n",
    "- neither p nor q point to addresses known to contain a value in the following cell\n",
    "- they do not cause error while declaring...\n",
    "- but can cause error/problem if dereferenced such pointers\n",
    "    - may crash program or point to a random data in memory"
   ]
  },
  {
   "cell_type": "code",
   "execution_count": 2,
   "metadata": {},
   "outputs": [],
   "source": [
    "// invalid pointers\n",
    "int * p; // uninitialized pointer\n",
    "int some_num; // uninitialized variable"
   ]
  },
  {
   "cell_type": "code",
   "execution_count": 7,
   "metadata": {},
   "outputs": [
    {
     "data": {
      "text/plain": [
       "@0x7ffee5c388d0"
      ]
     },
     "execution_count": 7,
     "metadata": {},
     "output_type": "execute_result"
    }
   ],
   "source": [
    "p = (&some_num); // add 10 to address of some_num"
   ]
  },
  {
   "cell_type": "code",
   "execution_count": 8,
   "metadata": {},
   "outputs": [
    {
     "name": "stdout",
     "output_type": "stream",
     "text": [
      "0\n"
     ]
    }
   ],
   "source": [
    "cout << *p << endl;"
   ]
  },
  {
   "cell_type": "code",
   "execution_count": 18,
   "metadata": {},
   "outputs": [
    {
     "name": "stdout",
     "output_type": "stream",
     "text": [
      "0\n"
     ]
    }
   ],
   "source": [
    "cout << * << endl;"
   ]
  },
  {
   "cell_type": "markdown",
   "metadata": {},
   "source": [
    "## 8.7 Dynamic memory\n",
    "- memory needs from auto/local variables are determined during compile time before program executes\n",
    "- at times memory needs of a program can only be determined during runtime\n",
    "    - e.g., when memory needed depends on user input\n",
    "- on these cases, program needs to dynamically allocate memory\n",
    "- pointers are used along with other keywords **new** and **delete** to allocate and deallocate dynamic memory\n",
    "- dynamic memory is allocated in **heap** segment\n",
    "    - unlike regular auto variables that are declared on **stack**\n",
    "- dynamic memory must be deallocated to prevent memory leak in the program\n",
    "- syntax to allocate and deallocate dynamic memory:\n",
    "\n",
    "```c++\n",
    "// allocate memory\n",
    "type * pointer = new type;\n",
    "\n",
    "//deallocate memory\n",
    "delete pointer;\n",
    "```\n",
    "- visualize in pythontutor.com: https://goo.gl/5qse7L"
   ]
  },
  {
   "cell_type": "code",
   "execution_count": 27,
   "metadata": {},
   "outputs": [],
   "source": [
    "// allocate dynamic memory\n",
    "int * numb1 = new int;\n",
    "int * numb2 = new int;"
   ]
  },
  {
   "cell_type": "code",
   "execution_count": 28,
   "metadata": {},
   "outputs": [
    {
     "name": "stdout",
     "output_type": "stream",
     "text": [
      "100 + 50 = 150\n",
      "100 - 50 = 50\n",
      "100 * 50 = 5000\n"
     ]
    }
   ],
   "source": [
    "// use dynamic memory\n",
    "*numb1 = 100;\n",
    "*numb2 = 50;\n",
    "cout << *numb1 << \" + \" << *numb2 << \" = \" << *numb1 + *numb2 << endl;\n",
    "cout << *numb1 << \" - \" << *numb2 << \" = \" << *numb1 - *numb2 << endl;\n",
    "cout << *numb1 << \" * \" << *numb2 << \" = \" << *numb1 * *numb2 << endl;"
   ]
  },
  {
   "cell_type": "code",
   "execution_count": 29,
   "metadata": {},
   "outputs": [],
   "source": [
    "// delete dynamic memory\n",
    "// intialize them to nullptr just incase garbage collector has not deallocated numb1 and numb2 yet!\n",
    "numb1 = nullptr;\n",
    "numb2 = nullptr;\n",
    "delete numb1;\n",
    "delete numb2;"
   ]
  },
  {
   "cell_type": "markdown",
   "metadata": {},
   "source": [
    "## 8.8 Passing pointers to functions\n",
    "- pointers can be passed to functions\n",
    "- similar to passed-by-reference \n",
    "    - if value pointed to by formal pointer parameter is changed, the value pointed to by actual pointer parameter will also be changed!\n",
    "- pass pointers as constants (read-only) to prevent the side effect"
   ]
  },
  {
   "cell_type": "code",
   "execution_count": 31,
   "metadata": {},
   "outputs": [],
   "source": [
    "// example 1: pass address of regular variables\n",
    "int n1, n2 = 0;"
   ]
  },
  {
   "cell_type": "code",
   "execution_count": 32,
   "metadata": {},
   "outputs": [
    {
     "name": "stdout",
     "output_type": "stream",
     "text": [
      "10 + 15 = 25\n"
     ]
    }
   ],
   "source": [
    "n1 = 10; n2 = 15;\n",
    "cout << n1 << \" + \" << n2 << \" = \" << addInts(&n1, &n2) << endl;"
   ]
  },
  {
   "cell_type": "code",
   "execution_count": 33,
   "metadata": {},
   "outputs": [],
   "source": [
    "// example 2: pass ptr/dynamic variables\n",
    "int * ptr1 = new int;\n",
    "int * ptr2 = new int;"
   ]
  },
  {
   "cell_type": "code",
   "execution_count": 34,
   "metadata": {},
   "outputs": [
    {
     "name": "stdout",
     "output_type": "stream",
     "text": [
      "100 + 200 = 300\n"
     ]
    }
   ],
   "source": [
    "*ptr1 = 100;\n",
    "*ptr2 = 200;\n",
    "cout << *ptr1 << \" + \" << *ptr2 << \" = \" << addInts(ptr1, ptr2) << endl;"
   ]
  },
  {
   "cell_type": "code",
   "execution_count": 35,
   "metadata": {},
   "outputs": [],
   "source": [
    "// side effect example!\n",
    "int myAdd(int * p1, int * p2) {\n",
    "    *p1 = 1000;\n",
    "    *p2 = 2000;\n",
    "    return *p1 + *p2;\n",
    "}"
   ]
  },
  {
   "cell_type": "code",
   "execution_count": 36,
   "metadata": {},
   "outputs": [
    {
     "name": "stdout",
     "output_type": "stream",
     "text": [
      "100 + 200 = 3000\n",
      "1000 + 2000\n"
     ]
    },
    {
     "data": {
      "text/plain": [
       "@0x10e2fdec0"
      ]
     },
     "execution_count": 36,
     "metadata": {},
     "output_type": "execute_result"
    }
   ],
   "source": [
    "cout << *ptr1 << \" + \" << *ptr2 << \" = \" << myAdd(ptr1, ptr2) << endl;\n",
    "cout << *ptr1 << \" + \" << *ptr2 << endl; // values of *ptr1 and *ptr2 have been changed by myAdd!"
   ]
  },
  {
   "cell_type": "code",
   "execution_count": 37,
   "metadata": {},
   "outputs": [
    {
     "name": "stderr",
     "output_type": "stream",
     "text": [
      "\u001b[1minput_line_51:3:9: \u001b[0m\u001b[0;1;31merror: \u001b[0m\u001b[1mread-only variable is not assignable\u001b[0m\n",
      "    *p1 = 1000; // not allowed as compiler will throw error!\n",
      "\u001b[0;1;32m    ~~~ ^\n",
      "\u001b[0m\u001b[1minput_line_51:4:9: \u001b[0m\u001b[0;1;31merror: \u001b[0m\u001b[1mread-only variable is not assignable\u001b[0m\n",
      "    *p2 = 2000; // not allowed!\n",
      "\u001b[0;1;32m    ~~~ ^\n",
      "\u001b[0m"
     ]
    },
    {
     "ename": "Interpreter Error",
     "evalue": "",
     "output_type": "error",
     "traceback": [
      "Interpreter Error: "
     ]
    }
   ],
   "source": [
    "// prevent side effect by passing pointers as const (read-only)\n",
    "int myAddBetter(const int * p1, const int * p2) {\n",
    "    *p1 = 1000; // not allowed as compiler will throw error!\n",
    "    *p2 = 2000; // not allowed!\n",
    "    return *p1 + *p2;\n",
    "}"
   ]
  },
  {
   "cell_type": "code",
   "execution_count": 38,
   "metadata": {},
   "outputs": [],
   "source": [
    "// prevent side effect by passing pointers as const (read-only)\n",
    "int myAddBetter(const int * p1, const int * p2) {\n",
    "    return *p1 + *p2;\n",
    "}"
   ]
  },
  {
   "cell_type": "code",
   "execution_count": 39,
   "metadata": {},
   "outputs": [
    {
     "name": "stdout",
     "output_type": "stream",
     "text": [
      "100 + 200 = 300\n",
      "100 + 200\n"
     ]
    },
    {
     "data": {
      "text/plain": [
       "@0x10e2fdec0"
      ]
     },
     "execution_count": 39,
     "metadata": {},
     "output_type": "execute_result"
    }
   ],
   "source": [
    "*ptr1 = 100;\n",
    "*ptr2 = 200;\n",
    "cout << *ptr1 << \" + \" << *ptr2 << \" = \" \n",
    "    << myAddBetter(ptr1, ptr2) << endl;\n",
    "cout << *ptr1 << \" + \" << *ptr2 << endl; \n",
    "// values of *ptr1 and *ptr2 guaranteed to stay the same!"
   ]
  },
  {
   "cell_type": "markdown",
   "metadata": {},
   "source": [
    "## 8.9 Pointers to functions\n",
    "- pointers can store addresses of functions as well; called function pointers\n",
    "- used for passing a function as an argument to another higher order function\n",
    "- declaring function pointer is very similar to declaring variable pointers\n",
    "- parenthesis around function pointer name is required!\n",
    "```c++\n",
    "    type (* functionPtrName) ( parameter list... );\n",
    "```"
   ]
  },
  {
   "cell_type": "code",
   "execution_count": 25,
   "metadata": {
    "code_folding": []
   },
   "outputs": [],
   "source": [
    "int addition (int a, int b) { \n",
    "    return (a + b); \n",
    "}"
   ]
  },
  {
   "cell_type": "code",
   "execution_count": 30,
   "metadata": {},
   "outputs": [],
   "source": [
    "// function that takes two int pointers\n",
    "int addInts(int * p1, int * p2) {\n",
    "    return *p1 + *p2;\n",
    "}"
   ]
  },
  {
   "cell_type": "code",
   "execution_count": 26,
   "metadata": {},
   "outputs": [],
   "source": [
    "int subtraction (int a, int b) {\n",
    "    return (a - b);\n",
    "}"
   ]
  },
  {
   "cell_type": "code",
   "execution_count": 47,
   "metadata": {},
   "outputs": [],
   "source": [
    "int m, n;\n",
    "// function pointer; copy the address of subtraction into sub function pointer\n",
    "int (*sub)(int, int) = subtraction;"
   ]
  },
  {
   "cell_type": "code",
   "execution_count": 49,
   "metadata": {},
   "outputs": [
    {
     "name": "stdout",
     "output_type": "stream",
     "text": [
      "-10\n",
      "-10"
     ]
    }
   ],
   "source": [
    "// calling a function pointer is very similar to calling a function\n",
    "cout << (*sub)(10, 20) << endl;\n",
    "cout << subtraction(10, 20);"
   ]
  },
  {
   "cell_type": "code",
   "execution_count": 17,
   "metadata": {},
   "outputs": [],
   "source": [
    "// passing function to a function!\n",
    "// operation function takex 3 arguments\n",
    "// two integers and one function pointer\n",
    "int operation (int x, int y, int (*func)(int, int)) {\n",
    "  int ans;\n",
    "  ans = (*func)(x, y); // dereferece function; call func and store the result in g\n",
    "  return ans;\n",
    "}"
   ]
  },
  {
   "cell_type": "code",
   "execution_count": 19,
   "metadata": {},
   "outputs": [
    {
     "name": "stdout",
     "output_type": "stream",
     "text": [
      "m = 30\n",
      "n = 70\n"
     ]
    }
   ],
   "source": [
    "n = operation(100, m, sub);\n",
    "cout << \"m = \" << m << endl;\n",
    "cout << \"n = \" << n << endl;"
   ]
  },
  {
   "cell_type": "markdown",
   "metadata": {},
   "source": [
    "## 8.10 Exercises\n",
    "1. Write a program using dynamic memory that determines area and circumference of a circle.\n",
    "    - must use functions to find the required answers\n",
    "    - prompt user to enter radius of a circle"
   ]
  },
  {
   "cell_type": "code",
   "execution_count": 41,
   "metadata": {},
   "outputs": [],
   "source": [
    "// Solution to exercise 1\n",
    "#include <iostream>\n",
    "#include <cmath>\n",
    "\n",
    "using namespace std;"
   ]
  },
  {
   "cell_type": "code",
   "execution_count": 42,
   "metadata": {},
   "outputs": [],
   "source": [
    "float areaOfCircle(float * radius) {\n",
    "    return M_PI * pow(*radius, 2);\n",
    "}"
   ]
  },
  {
   "cell_type": "code",
   "execution_count": 43,
   "metadata": {},
   "outputs": [],
   "source": [
    "float circumference(float * radius) {\n",
    "    return 2 * M_PI * (*radius);\n",
    "}"
   ]
  },
  {
   "cell_type": "code",
   "execution_count": 44,
   "metadata": {},
   "outputs": [],
   "source": [
    "void solve() {\n",
    "    float * radius = new float;\n",
    "    cout << \"Enter radius of a circle: \";\n",
    "    cin >> *radius;\n",
    "    cout << \"radius of the circle: \" << *radius << endl;\n",
    "    cout << \"area of the circle: \" << areaOfCircle(radius) << endl;\n",
    "    cout << \"circumference of the circle: \" << circumference(radius) << endl;\n",
    "    // deallocate radius memory\n",
    "    radius = nullptr;\n",
    "    delete radius;\n",
    "}"
   ]
  },
  {
   "cell_type": "code",
   "execution_count": 45,
   "metadata": {},
   "outputs": [
    {
     "name": "stdout",
     "output_type": "stream",
     "text": [
      "Enter radius of a circle: 5\n",
      "radius of the circle: 5\n",
      "area of the circle: 78.5398\n",
      "circumference of the circle: 31.4159\n"
     ]
    }
   ],
   "source": [
    "// you'd call this function in main() in a program file\n",
    "solve();"
   ]
  },
  {
   "cell_type": "markdown",
   "metadata": {},
   "source": [
    "2. Write a program using dynamic memory that determines area and perimeter of a rectangle.\n",
    "    - must use functions to find area and perimeter\n",
    "    - prompt user to enter length and widht of a rectangle"
   ]
  },
  {
   "cell_type": "markdown",
   "metadata": {},
   "source": [
    "## 8.11 Summary\n",
    "- learned about the basics of RAM and pointers\n",
    "- declaring and using pointers\n",
    "- function pointers and passing pointers to functions\n",
    "- exercises and sample solutions"
   ]
  },
  {
   "cell_type": "code",
   "execution_count": null,
   "metadata": {},
   "outputs": [],
   "source": []
  }
 ],
 "metadata": {
  "kernelspec": {
   "display_name": "C++14",
   "language": "C++14",
   "name": "xcpp14"
  },
  "language_info": {
   "codemirror_mode": "text/x-c++src",
   "file_extension": ".cpp",
   "mimetype": "text/x-c++src",
   "name": "c++",
   "version": "14"
  }
 },
 "nbformat": 4,
 "nbformat_minor": 2
}
