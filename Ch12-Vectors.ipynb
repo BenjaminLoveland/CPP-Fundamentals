{
 "cells": [
  {
   "cell_type": "markdown",
   "metadata": {},
   "source": [
    "# 12 Vectors\n",
    "\n",
    "## Topics\n",
    "- what is and why vectors\n",
    "- how to use vectors\n",
    "- various operations and methods on vectors\n",
    "- applications and example codes using vectors\n",
    "- sorting vectors"
   ]
  },
  {
   "cell_type": "markdown",
   "metadata": {},
   "source": [
    "## 12.1 Vectors\n",
    "- vector is a collection of values where each value is identified by a number (index)\n",
    "- anything that can be done by C-array (Array chapter) can be done using vectors\n",
    "    - unlike C-array, vector is an advanced type like C++ string\n",
    "- vector is defined in the C++ Standard Template Library (STL)\n",
    "    - vector is one of my containers library - https://en.cppreference.com/w/cpp/container\n",
    "    - array, set, map, queue, stack, priority_queue are some other containers\n",
    "- learning vector is similar to learning C++ string container\n",
    "    - main difference is vector can store any type of element\n",
    "    - learn all the operations provided by vector\n",
    "        - what they are; what they do; how to use them...\n",
    "    - apply it to solve problems\n",
    "- vector and other containers provided in STL are templated, hence STL\n",
    "    - the actual type that you're storing in those containers need to be specified\n",
    "    - very similar to template struct types covered in **Structures** chapter\n",
    "- if you're interested to learn about all these STL containers and more, there are Jupyter Notebooks you can use: https://github.com/rambasnet/STL-Notebooks\n",
    "- must include &lt;vector&gt; header to use vector type"
   ]
  },
  {
   "cell_type": "markdown",
   "metadata": {},
   "source": [
    "## 12.2 Vector objects\n",
    "- C++ vector is a type defned in **&lt;vector&gt;** header\n",
    "- objects must be instantiated or declared to allocate memory before we can store data into them\n",
    "- since vector uses template type, you must provide the actual type of the data\n",
    "- syntax:\n",
    "\n",
    "```cpp\n",
    "#include <vector>\n",
    "\n",
    "vector<type> objectName;\n",
    "```"
   ]
  },
  {
   "cell_type": "code",
   "execution_count": 1,
   "metadata": {},
   "outputs": [],
   "source": [
    "#include <iostream>\n",
    "#include <vector>\n",
    "#include <string>\n",
    "#include <sstream>\n",
    "#include <cassert>\n",
    "\n",
    "using namespace std;"
   ]
  },
  {
   "cell_type": "code",
   "execution_count": 2,
   "metadata": {},
   "outputs": [],
   "source": [
    "// declare empty vectors\n",
    "vector<string> names;\n",
    "vector<float> tests;\n",
    "vector<int> numbers;"
   ]
  },
  {
   "cell_type": "code",
   "execution_count": 3,
   "metadata": {},
   "outputs": [
    {
     "data": {
      "text/plain": [
       "{}"
      ]
     },
     "execution_count": 3,
     "metadata": {},
     "output_type": "execute_result"
    }
   ],
   "source": [
    "// let's see the contents\n",
    "names"
   ]
  },
  {
   "cell_type": "code",
   "execution_count": 4,
   "metadata": {},
   "outputs": [],
   "source": [
    "// declare and initialize vectors\n",
    "vector<string> words = {\"i\", \"love\", \"c++\", \"vectors\"};\n",
    "vector<float> prices = {1.99, 199, 2.99, 200.85, 45.71};"
   ]
  },
  {
   "cell_type": "code",
   "execution_count": 5,
   "metadata": {},
   "outputs": [
    {
     "data": {
      "text/plain": [
       "{ \"i\", \"love\", \"c++\", \"vectors\" }"
      ]
     },
     "execution_count": 5,
     "metadata": {},
     "output_type": "execute_result"
    }
   ],
   "source": [
    "// let's see the contents\n",
    "words"
   ]
  },
  {
   "cell_type": "code",
   "execution_count": 6,
   "metadata": {},
   "outputs": [
    {
     "data": {
      "text/plain": [
       "{ 1.99000f, 199.000f, 2.99000f, 200.850f, 45.7100f }"
      ]
     },
     "execution_count": 6,
     "metadata": {},
     "output_type": "execute_result"
    }
   ],
   "source": [
    "prices"
   ]
  },
  {
   "cell_type": "markdown",
   "metadata": {},
   "source": [
    "### vectors of user-defined struct type\n",
    "- vector like array can be used to stor user-defined data types using **struct**"
   ]
  },
  {
   "cell_type": "code",
   "execution_count": 7,
   "metadata": {},
   "outputs": [],
   "source": [
    "// define Rectangle type\n",
    "// Note - the word Type is redundant! Rectangle by itself would mean a type\n",
    "struct RectangleType {\n",
    "    float length, width;\n",
    "};"
   ]
  },
  {
   "cell_type": "code",
   "execution_count": 8,
   "metadata": {},
   "outputs": [],
   "source": [
    "// create vector of RectangleType\n",
    "vector<RectangleType> rects;"
   ]
  },
  {
   "cell_type": "code",
   "execution_count": 9,
   "metadata": {},
   "outputs": [],
   "source": [
    "// declare and initialize rectangles vector with two rectangles\n",
    "vector<RectangleType> rectangles = {{10, 5}, {8.5, 2.6}};"
   ]
  },
  {
   "cell_type": "code",
   "execution_count": 10,
   "metadata": {},
   "outputs": [],
   "source": [
    "// define a templated Point type\n",
    "template<typename T> // typename can be used as well instead of class\n",
    "struct Point { // no need to say PointType\n",
    "    T x, y;\n",
    "};"
   ]
  },
  {
   "cell_type": "code",
   "execution_count": 11,
   "metadata": {},
   "outputs": [],
   "source": [
    "// declare vector of Point type\n",
    "vector<Point<int> > points; // Point itself is a template type!\n",
    "// notice the space between > > !!required!!\n",
    "// recall >> is input extraction operator"
   ]
  },
  {
   "cell_type": "code",
   "execution_count": 12,
   "metadata": {},
   "outputs": [],
   "source": [
    "// declare and initialize vector of Point\n",
    "vector<Point<int> > morePoints = {{0, 0}, {1, 1}, {2, 2}};"
   ]
  },
  {
   "cell_type": "markdown",
   "metadata": {},
   "source": [
    "## 12.3 Accessing elements\n",
    "- mostly using index just like in C-array or string\n",
    "- index starts from 0 and goes to 1 less than the vector size or length\n",
    "- **at(index)** : access specified element with bounds checking\n",
    "- **operator[index]** : access specified element by index\n",
    "- **front( )** : access the first element\n",
    "- **back( )** : access the last element\n",
    "\n",
    "- *sounds familiar? same way as accessing characters in string objects*"
   ]
  },
  {
   "cell_type": "code",
   "execution_count": 13,
   "metadata": {},
   "outputs": [
    {
     "name": "stdout",
     "output_type": "stream",
     "text": [
      "love\n",
      "200.85\n",
      "1.99\n",
      "45.71\n"
     ]
    }
   ],
   "source": [
    "// access elements\n",
    "// change i to I in words\n",
    "words[0] = \"I\";\n",
    "cout << words[1] << endl; // print 2nd word\n",
    "cout << prices.at(3) << endl;\n",
    "cout << prices.front() << endl;\n",
    "cout << prices.back() << endl;"
   ]
  },
  {
   "cell_type": "code",
   "execution_count": 14,
   "metadata": {},
   "outputs": [
    {
     "name": "stdout",
     "output_type": "stream",
     "text": [
      "area = 26\n"
     ]
    }
   ],
   "source": [
    "// calculate area of first rectangle stored in rectangles vector\n",
    "cout << \"area = \" << rectangles[0].length*rectangles[1].width << endl;"
   ]
  },
  {
   "cell_type": "markdown",
   "metadata": {},
   "source": [
    "## 12.4 Capacity\n",
    "- unlike C-array, vector provides member functions to work with the capacity of the vector objects\n",
    "- the following are the commonly used methods\n",
    "- **empty( )** : checks whether the container is empty; returns true if empty; false otherwise\n",
    "- **size( )** : returns the number of elements or length of the vector\n",
    "- **max_size( )** : returns the maximum possible number of elements that can be stored"
   ]
  },
  {
   "cell_type": "code",
   "execution_count": 15,
   "metadata": {},
   "outputs": [
    {
     "name": "stdout",
     "output_type": "stream",
     "text": [
      "is prices vector empty? false\n",
      "size of words: 5\n",
      "size of prices: 5\n",
      "max size of words: 768614336404564650\n",
      "max capacity of rectangles: 2305843009213693951\n"
     ]
    }
   ],
   "source": [
    "cout << boolalpha; // convert boolean to text true/false\n",
    "cout << \"is prices vector empty? \" << prices.empty() << endl;\n",
    "cout << \"size of words: \" << prices.size() << endl;\n",
    "cout << \"size of prices: \" << prices.size() << endl;\n",
    "cout << \"max size of words: \" << words.max_size() << endl;\n",
    "cout << \"max capacity of rectangles: \" << rectangles.max_size() << endl;"
   ]
  },
  {
   "cell_type": "markdown",
   "metadata": {},
   "source": [
    "## 12.5 Modifiying vectors\n",
    "- vectors once created can be modified using various member functions or methods\n",
    "- some commonly used methods are:\n",
    "- **clear( )** : clears the contents\n",
    "- **push_back(element)** : adds an element to the end\n",
    "- **pop_back( )** : removes the last element\n",
    "\n",
    "- *Note: if C-array was used, programmers would be have to implement these functions*"
   ]
  },
  {
   "cell_type": "code",
   "execution_count": 16,
   "metadata": {},
   "outputs": [],
   "source": [
    "vector<int> age = {21, 34, 46, 48, 46};"
   ]
  },
  {
   "cell_type": "code",
   "execution_count": 17,
   "metadata": {},
   "outputs": [
    {
     "data": {
      "text/plain": [
       "{ 21, 34, 46, 48, 46 }"
      ]
     },
     "execution_count": 17,
     "metadata": {},
     "output_type": "execute_result"
    }
   ],
   "source": [
    "// see the initial contents\n",
    "age"
   ]
  },
  {
   "cell_type": "code",
   "execution_count": 18,
   "metadata": {},
   "outputs": [],
   "source": [
    "// let's clear age vector\n",
    "age.clear();"
   ]
  },
  {
   "cell_type": "code",
   "execution_count": 19,
   "metadata": {},
   "outputs": [
    {
     "data": {
      "text/plain": [
       "{}"
      ]
     },
     "execution_count": 19,
     "metadata": {},
     "output_type": "execute_result"
    }
   ],
   "source": [
    "// is age cleared?\n",
    "age"
   ]
  },
  {
   "cell_type": "code",
   "execution_count": 20,
   "metadata": {},
   "outputs": [
    {
     "data": {
      "text/plain": [
       "true"
      ]
     },
     "execution_count": 20,
     "metadata": {},
     "output_type": "execute_result"
    }
   ],
   "source": [
    "// double check!\n",
    "age.empty()"
   ]
  },
  {
   "cell_type": "code",
   "execution_count": 21,
   "metadata": {},
   "outputs": [],
   "source": [
    "// let's add element into the empty age vector\n",
    "age.push_back(25);"
   ]
  },
  {
   "cell_type": "code",
   "execution_count": 22,
   "metadata": {},
   "outputs": [],
   "source": [
    "age.push_back(39);"
   ]
  },
  {
   "cell_type": "code",
   "execution_count": 23,
   "metadata": {},
   "outputs": [
    {
     "name": "stderr",
     "output_type": "stream",
     "text": [
      "\u001b[1minput_line_38:2:16: \u001b[0m\u001b[0;1;35mwarning: \u001b[0m\u001b[1mimplicit conversion from 'double' to 'std::__1::vector<int, std::__1::allocator<int> >::value_type' (aka 'int') changes\n",
      "      value from 45.5 to 45 [-Wliteral-conversion]\u001b[0m\n",
      " age.push_back(45.5); // can't correctly add double to int vector\n",
      "\u001b[0;1;32m     ~~~~~~~~~ ^~~~\n",
      "\u001b[0m"
     ]
    }
   ],
   "source": [
    "age.push_back(45.5); // can't correctly add double to int vector"
   ]
  },
  {
   "cell_type": "code",
   "execution_count": 24,
   "metadata": {},
   "outputs": [
    {
     "data": {
      "text/plain": [
       "{ 25, 39, 45 }"
      ]
     },
     "execution_count": 24,
     "metadata": {},
     "output_type": "execute_result"
    }
   ],
   "source": [
    "age"
   ]
  },
  {
   "cell_type": "code",
   "execution_count": 25,
   "metadata": {},
   "outputs": [
    {
     "data": {
      "text/plain": [
       "45"
      ]
     },
     "execution_count": 25,
     "metadata": {},
     "output_type": "execute_result"
    }
   ],
   "source": [
    "// let's see the last element\n",
    "age.back()"
   ]
  },
  {
   "cell_type": "code",
   "execution_count": 26,
   "metadata": {},
   "outputs": [],
   "source": [
    "// let's remove the last element\n",
    "age.pop_back();"
   ]
  },
  {
   "cell_type": "code",
   "execution_count": 27,
   "metadata": {},
   "outputs": [
    {
     "data": {
      "text/plain": [
       "{ 25, 39 }"
      ]
     },
     "execution_count": 27,
     "metadata": {},
     "output_type": "execute_result"
    }
   ],
   "source": [
    "// check if last element is gone\n",
    "age"
   ]
  },
  {
   "cell_type": "code",
   "execution_count": 28,
   "metadata": {},
   "outputs": [],
   "source": [
    "// push_back rectangle\n",
    "rectangles.push_back({5, 2});"
   ]
  },
  {
   "cell_type": "code",
   "execution_count": 29,
   "metadata": {},
   "outputs": [],
   "source": [
    "// instantiate r1 object\n",
    "RectangleType r1 = {100, 50};"
   ]
  },
  {
   "cell_type": "code",
   "execution_count": 30,
   "metadata": {},
   "outputs": [],
   "source": [
    "// add r1 object into rectangles vector\n",
    "rectangles.push_back(r1);"
   ]
  },
  {
   "cell_type": "code",
   "execution_count": 31,
   "metadata": {},
   "outputs": [
    {
     "data": {
      "text/plain": [
       "{ @0x7fb53cf2ebe0, @0x7fb53cf2ebe8, @0x7fb53cf2ebf0, @0x7fb53cf2ebf8 }"
      ]
     },
     "execution_count": 31,
     "metadata": {},
     "output_type": "execute_result"
    }
   ],
   "source": [
    "// Jupyer doesn't know how to display rectangle objects; it displays their addresses\n",
    "rectangles"
   ]
  },
  {
   "cell_type": "markdown",
   "metadata": {},
   "source": [
    "## 12.6 Traversing vectors\n",
    "- similar to string and C-array, vectors can be accessed from the first to last element\n",
    "- use loop and index or iterators"
   ]
  },
  {
   "cell_type": "code",
   "execution_count": 32,
   "metadata": {},
   "outputs": [
    {
     "name": "stdout",
     "output_type": "stream",
     "text": [
      "I; love; c++; vectors; "
     ]
    }
   ],
   "source": [
    "for(auto val: words)\n",
    "    cout << val << \"; \";"
   ]
  },
  {
   "cell_type": "code",
   "execution_count": 33,
   "metadata": {},
   "outputs": [
    {
     "name": "stdout",
     "output_type": "stream",
     "text": [
      "I is 1 characters long.\n",
      "love is 4 characters long.\n",
      "c++ is 3 characters long.\n",
      "vectors is 7 characters long.\n"
     ]
    }
   ],
   "source": [
    "for(int i=0; i<words.size(); i++) {\n",
    "    cout << words[i] << \" is \" << words[i].length() << \" characters long.\" << endl;\n",
    "}"
   ]
  },
  {
   "cell_type": "code",
   "execution_count": 34,
   "metadata": {},
   "outputs": [
    {
     "name": "stdout",
     "output_type": "stream",
     "text": [
      "rectangle info - length x width: 10 x 5\n",
      "rectangle info - length x width: 8.5 x 2.6\n",
      "rectangle info - length x width: 5 x 2\n",
      "rectangle info - length x width: 100 x 50\n"
     ]
    }
   ],
   "source": [
    "// auto also works on user-defined type\n",
    "for(auto rect: rectangles) {\n",
    "    cout << \"rectangle info - length x width: \" << rect.length << \" x \" << rect.width << endl;\n",
    "}"
   ]
  },
  {
   "cell_type": "code",
   "execution_count": 35,
   "metadata": {},
   "outputs": [
    {
     "name": "stdout",
     "output_type": "stream",
     "text": [
      "rectangle info - length x width: 10 x 5\n",
      "rectangle info - length x width: 8.5 x 2.6\n",
      "rectangle info - length x width: 5 x 2\n",
      "rectangle info - length x width: 100 x 50\n"
     ]
    }
   ],
   "source": [
    "// same as above\n",
    "for(RectangleType rect: rectangles) {\n",
    "    cout << \"rectangle info - length x width: \" << rect.length << \" x \" << rect.width << endl;\n",
    "}"
   ]
  },
  {
   "cell_type": "code",
   "execution_count": 36,
   "metadata": {},
   "outputs": [
    {
     "name": "stdout",
     "output_type": "stream",
     "text": [
      "rectangle area: 10x5 = 50\n",
      "rectangle area: 8.5x2.6 = 22.1\n",
      "rectangle area: 5x2 = 10\n",
      "rectangle area: 100x50 = 5000\n"
     ]
    }
   ],
   "source": [
    "// using index\n",
    "for(int i=0; i<rectangles.size(); i++) {\n",
    "    cout << \"rectangle area: \" \n",
    "        << rectangles[i].length << \"x\" \n",
    "        << rectangles[i].width << \" = \" \n",
    "        << rectangles[i].length*rectangles[i].width << endl;\n",
    "}"
   ]
  },
  {
   "cell_type": "markdown",
   "metadata": {},
   "source": [
    "## 12.7 Iterators\n",
    "- similar to string iterators, vector provides various iterators \n",
    "- iterators are special pointers that let you manipulate vector\n",
    "- several member function of vector uses iterator to do its operation\n",
    "- let's revist the iterators we went over in string chapter\n",
    "<img src=\"resources/range-rbegin-rend.svg\">\n",
    "- **begin( )** - returns iterator to the first element\n",
    "- **end( )** - returns iterator to the end (past the last element)\n",
    "- **rbegin( )** - returns reverse iterator to the last element\n",
    "- **rend( )** - returns a reverse iterator to the beginning (prior to the first element)"
   ]
  },
  {
   "cell_type": "code",
   "execution_count": 37,
   "metadata": {},
   "outputs": [
    {
     "name": "stdout",
     "output_type": "stream",
     "text": [
      "I; love; c++; vectors; "
     ]
    }
   ],
   "source": [
    "// let's use iterator to traverse vectors\n",
    "// very similar to using for loop with index\n",
    "for(auto iter = words.begin(); iter != words.end(); iter++)\n",
    "    cout << *iter << \"; \"; // iter is a pointer; so must derefernce to access value pointed to by iter"
   ]
  },
  {
   "cell_type": "code",
   "execution_count": 38,
   "metadata": {},
   "outputs": [
    {
     "name": "stdout",
     "output_type": "stream",
     "text": [
      "vectors; c++; love; I; "
     ]
    }
   ],
   "source": [
    "// let's reverse traverse\n",
    "for(auto iter = words.rbegin(); iter != words.rend(); iter++)\n",
    "    cout << *iter << \"; \"; // iter is a pointer; so must derefernce to access value pointed to by iter"
   ]
  },
  {
   "cell_type": "markdown",
   "metadata": {},
   "source": [
    "## 12.8 Aggregagte operations\n",
    "- some aggegate operators such as assignment (=) and comparison operators (>, ==, etc.) are overloaded and work out of the box on vector objects as a whole\n",
    "- sorta! - depends on what type of vector it is and is there predfined ordering of values in that type!\n",
    "- input, output (<<, >>) operators do not work on vector objects as a whole"
   ]
  },
  {
   "cell_type": "code",
   "execution_count": 39,
   "metadata": {},
   "outputs": [],
   "source": [
    "// create words_copy vector with copy assignment\n",
    "vector<string> words_copy = words; // deep copies words into words_copy"
   ]
  },
  {
   "cell_type": "code",
   "execution_count": 40,
   "metadata": {},
   "outputs": [],
   "source": [
    "vector<RectangleType> rectangles_copy;"
   ]
  },
  {
   "cell_type": "code",
   "execution_count": 41,
   "metadata": {},
   "outputs": [
    {
     "data": {
      "text/plain": [
       "{ @0x7fb53d544fa0, @0x7fb53d544fa8, @0x7fb53d544fb0, @0x7fb53d544fb8 }"
      ]
     },
     "execution_count": 41,
     "metadata": {},
     "output_type": "execute_result"
    }
   ],
   "source": [
    "rectangles_copy = rectangles; // deep copies rectangles into rectangles_copy"
   ]
  },
  {
   "cell_type": "code",
   "execution_count": 42,
   "metadata": {},
   "outputs": [
    {
     "name": "stdout",
     "output_type": "stream",
     "text": [
      "two vectors are equal!"
     ]
    }
   ],
   "source": [
    "// string can be compared out of the box\n",
    "if (words == words_copy)\n",
    "    cout << \"two vectors are equal!\";\n",
    "else\n",
    "    cout << \"two vectors are not equal!\";"
   ]
  },
  {
   "cell_type": "code",
   "execution_count": 43,
   "metadata": {},
   "outputs": [
    {
     "name": "stderr",
     "output_type": "stream",
     "text": [
      "In file included from input_line_5:1:\n",
      "In file included from /Users/rbasnet/anaconda3/envs/cpp/include/xeus/xinterpreter.hpp:13:\n",
      "In file included from /Users/rbasnet/anaconda3/envs/cpp/include/c++/v1/string:504:\n",
      "In file included from /Users/rbasnet/anaconda3/envs/cpp/include/c++/v1/string_view:175:\n",
      "In file included from /Users/rbasnet/anaconda3/envs/cpp/include/c++/v1/__string:56:\n",
      "\u001b[1m/Users/rbasnet/anaconda3/envs/cpp/include/c++/v1/algorithm:678:71: \u001b[0m\u001b[0;1;31merror: \u001b[0m\u001b[1minvalid operands to binary expression ('const RectangleType' and 'const RectangleType')\u001b[0m\n",
      "    bool operator()(const _T1& __x, const _T1& __y) const {return __x == __y;}\n",
      "\u001b[0;1;32m                                                                  ~~~ ^  ~~~\n",
      "\u001b[0m\u001b[1m/Users/rbasnet/anaconda3/envs/cpp/include/c++/v1/algorithm:1262:14: \u001b[0m\u001b[0;1;30mnote: \u001b[0min instantiation of member function 'std::__1::__equal_to<RectangleType, RectangleType>::operator()' requested here\u001b[0m\n",
      "        if (!__pred(*__first1, *__first2))\n",
      "\u001b[0;1;32m             ^\n",
      "\u001b[0m\u001b[1m/Users/rbasnet/anaconda3/envs/cpp/include/c++/v1/algorithm:1275:19: \u001b[0m\u001b[0;1;30mnote: \u001b[0min instantiation of function template specialization 'std::__1::equal<std::__1::__wrap_iter<const RectangleType *>,\n",
      "      std::__1::__wrap_iter<const RectangleType *>, std::__1::__equal_to<RectangleType, RectangleType> >' requested here\u001b[0m\n",
      "    return _VSTD::equal(__first1, __last1, __first2, __equal_to<__v1, __v2>());\n",
      "\u001b[0;1;32m                  ^\n",
      "\u001b[0m\u001b[1m/Users/rbasnet/anaconda3/envs/cpp/include/c++/v1/vector:3368:41: \u001b[0m\u001b[0;1;30mnote: \u001b[0min instantiation of function template specialization 'std::__1::equal<std::__1::__wrap_iter<const RectangleType *>,\n",
      "      std::__1::__wrap_iter<const RectangleType *> >' requested here\u001b[0m\n",
      "    return __sz == __y.size() && _VSTD::equal(__x.begin(), __x.end(), __y.begin());\n",
      "\u001b[0;1;32m                                        ^\n",
      "\u001b[0m\u001b[1minput_line_63:4:21: \u001b[0m\u001b[0;1;30mnote: \u001b[0min instantiation of function template specialization 'std::__1::operator==<RectangleType,\n",
      "      std::__1::allocator<RectangleType> >' requested here\u001b[0m\n",
      "if (rectangles_copy == rectangles) \n",
      "\u001b[0;1;32m                    ^\n",
      "\u001b[0m\u001b[1m/Users/rbasnet/anaconda3/envs/cpp/include/c++/v1/utility:579:1: \u001b[0m\u001b[0;1;30mnote: \u001b[0mcandidate template ignored: could not match 'pair<type-parameter-0-0, type-parameter-0-1>' against 'const RectangleType'\u001b[0m\n",
      "operator==(const pair<_T1,_T2>& __x, const pair<_T1,_T2>& __y)\n",
      "\u001b[0;1;32m^\n",
      "\u001b[0m\u001b[1m/Users/rbasnet/anaconda3/envs/cpp/include/c++/v1/iterator:739:1: \u001b[0m\u001b[0;1;30mnote: \u001b[0mcandidate template ignored: could not match 'reverse_iterator<type-parameter-0-0>' against 'const RectangleType'\u001b[0m\n",
      "operator==(const reverse_iterator<_Iter1>& __x, const reverse_iterator<_Iter2>& __y)\n",
      "\u001b[0;1;32m^\n",
      "\u001b[0m\u001b[1m/Users/rbasnet/anaconda3/envs/cpp/include/c++/v1/iterator:968:1: \u001b[0m\u001b[0;1;30mnote: \u001b[0mcandidate template ignored: could not match 'istream_iterator<type-parameter-0-0, type-parameter-0-1,\n",
      "      type-parameter-0-2, type-parameter-0-3>' against 'const RectangleType'\u001b[0m\n",
      "operator==(const istream_iterator<_Tp, _CharT, _Traits, _Distance>& __x,\n",
      "\u001b[0;1;32m^\n",
      "\u001b[0m\u001b[1m/Users/rbasnet/anaconda3/envs/cpp/include/c++/v1/iterator:1072:6: \u001b[0m\u001b[0;1;30mnote: \u001b[0mcandidate template ignored: could not match 'istreambuf_iterator<type-parameter-0-0, type-parameter-0-1>' against\n",
      "      'const RectangleType'\u001b[0m\n",
      "bool operator==(const istreambuf_iterator<_CharT,_Traits>& __a,\n",
      "\u001b[0;1;32m     ^\n",
      "\u001b[0m\u001b[1m/Users/rbasnet/anaconda3/envs/cpp/include/c++/v1/iterator:1175:1: \u001b[0m\u001b[0;1;30mnote: \u001b[0mcandidate template ignored: could not match 'move_iterator<type-parameter-0-0>' against 'const RectangleType'\u001b[0m\n",
      "operator==(const move_iterator<_Iter1>& __x, const move_iterator<_Iter2>& __y)\n",
      "\u001b[0;1;32m^\n",
      "\u001b[0m\u001b[1m/Users/rbasnet/anaconda3/envs/cpp/include/c++/v1/iterator:1547:1: \u001b[0m\u001b[0;1;30mnote: \u001b[0mcandidate template ignored: could not match '__wrap_iter<type-parameter-0-0>' against 'const RectangleType'\u001b[0m\n",
      "operator==(const __wrap_iter<_Iter1>& __x, const __wrap_iter<_Iter2>& __y) _NOEXCEPT\n",
      "\u001b[0;1;32m^\n",
      "\u001b[0m\u001b[1m/Users/rbasnet/anaconda3/envs/cpp/include/c++/v1/tuple:1139:1: \u001b[0m\u001b[0;1;30mnote: \u001b[0mcandidate template ignored: could not match 'tuple<type-parameter-0-0...>' against 'const RectangleType'\u001b[0m\n",
      "operator==(const tuple<_Tp...>& __x, const tuple<_Up...>& __y)\n",
      "\u001b[0;1;32m^\n",
      "\u001b[0m\u001b[1m/Users/rbasnet/anaconda3/envs/cpp/include/c++/v1/memory:1986:6: \u001b[0m\u001b[0;1;30mnote: \u001b[0mcandidate template ignored: could not match 'allocator<type-parameter-0-0>' against 'const RectangleType'\u001b[0m\n",
      "bool operator==(const allocator<_Tp>&, const allocator<_Up>&) _NOEXCEPT {return true;}\n",
      "\u001b[0;1;32m     ^\n",
      "\u001b[0m\u001b[1m/Users/rbasnet/anaconda3/envs/cpp/include/c++/v1/memory:2847:1: \u001b[0m\u001b[0;1;30mnote: \u001b[0mcandidate template ignored: could not match 'unique_ptr<type-parameter-0-0, type-parameter-0-1>' against\n",
      "      'const RectangleType'\u001b[0m\n",
      "operator==(const unique_ptr<_T1, _D1>& __x, const unique_ptr<_T2, _D2>& __y) {return __x.get() == __y.get();}\n",
      "\u001b[0;1;32m^\n",
      "\u001b[0m\u001b[1m/Users/rbasnet/anaconda3/envs/cpp/include/c++/v1/memory:2883:1: \u001b[0m\u001b[0;1;30mnote: \u001b[0mcandidate template ignored: could not match 'unique_ptr<type-parameter-0-0, type-parameter-0-1>' against\n",
      "      'const RectangleType'\u001b[0m\n",
      "operator==(const unique_ptr<_T1, _D1>& __x, nullptr_t) _NOEXCEPT\n",
      "\u001b[0;1;32m^\n",
      "\u001b[0m\u001b[1m/Users/rbasnet/anaconda3/envs/cpp/include/c++/v1/memory:2891:1: \u001b[0m\u001b[0;1;30mnote: \u001b[0mcandidate template ignored: could not match 'unique_ptr<type-parameter-0-0, type-parameter-0-1>' against\n",
      "      'const RectangleType'\u001b[0m\n",
      "operator==(nullptr_t, const unique_ptr<_T1, _D1>& __x) _NOEXCEPT\n",
      "\u001b[0;1;32m^\n",
      "\u001b[0m\u001b[1m/Users/rbasnet/anaconda3/envs/cpp/include/c++/v1/memory:4667:1: \u001b[0m\u001b[0;1;30mnote: \u001b[0mcandidate template ignored: could not match 'shared_ptr<type-parameter-0-0>' against 'const RectangleType'\u001b[0m\n",
      "operator==(const shared_ptr<_Tp>& __x, const shared_ptr<_Up>& __y) _NOEXCEPT\n",
      "\u001b[0;1;32m^\n",
      "\u001b[0m\u001b[1m/Users/rbasnet/anaconda3/envs/cpp/include/c++/v1/memory:4721:1: \u001b[0m\u001b[0;1;30mnote: \u001b[0mcandidate template ignored: could not match 'shared_ptr<type-parameter-0-0>' against 'const RectangleType'\u001b[0m\n",
      "operator==(const shared_ptr<_Tp>& __x, nullptr_t) _NOEXCEPT\n",
      "\u001b[0;1;32m^\n",
      "\u001b[0m\u001b[1m/Users/rbasnet/anaconda3/envs/cpp/include/c++/v1/memory:4729:1: \u001b[0m\u001b[0;1;30mnote: \u001b[0mcandidate template ignored: could not match 'shared_ptr<type-parameter-0-0>' against 'const RectangleType'\u001b[0m\n",
      "operator==(nullptr_t, const shared_ptr<_Tp>& __x) _NOEXCEPT\n",
      "\u001b[0;1;32m^\n",
      "\u001b[0m\u001b[1m/Users/rbasnet/anaconda3/envs/cpp/include/c++/v1/functional:2452:1: \u001b[0m\u001b[0;1;30mnote: \u001b[0mcandidate template ignored: could not match 'function<type-parameter-0-0 (type-parameter-0-1...)>' against\n",
      "      'const RectangleType'\u001b[0m\n",
      "operator==(const function<_Rp(_ArgTypes...)>& __f, nullptr_t) _NOEXCEPT {return !__f;}\n",
      "\u001b[0;1;32m^\n",
      "\u001b[0m\u001b[1m/Users/rbasnet/anaconda3/envs/cpp/include/c++/v1/functional:2457:1: \u001b[0m\u001b[0;1;30mnote: \u001b[0mcandidate template ignored: could not match 'function<type-parameter-0-0 (type-parameter-0-1...)>' against\n",
      "      'const RectangleType'\u001b[0m\n",
      "operator==(nullptr_t, const function<_Rp(_ArgTypes...)>& __f) _NOEXCEPT {return !__f;}\n",
      "\u001b[0;1;32m^\n",
      "\u001b[0m"
     ]
    },
    {
     "ename": "Interpreter Error",
     "evalue": "",
     "output_type": "error",
     "traceback": [
      "Interpreter Error: "
     ]
    }
   ],
   "source": [
    "// each rectangle can't be compared.. recall struct aggregate operation\n",
    "// two struct types can't be compared out of the box; can be fixed, however!!\n",
    "if (rectangles_copy == rectangles) \n",
    "    cout << \"equal!\";\n",
    "else\n",
    "    cout << \"not equal\";"
   ]
  },
  {
   "cell_type": "markdown",
   "metadata": {},
   "source": [
    "## 12.9 Passing vectors to functions\n",
    "- vector can be passed to functions by value or by reference\n",
    "- unless required, it's always efficient to pass containers type such as vectors to function by reference\n",
    "    - copying data can be costly (take a long time) depending on the amount of data vector has"
   ]
  },
  {
   "cell_type": "code",
   "execution_count": 44,
   "metadata": {},
   "outputs": [],
   "source": [
    "// given a vector of values find and return average \n",
    "float findAverage(const vector<int> & v) {\n",
    "    float sum = 0;\n",
    "    for (auto val: v)\n",
    "        sum += val;\n",
    "    return sum/v.size();\n",
    "}"
   ]
  },
  {
   "cell_type": "code",
   "execution_count": 45,
   "metadata": {},
   "outputs": [
    {
     "data": {
      "text/plain": [
       "{ 25, 39 }"
      ]
     },
     "execution_count": 45,
     "metadata": {},
     "output_type": "execute_result"
    }
   ],
   "source": [
    "// let's see the values of age vector\n",
    "age"
   ]
  },
  {
   "cell_type": "code",
   "execution_count": 46,
   "metadata": {},
   "outputs": [
    {
     "name": "stdout",
     "output_type": "stream",
     "text": [
      "average age = 32"
     ]
    }
   ],
   "source": [
    "cout << \"average age = \" << findAverage(age);"
   ]
  },
  {
   "cell_type": "code",
   "execution_count": 47,
   "metadata": {},
   "outputs": [],
   "source": [
    "// printVector function\n",
    "template<class T>\n",
    "void printVector(const vector<T>& v) {\n",
    "    char comma[3] = {'\\0', ' ', '\\0'};\n",
    "    cout << '[';\n",
    "    for (const auto& e: v) {\n",
    "        cout << comma << e;\n",
    "        comma[0] = ',';\n",
    "    }\n",
    "    cout << \"]\\n\";\n",
    "}"
   ]
  },
  {
   "cell_type": "code",
   "execution_count": 48,
   "metadata": {},
   "outputs": [
    {
     "name": "stdout",
     "output_type": "stream",
     "text": [
      "[I, love, c++, vectors]\n"
     ]
    }
   ],
   "source": [
    "printVector(words);"
   ]
  },
  {
   "cell_type": "code",
   "execution_count": 49,
   "metadata": {},
   "outputs": [
    {
     "name": "stdout",
     "output_type": "stream",
     "text": [
      "[25, 39]\n"
     ]
    }
   ],
   "source": [
    "printVector(age)"
   ]
  },
  {
   "cell_type": "markdown",
   "metadata": {},
   "source": [
    "## 12.10 Returning vector from functions\n",
    "- since vector supports (=) copy operator, returning vector from functions is possible\n",
    "- since returned vector needs to be copied (which can be costly),\n",
    "    - it's best practice to use pass-by reference to get the data/results out of functions"
   ]
  },
  {
   "cell_type": "code",
   "execution_count": 14,
   "metadata": {},
   "outputs": [],
   "source": [
    "// function that gets vector of integers\n",
    "void getNumbers(vector<int> & numbers) {\n",
    "    cout << \"Enter as many whole numbers as you wish.\\nEnter 'done' when done:\\n\";\n",
    "    int num;\n",
    "    while(cin >> num) // cin will return false when it fails\n",
    "        numbers.push_back(num);\n",
    "}"
   ]
  },
  {
   "cell_type": "code",
   "execution_count": 15,
   "metadata": {},
   "outputs": [],
   "source": [
    "// create an empty vector\n",
    "vector<int> my_numbers;"
   ]
  },
  {
   "cell_type": "code",
   "execution_count": 16,
   "metadata": {},
   "outputs": [
    {
     "name": "stdout",
     "output_type": "stream",
     "text": [
      "Enter as many whole numbers as you wish.\n",
      "Enter 'done' when done:\n",
      "1000\n",
      "898\n",
      "10\n",
      "345\n",
      "4232\n",
      "end\n"
     ]
    }
   ],
   "source": [
    "getNumbers(my_numbers);"
   ]
  },
  {
   "cell_type": "code",
   "execution_count": 53,
   "metadata": {},
   "outputs": [
    {
     "data": {
      "text/plain": [
       "{ 10, 99, 100, 345 }"
      ]
     },
     "execution_count": 53,
     "metadata": {},
     "output_type": "execute_result"
    }
   ],
   "source": [
    "my_numbers"
   ]
  },
  {
   "cell_type": "markdown",
   "metadata": {},
   "source": [
    "## 12.11 two-d vector\n",
    "- if we insert vectors as an element to a vector, we essentially get a 2-d vector\n",
    "    - similar to 2-d array"
   ]
  },
  {
   "cell_type": "code",
   "execution_count": 10,
   "metadata": {},
   "outputs": [],
   "source": [
    "// let's declare a 2-d vector of integers\n",
    "vector< vector<int> > matrix;"
   ]
  },
  {
   "cell_type": "code",
   "execution_count": 11,
   "metadata": {},
   "outputs": [],
   "source": [
    "// add the first vector - first row\n",
    "matrix.push_back({1, 2, 3, 4});"
   ]
  },
  {
   "cell_type": "code",
   "execution_count": 12,
   "metadata": {},
   "outputs": [
    {
     "data": {
      "text/plain": [
       "{ 1, 2, 3, 4 }"
      ]
     },
     "execution_count": 12,
     "metadata": {},
     "output_type": "execute_result"
    }
   ],
   "source": [
    "matrix[0]"
   ]
  },
  {
   "cell_type": "code",
   "execution_count": 13,
   "metadata": {},
   "outputs": [],
   "source": [
    "// let's add an empty vector as the second element or 2nd row\n",
    "matrix.push_back(vector<int>());"
   ]
  },
  {
   "cell_type": "code",
   "execution_count": 14,
   "metadata": {},
   "outputs": [],
   "source": [
    "// let's add elements to the 2nd vector or 2nd row\n",
    "matrix[1].push_back(5);\n",
    "matrix[1].push_back(6);\n",
    "matrix[1].push_back(7);\n",
    "matrix[1].push_back(8);"
   ]
  },
  {
   "cell_type": "code",
   "execution_count": 15,
   "metadata": {},
   "outputs": [
    {
     "data": {
      "text/plain": [
       "{ 5, 6, 7, 8 }"
      ]
     },
     "execution_count": 15,
     "metadata": {},
     "output_type": "execute_result"
    }
   ],
   "source": [
    "matrix[1]"
   ]
  },
  {
   "cell_type": "code",
   "execution_count": 16,
   "metadata": {},
   "outputs": [
    {
     "data": {
      "text/plain": [
       "1"
      ]
     },
     "execution_count": 16,
     "metadata": {},
     "output_type": "execute_result"
    }
   ],
   "source": [
    "// access element of vector elements\n",
    "// first row, first column\n",
    "matrix[0][0]"
   ]
  },
  {
   "cell_type": "code",
   "execution_count": 17,
   "metadata": {},
   "outputs": [
    {
     "data": {
      "text/plain": [
       "8"
      ]
     },
     "execution_count": 17,
     "metadata": {},
     "output_type": "execute_result"
    }
   ],
   "source": [
    "// 2nd row, fourth column\n",
    "matrix[1][3]"
   ]
  },
  {
   "cell_type": "markdown",
   "metadata": {},
   "source": [
    "## 12.12 Sort vector\n",
    "- vector like array needs to sorted often to solve many problems\n",
    "- let's use built-in sort function in algorithm library\n",
    "    - way better than using bubble sort, or implementing anorther faster alogrithm such as quick sort"
   ]
  },
  {
   "cell_type": "code",
   "execution_count": 2,
   "metadata": {},
   "outputs": [],
   "source": [
    "#include <vector>\n",
    "#include <algorithm> // sort()\n",
    "#include <iterator> // begin() and end()\n",
    "#include <functional> // greater<>();\n",
    "#include <iostream>\n",
    "\n",
    "using namespace std;"
   ]
  },
  {
   "cell_type": "code",
   "execution_count": 3,
   "metadata": {},
   "outputs": [],
   "source": [
    "vector<int> some_values = { 100, 99, 85, 40, 1233, 1};"
   ]
  },
  {
   "cell_type": "code",
   "execution_count": 7,
   "metadata": {},
   "outputs": [],
   "source": [
    "// let's sort some_values \n",
    "sort(begin(some_values), end(some_values));"
   ]
  },
  {
   "cell_type": "code",
   "execution_count": 8,
   "metadata": {},
   "outputs": [
    {
     "data": {
      "text/plain": [
       "{ 1, 40, 85, 99, 100, 1233 }"
      ]
     },
     "execution_count": 8,
     "metadata": {},
     "output_type": "execute_result"
    }
   ],
   "source": [
    "some_values"
   ]
  },
  {
   "cell_type": "code",
   "execution_count": 18,
   "metadata": {},
   "outputs": [
    {
     "data": {
      "text/plain": [
       "{ 1, 2, 3, 4 }"
      ]
     },
     "execution_count": 18,
     "metadata": {},
     "output_type": "execute_result"
    }
   ],
   "source": [
    "// let's sort 1st row of matrix in reverse order\n",
    "matrix[0]"
   ]
  },
  {
   "cell_type": "code",
   "execution_count": 19,
   "metadata": {},
   "outputs": [],
   "source": [
    "// sort in increasing order\n",
    "sort(matrix[0].begin(), matrix[0].end());"
   ]
  },
  {
   "cell_type": "code",
   "execution_count": 20,
   "metadata": {},
   "outputs": [
    {
     "data": {
      "text/plain": [
       "{ 1, 2, 3, 4 }"
      ]
     },
     "execution_count": 20,
     "metadata": {},
     "output_type": "execute_result"
    }
   ],
   "source": [
    "matrix[0]"
   ]
  },
  {
   "cell_type": "code",
   "execution_count": 21,
   "metadata": {},
   "outputs": [],
   "source": [
    "// sort in on-increasing order\n",
    "sort(matrix[0].begin(), matrix[0].end(), greater<int>());"
   ]
  },
  {
   "cell_type": "code",
   "execution_count": 22,
   "metadata": {},
   "outputs": [
    {
     "data": {
      "text/plain": [
       "{ 4, 3, 2, 1 }"
      ]
     },
     "execution_count": 22,
     "metadata": {},
     "output_type": "execute_result"
    }
   ],
   "source": [
    "matrix[0]"
   ]
  },
  {
   "cell_type": "markdown",
   "metadata": {},
   "source": [
    "## 12.13 Exercises\n",
    "\n",
    "### Sove all exercises listed in Array chapter using vector instead.\n",
    "\n",
    "1. Write a function that splits a given text/string into a vector of individual words\n",
    "    - each word is sequence of characters separated by a whitespace\n",
    "    - write 3 test cases"
   ]
  },
  {
   "cell_type": "code",
   "execution_count": 23,
   "metadata": {},
   "outputs": [],
   "source": [
    "// Solution to Exercise 1\n",
    "void splitString(vector<string> &words, string text) {\n",
    "    string word;\n",
    "    stringstream ss(text);\n",
    "    while (ss >> word) {\n",
    "        words.push_back(word);\n",
    "    }\n",
    "}"
   ]
  },
  {
   "cell_type": "code",
   "execution_count": 24,
   "metadata": {},
   "outputs": [],
   "source": [
    "void test_splitString() {\n",
    "    vector<string> answer;\n",
    "    splitString(answer, \"word\");\n",
    "    vector<string> actual = {\"word\"};\n",
    "    assert(answer == actual);\n",
    "    answer.clear();\n",
    "    splitString(answer, \"two word\");\n",
    "    vector<string> actual1 = {\"two, word\"};\n",
    "    assert(answer == actual1);\n",
    "    answer.clear();\n",
    "    splitString(answer, \"A sentence with multiple words!\");\n",
    "    vector<string> actual2 = {\"A\", \"sentence\", \"with\", \"multiple\", \"words!\"};\n",
    "    assert(answer == actual2);\n",
    "    answer.clear();\n",
    "    cerr << \"all test cases is passed for splitString()\\n\";\n",
    "}"
   ]
  },
  {
   "cell_type": "code",
   "execution_count": 25,
   "metadata": {},
   "outputs": [
    {
     "name": "stderr",
     "output_type": "stream",
     "text": [
      "all test cases is passed for splitString()\n"
     ]
    }
   ],
   "source": [
    "test_splitString();"
   ]
  },
  {
   "cell_type": "code",
   "execution_count": 26,
   "metadata": {},
   "outputs": [],
   "source": [
    "vector<string> tokens;"
   ]
  },
  {
   "cell_type": "code",
   "execution_count": 27,
   "metadata": {},
   "outputs": [],
   "source": [
    "// not needed but just in case!\n",
    "tokens.clear();"
   ]
  },
  {
   "cell_type": "code",
   "execution_count": 28,
   "metadata": {},
   "outputs": [],
   "source": [
    "splitString(tokens, \"This is a long sentence so long that it's hard to comprehend!\");"
   ]
  },
  {
   "cell_type": "code",
   "execution_count": 29,
   "metadata": {},
   "outputs": [
    {
     "data": {
      "text/plain": [
       "{ \"This\", \"is\", \"a\", \"long\", \"sentence\", \"so\", \"long\", \"that\", \"it's\", \"hard\", \"to\", \"comprehend!\" }"
      ]
     },
     "execution_count": 29,
     "metadata": {},
     "output_type": "execute_result"
    }
   ],
   "source": [
    "tokens"
   ]
  },
  {
   "cell_type": "markdown",
   "metadata": {},
   "source": [
    "## 12.15 Kattis problems\n",
    "- problems that require to store large amount of data in sequential order in memory can use vector very effectively\n",
    "- design your solutions in a way that it can be tested writing automated test cases\n",
    "\n",
    "\n",
    "1. Dice Game - https://open.kattis.com/problems/dicegame\n",
    "2. Falling Apart - https://open.kattis.com/problems/fallingapart\n",
    "3. Height Ordering - https://open.kattis.com/problems/height\n",
    "4. What does the fox say? - https://open.kattis.com/problems/whatdoesthefoxsay\n",
    "5. Army Strength (Easy) - https://open.kattis.com/problems/armystrengtheasy\n",
    "6. Army Strength (Hard) - https://open.kattis.com/problems/armystrengthhard\n",
    "7. Black Friday - https://open.kattis.com/problems/blackfriday\n",
    "8. Bacon, Eggs and Spam - https://open.kattis.com/problems/baconeggsandspam\n",
    "\n",
    "### sorting vectors with two keys\n",
    "1. Roll Call - https://open.kattis.com/problems/rollcall\n",
    "2. Cooking Water - https://open.kattis.com/problems/cookingwater"
   ]
  },
  {
   "cell_type": "markdown",
   "metadata": {},
   "source": [
    "## 12.16 Summary\n",
    "- this chapter covered C++ vector container STL\n",
    "- vector is an easier alternative to C-array\n",
    "- vector is and advanced type that you can create/instantiate bojects from\n",
    "- the type of the data must be mentioned as a template parameter while declaring vectors\n",
    "- provides many out-of the box common operations in the form of member functions or methods\n",
    "- vector can be passed to functions; returning a large vector may not be effective due to copying of data\n",
    "- probems and sample solutions"
   ]
  },
  {
   "cell_type": "code",
   "execution_count": null,
   "metadata": {},
   "outputs": [],
   "source": []
  }
 ],
 "metadata": {
  "kernelspec": {
   "display_name": "C++17",
   "language": "C++17",
   "name": "xcpp17"
  },
  "language_info": {
   "codemirror_mode": "text/x-c++src",
   "file_extension": ".cpp",
   "mimetype": "text/x-c++src",
   "name": "c++",
   "version": "17"
  }
 },
 "nbformat": 4,
 "nbformat_minor": 2
}
