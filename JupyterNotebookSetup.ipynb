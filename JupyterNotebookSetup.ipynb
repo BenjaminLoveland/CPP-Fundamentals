{
 "cells": [
  {
   "cell_type": "markdown",
   "metadata": {},
   "source": [
    "## Setting up Jupyter notebook learning environment\n",
    "\n",
    "- Jupyter notebook (popular tool in Data Science and Machine Learning) is merely a learning environment\n",
    "    - not a professional development environment esp. for C++ programs\n",
    "- see [README.md](https://github.com/rambasnet/CPP-Fundamentals) file for detail steps\n",
    "- allows you to interactively execute code, take notes with text and HTML, and embed multimedia files (image, audio, video, etc.)\n",
    "- most importantly, one can execute codes line by line and save the output result\n",
    "    - can focus on the the line of code to really master all the details and basics\n",
    "- you can also read and execute these notebooks from VS Code with right extensions\n",
    "- pdf version of these notebooks are provided in pdfs folder in the GitHub repository\n",
    "    - pdfs are readonly; can't write and/or execute embedded code in PDF files\n",
    "- GitHub (most of the time) renders these notebooks, so one can read the contents directly from GitHub repo\n",
    "    - readonly; can't execute embedded code on GitHub\n",
    "- follow the instructions from [https://github.com/rambasnet/DevEnvSetup](https://github.com/rambasnet/DevEnvSetup) to setup Jupyter Notebook on various platforms "
   ]
  },
  {
   "cell_type": "code",
   "execution_count": 1,
   "metadata": {},
   "outputs": [],
   "source": [
    "// in Jupyter Notebook, main() is defined implicitly per notebook!\n",
    "// simply, include libraries and write code to execute without main()\n",
    "#include <iostream>"
   ]
  },
  {
   "cell_type": "code",
   "execution_count": 3,
   "metadata": {},
   "outputs": [
    {
     "name": "stdout",
     "output_type": "stream",
     "text": [
      "Hello World!\n"
     ]
    }
   ],
   "source": [
    "std::cout << \"Hello World!\" << std::endl;"
   ]
  },
  {
   "cell_type": "code",
   "execution_count": 4,
   "metadata": {},
   "outputs": [],
   "source": [
    "// include this line so you don't have to type std::\n",
    "using namespace std;"
   ]
  },
  {
   "cell_type": "code",
   "execution_count": 5,
   "metadata": {},
   "outputs": [
    {
     "name": "stdout",
     "output_type": "stream",
     "text": [
      "Hello World!\n"
     ]
    }
   ],
   "source": [
    "// by running the above statement, you don't need to type std:: after many symbols\n",
    "cout << \"Hello World!\" << endl;"
   ]
  },
  {
   "cell_type": "code",
   "execution_count": 6,
   "metadata": {},
   "outputs": [
    {
     "name": "stdout",
     "output_type": "stream",
     "text": [
      "Good bye...\n"
     ]
    }
   ],
   "source": [
    "cout << \"Good bye...\" << endl;"
   ]
  },
  {
   "cell_type": "markdown",
   "metadata": {},
   "source": []
  }
 ],
 "metadata": {
  "kernelspec": {
   "display_name": "C++17",
   "language": "C++17",
   "name": "xcpp17"
  },
  "language_info": {
   "codemirror_mode": "text/x-c++src",
   "file_extension": ".cpp",
   "mimetype": "text/x-c++src",
   "name": "c++",
   "version": "17"
  }
 },
 "nbformat": 4,
 "nbformat_minor": 4
}
